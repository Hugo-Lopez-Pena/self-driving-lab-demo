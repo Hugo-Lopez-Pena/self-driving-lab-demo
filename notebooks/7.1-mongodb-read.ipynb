{
 "cells": [
  {
   "cell_type": "code",
   "execution_count": 2,
   "metadata": {},
   "outputs": [
    {
     "name": "stdout",
     "output_type": "stream",
     "text": [
      "{\"documents\":[{\"_id\":\"6364add95aa0f148bff123ad\",\"ch620\":5658,\"ch470\":2830,\"ch550\":499,\"ch410\":188,\"ch440\":3682,\"ch670\":276,\"ch583\":2750,\"_input_message\":{\"_session_id\":\"fc491284-75d8-4f80-a448-53bc378a32cf\",\"B\":31,\"atime\":100,\"gain\":128,\"astep\":999,\"_experiment_id\":\"dabf6bf8-262e-4644-b2c4-e5905dbe6fb8\",\"G\":3,\"integration_time\":280.78,\"R\":41},\"ch510\":354},{\"_id\":\"6364b0bf24ac96c77e2db301\",\"ch620\":5662,\"ch470\":2830,\"ch550\":497,\"ch410\":189,\"ch440\":3679,\"ch670\":276,\"ch583\":2745,\"_input_message\":{\"_session_id\":\"542e6e80-9c50-4c41-95a5-832603b96238\",\"B\":31,\"atime\":100,\"gain\":128,\"astep\":999,\"_experiment_id\":\"b738467c-ba5d-4436-949e-5212fd6feb95\",\"G\":3,\"integration_time\":280.78,\"R\":41},\"ch510\":354},{\"_id\":\"6364b384bc549e5bc31eb591\",\"ch620\":5661,\"ch470\":2828,\"ch550\":497,\"ch410\":188,\"ch440\":3674,\"ch670\":276,\"ch583\":2749,\"_input_message\":{\"_session_id\":\"542e6e80-9c50-4c41-95a5-832603b96238\",\"B\":31,\"atime\":100,\"gain\":128,\"astep\":999,\"_experiment_id\":\"f831d8bd-1e7e-4645-8c4a-aaec019e3bae\",\"G\":3,\"integration_time\":280.78,\"R\":41},\"ch510\":354},{\"_id\":\"6364b3ac8e78464f25af6c58\",\"ch620\":5662,\"ch470\":2829,\"ch550\":498,\"ch410\":188,\"ch440\":3675,\"ch670\":276,\"ch583\":2748,\"_input_message\":{\"_session_id\":\"542e6e80-9c50-4c41-95a5-832603b96238\",\"B\":31,\"atime\":100,\"gain\":128,\"astep\":999,\"_experiment_id\":\"a0c2bb71-f73a-4b63-a80e-bfdf2e2312fe\",\"G\":3,\"integration_time\":280.78,\"R\":41},\"ch510\":354},{\"_id\":\"6364b3cb324a25ba06a49250\",\"utc_timestamp\":\"2022-11-4 06:40:04\",\"ch510\":354,\"ch620\":5661,\"ch410\":188,\"ch440\":3674,\"ch583\":2748,\"_input_message\":{\"_session_id\":\"542e6e80-9c50-4c41-95a5-832603b96238\",\"B\":31,\"atime\":100,\"gain\":128,\"astep\":999,\"_experiment_id\":\"e5dbd7d7-9523-4585-883a-6dfa4f540534\",\"G\":3,\"integration_time\":280.78,\"R\":41},\"onboard_temperature_K\":292.7041,\"ch470\":2828,\"ch550\":498,\"ch670\":276},{\"_id\":\"6364b66b324a25ba06a52c7e\",\"utc_timestamp\":\"2022-11-4 06:51:16\",\"ch510\":354,\"ch620\":5671,\"ch410\":188,\"ch440\":3675,\"ch583\":2756,\"_input_message\":{\"_session_id\":\"542e6e80-9c50-4c41-95a5-832603b96238\",\"B\":31,\"atime\":100,\"gain\":128,\"astep\":999,\"_experiment_id\":\"9b50c819-db8f-476f-b601-dbe79e871a46\",\"G\":3,\"integration_time\":280.78,\"R\":41},\"onboard_temperature_K\":294.1085,\"sd_card_ready\":true,\"ch470\":2827,\"ch550\":498,\"ch670\":277}]}\n"
     ]
    }
   ],
   "source": [
    "import requests\n",
    "import json\n",
    "\n",
    "with open(\"secrets.json\", \"r\") as f:\n",
    "    API_KEY = json.load(f)[\"MONGODB_API_KEY\"]\n",
    "\n",
    "url = \"https://data.mongodb-api.com/app/data-sarkl/endpoint/data/v1/action/find\"\n",
    "payload = json.dumps(\n",
    "    {\n",
    "        \"collection\": \"public\",\n",
    "        \"database\": \"clslab-light-mixing\",\n",
    "        \"dataSource\": \"sparks-materials-informatics\",\n",
    "    }\n",
    ")\n",
    "headers = {\n",
    "    \"Content-Type\": \"application/json\",\n",
    "    \"Access-Control-Request-Headers\": \"*\",\n",
    "    \"api-key\": API_KEY,\n",
    "}\n",
    "response = requests.request(\"POST\", url, headers=headers, data=payload)\n",
    "print(response.text)\n"
   ]
  },
  {
   "cell_type": "code",
   "execution_count": 7,
   "metadata": {},
   "outputs": [],
   "source": [
    "data = json.loads(response.text)\n",
    "documents = data[\"documents\"]"
   ]
  },
  {
   "cell_type": "code",
   "execution_count": 10,
   "metadata": {},
   "outputs": [
    {
     "data": {
      "text/plain": [
       "{'_id': '6364b66b324a25ba06a52c7e',\n",
       " 'utc_timestamp': '2022-11-4 06:51:16',\n",
       " 'ch510': 354,\n",
       " 'ch620': 5671,\n",
       " 'ch410': 188,\n",
       " 'ch440': 3675,\n",
       " 'ch583': 2756,\n",
       " '_input_message': {'_session_id': '542e6e80-9c50-4c41-95a5-832603b96238',\n",
       "  'B': 31,\n",
       "  'atime': 100,\n",
       "  'gain': 128,\n",
       "  'astep': 999,\n",
       "  '_experiment_id': '9b50c819-db8f-476f-b601-dbe79e871a46',\n",
       "  'G': 3,\n",
       "  'integration_time': 280.78,\n",
       "  'R': 41},\n",
       " 'onboard_temperature_K': 294.1085,\n",
       " 'sd_card_ready': True,\n",
       " 'ch470': 2827,\n",
       " 'ch550': 498,\n",
       " 'ch670': 277}"
      ]
     },
     "execution_count": 10,
     "metadata": {},
     "output_type": "execute_result"
    }
   ],
   "source": [
    "doc"
   ]
  },
  {
   "cell_type": "code",
   "execution_count": 19,
   "metadata": {},
   "outputs": [],
   "source": [
    "import pandas as pd\n",
    "\n",
    "CHANNEL_NAMES = [\"ch410\", \"ch440\", \"ch470\", \"ch510\", \"ch550\", \"ch583\", \"ch620\", \"ch670\"]\n",
    "INPUT_NAMES = [\"R\", \"G\", \"B\", \"atime\", \"gain\", \"astep\"]\n",
    "OTHER_NAMES = [\"utc_timestamp\", \"onboard_temperature_K\"]\n",
    "rows = []\n",
    "for doc in documents:\n",
    "    if \"utc_timestamp\" not in doc:\n",
    "        continue\n",
    "    msg = doc[\"_input_message\"]\n",
    "    other = [doc[key] for key in OTHER_NAMES]\n",
    "    inputs = [msg[key] for key in INPUT_NAMES]\n",
    "    sensor_data = [doc[ch] for ch in CHANNEL_NAMES]\n",
    "    rows.append(other + inputs + sensor_data)\n",
    "    \n",
    "pd.DataFrame(rows, columns=OTHER_NAMES + INPUT_NAMES + CHANNEL_NAMES).to_csv(\"mongodb-data.csv\", index=False)"
   ]
  },
  {
   "cell_type": "markdown",
   "metadata": {},
   "source": [
    "## Code Graveyard"
   ]
  },
  {
   "cell_type": "markdown",
   "metadata": {},
   "source": [
    "# from pymongo import MongoClient\n",
    "\n",
    "# client = MongoClient(\"mongodb+srv://sgbaird:<password>@sparks-materials-inform.bgydt.mongodb.net/?retryWrites=true&w=majority\")\n",
    "# db = client.test"
   ]
  }
 ],
 "metadata": {
  "kernelspec": {
   "display_name": "Python 3.9.13 ('sdl-demo')",
   "language": "python",
   "name": "python3"
  },
  "language_info": {
   "codemirror_mode": {
    "name": "ipython",
    "version": 3
   },
   "file_extension": ".py",
   "mimetype": "text/x-python",
   "name": "python",
   "nbconvert_exporter": "python",
   "pygments_lexer": "ipython3",
   "version": "3.9.13"
  },
  "orig_nbformat": 4,
  "vscode": {
   "interpreter": {
    "hash": "70cb6d4911b67e25d1487ebd620c5d1370239efaaf47f3851af44f5c5a26f988"
   }
  }
 },
 "nbformat": 4,
 "nbformat_minor": 2
}
