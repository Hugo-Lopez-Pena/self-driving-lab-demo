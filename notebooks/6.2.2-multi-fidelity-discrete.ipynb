{
  "cells": [
    {
      "attachments": {},
      "cell_type": "markdown",
      "metadata": {},
      "source": [
        "## Multi-Fidelity BO with Discrete Fidelities using KG\n",
        "\n",
        "[![Open In\n",
        "Colab](https://colab.research.google.com/assets/colab-badge.svg)](https://colab.research.google.com/github/sparks-baird/self-driving-lab-demo/blob/main/notebooks/6.2.2-multi-fidelity-discrete.ipynb)\n",
        "\n",
        "In this tutorial, we show how to do multi-fidelity BO with discrete fidelities based on [1], where each fidelity is a different \"information source.\" This tutorial uses the same setup as the [continuous multi-fidelity BO tutorial](https://botorch.org/tutorials/multi_fidelity_bo), except with discrete fidelity parameters that are interpreted as multiple information sources.\n",
        "\n",
        "We use a GP model with a single task that models the design and fidelity parameters jointly. In some cases, where there is not a natural ordering in the fidelity space, it may be more appropriate to use a multi-task model (with, say, an ICM kernel). We will provide a tutorial once this functionality is in place.\n",
        "\n",
        "[1] [M. Poloczek, J. Wang, P.I. Frazier. Multi-Information Source Optimization. NeurIPS, 2017](https://papers.nips.cc/paper/2017/file/df1f1d20ee86704251795841e6a9405a-Paper.pdf)\n",
        "\n",
        "[2] [J. Wu, S. Toscano-Palmerin, P.I. Frazier, A.G. Wilson. Practical Multi-fidelity Bayesian Optimization for Hyperparameter Tuning. Conference on Uncertainty in Artificial Intelligence (UAI), 2019](https://arxiv.org/pdf/1903.04703.pdf)"
      ]
    },
    {
      "cell_type": "markdown",
      "metadata": {},
      "source": [
        "### Set dtype and device"
      ]
    },
    {
      "cell_type": "code",
      "execution_count": 1,
      "metadata": {},
      "outputs": [],
      "source": [
        "import os\n",
        "import torch\n",
        "\n",
        "\n",
        "tkwargs = {\n",
        "    \"dtype\": torch.double,\n",
        "    \"device\": torch.device(\"cuda\" if torch.cuda.is_available() else \"cpu\"),\n",
        "}\n",
        "SMOKE_TEST = os.environ.get(\"SMOKE_TEST\")"
      ]
    },
    {
      "cell_type": "markdown",
      "metadata": {},
      "source": [
        "### Problem setup\n",
        "\n",
        "We'll consider the Augmented Hartmann multi-fidelity synthetic test problem. This function is a version of the Hartmann6 test function with an additional dimension representing the fidelity parameter; details are in [2]. The function takes the form $f(x,s)$ where $x \\in [0,1]^6$ and $s \\in \\{0.5, 0.75, 1\\}$. The target fidelity is 1.0, which means that our goal is to solve $\\max_x f(x,1.0)$ by making use of cheaper evaluations $f(x,s)$ for $s \\in \\{0.5, 0.75\\}$. In this example, we'll assume that the cost function takes the form $5.0 + s$, illustrating a situation where the fixed cost is $5.0$."
      ]
    },
    {
      "cell_type": "code",
      "execution_count": 27,
      "metadata": {},
      "outputs": [],
      "source": [
        "from botorch.test_functions.multi_fidelity import AugmentedHartmann\n",
        "from botorch.test_functions.synthetic import SyntheticTestFunction\n",
        "import pandas as pd\n",
        "from torch import Tensor\n",
        "\n",
        "from self_driving_lab_demo import SelfDrivingLabDemoLight, mqtt_observe_sensor_data\n",
        "\n",
        "class SelfDrivingLabDiscreteFidelity(SyntheticTestFunction):\n",
        "    def __init__(self, negate=False, s=20.0):\n",
        "        self.columns = [\"R\", \"G\", \"B\", \"simulation\"]\n",
        "        self.design_vars = [\"R\", \"G\", \"B\"]\n",
        "        target_seed = 10\n",
        "        self.sdl_sim = SelfDrivingLabDemoLight(\n",
        "            simulation=True, autoload=True, target_seed=target_seed\n",
        "        )\n",
        "        self.sdl_exp = SelfDrivingLabDemoLight(\n",
        "            simulation=False,  # change back to False when ready\n",
        "            autoload=True,\n",
        "            target_seed=target_seed,\n",
        "            observe_sensor_data_fn=mqtt_observe_sensor_data,\n",
        "            observe_sensor_data_kwargs=dict(pico_id=\"test\"),\n",
        "        )\n",
        "        self._bounds = [self.sdl_exp.bounds[key] for key in self.design_vars]\n",
        "        self._bounds += [(0.0, s)]\n",
        "        self.dim = len(self._bounds)\n",
        "        super().__init__(negate=negate)\n",
        "        # self._optimal_value = 0.0\n",
        "        # self._optimizers = [(0.0, 0.0)]\n",
        "\n",
        "    def evaluate_true(self, X: Tensor) -> Tensor:\n",
        "        # df = pd.DataFrame(\n",
        "        #     X.detach().cpu().numpy(), columns=columns\n",
        "        # ).to_dict(\"records\")\n",
        "        parameters = {\n",
        "            key: X.detach().cpu().numpy() for key, X in zip(self.columns, X)\n",
        "        }\n",
        "        simulation = parameters.pop(\"simulation\")\n",
        "        if simulation == 0.0:\n",
        "            obj = self.sdl_sim.evaluate(parameters)[\"frechet\"]\n",
        "        else:\n",
        "            obj = self.sdl_exp.evaluate(parameters)[\"frechet\"]\n",
        "        # convert to tensor\n",
        "        obj = torch.tensor(obj, **tkwargs)\n",
        "        return obj\n",
        "\n",
        "# simulation cost: 5, experiment cost: 25\n",
        "s = 20.0\n",
        "fidelities = torch.tensor([0.0, s], **tkwargs)\n",
        "\n",
        "sdl_discrete = SelfDrivingLabDiscreteFidelity(s=s)\n",
        "# problem = AugmentedHartmann(negate=True).to(**tkwargs)"
      ]
    },
    {
      "cell_type": "code",
      "execution_count": 29,
      "metadata": {},
      "outputs": [
        {
          "data": {
            "text/plain": [
              "tensor(9204.2223, dtype=torch.float64)"
            ]
          },
          "execution_count": 29,
          "metadata": {},
          "output_type": "execute_result"
        }
      ],
      "source": [
        "sdl_discrete.evaluate_true(torch.tensor([10.0, 11.0, 12.0, 20.0], **tkwargs))"
      ]
    },
    {
      "cell_type": "markdown",
      "metadata": {},
      "source": [
        "#### Model initialization\n",
        "\n",
        "We use a `SingleTaskMultiFidelityGP` as the surrogate model, which uses a kernel from [2] that is well-suited for multi-fidelity applications. The `SingleTaskMultiFidelityGP` models the design and fidelity parameters jointly, so its domain is $[0,1]^7$."
      ]
    },
    {
      "cell_type": "code",
      "execution_count": 41,
      "metadata": {},
      "outputs": [],
      "source": [
        "from botorch.models.gp_regression_fidelity import SingleTaskMultiFidelityGP\n",
        "from botorch.models.transforms.outcome import Standardize\n",
        "from gpytorch.mlls.exact_marginal_log_likelihood import ExactMarginalLogLikelihood\n",
        "\n",
        "\n",
        "def generate_initial_data(n=16):\n",
        "    # generate training data\n",
        "    \n",
        "    train_x = torch.rand(n, , **tkwargs)\n",
        "    train_f = fidelities[torch.randint(3, (n, 1))]\n",
        "    train_x_full = torch.cat((train_x, train_f), dim=1)\n",
        "    train_obj = problem(train_x_full).unsqueeze(-1)  # add output dimension\n",
        "    return train_x_full, train_obj\n",
        "\n",
        "\n",
        "def initialize_model(train_x, train_obj):\n",
        "    # define a surrogate model suited for a \"training data\"-like fidelity parameter\n",
        "    # in dimension 6, as in [2]\n",
        "    model = SingleTaskMultiFidelityGP(train_x, train_obj, outcome_transform=Standardize(m=1), data_fidelity=6)\n",
        "    mll = ExactMarginalLogLikelihood(model.likelihood, model)\n",
        "    return mll, model"
      ]
    },
    {
      "cell_type": "markdown",
      "metadata": {
        "originalKey": "8add142b-e32b-4f27-8f22-4386879512f6",
        "showInput": false
      },
      "source": [
        "#### Define a helper function to construct the MFKG acquisition function\n",
        "The helper function illustrates how one can initialize an $q$MFKG acquisition function. In this example, we assume that the affine cost is known. We then use the notion of a `CostAwareUtility` in BoTorch to scalarize the \"competing objectives\" of information gain and cost. The MFKG acquisition function optimizes the ratio of information gain to cost, which is captured by the `InverseCostWeightedUtility`.\n",
        "\n",
        "In order for MFKG to evaluate the information gain, it uses the model to predict the function value at the highest fidelity after conditioning on the observation. This is handled by the `project` argument, which specifies how to transform a tensor `X` to its target fidelity. We use a default helper function called `project_to_target_fidelity` to achieve this.\n",
        "\n",
        "An important point to keep in mind: in the case of standard KG, one can ignore the current value and simply optimize the expected maximum posterior mean of the next stage. However, for MFKG, since the goal is optimize information *gain* per cost, it is important to first compute the current value (i.e., maximum of the posterior mean at the target fidelity). To accomplish this, we use a `FixedFeatureAcquisitionFunction` on top of a `PosteriorMean`."
      ]
    },
    {
      "cell_type": "code",
      "execution_count": 4,
      "metadata": {},
      "outputs": [],
      "source": [
        "from botorch import fit_gpytorch_mll\n",
        "from botorch.models.cost import AffineFidelityCostModel\n",
        "from botorch.acquisition.cost_aware import InverseCostWeightedUtility\n",
        "from botorch.acquisition import PosteriorMean\n",
        "from botorch.acquisition.knowledge_gradient import qMultiFidelityKnowledgeGradient\n",
        "from botorch.acquisition.fixed_feature import FixedFeatureAcquisitionFunction\n",
        "from botorch.optim.optimize import optimize_acqf\n",
        "from botorch.acquisition.utils import project_to_target_fidelity\n",
        "\n",
        "bounds = torch.tensor([[0.0] * dim, [1.0] * dim], **tkwargs)\n",
        "target_fidelities = {6: 1.0}\n",
        "\n",
        "cost_model = AffineFidelityCostModel(fidelity_weights={6: 1.0}, fixed_cost=5.0)\n",
        "cost_aware_utility = InverseCostWeightedUtility(cost_model=cost_model)\n",
        "\n",
        "\n",
        "def project(X):\n",
        "    return project_to_target_fidelity(X=X, target_fidelities=target_fidelities)\n",
        "\n",
        "def get_mfkg(model):\n",
        "    \n",
        "    curr_val_acqf = FixedFeatureAcquisitionFunction(\n",
        "        acq_function=PosteriorMean(model),\n",
        "        d=7,\n",
        "        columns=[6],\n",
        "        values=[1],\n",
        "    )\n",
        "    \n",
        "    _, current_value = optimize_acqf(\n",
        "        acq_function=curr_val_acqf,\n",
        "        bounds=bounds[:,:-1],\n",
        "        q=1,\n",
        "        num_restarts=10 if not SMOKE_TEST else 2,\n",
        "        raw_samples=1024 if not SMOKE_TEST else 4,\n",
        "        options={\"batch_limit\": 10, \"maxiter\": 200},\n",
        "    )\n",
        "        \n",
        "    return qMultiFidelityKnowledgeGradient(\n",
        "        model=model,\n",
        "        num_fantasies=128 if not SMOKE_TEST else 2,\n",
        "        current_value=current_value,\n",
        "        cost_aware_utility=cost_aware_utility,\n",
        "        project=project,\n",
        "    )"
      ]
    },
    {
      "cell_type": "markdown",
      "metadata": {},
      "source": [
        "#### Define a helper function that performs the essential BO step\n",
        "This helper function optimizes the acquisition function and returns the batch $\\{x_1, x_2, \\ldots x_q\\}$ along with the observed function values. The function `optimize_acqf_mixed` sequentially optimizes the acquisition function over $x$ for each value of the fidelity $s \\in \\{0, 0.5, 1.0\\}$."
      ]
    },
    {
      "cell_type": "code",
      "execution_count": 5,
      "metadata": {},
      "outputs": [],
      "source": [
        "from botorch.optim.optimize import optimize_acqf_mixed\n",
        "\n",
        "\n",
        "torch.set_printoptions(precision=3, sci_mode=False)\n",
        "\n",
        "NUM_RESTARTS = 5 if not SMOKE_TEST else 2\n",
        "RAW_SAMPLES = 128 if not SMOKE_TEST else 4\n",
        "BATCH_SIZE = 4\n",
        "\n",
        "\n",
        "def optimize_mfkg_and_get_observation(mfkg_acqf):\n",
        "    \"\"\"Optimizes MFKG and returns a new candidate, observation, and cost.\"\"\"\n",
        "\n",
        "    # generate new candidates\n",
        "    candidates, _ = optimize_acqf_mixed(\n",
        "        acq_function=mfkg_acqf,\n",
        "        bounds=bounds,\n",
        "        fixed_features_list=[{6: 0.5}, {6: 0.75}, {6: 1.0}],\n",
        "        q=BATCH_SIZE,\n",
        "        num_restarts=NUM_RESTARTS,\n",
        "        raw_samples=RAW_SAMPLES,\n",
        "        # batch_initial_conditions=X_init,\n",
        "        options={\"batch_limit\": 5, \"maxiter\": 200},\n",
        "    )\n",
        "\n",
        "    # observe new values\n",
        "    cost = cost_model(candidates).sum()\n",
        "    new_x = candidates.detach()\n",
        "    new_obj = problem(new_x).unsqueeze(-1)\n",
        "    print(f\"candidates:\\n{new_x}\\n\")\n",
        "    print(f\"observations:\\n{new_obj}\\n\\n\")\n",
        "    return new_x, new_obj, cost"
      ]
    },
    {
      "cell_type": "markdown",
      "metadata": {},
      "source": [
        "### Perform a few steps of multi-fidelity BO\n",
        "First, let's generate some initial random data and fit a surrogate model."
      ]
    },
    {
      "cell_type": "code",
      "execution_count": 6,
      "metadata": {},
      "outputs": [],
      "source": [
        "train_x, train_obj = generate_initial_data(n=16)"
      ]
    },
    {
      "cell_type": "markdown",
      "metadata": {},
      "source": [
        "We can now use the helper functions above to run a few iterations of BO."
      ]
    },
    {
      "cell_type": "code",
      "execution_count": 7,
      "metadata": {},
      "outputs": [
        {
          "name": "stderr",
          "output_type": "stream",
          "text": [
            "c:\\Users\\sterg\\Miniconda3\\envs\\sdl-demo\\lib\\site-packages\\botorch\\optim\\optimize.py:306: RuntimeWarning: Optimization failed in `gen_candidates_scipy` with the following warning(s):\n",
            "[OptimizationWarning('Optimization failed within `scipy.optimize.minimize` with status 1.')]\n",
            "Trying again with a new set of initial conditions.\n",
            "  warnings.warn(first_warn_msg, RuntimeWarning)\n",
            "c:\\Users\\sterg\\Miniconda3\\envs\\sdl-demo\\lib\\site-packages\\botorch\\optim\\optimize.py:328: RuntimeWarning: Optimization failed on the second try, after generating a new set of initial conditions.\n",
            "  warnings.warn(\n",
            "c:\\Users\\sterg\\Miniconda3\\envs\\sdl-demo\\lib\\site-packages\\botorch\\optim\\optimize.py:306: RuntimeWarning: Optimization failed in `gen_candidates_scipy` with the following warning(s):\n",
            "[OptimizationWarning('Optimization failed within `scipy.optimize.minimize` with status 1.')]\n",
            "Trying again with a new set of initial conditions.\n",
            "  warnings.warn(first_warn_msg, RuntimeWarning)\n",
            "c:\\Users\\sterg\\Miniconda3\\envs\\sdl-demo\\lib\\site-packages\\botorch\\optim\\optimize.py:306: RuntimeWarning: Optimization failed in `gen_candidates_scipy` with the following warning(s):\n",
            "[OptimizationWarning('Optimization failed within `scipy.optimize.minimize` with status 1.')]\n",
            "Trying again with a new set of initial conditions.\n",
            "  warnings.warn(first_warn_msg, RuntimeWarning)\n",
            "c:\\Users\\sterg\\Miniconda3\\envs\\sdl-demo\\lib\\site-packages\\botorch\\optim\\optimize.py:328: RuntimeWarning: Optimization failed on the second try, after generating a new set of initial conditions.\n",
            "  warnings.warn(\n",
            "c:\\Users\\sterg\\Miniconda3\\envs\\sdl-demo\\lib\\site-packages\\botorch\\optim\\optimize.py:306: RuntimeWarning: Optimization failed in `gen_candidates_scipy` with the following warning(s):\n",
            "[OptimizationWarning('Optimization failed within `scipy.optimize.minimize` with status 1.')]\n",
            "Trying again with a new set of initial conditions.\n",
            "  warnings.warn(first_warn_msg, RuntimeWarning)\n",
            "c:\\Users\\sterg\\Miniconda3\\envs\\sdl-demo\\lib\\site-packages\\botorch\\optim\\optimize.py:328: RuntimeWarning: Optimization failed on the second try, after generating a new set of initial conditions.\n",
            "  warnings.warn(\n",
            "c:\\Users\\sterg\\Miniconda3\\envs\\sdl-demo\\lib\\site-packages\\botorch\\optim\\optimize.py:306: RuntimeWarning: Optimization failed in `gen_candidates_scipy` with the following warning(s):\n",
            "[OptimizationWarning('Optimization failed within `scipy.optimize.minimize` with status 1.')]\n",
            "Trying again with a new set of initial conditions.\n",
            "  warnings.warn(first_warn_msg, RuntimeWarning)\n",
            "c:\\Users\\sterg\\Miniconda3\\envs\\sdl-demo\\lib\\site-packages\\botorch\\optim\\optimize.py:328: RuntimeWarning: Optimization failed on the second try, after generating a new set of initial conditions.\n",
            "  warnings.warn(\n",
            "c:\\Users\\sterg\\Miniconda3\\envs\\sdl-demo\\lib\\site-packages\\botorch\\optim\\optimize.py:306: RuntimeWarning: Optimization failed in `gen_candidates_scipy` with the following warning(s):\n",
            "[OptimizationWarning('Optimization failed within `scipy.optimize.minimize` with status 1.')]\n",
            "Trying again with a new set of initial conditions.\n",
            "  warnings.warn(first_warn_msg, RuntimeWarning)\n",
            "c:\\Users\\sterg\\Miniconda3\\envs\\sdl-demo\\lib\\site-packages\\botorch\\optim\\optimize.py:328: RuntimeWarning: Optimization failed on the second try, after generating a new set of initial conditions.\n",
            "  warnings.warn(\n",
            "c:\\Users\\sterg\\Miniconda3\\envs\\sdl-demo\\lib\\site-packages\\botorch\\optim\\optimize.py:306: RuntimeWarning: Optimization failed in `gen_candidates_scipy` with the following warning(s):\n",
            "[OptimizationWarning('Optimization failed within `scipy.optimize.minimize` with status 1.')]\n",
            "Trying again with a new set of initial conditions.\n",
            "  warnings.warn(first_warn_msg, RuntimeWarning)\n",
            "c:\\Users\\sterg\\Miniconda3\\envs\\sdl-demo\\lib\\site-packages\\botorch\\optim\\optimize.py:328: RuntimeWarning: Optimization failed on the second try, after generating a new set of initial conditions.\n",
            "  warnings.warn(\n",
            "c:\\Users\\sterg\\Miniconda3\\envs\\sdl-demo\\lib\\site-packages\\botorch\\optim\\optimize.py:306: RuntimeWarning: Optimization failed in `gen_candidates_scipy` with the following warning(s):\n",
            "[OptimizationWarning('Optimization failed within `scipy.optimize.minimize` with status 1.')]\n",
            "Trying again with a new set of initial conditions.\n",
            "  warnings.warn(first_warn_msg, RuntimeWarning)\n",
            "c:\\Users\\sterg\\Miniconda3\\envs\\sdl-demo\\lib\\site-packages\\botorch\\optim\\optimize.py:328: RuntimeWarning: Optimization failed on the second try, after generating a new set of initial conditions.\n",
            "  warnings.warn(\n",
            "c:\\Users\\sterg\\Miniconda3\\envs\\sdl-demo\\lib\\site-packages\\botorch\\optim\\optimize.py:306: RuntimeWarning: Optimization failed in `gen_candidates_scipy` with the following warning(s):\n",
            "[OptimizationWarning('Optimization failed within `scipy.optimize.minimize` with status 1.')]\n",
            "Trying again with a new set of initial conditions.\n",
            "  warnings.warn(first_warn_msg, RuntimeWarning)\n",
            "c:\\Users\\sterg\\Miniconda3\\envs\\sdl-demo\\lib\\site-packages\\botorch\\optim\\optimize.py:328: RuntimeWarning: Optimization failed on the second try, after generating a new set of initial conditions.\n",
            "  warnings.warn(\n"
          ]
        },
        {
          "name": "stdout",
          "output_type": "stream",
          "text": [
            "candidates:\n",
            "tensor([[0.419, 0.710, 0.157, 0.758, 0.348, 0.000, 0.500],\n",
            "        [0.453, 0.610, 0.317, 0.741, 0.540, 0.000, 0.500],\n",
            "        [0.520, 0.746, 0.292, 0.567, 0.408, 0.000, 0.500],\n",
            "        [0.639, 0.591, 0.205, 0.708, 0.396, 0.004, 0.500]],\n",
            "       dtype=torch.float64)\n",
            "\n",
            "observations:\n",
            "tensor([[1.702],\n",
            "        [1.217],\n",
            "        [2.106],\n",
            "        [0.513]], dtype=torch.float64)\n",
            "\n",
            "\n"
          ]
        },
        {
          "name": "stderr",
          "output_type": "stream",
          "text": [
            "c:\\Users\\sterg\\Miniconda3\\envs\\sdl-demo\\lib\\site-packages\\botorch\\optim\\optimize.py:306: RuntimeWarning: Optimization failed in `gen_candidates_scipy` with the following warning(s):\n",
            "[OptimizationWarning('Optimization failed within `scipy.optimize.minimize` with status 1.')]\n",
            "Trying again with a new set of initial conditions.\n",
            "  warnings.warn(first_warn_msg, RuntimeWarning)\n",
            "c:\\Users\\sterg\\Miniconda3\\envs\\sdl-demo\\lib\\site-packages\\botorch\\optim\\optimize.py:328: RuntimeWarning: Optimization failed on the second try, after generating a new set of initial conditions.\n",
            "  warnings.warn(\n",
            "c:\\Users\\sterg\\Miniconda3\\envs\\sdl-demo\\lib\\site-packages\\botorch\\optim\\optimize.py:306: RuntimeWarning: Optimization failed in `gen_candidates_scipy` with the following warning(s):\n",
            "[OptimizationWarning('Optimization failed within `scipy.optimize.minimize` with status 1.')]\n",
            "Trying again with a new set of initial conditions.\n",
            "  warnings.warn(first_warn_msg, RuntimeWarning)\n",
            "c:\\Users\\sterg\\Miniconda3\\envs\\sdl-demo\\lib\\site-packages\\botorch\\optim\\optimize.py:328: RuntimeWarning: Optimization failed on the second try, after generating a new set of initial conditions.\n",
            "  warnings.warn(\n",
            "c:\\Users\\sterg\\Miniconda3\\envs\\sdl-demo\\lib\\site-packages\\botorch\\optim\\optimize.py:306: RuntimeWarning: Optimization failed in `gen_candidates_scipy` with the following warning(s):\n",
            "[OptimizationWarning('Optimization failed within `scipy.optimize.minimize` with status 1.')]\n",
            "Trying again with a new set of initial conditions.\n",
            "  warnings.warn(first_warn_msg, RuntimeWarning)\n",
            "c:\\Users\\sterg\\Miniconda3\\envs\\sdl-demo\\lib\\site-packages\\botorch\\optim\\optimize.py:328: RuntimeWarning: Optimization failed on the second try, after generating a new set of initial conditions.\n",
            "  warnings.warn(\n",
            "c:\\Users\\sterg\\Miniconda3\\envs\\sdl-demo\\lib\\site-packages\\botorch\\optim\\optimize.py:306: RuntimeWarning: Optimization failed in `gen_candidates_scipy` with the following warning(s):\n",
            "[OptimizationWarning('Optimization failed within `scipy.optimize.minimize` with status 1.')]\n",
            "Trying again with a new set of initial conditions.\n",
            "  warnings.warn(first_warn_msg, RuntimeWarning)\n",
            "c:\\Users\\sterg\\Miniconda3\\envs\\sdl-demo\\lib\\site-packages\\botorch\\optim\\optimize.py:328: RuntimeWarning: Optimization failed on the second try, after generating a new set of initial conditions.\n",
            "  warnings.warn(\n",
            "c:\\Users\\sterg\\Miniconda3\\envs\\sdl-demo\\lib\\site-packages\\botorch\\optim\\optimize.py:306: RuntimeWarning: Optimization failed in `gen_candidates_scipy` with the following warning(s):\n",
            "[OptimizationWarning('Optimization failed within `scipy.optimize.minimize` with status 1.')]\n",
            "Trying again with a new set of initial conditions.\n",
            "  warnings.warn(first_warn_msg, RuntimeWarning)\n",
            "c:\\Users\\sterg\\Miniconda3\\envs\\sdl-demo\\lib\\site-packages\\botorch\\optim\\optimize.py:328: RuntimeWarning: Optimization failed on the second try, after generating a new set of initial conditions.\n",
            "  warnings.warn(\n",
            "c:\\Users\\sterg\\Miniconda3\\envs\\sdl-demo\\lib\\site-packages\\botorch\\optim\\optimize.py:306: RuntimeWarning: Optimization failed in `gen_candidates_scipy` with the following warning(s):\n",
            "[OptimizationWarning('Optimization failed within `scipy.optimize.minimize` with status 1.')]\n",
            "Trying again with a new set of initial conditions.\n",
            "  warnings.warn(first_warn_msg, RuntimeWarning)\n",
            "c:\\Users\\sterg\\Miniconda3\\envs\\sdl-demo\\lib\\site-packages\\botorch\\optim\\optimize.py:328: RuntimeWarning: Optimization failed on the second try, after generating a new set of initial conditions.\n",
            "  warnings.warn(\n",
            "c:\\Users\\sterg\\Miniconda3\\envs\\sdl-demo\\lib\\site-packages\\botorch\\optim\\optimize.py:306: RuntimeWarning: Optimization failed in `gen_candidates_scipy` with the following warning(s):\n",
            "[OptimizationWarning('Optimization failed within `scipy.optimize.minimize` with status 1.')]\n",
            "Trying again with a new set of initial conditions.\n",
            "  warnings.warn(first_warn_msg, RuntimeWarning)\n",
            "c:\\Users\\sterg\\Miniconda3\\envs\\sdl-demo\\lib\\site-packages\\botorch\\optim\\optimize.py:328: RuntimeWarning: Optimization failed on the second try, after generating a new set of initial conditions.\n",
            "  warnings.warn(\n",
            "c:\\Users\\sterg\\Miniconda3\\envs\\sdl-demo\\lib\\site-packages\\botorch\\optim\\optimize.py:306: RuntimeWarning: Optimization failed in `gen_candidates_scipy` with the following warning(s):\n",
            "[OptimizationWarning('Optimization failed within `scipy.optimize.minimize` with status 1.')]\n",
            "Trying again with a new set of initial conditions.\n",
            "  warnings.warn(first_warn_msg, RuntimeWarning)\n",
            "c:\\Users\\sterg\\Miniconda3\\envs\\sdl-demo\\lib\\site-packages\\botorch\\optim\\optimize.py:328: RuntimeWarning: Optimization failed on the second try, after generating a new set of initial conditions.\n",
            "  warnings.warn(\n",
            "c:\\Users\\sterg\\Miniconda3\\envs\\sdl-demo\\lib\\site-packages\\botorch\\optim\\optimize.py:306: RuntimeWarning: Optimization failed in `gen_candidates_scipy` with the following warning(s):\n",
            "[OptimizationWarning('Optimization failed within `scipy.optimize.minimize` with status 1.')]\n",
            "Trying again with a new set of initial conditions.\n",
            "  warnings.warn(first_warn_msg, RuntimeWarning)\n",
            "c:\\Users\\sterg\\Miniconda3\\envs\\sdl-demo\\lib\\site-packages\\botorch\\optim\\optimize.py:328: RuntimeWarning: Optimization failed on the second try, after generating a new set of initial conditions.\n",
            "  warnings.warn(\n",
            "c:\\Users\\sterg\\Miniconda3\\envs\\sdl-demo\\lib\\site-packages\\botorch\\optim\\optimize.py:306: RuntimeWarning: Optimization failed in `gen_candidates_scipy` with the following warning(s):\n",
            "[OptimizationWarning('Optimization failed within `scipy.optimize.minimize` with status 1.')]\n",
            "Trying again with a new set of initial conditions.\n",
            "  warnings.warn(first_warn_msg, RuntimeWarning)\n",
            "c:\\Users\\sterg\\Miniconda3\\envs\\sdl-demo\\lib\\site-packages\\botorch\\optim\\optimize.py:328: RuntimeWarning: Optimization failed on the second try, after generating a new set of initial conditions.\n",
            "  warnings.warn(\n",
            "c:\\Users\\sterg\\Miniconda3\\envs\\sdl-demo\\lib\\site-packages\\botorch\\optim\\optimize.py:306: RuntimeWarning: Optimization failed in `gen_candidates_scipy` with the following warning(s):\n",
            "[OptimizationWarning('Optimization failed within `scipy.optimize.minimize` with status 1.')]\n",
            "Trying again with a new set of initial conditions.\n",
            "  warnings.warn(first_warn_msg, RuntimeWarning)\n",
            "c:\\Users\\sterg\\Miniconda3\\envs\\sdl-demo\\lib\\site-packages\\botorch\\optim\\optimize.py:328: RuntimeWarning: Optimization failed on the second try, after generating a new set of initial conditions.\n",
            "  warnings.warn(\n",
            "c:\\Users\\sterg\\Miniconda3\\envs\\sdl-demo\\lib\\site-packages\\botorch\\optim\\optimize.py:306: RuntimeWarning: Optimization failed in `gen_candidates_scipy` with the following warning(s):\n",
            "[OptimizationWarning('Optimization failed within `scipy.optimize.minimize` with status 1.')]\n",
            "Trying again with a new set of initial conditions.\n",
            "  warnings.warn(first_warn_msg, RuntimeWarning)\n",
            "c:\\Users\\sterg\\Miniconda3\\envs\\sdl-demo\\lib\\site-packages\\botorch\\optim\\optimize.py:328: RuntimeWarning: Optimization failed on the second try, after generating a new set of initial conditions.\n",
            "  warnings.warn(\n"
          ]
        },
        {
          "name": "stdout",
          "output_type": "stream",
          "text": [
            "candidates:\n",
            "tensor([[0.447, 0.731, 0.278, 0.445, 0.350, 0.001, 0.500],\n",
            "        [0.447, 0.778, 0.414, 0.616, 0.360, 0.000, 0.750],\n",
            "        [0.448, 0.765, 0.287, 0.567, 0.566, 0.005, 0.750],\n",
            "        [0.499, 0.808, 0.198, 0.553, 0.342, 0.007, 0.500]],\n",
            "       dtype=torch.float64)\n",
            "\n",
            "observations:\n",
            "tensor([[2.109],\n",
            "        [2.698],\n",
            "        [2.631],\n",
            "        [2.521]], dtype=torch.float64)\n",
            "\n",
            "\n"
          ]
        },
        {
          "name": "stderr",
          "output_type": "stream",
          "text": [
            "c:\\Users\\sterg\\Miniconda3\\envs\\sdl-demo\\lib\\site-packages\\botorch\\optim\\optimize.py:306: RuntimeWarning: Optimization failed in `gen_candidates_scipy` with the following warning(s):\n",
            "[OptimizationWarning('Optimization failed within `scipy.optimize.minimize` with status 1.')]\n",
            "Trying again with a new set of initial conditions.\n",
            "  warnings.warn(first_warn_msg, RuntimeWarning)\n",
            "c:\\Users\\sterg\\Miniconda3\\envs\\sdl-demo\\lib\\site-packages\\botorch\\optim\\optimize.py:328: RuntimeWarning: Optimization failed on the second try, after generating a new set of initial conditions.\n",
            "  warnings.warn(\n",
            "c:\\Users\\sterg\\Miniconda3\\envs\\sdl-demo\\lib\\site-packages\\botorch\\optim\\optimize.py:306: RuntimeWarning: Optimization failed in `gen_candidates_scipy` with the following warning(s):\n",
            "[OptimizationWarning('Optimization failed within `scipy.optimize.minimize` with status 1.')]\n",
            "Trying again with a new set of initial conditions.\n",
            "  warnings.warn(first_warn_msg, RuntimeWarning)\n",
            "c:\\Users\\sterg\\Miniconda3\\envs\\sdl-demo\\lib\\site-packages\\botorch\\optim\\optimize.py:328: RuntimeWarning: Optimization failed on the second try, after generating a new set of initial conditions.\n",
            "  warnings.warn(\n",
            "c:\\Users\\sterg\\Miniconda3\\envs\\sdl-demo\\lib\\site-packages\\botorch\\optim\\optimize.py:306: RuntimeWarning: Optimization failed in `gen_candidates_scipy` with the following warning(s):\n",
            "[OptimizationWarning('Optimization failed within `scipy.optimize.minimize` with status 1.')]\n",
            "Trying again with a new set of initial conditions.\n",
            "  warnings.warn(first_warn_msg, RuntimeWarning)\n",
            "c:\\Users\\sterg\\Miniconda3\\envs\\sdl-demo\\lib\\site-packages\\botorch\\optim\\optimize.py:328: RuntimeWarning: Optimization failed on the second try, after generating a new set of initial conditions.\n",
            "  warnings.warn(\n",
            "c:\\Users\\sterg\\Miniconda3\\envs\\sdl-demo\\lib\\site-packages\\botorch\\optim\\optimize.py:306: RuntimeWarning: Optimization failed in `gen_candidates_scipy` with the following warning(s):\n",
            "[OptimizationWarning('Optimization failed within `scipy.optimize.minimize` with status 1.')]\n",
            "Trying again with a new set of initial conditions.\n",
            "  warnings.warn(first_warn_msg, RuntimeWarning)\n",
            "c:\\Users\\sterg\\Miniconda3\\envs\\sdl-demo\\lib\\site-packages\\botorch\\optim\\optimize.py:328: RuntimeWarning: Optimization failed on the second try, after generating a new set of initial conditions.\n",
            "  warnings.warn(\n",
            "c:\\Users\\sterg\\Miniconda3\\envs\\sdl-demo\\lib\\site-packages\\botorch\\optim\\optimize.py:306: RuntimeWarning: Optimization failed in `gen_candidates_scipy` with the following warning(s):\n",
            "[OptimizationWarning('Optimization failed within `scipy.optimize.minimize` with status 1.')]\n",
            "Trying again with a new set of initial conditions.\n",
            "  warnings.warn(first_warn_msg, RuntimeWarning)\n",
            "c:\\Users\\sterg\\Miniconda3\\envs\\sdl-demo\\lib\\site-packages\\botorch\\optim\\optimize.py:328: RuntimeWarning: Optimization failed on the second try, after generating a new set of initial conditions.\n",
            "  warnings.warn(\n",
            "c:\\Users\\sterg\\Miniconda3\\envs\\sdl-demo\\lib\\site-packages\\botorch\\optim\\optimize.py:306: RuntimeWarning: Optimization failed in `gen_candidates_scipy` with the following warning(s):\n",
            "[OptimizationWarning('Optimization failed within `scipy.optimize.minimize` with status 1.')]\n",
            "Trying again with a new set of initial conditions.\n",
            "  warnings.warn(first_warn_msg, RuntimeWarning)\n",
            "c:\\Users\\sterg\\Miniconda3\\envs\\sdl-demo\\lib\\site-packages\\botorch\\optim\\optimize.py:328: RuntimeWarning: Optimization failed on the second try, after generating a new set of initial conditions.\n",
            "  warnings.warn(\n",
            "c:\\Users\\sterg\\Miniconda3\\envs\\sdl-demo\\lib\\site-packages\\botorch\\optim\\optimize.py:306: RuntimeWarning: Optimization failed in `gen_candidates_scipy` with the following warning(s):\n",
            "[OptimizationWarning('Optimization failed within `scipy.optimize.minimize` with status 1.')]\n",
            "Trying again with a new set of initial conditions.\n",
            "  warnings.warn(first_warn_msg, RuntimeWarning)\n",
            "c:\\Users\\sterg\\Miniconda3\\envs\\sdl-demo\\lib\\site-packages\\botorch\\optim\\optimize.py:328: RuntimeWarning: Optimization failed on the second try, after generating a new set of initial conditions.\n",
            "  warnings.warn(\n",
            "c:\\Users\\sterg\\Miniconda3\\envs\\sdl-demo\\lib\\site-packages\\botorch\\optim\\optimize.py:306: RuntimeWarning: Optimization failed in `gen_candidates_scipy` with the following warning(s):\n",
            "[OptimizationWarning('Optimization failed within `scipy.optimize.minimize` with status 1.')]\n",
            "Trying again with a new set of initial conditions.\n",
            "  warnings.warn(first_warn_msg, RuntimeWarning)\n",
            "c:\\Users\\sterg\\Miniconda3\\envs\\sdl-demo\\lib\\site-packages\\botorch\\optim\\optimize.py:328: RuntimeWarning: Optimization failed on the second try, after generating a new set of initial conditions.\n",
            "  warnings.warn(\n",
            "c:\\Users\\sterg\\Miniconda3\\envs\\sdl-demo\\lib\\site-packages\\botorch\\optim\\optimize.py:306: RuntimeWarning: Optimization failed in `gen_candidates_scipy` with the following warning(s):\n",
            "[OptimizationWarning('Optimization failed within `scipy.optimize.minimize` with status 1.')]\n",
            "Trying again with a new set of initial conditions.\n",
            "  warnings.warn(first_warn_msg, RuntimeWarning)\n",
            "c:\\Users\\sterg\\Miniconda3\\envs\\sdl-demo\\lib\\site-packages\\botorch\\optim\\optimize.py:328: RuntimeWarning: Optimization failed on the second try, after generating a new set of initial conditions.\n",
            "  warnings.warn(\n",
            "c:\\Users\\sterg\\Miniconda3\\envs\\sdl-demo\\lib\\site-packages\\botorch\\optim\\optimize.py:306: RuntimeWarning: Optimization failed in `gen_candidates_scipy` with the following warning(s):\n",
            "[OptimizationWarning('Optimization failed within `scipy.optimize.minimize` with status 1.')]\n",
            "Trying again with a new set of initial conditions.\n",
            "  warnings.warn(first_warn_msg, RuntimeWarning)\n",
            "c:\\Users\\sterg\\Miniconda3\\envs\\sdl-demo\\lib\\site-packages\\botorch\\optim\\optimize.py:328: RuntimeWarning: Optimization failed on the second try, after generating a new set of initial conditions.\n",
            "  warnings.warn(\n",
            "c:\\Users\\sterg\\Miniconda3\\envs\\sdl-demo\\lib\\site-packages\\botorch\\optim\\optimize.py:306: RuntimeWarning: Optimization failed in `gen_candidates_scipy` with the following warning(s):\n",
            "[OptimizationWarning('Optimization failed within `scipy.optimize.minimize` with status 1.')]\n",
            "Trying again with a new set of initial conditions.\n",
            "  warnings.warn(first_warn_msg, RuntimeWarning)\n",
            "c:\\Users\\sterg\\Miniconda3\\envs\\sdl-demo\\lib\\site-packages\\botorch\\optim\\optimize.py:328: RuntimeWarning: Optimization failed on the second try, after generating a new set of initial conditions.\n",
            "  warnings.warn(\n"
          ]
        },
        {
          "name": "stdout",
          "output_type": "stream",
          "text": [
            "candidates:\n",
            "tensor([[0.430, 0.889, 0.421, 0.558, 0.538, 0.035, 0.750],\n",
            "        [0.985, 0.495, 0.352, 0.891, 0.751, 0.734, 0.750],\n",
            "        [0.407, 0.819, 0.305, 0.581, 0.389, 0.124, 0.500],\n",
            "        [0.485, 0.841, 0.436, 0.526, 0.481, 0.078, 0.750]],\n",
            "       dtype=torch.float64)\n",
            "\n",
            "observations:\n",
            "tensor([[    3.071],\n",
            "        [    0.001],\n",
            "        [    2.748],\n",
            "        [    2.655]], dtype=torch.float64)\n",
            "\n",
            "\n"
          ]
        }
      ],
      "source": [
        "cumulative_cost = 0.0\n",
        "N_ITER = 3 if not SMOKE_TEST else 1\n",
        "\n",
        "for i in range(N_ITER):\n",
        "    mll, model = initialize_model(train_x, train_obj)\n",
        "    fit_gpytorch_mll(mll)\n",
        "    mfkg_acqf = get_mfkg(model)\n",
        "    new_x, new_obj, cost = optimize_mfkg_and_get_observation(mfkg_acqf)\n",
        "    train_x = torch.cat([train_x, new_x])\n",
        "    train_obj = torch.cat([train_obj, new_obj])\n",
        "    cumulative_cost += cost"
      ]
    },
    {
      "cell_type": "markdown",
      "metadata": {},
      "source": [
        "### Make a final recommendation\n",
        "In multi-fidelity BO, there are usually fewer observations of the function at the target fidelity, so it is important to use a recommendation function that uses the correct fidelity. Here, we maximize the posterior mean with the fidelity dimension fixed to the target fidelity of 1.0."
      ]
    },
    {
      "cell_type": "code",
      "execution_count": 14,
      "metadata": {},
      "outputs": [],
      "source": [
        "def get_recommendation(model):\n",
        "    rec_acqf = FixedFeatureAcquisitionFunction(\n",
        "        acq_function=PosteriorMean(model),\n",
        "        d=7,\n",
        "        columns=[6],\n",
        "        values=[1],\n",
        "    )\n",
        "\n",
        "    final_rec, _ = optimize_acqf(\n",
        "        acq_function=rec_acqf,\n",
        "        bounds=bounds[:,:-1],\n",
        "        q=1,\n",
        "        num_restarts=10,\n",
        "        raw_samples=512,\n",
        "        options={\"batch_limit\": 5, \"maxiter\": 200},\n",
        "    )\n",
        "    \n",
        "    final_rec = rec_acqf._construct_X_full(final_rec)\n",
        "    \n",
        "    objective_value = problem(final_rec)\n",
        "    print(f\"recommended point:\\n{final_rec}\\n\\nobjective value:\\n{objective_value}\")\n",
        "    return final_rec"
      ]
    },
    {
      "cell_type": "code",
      "execution_count": 15,
      "metadata": {},
      "outputs": [
        {
          "name": "stdout",
          "output_type": "stream",
          "text": [
            "recommended point:\n",
            "tensor([[0.181, 0.203, 0.447, 0.249, 0.361, 0.366, 1.000]],\n",
            "       dtype=torch.float64)\n",
            "\n",
            "objective value:\n",
            "tensor([1.627], dtype=torch.float64)\n",
            "\n",
            "total cost: 72.0\n",
            "\n"
          ]
        }
      ],
      "source": [
        "final_rec = get_recommendation(model)\n",
        "print(f\"\\ntotal cost: {cumulative_cost}\\n\")"
      ]
    },
    {
      "cell_type": "markdown",
      "metadata": {},
      "source": [
        "### Comparison to standard EI (always use target fidelity)\n",
        "Let's now repeat the same steps using a standard EI acquisition function (note that this is not a rigorous comparison as we are only looking at one trial in order to keep computational requirements low)."
      ]
    },
    {
      "cell_type": "code",
      "execution_count": 10,
      "metadata": {},
      "outputs": [],
      "source": [
        "from botorch.acquisition import qExpectedImprovement\n",
        "\n",
        "\n",
        "def get_ei(model, best_f):\n",
        "\n",
        "    return FixedFeatureAcquisitionFunction(\n",
        "        acq_function=qExpectedImprovement(model=model, best_f=best_f),\n",
        "        d=7,\n",
        "        columns=[6],\n",
        "        values=[1],\n",
        "    )\n",
        "\n",
        "\n",
        "def optimize_ei_and_get_observation(ei_acqf):\n",
        "    \"\"\"Optimizes EI and returns a new candidate, observation, and cost.\"\"\"\n",
        "\n",
        "    candidates, _ = optimize_acqf(\n",
        "        acq_function=ei_acqf,\n",
        "        bounds=bounds[:, :-1],\n",
        "        q=BATCH_SIZE,\n",
        "        num_restarts=10,\n",
        "        raw_samples=512,\n",
        "        options={\"batch_limit\": 5, \"maxiter\": 200},\n",
        "    )\n",
        "\n",
        "    # add the fidelity parameter\n",
        "    candidates = ei_acqf._construct_X_full(candidates)\n",
        "\n",
        "    # observe new values\n",
        "    cost = cost_model(candidates).sum()\n",
        "    new_x = candidates.detach()\n",
        "    new_obj = problem(new_x).unsqueeze(-1)\n",
        "    print(f\"candidates:\\n{new_x}\\n\")\n",
        "    print(f\"observations:\\n{new_obj}\\n\\n\")\n",
        "    return new_x, new_obj, cost"
      ]
    },
    {
      "cell_type": "code",
      "execution_count": 11,
      "metadata": {},
      "outputs": [
        {
          "name": "stderr",
          "output_type": "stream",
          "text": [
            "c:\\Users\\sterg\\Miniconda3\\envs\\sdl-demo\\lib\\site-packages\\botorch\\optim\\optimize.py:306: RuntimeWarning: Optimization failed in `gen_candidates_scipy` with the following warning(s):\n",
            "[NumericalWarning('A not p.d., added jitter of 1.0e-08 to the diagonal'), OptimizationWarning('Optimization failed within `scipy.optimize.minimize` with status 1.'), OptimizationWarning('Optimization failed within `scipy.optimize.minimize` with status 1.')]\n",
            "Trying again with a new set of initial conditions.\n",
            "  warnings.warn(first_warn_msg, RuntimeWarning)\n",
            "c:\\Users\\sterg\\Miniconda3\\envs\\sdl-demo\\lib\\site-packages\\botorch\\optim\\optimize.py:328: RuntimeWarning: Optimization failed on the second try, after generating a new set of initial conditions.\n",
            "  warnings.warn(\n"
          ]
        },
        {
          "name": "stdout",
          "output_type": "stream",
          "text": [
            "candidates:\n",
            "tensor([[0.224, 0.188, 0.264, 0.293, 0.413, 0.167, 1.000],\n",
            "        [0.251, 0.145, 0.393, 0.232, 0.399, 0.332, 1.000],\n",
            "        [0.103, 0.000, 0.307, 0.378, 0.371, 0.317, 1.000],\n",
            "        [0.000, 0.000, 0.363, 0.175, 0.397, 0.164, 1.000]],\n",
            "       dtype=torch.float64)\n",
            "\n",
            "observations:\n",
            "tensor([[0.374],\n",
            "        [1.226],\n",
            "        [0.932],\n",
            "        [0.306]], dtype=torch.float64)\n",
            "\n",
            "\n"
          ]
        },
        {
          "name": "stderr",
          "output_type": "stream",
          "text": [
            "c:\\Users\\sterg\\Miniconda3\\envs\\sdl-demo\\lib\\site-packages\\botorch\\optim\\optimize.py:306: RuntimeWarning: Optimization failed in `gen_candidates_scipy` with the following warning(s):\n",
            "[OptimizationWarning('Optimization failed within `scipy.optimize.minimize` with status 1.'), OptimizationWarning('Optimization failed within `scipy.optimize.minimize` with status 1.')]\n",
            "Trying again with a new set of initial conditions.\n",
            "  warnings.warn(first_warn_msg, RuntimeWarning)\n",
            "c:\\Users\\sterg\\Miniconda3\\envs\\sdl-demo\\lib\\site-packages\\botorch\\optim\\optimize.py:328: RuntimeWarning: Optimization failed on the second try, after generating a new set of initial conditions.\n",
            "  warnings.warn(\n"
          ]
        },
        {
          "name": "stdout",
          "output_type": "stream",
          "text": [
            "candidates:\n",
            "tensor([[0.195, 0.190, 0.432, 0.251, 0.371, 0.350, 1.000],\n",
            "        [0.543, 0.448, 0.860, 0.733, 0.257, 0.161, 1.000],\n",
            "        [0.851, 0.099, 0.049, 0.496, 0.351, 0.991, 1.000],\n",
            "        [0.266, 0.076, 0.351, 0.205, 0.417, 0.354, 1.000]],\n",
            "       dtype=torch.float64)\n",
            "\n",
            "observations:\n",
            "tensor([[1.488],\n",
            "        [0.339],\n",
            "        [0.219],\n",
            "        [1.187]], dtype=torch.float64)\n",
            "\n",
            "\n",
            "candidates:\n",
            "tensor([[0.164, 0.219, 0.469, 0.240, 0.345, 0.387, 1.000],\n",
            "        [0.359, 0.828, 0.841, 0.537, 0.237, 0.849, 1.000],\n",
            "        [0.593, 0.267, 0.045, 0.860, 0.656, 0.212, 1.000],\n",
            "        [0.861, 0.489, 0.126, 0.718, 0.422, 0.692, 1.000]],\n",
            "       dtype=torch.float64)\n",
            "\n",
            "observations:\n",
            "tensor([[1.802],\n",
            "        [0.281],\n",
            "        [0.024],\n",
            "        [0.069]], dtype=torch.float64)\n",
            "\n",
            "\n"
          ]
        }
      ],
      "source": [
        "cumulative_cost = 0.0\n",
        "\n",
        "train_x, train_obj = generate_initial_data(n=16)\n",
        "\n",
        "for _ in range(N_ITER):\n",
        "    mll, model = initialize_model(train_x, train_obj)\n",
        "    fit_gpytorch_mll(mll)\n",
        "    ei_acqf = get_ei(model, best_f=train_obj.max())\n",
        "    new_x, new_obj, cost = optimize_ei_and_get_observation(ei_acqf)\n",
        "    train_x = torch.cat([train_x, new_x])\n",
        "    train_obj = torch.cat([train_obj, new_obj])\n",
        "    cumulative_cost += cost"
      ]
    },
    {
      "cell_type": "code",
      "execution_count": 12,
      "metadata": {},
      "outputs": [
        {
          "name": "stdout",
          "output_type": "stream",
          "text": [
            "recommended point:\n",
            "tensor([[0.181, 0.203, 0.447, 0.249, 0.361, 0.366, 1.000]],\n",
            "       dtype=torch.float64)\n",
            "\n",
            "objective value:\n",
            "tensor([1.627], dtype=torch.float64)\n",
            "\n",
            "total cost: 72.0\n",
            "\n"
          ]
        }
      ],
      "source": [
        "final_rec = get_recommendation(model)\n",
        "print(f\"\\ntotal cost: {cumulative_cost}\\n\")"
      ]
    },
    {
      "attachments": {},
      "cell_type": "markdown",
      "metadata": {},
      "source": [
        "## Code Graveyard"
      ]
    },
    {
      "cell_type": "code",
      "execution_count": 12,
      "metadata": {},
      "outputs": [],
      "source": [
        "# def generate_initial_data(n=16):\n",
        "#     # generate training data\n",
        "#     train_x = np.random.rand(n, 3)\n",
        "#     train_x = pd.DataFrame(train_x, columns=[\"R\", \"G\", \"B\"])\n",
        "#     train_f = np.random.choice(fidelities, (n, 1))\n",
        "#     train_f = pd.DataFrame(train_f, columns=[\"simulation\"])\n",
        "#     train_x_full = pd.concat((train_x, train_f), axis=1).to_dict(\"records\")\n",
        "#     train_obj = [sdl.evaluate(train_x_full[i])[\"frechet\"] for i in range(n)]\n",
        "#     # convert to tensors\n",
        "#     train_x_full = torch.tensor(pd.DataFrame(train_x_full).to_numpy(), **tkwargs)\n",
        "#     train_obj = torch.tensor(train_obj, **tkwargs).unsqueeze(-1)  # add output dimension\n",
        "\n",
        "#     # train_x = torch.rand(n, 6, **tkwargs)\n",
        "#     # train_f = fidelities[torch.randint(), (n, 1))]\n",
        "#     # train_x_full = torch.cat((train_x, train_f), dim=1)\n",
        "#     # train_obj = problem(train_x_full).unsqueeze(-1)  # add output dimension\n",
        "\n",
        "#     return train_x_full, train_obj"
      ]
    }
  ],
  "metadata": {
    "kernelspec": {
      "display_name": "python3",
      "name": "python3"
    },
    "language_info": {
      "codemirror_mode": {
        "name": "ipython",
        "version": 3
      },
      "file_extension": ".py",
      "mimetype": "text/x-python",
      "name": "python",
      "nbconvert_exporter": "python",
      "pygments_lexer": "ipython3",
      "version": "3.9.13"
    }
  },
  "nbformat": 4,
  "nbformat_minor": 2
}
