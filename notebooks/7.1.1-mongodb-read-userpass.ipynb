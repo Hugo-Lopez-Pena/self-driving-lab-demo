{
 "cells": [
  {
   "attachments": {},
   "cell_type": "markdown",
   "metadata": {},
   "source": [
    "# Reading Data from MongoDB via PyMongo"
   ]
  },
  {
   "cell_type": "code",
   "execution_count": 11,
   "metadata": {},
   "outputs": [],
   "source": [
    "import json\n",
    "from pymongo import MongoClient\n",
    "\n",
    "with open(\"secrets.json\", \"r\") as f:\n",
    "    secrets = json.load(f)\n",
    "    MONGODB_USERNAME = secrets[\"PYMONGO_USERNAME\"]\n",
    "    MONGODB_PASSWORD = secrets[\"PYMONGO_PASSWORD\"]\n",
    "\n",
    "# Requires the PyMongo package.\n",
    "# https://api.mongodb.com/python/current\n",
    "\n",
    "cluster_uri = \"sparks-materials-inform.bgydt\"\n",
    "client = MongoClient(\n",
    "    f\"mongodb+srv://{MONGODB_USERNAME}:{MONGODB_PASSWORD}@{cluster_uri}.mongodb.net/?retryWrites=true&w=majority\"\n",
    ")\n",
    "\n",
    "database_name = \"clslab-light-mixing\"\n",
    "collection_name = \"hackathon\""
   ]
  },
  {
   "cell_type": "code",
   "execution_count": 12,
   "metadata": {},
   "outputs": [
    {
     "name": "stdout",
     "output_type": "stream",
     "text": [
      "Pinged your deployment. You successfully connected to MongoDB!\n"
     ]
    }
   ],
   "source": [
    "# Send a ping to confirm a successful connection\n",
    "try:\n",
    "    client.admin.command('ping')\n",
    "    print(\"Pinged your deployment. You successfully connected to MongoDB!\")\n",
    "except Exception as e:\n",
    "    raise e"
   ]
  },
  {
   "cell_type": "code",
   "execution_count": 40,
   "metadata": {},
   "outputs": [
    {
     "name": "stdout",
     "output_type": "stream",
     "text": [
      "41131\n"
     ]
    }
   ],
   "source": [
    "from tqdm.notebook import tqdm\n",
    "\n",
    "db = client[database_name]\n",
    "collection = db[collection_name]\n",
    "\n",
    "pattern = r\"^benchmark-dev-[0-9a-z]{4}$\"\n",
    "\"\"\" Explanation of regex pattern:\n",
    "^ asserts the start of the string.\n",
    "benchmark-dev- matches the literal characters \"benchmark-dev-\".\n",
    "[0-9a-z] matches any digit (0-9) or lowercase letter (a-z).\n",
    "{4} specifies that the previous character set should be repeated exactly 4 times.\n",
    "$ asserts the end of the string.\n",
    "\"\"\"\n",
    "\n",
    "filter = {\n",
    "    \"encrypted_device_id_truncated\": \"test\",\n",
    "    \"background\": {\"$exists\": True},\n",
    "    \"_input_message._session_id\": {\"$regex\": pattern},\n",
    "}\n",
    "num_docs = collection.count_documents(filter, maxTimeMS=60000)\n",
    "print(num_docs)"
   ]
  },
  {
   "cell_type": "code",
   "execution_count": 41,
   "metadata": {},
   "outputs": [
    {
     "data": {
      "application/vnd.jupyter.widget-view+json": {
       "model_id": "ea1135ef6ed9484d9d4a67fbef7d0eff",
       "version_major": 2,
       "version_minor": 0
      },
      "text/plain": [
       "  0%|          | 0/41131 [00:00<?, ?it/s]"
      ]
     },
     "metadata": {},
     "output_type": "display_data"
    }
   ],
   "source": [
    "cursor = collection.find(filter)\n",
    "results = []\n",
    "# gets progressively faster as the cursor progresses\n",
    "for result in tqdm(cursor, total=num_docs):\n",
    "    results.append(result)"
   ]
  },
  {
   "cell_type": "code",
   "execution_count": 83,
   "metadata": {},
   "outputs": [
    {
     "data": {
      "text/html": [
       "<div>\n",
       "<style scoped>\n",
       "    .dataframe tbody tr th:only-of-type {\n",
       "        vertical-align: middle;\n",
       "    }\n",
       "\n",
       "    .dataframe tbody tr th {\n",
       "        vertical-align: top;\n",
       "    }\n",
       "\n",
       "    .dataframe thead th {\n",
       "        text-align: right;\n",
       "    }\n",
       "</style>\n",
       "<table border=\"1\" class=\"dataframe\">\n",
       "  <thead>\n",
       "    <tr style=\"text-align: right;\">\n",
       "      <th></th>\n",
       "      <th>utc_timestamp</th>\n",
       "      <th>background</th>\n",
       "      <th>ch470</th>\n",
       "      <th>_input_message</th>\n",
       "      <th>ch410</th>\n",
       "      <th>ch440</th>\n",
       "      <th>sd_card_ready</th>\n",
       "      <th>ch510</th>\n",
       "      <th>ch550</th>\n",
       "      <th>ch670</th>\n",
       "      <th>utc_time_str</th>\n",
       "      <th>onboard_temperature_K</th>\n",
       "      <th>encrypted_device_id_truncated</th>\n",
       "      <th>ch620</th>\n",
       "      <th>device_nickname</th>\n",
       "      <th>ch583</th>\n",
       "    </tr>\n",
       "    <tr>\n",
       "      <th>_id</th>\n",
       "      <th></th>\n",
       "      <th></th>\n",
       "      <th></th>\n",
       "      <th></th>\n",
       "      <th></th>\n",
       "      <th></th>\n",
       "      <th></th>\n",
       "      <th></th>\n",
       "      <th></th>\n",
       "      <th></th>\n",
       "      <th></th>\n",
       "      <th></th>\n",
       "      <th></th>\n",
       "      <th></th>\n",
       "      <th></th>\n",
       "      <th></th>\n",
       "    </tr>\n",
       "  </thead>\n",
       "  <tbody>\n",
       "    <tr>\n",
       "      <th>63a51bddb64ebdefe7c7b708</th>\n",
       "      <td>1671764950</td>\n",
       "      <td>{'ch583': 15, 'ch670': 22, 'ch510': 39, 'ch410...</td>\n",
       "      <td>2189</td>\n",
       "      <td>{'_session_id': 'benchmark-dev-001a', 'B': 87,...</td>\n",
       "      <td>125</td>\n",
       "      <td>2470</td>\n",
       "      <td>False</td>\n",
       "      <td>929</td>\n",
       "      <td>210</td>\n",
       "      <td>188</td>\n",
       "      <td>2022-12-23 03:09:10</td>\n",
       "      <td>294.1085</td>\n",
       "      <td>test</td>\n",
       "      <td>2108</td>\n",
       "      <td>CLSLab-light-public-test</td>\n",
       "      <td>1025</td>\n",
       "    </tr>\n",
       "  </tbody>\n",
       "</table>\n",
       "</div>"
      ],
      "text/plain": [
       "                          utc_timestamp  \\\n",
       "_id                                       \n",
       "63a51bddb64ebdefe7c7b708     1671764950   \n",
       "\n",
       "                                                                 background  \\\n",
       "_id                                                                           \n",
       "63a51bddb64ebdefe7c7b708  {'ch583': 15, 'ch670': 22, 'ch510': 39, 'ch410...   \n",
       "\n",
       "                          ch470  \\\n",
       "_id                               \n",
       "63a51bddb64ebdefe7c7b708   2189   \n",
       "\n",
       "                                                             _input_message  \\\n",
       "_id                                                                           \n",
       "63a51bddb64ebdefe7c7b708  {'_session_id': 'benchmark-dev-001a', 'B': 87,...   \n",
       "\n",
       "                          ch410  ch440  sd_card_ready  ch510  ch550  ch670  \\\n",
       "_id                                                                          \n",
       "63a51bddb64ebdefe7c7b708    125   2470          False    929    210    188   \n",
       "\n",
       "                                 utc_time_str  onboard_temperature_K  \\\n",
       "_id                                                                    \n",
       "63a51bddb64ebdefe7c7b708  2022-12-23 03:09:10               294.1085   \n",
       "\n",
       "                         encrypted_device_id_truncated  ch620  \\\n",
       "_id                                                             \n",
       "63a51bddb64ebdefe7c7b708                          test   2108   \n",
       "\n",
       "                                   device_nickname  ch583  \n",
       "_id                                                        \n",
       "63a51bddb64ebdefe7c7b708  CLSLab-light-public-test   1025  "
      ]
     },
     "execution_count": 83,
     "metadata": {},
     "output_type": "execute_result"
    }
   ],
   "source": [
    "import pandas as pd\n",
    "df = pd.DataFrame(results).set_index(\"_id\")\n",
    "df.head(1)"
   ]
  },
  {
   "cell_type": "code",
   "execution_count": 84,
   "metadata": {},
   "outputs": [
    {
     "data": {
      "text/plain": [
       "(41131, 32)"
      ]
     },
     "execution_count": 84,
     "metadata": {},
     "output_type": "execute_result"
    }
   ],
   "source": [
    "inp_msg_df = pd.json_normalize(df[\"_input_message\"]).set_index(df.index)\n",
    "background_df = pd.json_normalize(df[\"background\"]).set_index(df.index)\n",
    "background_df = background_df.add_suffix(\"_bg\")\n",
    "df.drop(columns=[\"_input_message\", \"background\"], inplace=True)\n",
    "cat_df = pd.concat([df, inp_msg_df, background_df], axis=1)\n",
    "cat_df.shape"
   ]
  },
  {
   "cell_type": "code",
   "execution_count": 85,
   "metadata": {},
   "outputs": [
    {
     "data": {
      "text/plain": [
       "Index(['ch470', 'ch410', 'ch440', 'ch510', 'ch550', 'ch670', 'ch620', 'ch583'], dtype='object')"
      ]
     },
     "execution_count": 85,
     "metadata": {},
     "output_type": "execute_result"
    }
   ],
   "source": [
    "# find columns that match ch###\n",
    "channel_names = cat_df.filter(regex=\"^ch[0-9]{3}$\").columns\n",
    "channel_names"
   ]
  },
  {
   "cell_type": "code",
   "execution_count": 87,
   "metadata": {},
   "outputs": [],
   "source": [
    "# subtract the background from the signal and assign to new variable\n",
    "for ch in channel_names:\n",
    "    cat_df[f\"{ch}_sub\"] = cat_df[ch] - cat_df[f\"{ch}_bg\"]    "
   ]
  },
  {
   "cell_type": "code",
   "execution_count": 97,
   "metadata": {},
   "outputs": [
    {
     "data": {
      "text/html": [
       "<div>\n",
       "<style scoped>\n",
       "    .dataframe tbody tr th:only-of-type {\n",
       "        vertical-align: middle;\n",
       "    }\n",
       "\n",
       "    .dataframe tbody tr th {\n",
       "        vertical-align: top;\n",
       "    }\n",
       "\n",
       "    .dataframe thead th {\n",
       "        text-align: right;\n",
       "    }\n",
       "</style>\n",
       "<table border=\"1\" class=\"dataframe\">\n",
       "  <thead>\n",
       "    <tr style=\"text-align: right;\">\n",
       "      <th>_id</th>\n",
       "      <th>63a51bddb64ebdefe7c7b708</th>\n",
       "    </tr>\n",
       "  </thead>\n",
       "  <tbody>\n",
       "    <tr>\n",
       "      <th>utc_timestamp</th>\n",
       "      <td>1671764950</td>\n",
       "    </tr>\n",
       "    <tr>\n",
       "      <th>ch470</th>\n",
       "      <td>2189</td>\n",
       "    </tr>\n",
       "    <tr>\n",
       "      <th>ch410</th>\n",
       "      <td>125</td>\n",
       "    </tr>\n",
       "    <tr>\n",
       "      <th>ch440</th>\n",
       "      <td>2470</td>\n",
       "    </tr>\n",
       "    <tr>\n",
       "      <th>sd_card_ready</th>\n",
       "      <td>False</td>\n",
       "    </tr>\n",
       "    <tr>\n",
       "      <th>ch510</th>\n",
       "      <td>929</td>\n",
       "    </tr>\n",
       "    <tr>\n",
       "      <th>ch550</th>\n",
       "      <td>210</td>\n",
       "    </tr>\n",
       "    <tr>\n",
       "      <th>ch670</th>\n",
       "      <td>188</td>\n",
       "    </tr>\n",
       "    <tr>\n",
       "      <th>utc_time_str</th>\n",
       "      <td>2022-12-23 03:09:10</td>\n",
       "    </tr>\n",
       "    <tr>\n",
       "      <th>onboard_temperature_K</th>\n",
       "      <td>294.1085</td>\n",
       "    </tr>\n",
       "    <tr>\n",
       "      <th>encrypted_device_id_truncated</th>\n",
       "      <td>test</td>\n",
       "    </tr>\n",
       "    <tr>\n",
       "      <th>ch620</th>\n",
       "      <td>2108</td>\n",
       "    </tr>\n",
       "    <tr>\n",
       "      <th>device_nickname</th>\n",
       "      <td>CLSLab-light-public-test</td>\n",
       "    </tr>\n",
       "    <tr>\n",
       "      <th>ch583</th>\n",
       "      <td>1025</td>\n",
       "    </tr>\n",
       "    <tr>\n",
       "      <th>_session_id</th>\n",
       "      <td>benchmark-dev-001a</td>\n",
       "    </tr>\n",
       "    <tr>\n",
       "      <th>B</th>\n",
       "      <td>87</td>\n",
       "    </tr>\n",
       "    <tr>\n",
       "      <th>atime</th>\n",
       "      <td>68</td>\n",
       "    </tr>\n",
       "    <tr>\n",
       "      <th>gain</th>\n",
       "      <td>128.0</td>\n",
       "    </tr>\n",
       "    <tr>\n",
       "      <th>integration_time_s</th>\n",
       "      <td>0.056203</td>\n",
       "    </tr>\n",
       "    <tr>\n",
       "      <th>astep</th>\n",
       "      <td>292</td>\n",
       "    </tr>\n",
       "    <tr>\n",
       "      <th>G</th>\n",
       "      <td>50</td>\n",
       "    </tr>\n",
       "    <tr>\n",
       "      <th>R</th>\n",
       "      <td>79</td>\n",
       "    </tr>\n",
       "    <tr>\n",
       "      <th>_experiment_id</th>\n",
       "      <td>5187a86e-e6bc-4fa5-b20a-a020b7a9e99d</td>\n",
       "    </tr>\n",
       "    <tr>\n",
       "      <th>mongodb</th>\n",
       "      <td>NaN</td>\n",
       "    </tr>\n",
       "    <tr>\n",
       "      <th>ch583_bg</th>\n",
       "      <td>15</td>\n",
       "    </tr>\n",
       "    <tr>\n",
       "      <th>ch670_bg</th>\n",
       "      <td>22</td>\n",
       "    </tr>\n",
       "    <tr>\n",
       "      <th>ch510_bg</th>\n",
       "      <td>39</td>\n",
       "    </tr>\n",
       "    <tr>\n",
       "      <th>ch410_bg</th>\n",
       "      <td>7</td>\n",
       "    </tr>\n",
       "    <tr>\n",
       "      <th>ch620_bg</th>\n",
       "      <td>16</td>\n",
       "    </tr>\n",
       "    <tr>\n",
       "      <th>ch470_bg</th>\n",
       "      <td>421</td>\n",
       "    </tr>\n",
       "    <tr>\n",
       "      <th>ch550_bg</th>\n",
       "      <td>43</td>\n",
       "    </tr>\n",
       "    <tr>\n",
       "      <th>ch440_bg</th>\n",
       "      <td>80</td>\n",
       "    </tr>\n",
       "    <tr>\n",
       "      <th>ch470_sub</th>\n",
       "      <td>1768</td>\n",
       "    </tr>\n",
       "    <tr>\n",
       "      <th>ch410_sub</th>\n",
       "      <td>118</td>\n",
       "    </tr>\n",
       "    <tr>\n",
       "      <th>ch440_sub</th>\n",
       "      <td>2390</td>\n",
       "    </tr>\n",
       "    <tr>\n",
       "      <th>ch510_sub</th>\n",
       "      <td>890</td>\n",
       "    </tr>\n",
       "    <tr>\n",
       "      <th>ch550_sub</th>\n",
       "      <td>167</td>\n",
       "    </tr>\n",
       "    <tr>\n",
       "      <th>ch670_sub</th>\n",
       "      <td>166</td>\n",
       "    </tr>\n",
       "    <tr>\n",
       "      <th>ch620_sub</th>\n",
       "      <td>2092</td>\n",
       "    </tr>\n",
       "    <tr>\n",
       "      <th>ch583_sub</th>\n",
       "      <td>1010</td>\n",
       "    </tr>\n",
       "  </tbody>\n",
       "</table>\n",
       "</div>"
      ],
      "text/plain": [
       "_id                                        63a51bddb64ebdefe7c7b708\n",
       "utc_timestamp                                            1671764950\n",
       "ch470                                                          2189\n",
       "ch410                                                           125\n",
       "ch440                                                          2470\n",
       "sd_card_ready                                                 False\n",
       "ch510                                                           929\n",
       "ch550                                                           210\n",
       "ch670                                                           188\n",
       "utc_time_str                                    2022-12-23 03:09:10\n",
       "onboard_temperature_K                                      294.1085\n",
       "encrypted_device_id_truncated                                  test\n",
       "ch620                                                          2108\n",
       "device_nickname                            CLSLab-light-public-test\n",
       "ch583                                                          1025\n",
       "_session_id                                      benchmark-dev-001a\n",
       "B                                                                87\n",
       "atime                                                            68\n",
       "gain                                                          128.0\n",
       "integration_time_s                                         0.056203\n",
       "astep                                                           292\n",
       "G                                                                50\n",
       "R                                                                79\n",
       "_experiment_id                 5187a86e-e6bc-4fa5-b20a-a020b7a9e99d\n",
       "mongodb                                                         NaN\n",
       "ch583_bg                                                         15\n",
       "ch670_bg                                                         22\n",
       "ch510_bg                                                         39\n",
       "ch410_bg                                                          7\n",
       "ch620_bg                                                         16\n",
       "ch470_bg                                                        421\n",
       "ch550_bg                                                         43\n",
       "ch440_bg                                                         80\n",
       "ch470_sub                                                      1768\n",
       "ch410_sub                                                       118\n",
       "ch440_sub                                                      2390\n",
       "ch510_sub                                                       890\n",
       "ch550_sub                                                       167\n",
       "ch670_sub                                                       166\n",
       "ch620_sub                                                      2092\n",
       "ch583_sub                                                      1010"
      ]
     },
     "execution_count": 97,
     "metadata": {},
     "output_type": "execute_result"
    }
   ],
   "source": [
    "cat_df.head(1).T"
   ]
  },
  {
   "cell_type": "code",
   "execution_count": 98,
   "metadata": {},
   "outputs": [],
   "source": [
    "target_df = cat_df.filter(regex=\"^ch[0-9]{3}_sub$\").copy()"
   ]
  },
  {
   "cell_type": "code",
   "execution_count": 100,
   "metadata": {},
   "outputs": [],
   "source": [
    "feature_df = cat_df[[\"R\", \"G\", \"B\", \"atime\", \"astep\", \"gain\", \"onboard_temperature_K\"]]"
   ]
  },
  {
   "cell_type": "code",
   "execution_count": 102,
   "metadata": {},
   "outputs": [
    {
     "data": {
      "text/plain": [
       "Index(['R', 'G', 'B', 'atime', 'astep', 'gain', 'onboard_temperature_K',\n",
       "       'ch470_sub', 'ch410_sub', 'ch440_sub', 'ch510_sub', 'ch550_sub',\n",
       "       'ch670_sub', 'ch620_sub', 'ch583_sub'],\n",
       "      dtype='object')"
      ]
     },
     "execution_count": 102,
     "metadata": {},
     "output_type": "execute_result"
    }
   ],
   "source": [
    "data_df = pd.concat([feature_df, target_df], axis=1)\n",
    "data_df.to_csv(f\"../data/external/{database_name}-{collection_name}.csv\")\n",
    "data_df.columns"
   ]
  },
  {
   "attachments": {},
   "cell_type": "markdown",
   "metadata": {},
   "source": [
    "## Code Graveyard"
   ]
  },
  {
   "cell_type": "code",
   "execution_count": null,
   "metadata": {},
   "outputs": [],
   "source": [
    "# results = collection.aggregate([{\"$match\": {\"fba\": {\"$exists\": True}}}])\n",
    "# filter = {\"scores\": {\"$exists\": True}}\n",
    "    # \"_input_message._session_id\": \"3b687a62-6144-4d90-811b-b41fb7028c44\","
   ]
  },
  {
   "cell_type": "code",
   "execution_count": null,
   "metadata": {},
   "outputs": [],
   "source": [
    "# import json\n",
    "# print(df.columns)\n",
    "# inp_msg = pd.json_normalize(df[\"_input_message\"])\n",
    "\n",
    "# counts = inp_msg[\"_session_id\"].value_counts()\n",
    "# counts[counts > 100]"
   ]
  },
  {
   "cell_type": "code",
   "execution_count": null,
   "metadata": {},
   "outputs": [],
   "source": [
    "# df[\"scores\"] = df[\"scores\"].apply(json.dumps)"
   ]
  },
  {
   "cell_type": "code",
   "execution_count": null,
   "metadata": {},
   "outputs": [],
   "source": [
    "# bg_channel_names = cat_df.filter(regex=\"^ch[0-9]{3}_bg$\").columns\n",
    "# bg_channel_names"
   ]
  },
  {
   "cell_type": "code",
   "execution_count": null,
   "metadata": {},
   "outputs": [],
   "source": [
    "# df.drop(columns=[\"_input_message\", \"background\"], inplace=True)"
   ]
  },
  {
   "cell_type": "code",
   "execution_count": null,
   "metadata": {},
   "outputs": [],
   "source": [
    "# ch_cols = [col for col in cat_df.columns if col.startswith(\"ch\")]"
   ]
  }
 ],
 "metadata": {
  "kernelspec": {
   "display_name": "sdl-demo",
   "language": "python",
   "name": "python3"
  },
  "language_info": {
   "codemirror_mode": {
    "name": "ipython",
    "version": 3
   },
   "file_extension": ".py",
   "mimetype": "text/x-python",
   "name": "python",
   "nbconvert_exporter": "python",
   "pygments_lexer": "ipython3",
   "version": "3.9.13"
  },
  "orig_nbformat": 4
 },
 "nbformat": 4,
 "nbformat_minor": 2
}
