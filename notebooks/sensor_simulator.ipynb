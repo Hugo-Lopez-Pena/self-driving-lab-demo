{
 "cells": [
  {
   "cell_type": "markdown",
   "metadata": {},
   "source": [
    "# Sensor Simulator"
   ]
  },
  {
   "cell_type": "markdown",
   "metadata": {},
   "source": [
    "In the previous notebook\n",
    "[`bayesian_optimization_blooper.ipynb`](bayesian_optimization_blooper.ipynb), we ran\n",
    "into some unexpected results. Bayesian optimization was on par with grid search, and\n",
    "random search was the best? See below.\n",
    "\n",
    "![blooper](bayesian_optimization_blooper.png)\n",
    "\n",
    "To help troubleshoot the source of the unexpected\n",
    "behavior, we'll move the schedule up and use a simulator. The large stochasticity for\n",
    "identical inputs shown at the end of the last notebook is a cause for concern.\n",
    "\n",
    "|  | mean | std |\n",
    "|---|---|---|\n",
    "| ch415_violet | 17928.500000 | 25288.711738 |\n",
    "| ch445_indigo | 8746.200000 | 9379.586248 |\n",
    "| ch480_blue | 19396.100000 | 17832.023101 |\n",
    "| ch515_cyan | 4870.900000 | 12126.813252 |\n",
    "| ch560_green | 11908.300000 | 18944.797128 |\n",
    "| ch615_yellow | 18406.400000 | 19626.981147 |\n",
    "| ch670_orange | 30584.100000 | 20868.707815 |\n",
    "| ch720_red | 5776.100000 | 9066.354228 |\n",
    "| ch_clear | 1294.100000 | 2017.116669 |\n",
    "| ch_nir | 0.000000 | 0.000000 |\n",
    "| mae | 13798.390000 | 2959.743242 |\n",
    "| rmse | 23851.888103 | 3422.810056 |\n",
    "\n",
    "Is the stochasticity due to excessive noise from too short of integration time or is it\n",
    "a problem with the hardware such as a sensor malfunction? Based on inspection from my\n",
    "own eyes, fixed inputs appeared to produce very similar colors. Last, this could be due\n",
    "to (intentional) naive design decision of starting out with mean absolute error for the\n",
    "objective function rather than something more tuned to this problem, such as Wasserstein\n",
    "distance between the two discrete spectra. In reality, it's probably some mix and\n",
    "interplay of the previous issues:\n",
    "\n",
    "- **(epistemic) uncertainty**\n",
    "  - i.e. just a part of the system, solved by a longer integration time (more data)\n",
    "- **sensor malfunction/degradation**\n",
    "  - due to blasting it repeatedly with a bright DotStar\n",
    "  - and/or hard device resets due to system crashes\n",
    "  - and/or or (just remembered!) a series\n",
    "  of recent unexpected power outages for my housing community\n",
    "- **Poorly defined objective function**\n",
    "  - It was defined in a way that it doesn't handle stochastic bias when\n",
    "  a signal is measured in an adjacent channel, solved by using a robust distance metric\n",
    "  for discrete distributions (e.g. Wasserstein)\n",
    "- **Something else?**"
   ]
  },
  {
   "cell_type": "markdown",
   "metadata": {},
   "source": [
    "My wife kindly reminded me of past lessons learned during experimentation, and\n",
    "encouraged me to try out the simulation. So, let's do that here! We'll take a look at\n",
    "our domain knowledge / assumptions for the simulation, briefly describe the approach,\n",
    "and then dig into a snapshot of the `SensorSimulator` class. Finally, we'll demonstrate\n",
    "the usage and run our grid vs. random vs. Bayesian search algorithm comparison with our\n",
    "simulation.\n",
    "\n",
    "\n",
    "## Domain Knowledge\n",
    "\n",
    "> TLDR; extract the data from the DotStar RGB spectrum listed in the [manufacturer's datasheet](https://cdn-shop.adafruit.com/product-files/2343/SK9822_SHIJI.pdf)\n",
    "\n",
    "A basic physics course teaches the wave-particle duality of light. Light can be thought\n",
    "of as a wave (signal with frequency/wavelength) or as a particle (photon). In the case\n",
    "of designing a (very basic) simulation for an RGB LED spectrum being read by a\n",
    "discrete-channel sensor, we focus mainly on the wave portion of wave-particle duality of\n",
    "light. Most light-emitting-diodes (LEDs) have fairly narrow distributions of wavelengths\n",
    "that they emit like what's shown in the following image from the [DotStar manufacturer's datasheet](https://cdn-shop.adafruit.com/product-files/2343/SK9822_SHIJI.pdf).\n",
    "\n",
    "<img src=\"../reports/figures/dotstar/rgb-relative-emission-vs-wavelength.png\" width=350>\n",
    "\n",
    "Controlling the brightness and RGB values of our LED controls the relative contribution\n",
    "of each of the three distributions portrayed above. Meanwhile, our spectrophotometer (a device that measures the intensity of light at various\n",
    "wavelengths) measures the light intensity at 8 wavelengths (it also has \"clear\" and\n",
    "\"near infrared\" channels that we'll ignore):\n",
    "\n",
    "| wavelength | intensity |\n",
    "|---|---|\n",
    "415 nm | Violet\n",
    "445 nm | Indigo or Blue\n",
    "480 nm | Blue or Blue-Green\n",
    "515 nm | Blue-Green or Green\n",
    "555 nm | Green or Yellow-Green \n",
    "590 nm | Yellow-Green or Yellow\n",
    "630 nm | Orange or Orange-Red or Red\n",
    "680 nm | Red\n",
    "\n",
    "We can digitize the data from the manufacturer datasheet using\n",
    "[WebPlotDigitizer](https://automeris.io/WebPlotDigitizer/) and then use that for\n",
    "calculating/mixing an arbitrary spectrum based on brightness and RGB settings. We'll make the\n",
    "reasonable approximation/assumption that the [superposition principle](https://en.wikipedia.org/wiki/Superposition_principle) applies*. In other\n",
    "words, we assume that the individual spectra from the red, green, and blue LEDs can be\n",
    "added together. Below is a screenshot of the datapoints extracted via the\n",
    "WebPlotDigitizer interface for each of the three curves. Corresponding `.csv` files are\n",
    "also saved: [`red.csv`](../src/self_driving_lab_demo/data/red.csv), [`green.csv`](../src/self_driving_lab_demo/data/green.csv), and [`blue.csv`](../src/self_driving_lab_demo/data/blue.csv).\n",
    "\n",
    "<img src=\"../src/self_driving_lab_demo/data/wpd-rgb-spectrum-points-overlay.png\"\n",
    "width=350>\n",
    "\n",
    "See [RGB LEDs vs. having 10+ monochromatic light\n",
    "sources](https://github.com/sparks-baird/self-driving-lab-demo/issues/6) for more\n",
    "details on the hardware design considerations for the LEDs and sensor.\n",
    "\n",
    "<p><sup>\n",
    "*While it would be interesting to look at optimization setups that\n",
    "involve light cancellation, the equipment required is likely not within the budget\n",
    "and time constraints of the self-driving-lab-demo project (less than 100 USD and less\n",
    "than an hour of setup time).\n",
    "</p></sup>"
   ]
  },
  {
   "cell_type": "markdown",
   "metadata": {},
   "source": [
    "\n",
    "## Simulation Details\n",
    "\n",
    "As mentioned, we'll mix the three spectra extracted from the manufacturer datasheet\n",
    "according to the simulation inputs (brightness\n",
    "and RGB values). After loading the CSV data, we'll clip any data below 0.0 and average\n",
    "the intensities that are not one-to-one (i.e. multiple intensities for the same\n",
    "wavelength) due to the data extraction process. Next, we'll use `scipy`'s `interp1d`\n",
    "function for each of the three color spectra to create linear interpolation functions\n",
    "which are set to zero outside of the range of the original data (extrapolation).\n",
    "Finally, we'll calculate a weighted sum of each of the interpolators as a function of\n",
    "brightness and RGB sampled at each of the wavelengths mentioned above.\n",
    "\n",
    "A more sophisticated setup might involve sampling a distribution of wavelengths for each\n",
    "channel; however, we'll keep it simple for now.\n",
    "\n",
    "## Sensor Simulator Python class\n",
    "Below is a snapshot of the `SensorSimulator` class, broken into chunks.\n",
    "\n",
    "First, we need our imports and define the wavelengths we'll be sampling at as a constant.\n",
    "\n",
    "```python\n",
    "from importlib.resources import open_text\n",
    "import numpy as np\n",
    "import pandas as pd\n",
    "from scipy.interpolate import interp1d\n",
    "from self_driving_lab_demo import data as data_module\n",
    "\n",
    "CHANNEL_WAVELENGTHS = [\n",
    "    415,\n",
    "    445,\n",
    "    480,\n",
    "    515,\n",
    "    560,\n",
    "    615,\n",
    "    670,\n",
    "    720,\n",
    "]\n",
    "```\n",
    "\n",
    "The class doesn't take any keyword arguments (again, keeping it simple), and when the\n",
    "class is instantiated, it creates an interpolator.\n",
    "\n",
    "```python\n",
    "class SensorSimulator(object):\n",
    "    def __init__(self):\n",
    "        self.red_interp = self.create_interpolator(\"red.csv\")\n",
    "        self.green_interp = self.create_interpolator(\"green.csv\")\n",
    "        self.blue_interp = self.create_interpolator(\"blue.csv\")\n",
    "\n",
    "```\n",
    "\n",
    "We make it easy to get the channel wavelengths (making it a constant outside the class\n",
    "makes it easily accessible for other modules).\n",
    "\n",
    "```python\n",
    "    @property\n",
    "    def channel_wavelengths(self):\n",
    "        return CHANNEL_WAVELENGTHS\n",
    "```\n",
    "\n",
    "The data is read using best practices (`open_text` using Python modules), negative\n",
    "values are clipped, and y-values with repeat x-values are averaged. Finally, the\n",
    "`interp1d` uses a linear interpolation (`cubic` gave some outlandish values during\n",
    "testing) and zero-ing extrapolation (zero anywhere outside the range of the original\n",
    "dataset). This function operates on a single color curve.\n",
    "\n",
    "```python\n",
    "    def create_interpolator(self, fname):\n",
    "        df = pd.read_csv(\n",
    "            open_text(data_module, fname),\n",
    "            header=None,\n",
    "            names=[\"wavelength\", \"relative_intensity\"],\n",
    "        )\n",
    "\n",
    "        df[\"relative_intensity\"].clip(lower=0.0, inplace=True)\n",
    "\n",
    "        # average y-values for repeat x-values\n",
    "        # see also https://stackoverflow.com/a/51258988/13697228\n",
    "        df = df.groupby(\"wavelength\", as_index=False).mean()\n",
    "\n",
    "        return interp1d(\n",
    "            df[\"wavelength\"],\n",
    "            df[\"relative_intensity\"],\n",
    "            kind=\"linear\",\n",
    "            bounds_error=False,\n",
    "            fill_value=0.0,\n",
    "        )\n",
    "\n",
    "```\n",
    "\n",
    "To perform the weighted average (mixing) of spectra, we divide the RGB values by 255\n",
    "(this is arbitrary) and multiply by the brightness. This is then multipled by the\n",
    "interpolated value at each of the wavelengths. Finally, we sum the contribution of each\n",
    "of the wavelengths.\n",
    "\n",
    "```python\n",
    "    def _simulate_sensor_data(self, wavelengths, brightness, R, G, B):\n",
    "        rI, gI, bI = brightness * np.array([R, G, B]) / 255\n",
    "        channel_data = np.sum(\n",
    "            [\n",
    "                self.red_interp(wavelengths) * rI,\n",
    "                self.green_interp(wavelengths) * gI,\n",
    "                self.blue_interp(wavelengths) * bI,\n",
    "            ],\n",
    "            axis=0,\n",
    "        )\n",
    "        return tuple(channel_data)\n",
    "```\n",
    "\n",
    "Then, we define a class method that fixes the wavelengths to the constant mentioned before.\n",
    "\n",
    "```python\n",
    "    def simulate_sensor_data(self, brightness, R, G, B):\n",
    "        return self._simulate_sensor_data(self.channel_wavelengths, brightness, R, G, B)\n",
    "```\n",
    "\n",
    "Last, let's take a look at how this is integrated into the `SelfDrivingLabDemo` class\n",
    "(another reasonable design choice might be to create separate class using class\n",
    "inheritance).\n",
    "\n",
    "It's important that we only use the RPi-specific modules when running on RPi, otherwise\n",
    "an error such as `NotImplementedError` will be thrown.\n",
    "\n",
    "```python\n",
    "try:\n",
    "    import board\n",
    "    from adafruit_as7341 import AS7341\n",
    "    from blinkt import clear, set_brightness, set_pixel, show\n",
    "except NotImplementedError as e:\n",
    "    print(e)\n",
    "    _logger.warning(\n",
    "        \"Safe to ignore if this is CI or not on a Raspberry Pi. However, only the simulator will be available.\"  # noqa: E501\n",
    "    )\n",
    "```\n",
    "\n",
    "We add a `simulation` boolean to the `__init__` constructor.\n",
    "\n",
    "```python\n",
    "class SelfDrivingLabDemo(object):\n",
    "    def __init__(\n",
    "        self,\n",
    "        ...\n",
    "        simulation=False,\n",
    "    ):\n",
    "```\n",
    "\n",
    "We store the kwarg as a class attribute, instantiate a `SensorSimulator` object, and\n",
    "store the object as a class attribute.\n",
    "```python\n",
    "        ...\n",
    "        self.simulation = simulation\n",
    "        self.simulator = SensorSimulator()\n",
    "```\n",
    "\n",
    "It's important that we don't use the `board` and `AS7341` modules if we're not running\n",
    "on a Raspberry Pi, so we assign `i2c` and `sensor` as `None` if those modules aren't\n",
    "available (see `try` statement above).\n",
    "\n",
    "```python\n",
    "        # uses board.SCL and board.SDA\n",
    "        self.i2c = None if \"board\" not in sys.modules else board.I2C()\n",
    "        self.sensor = None if \"AS7341\" not in sys.modules else AS7341(self.i2c)\n",
    "        ...\n",
    "```\n",
    "\n",
    "We make a slight modification to `observe_sensor_data` that calls the\n",
    "`simulate_sensor_data` function if `self.simulation` is `True`.\n",
    "\n",
    "```python\n",
    "    def observe_sensor_data(self, brightness, R, G, B):\n",
    "        if self.simulation:\n",
    "            return self.simulate_sensor_data(brightness, R, G, B)\n",
    "        ...\n",
    "\n",
    "    def simulate_sensor_data(self, brightness, R, G, B):\n",
    "        return self.simulator.simulate_sensor_data(brightness, R, G, B)\n",
    "    ...\n",
    "```\n",
    "\n",
    "Note that in later versions, the details may differ somewhat from the above example, and\n",
    "more features might be added."
   ]
  },
  {
   "cell_type": "code",
   "execution_count": 1,
   "metadata": {},
   "outputs": [
    {
     "data": {
      "text/plain": [
       "(3.6003093860216055e-05,\n",
       " 0.005718901898901329,\n",
       " 0.005328294858512386,\n",
       " 0.0040458290797878394,\n",
       " 0.0,\n",
       " 0.0035949178953476857,\n",
       " 0.00015071481701215217,\n",
       " 0.0)"
      ]
     },
     "execution_count": 1,
     "metadata": {},
     "output_type": "execute_result"
    }
   ],
   "source": [
    "%load_ext autoreload\n",
    "%autoreload 2\n",
    "from self_driving_lab_demo.core import SensorSimulator\n",
    "sim = SensorSimulator()\n",
    "sim.simulate_sensor_data(0.5, 12, 24, 48)"
   ]
  },
  {
   "cell_type": "code",
   "execution_count": 3,
   "metadata": {},
   "outputs": [
    {
     "data": {
      "text/plain": [
       "{'ch415_violet': 0.00018751611385529196,\n",
       " 'ch445_indigo': 0.02978594739011109,\n",
       " 'ch480_blue': 0.02911825030328232,\n",
       " 'ch515_cyan': 0.025286431748673996,\n",
       " 'ch560_green': 0.0,\n",
       " 'ch615_yellow': 0.01497882456394869,\n",
       " 'ch670_orange': 0.0006279784042173006,\n",
       " 'ch720_red': 0.0,\n",
       " 'mae': 0.010248416435380638,\n",
       " 'rmse': 0.014591586880756832}"
      ]
     },
     "execution_count": 3,
     "metadata": {},
     "output_type": "execute_result"
    }
   ],
   "source": [
    "from self_driving_lab_demo.core import SelfDrivingLabDemo\n",
    "sdl = SelfDrivingLabDemo(autoload=True, simulation=True)\n",
    "sdl.evaluate(0.5, 50, 150, 250)"
   ]
  },
  {
   "cell_type": "markdown",
   "metadata": {},
   "source": [
    "## Algorithm Comparison"
   ]
  },
  {
   "cell_type": "markdown",
   "metadata": {},
   "source": [
    "We'll skip over some of the content that was covered in more detail in\n",
    "[`bayesian_optimization_blooper.ipynb`](bayesian_optimization_blooper.ipynb)."
   ]
  },
  {
   "cell_type": "markdown",
   "metadata": {},
   "source": [
    "### Setup"
   ]
  },
  {
   "cell_type": "markdown",
   "metadata": {},
   "source": [
    "We'll instantiate our 10 `SelfDrivingLabDemo` instances, but this time with the\n",
    "`simulation` flag set to `True`."
   ]
  },
  {
   "cell_type": "code",
   "execution_count": 48,
   "metadata": {},
   "outputs": [],
   "source": [
    "import numpy as np\n",
    "import pandas as pd\n",
    "\n",
    "num_iter = 81\n",
    "num_repeats = 10\n",
    "SEEDS = range(10, 10 + num_repeats)\n",
    "\n",
    "sdls = [\n",
    "    SelfDrivingLabDemo(autoload=True, simulation=True, target_seed=seed)\n",
    "    for seed in SEEDS\n",
    "]\n"
   ]
  },
  {
   "cell_type": "markdown",
   "metadata": {},
   "source": [
    "The target inputs used to create the target spectrum are shown below."
   ]
  },
  {
   "cell_type": "code",
   "execution_count": 49,
   "metadata": {},
   "outputs": [
    {
     "data": {
      "text/html": [
       "<div>\n",
       "<style scoped>\n",
       "    .dataframe tbody tr th:only-of-type {\n",
       "        vertical-align: middle;\n",
       "    }\n",
       "\n",
       "    .dataframe tbody tr th {\n",
       "        vertical-align: top;\n",
       "    }\n",
       "\n",
       "    .dataframe thead th {\n",
       "        text-align: right;\n",
       "    }\n",
       "</style>\n",
       "<table border=\"1\" class=\"dataframe\">\n",
       "  <thead>\n",
       "    <tr style=\"text-align: right;\">\n",
       "      <th></th>\n",
       "      <th>brightness</th>\n",
       "      <th>R</th>\n",
       "      <th>G</th>\n",
       "      <th>B</th>\n",
       "    </tr>\n",
       "  </thead>\n",
       "  <tbody>\n",
       "    <tr>\n",
       "      <th>0</th>\n",
       "      <td>0.334601</td>\n",
       "      <td>52</td>\n",
       "      <td>211</td>\n",
       "      <td>38</td>\n",
       "    </tr>\n",
       "    <tr>\n",
       "      <th>1</th>\n",
       "      <td>0.045000</td>\n",
       "      <td>127</td>\n",
       "      <td>153</td>\n",
       "      <td>7</td>\n",
       "    </tr>\n",
       "    <tr>\n",
       "      <th>2</th>\n",
       "      <td>0.087789</td>\n",
       "      <td>241</td>\n",
       "      <td>48</td>\n",
       "      <td>45</td>\n",
       "    </tr>\n",
       "    <tr>\n",
       "      <th>3</th>\n",
       "      <td>0.302679</td>\n",
       "      <td>218</td>\n",
       "      <td>206</td>\n",
       "      <td>66</td>\n",
       "    </tr>\n",
       "    <tr>\n",
       "      <th>4</th>\n",
       "      <td>0.290844</td>\n",
       "      <td>92</td>\n",
       "      <td>179</td>\n",
       "      <td>219</td>\n",
       "    </tr>\n",
       "    <tr>\n",
       "      <th>5</th>\n",
       "      <td>0.242460</td>\n",
       "      <td>208</td>\n",
       "      <td>87</td>\n",
       "      <td>11</td>\n",
       "    </tr>\n",
       "    <tr>\n",
       "      <th>6</th>\n",
       "      <td>0.198421</td>\n",
       "      <td>109</td>\n",
       "      <td>23</td>\n",
       "      <td>88</td>\n",
       "    </tr>\n",
       "    <tr>\n",
       "      <th>7</th>\n",
       "      <td>0.295776</td>\n",
       "      <td>41</td>\n",
       "      <td>142</td>\n",
       "      <td>93</td>\n",
       "    </tr>\n",
       "    <tr>\n",
       "      <th>8</th>\n",
       "      <td>0.139757</td>\n",
       "      <td>182</td>\n",
       "      <td>71</td>\n",
       "      <td>21</td>\n",
       "    </tr>\n",
       "    <tr>\n",
       "      <th>9</th>\n",
       "      <td>0.147133</td>\n",
       "      <td>236</td>\n",
       "      <td>69</td>\n",
       "      <td>15</td>\n",
       "    </tr>\n",
       "  </tbody>\n",
       "</table>\n",
       "</div>"
      ],
      "text/plain": [
       "   brightness    R    G    B\n",
       "0    0.334601   52  211   38\n",
       "1    0.045000  127  153    7\n",
       "2    0.087789  241   48   45\n",
       "3    0.302679  218  206   66\n",
       "4    0.290844   92  179  219\n",
       "5    0.242460  208   87   11\n",
       "6    0.198421  109   23   88\n",
       "7    0.295776   41  142   93\n",
       "8    0.139757  182   71   21\n",
       "9    0.147133  236   69   15"
      ]
     },
     "execution_count": 49,
     "metadata": {},
     "output_type": "execute_result"
    }
   ],
   "source": [
    "target_inputs = [sdl.get_target_inputs() for sdl in sdls]\n",
    "pd.DataFrame(target_inputs, columns=[\"brightness\", \"R\", \"G\", \"B\"])\n"
   ]
  },
  {
   "cell_type": "markdown",
   "metadata": {},
   "source": [
    "### Grid and Random Search"
   ]
  },
  {
   "cell_type": "markdown",
   "metadata": {},
   "source": [
    "We'll use some helper functions for grid and random search based on the implementation\n",
    "in [`bayesian_optimization_blooper.ipynb`](bayesian_optimization_blooper.ipynb). Notice\n",
    "how much faster our simple simulation runs compared with the experiment! (a few seconds vs. ~10 minutes)"
   ]
  },
  {
   "cell_type": "code",
   "execution_count": 50,
   "metadata": {},
   "outputs": [
    {
     "name": "stdout",
     "output_type": "stream",
     "text": [
      "CPU times: user 2.61 s, sys: 17.3 ms, total: 2.63 s\n",
      "Wall time: 2.62 s\n"
     ]
    }
   ],
   "source": [
    "%%time\n",
    "from self_driving_lab_demo.utils.search import grid_search, random_search\n",
    "grid_results = [grid_search(sdl, num_iter) for sdl in sdls]\n",
    "random_results = [random_search(sdls[0], num_iter) for sdl in sdls]"
   ]
  },
  {
   "cell_type": "markdown",
   "metadata": {},
   "source": [
    "#### Post-processing"
   ]
  },
  {
   "cell_type": "markdown",
   "metadata": {},
   "source": [
    "Separate the results into input tuples and output dictionaries."
   ]
  },
  {
   "cell_type": "code",
   "execution_count": 51,
   "metadata": {},
   "outputs": [
    {
     "data": {
      "text/plain": [
       "(10, 81)"
      ]
     },
     "execution_count": 51,
     "metadata": {},
     "output_type": "execute_result"
    }
   ],
   "source": [
    "grid_inputs, grid_data = zip(*grid_results)\n",
    "random_inputs, random_data = zip(*random_results)\n",
    "\n",
    "np.array(grid_data).shape"
   ]
  },
  {
   "cell_type": "markdown",
   "metadata": {},
   "source": [
    "Extract the mean absolute error (MAE) from each of the output dictionaries."
   ]
  },
  {
   "cell_type": "code",
   "execution_count": 52,
   "metadata": {},
   "outputs": [
    {
     "data": {
      "text/plain": [
       "(10, 81)"
      ]
     },
     "execution_count": 52,
     "metadata": {},
     "output_type": "execute_result"
    }
   ],
   "source": [
    "grid_mae = np.array([[g[\"mae\"] for g in gd] for gd in grid_data])\n",
    "random_mae = np.array([[r[\"mae\"] for r in rd] for rd in random_data])\n",
    "\n",
    "grid_mae.shape"
   ]
  },
  {
   "cell_type": "markdown",
   "metadata": {},
   "source": [
    "Compute statistics (mean and standard deviation) across the `num_repeats` campaigns."
   ]
  },
  {
   "cell_type": "code",
   "execution_count": 53,
   "metadata": {},
   "outputs": [
    {
     "data": {
      "text/plain": [
       "(81,)"
      ]
     },
     "execution_count": 53,
     "metadata": {},
     "output_type": "execute_result"
    }
   ],
   "source": [
    "grid_avg_mae = np.mean(grid_mae, axis=0)\n",
    "grid_std_mae = np.std(grid_mae, axis=0)\n",
    "\n",
    "random_avg_mae = np.mean(random_mae, axis=0)\n",
    "random_std_mae = np.std(random_mae, axis=0)\n",
    "\n",
    "grid_avg_mae.shape"
   ]
  },
  {
   "cell_type": "markdown",
   "metadata": {},
   "source": [
    "How did we do? It's difficult to say since our simulation data is unitless and therefore\n",
    "not directly comparable to the experiments. However, it's perhaps surprising that grid\n",
    "search is performing  somewhat better than random search."
   ]
  },
  {
   "cell_type": "code",
   "execution_count": 54,
   "metadata": {},
   "outputs": [
    {
     "data": {
      "text/plain": [
       "[0.002866803251013429, 0.0030098903090408683]"
      ]
     },
     "execution_count": 54,
     "metadata": {},
     "output_type": "execute_result"
    }
   ],
   "source": [
    "[np.min(grid_avg_mae), np.min(random_avg_mae)]"
   ]
  },
  {
   "cell_type": "markdown",
   "metadata": {},
   "source": [
    "Since it's so fast, let's try to do it again, but this time with more repeats."
   ]
  },
  {
   "cell_type": "code",
   "execution_count": 55,
   "metadata": {},
   "outputs": [
    {
     "data": {
      "text/plain": [
       "[0.002852020706353647, 0.003943137789678828]"
      ]
     },
     "execution_count": 55,
     "metadata": {},
     "output_type": "execute_result"
    }
   ],
   "source": [
    "num_repeats = 100\n",
    "SEEDS = range(10, 10 + num_repeats)\n",
    "\n",
    "sdls = [\n",
    "    SelfDrivingLabDemo(autoload=True, simulation=True, target_seed=seed)\n",
    "    for seed in SEEDS\n",
    "]\n",
    "\n",
    "grid_results = [grid_search(sdl, num_iter) for sdl in sdls]\n",
    "random_results = [random_search(sdls[0], num_iter) for sdl in sdls]\n",
    "\n",
    "grid_inputs, grid_data = zip(*grid_results)\n",
    "random_inputs, random_data = zip(*random_results)\n",
    "\n",
    "grid_mae = np.array([[g[\"mae\"] for g in gd] for gd in grid_data])\n",
    "random_mae = np.array([[r[\"mae\"] for r in rd] for rd in random_data])\n",
    "\n",
    "grid_avg_mae = np.mean(grid_mae, axis=0)\n",
    "grid_std_mae = np.std(grid_mae, axis=0)\n",
    "\n",
    "random_avg_mae = np.mean(random_mae, axis=0)\n",
    "random_std_mae = np.std(random_mae, axis=0)\n",
    "\n",
    "[np.min(grid_avg_mae), np.min(random_avg_mae)]"
   ]
  },
  {
   "cell_type": "markdown",
   "metadata": {},
   "source": [
    "So, for this simulation, grid search seems to be outperforming random search! Typically,\n",
    "random search is better, so digging back into the `get_random_inputs` function from\n",
    "`SelfDrivingLabDemo`, it turns out there is a bug:\n",
    "\n",
    "Wrong: `R, G, B = RGB.astype(int)`\n",
    "\n",
    "Correct: `R, G, B = np.round(RGB).astype(int)`"
   ]
  },
  {
   "cell_type": "code",
   "execution_count": null,
   "metadata": {},
   "outputs": [],
   "source": []
  }
 ],
 "metadata": {
  "kernelspec": {
   "display_name": "Python 3.9.13 ('sdl-demo')",
   "language": "python",
   "name": "python3"
  },
  "language_info": {
   "codemirror_mode": {
    "name": "ipython",
    "version": 3
   },
   "file_extension": ".py",
   "mimetype": "text/x-python",
   "name": "python",
   "nbconvert_exporter": "python",
   "pygments_lexer": "ipython3",
   "version": "3.9.13"
  },
  "orig_nbformat": 4,
  "vscode": {
   "interpreter": {
    "hash": "b5c3f3d11f10387e18d251eb902c90d66624c3f38140e2cc8c3a7a1864ed0fae"
   }
  }
 },
 "nbformat": 4,
 "nbformat_minor": 2
}
