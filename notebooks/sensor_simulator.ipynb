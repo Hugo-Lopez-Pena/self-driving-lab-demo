{
 "cells": [
  {
   "cell_type": "markdown",
   "metadata": {},
   "source": [
    "# Sensor Simulator"
   ]
  },
  {
   "cell_type": "markdown",
   "metadata": {},
   "source": [
    "In the previous notebook\n",
    "[`bayesian_optimization_blooper.ipynb`](bayesian_optimization_blooper.ipynb), we ran\n",
    "into some unexpected results. Bayesian optimization was on par with grid search, and\n",
    "random search was the best? To troubleshoot the source of the unexpected behavior, we'll\n",
    "move the schedule up and use a simulator."
   ]
  },
  {
   "cell_type": "markdown",
   "metadata": {},
   "source": [
    "The "
   ]
  },
  {
   "cell_type": "code",
   "execution_count": null,
   "metadata": {},
   "outputs": [],
   "source": []
  }
 ],
 "metadata": {
  "language_info": {
   "name": "python"
  },
  "orig_nbformat": 4
 },
 "nbformat": 4,
 "nbformat_minor": 2
}
