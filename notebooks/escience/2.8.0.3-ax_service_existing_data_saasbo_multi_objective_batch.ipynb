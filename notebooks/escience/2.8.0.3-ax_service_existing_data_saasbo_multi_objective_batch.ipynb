{
  "cells": [
    {
      "cell_type": "markdown",
      "metadata": {
        "id": "NKTiUJ3Vt-eU"
      },
      "source": [
        "See https://github.com/facebook/Ax/issues/743"
      ]
    },
    {
      "cell_type": "code",
      "execution_count": 1,
      "metadata": {
        "colab": {
          "base_uri": "https://localhost:8080/"
        },
        "id": "JXBQUr9qpYGZ",
        "outputId": "403b4936-df78-4f3d-8e59-958b328d4087"
      },
      "outputs": [
        {
          "output_type": "stream",
          "name": "stdout",
          "text": [
            "Looking in indexes: https://pypi.org/simple, https://us-python.pkg.dev/colab-wheels/public/simple/\n",
            "Collecting ax-platform\n",
            "  Downloading ax_platform-0.2.10-py3-none-any.whl (1.1 MB)\n",
            "\u001b[2K     \u001b[90m━━━━━━━━━━━━━━━━━━━━━━━━━━━━━━━━━━━━━━━━\u001b[0m \u001b[32m1.1/1.1 MB\u001b[0m \u001b[31m7.9 MB/s\u001b[0m eta \u001b[36m0:00:00\u001b[0m\n",
            "\u001b[?25hRequirement already satisfied: ipywidgets<8.0.0 in /usr/local/lib/python3.8/dist-packages (from ax-platform) (7.7.1)\n",
            "Requirement already satisfied: jinja2 in /usr/local/lib/python3.8/dist-packages (from ax-platform) (2.11.3)\n",
            "Requirement already satisfied: scikit-learn in /usr/local/lib/python3.8/dist-packages (from ax-platform) (1.0.2)\n",
            "Collecting botorch==0.8.0\n",
            "  Downloading botorch-0.8.0-py3-none-any.whl (481 kB)\n",
            "\u001b[2K     \u001b[90m━━━━━━━━━━━━━━━━━━━━━━━━━━━━━━━━━━━━━━\u001b[0m \u001b[32m481.8/481.8 KB\u001b[0m \u001b[31m13.9 MB/s\u001b[0m eta \u001b[36m0:00:00\u001b[0m\n",
            "\u001b[?25hRequirement already satisfied: scipy in /usr/local/lib/python3.8/dist-packages (from ax-platform) (1.7.3)\n",
            "Requirement already satisfied: plotly in /usr/local/lib/python3.8/dist-packages (from ax-platform) (5.5.0)\n",
            "Requirement already satisfied: typeguard in /usr/local/lib/python3.8/dist-packages (from ax-platform) (2.7.1)\n",
            "Requirement already satisfied: pandas in /usr/local/lib/python3.8/dist-packages (from ax-platform) (1.3.5)\n",
            "Requirement already satisfied: torch>=1.11 in /usr/local/lib/python3.8/dist-packages (from botorch==0.8.0->ax-platform) (1.13.1+cu116)\n",
            "Collecting linear-operator==0.2.0\n",
            "  Downloading linear_operator-0.2.0-py3-none-any.whl (152 kB)\n",
            "\u001b[2K     \u001b[90m━━━━━━━━━━━━━━━━━━━━━━━━━━━━━━━━━━━━━━━\u001b[0m \u001b[32m153.0/153.0 KB\u001b[0m \u001b[31m4.9 MB/s\u001b[0m eta \u001b[36m0:00:00\u001b[0m\n",
            "\u001b[?25hRequirement already satisfied: multipledispatch in /usr/local/lib/python3.8/dist-packages (from botorch==0.8.0->ax-platform) (0.6.0)\n",
            "Collecting gpytorch==1.9.0\n",
            "  Downloading gpytorch-1.9.0-py3-none-any.whl (245 kB)\n",
            "\u001b[2K     \u001b[90m━━━━━━━━━━━━━━━━━━━━━━━━━━━━━━━━━━━━━━━\u001b[0m \u001b[32m245.8/245.8 KB\u001b[0m \u001b[31m7.2 MB/s\u001b[0m eta \u001b[36m0:00:00\u001b[0m\n",
            "\u001b[?25hCollecting pyro-ppl>=1.8.2\n",
            "  Downloading pyro_ppl-1.8.4-py3-none-any.whl (730 kB)\n",
            "\u001b[2K     \u001b[90m━━━━━━━━━━━━━━━━━━━━━━━━━━━━━━━━━━━━━━\u001b[0m \u001b[32m730.7/730.7 KB\u001b[0m \u001b[31m20.6 MB/s\u001b[0m eta \u001b[36m0:00:00\u001b[0m\n",
            "\u001b[?25hRequirement already satisfied: ipykernel>=4.5.1 in /usr/local/lib/python3.8/dist-packages (from ipywidgets<8.0.0->ax-platform) (5.3.4)\n",
            "Requirement already satisfied: traitlets>=4.3.1 in /usr/local/lib/python3.8/dist-packages (from ipywidgets<8.0.0->ax-platform) (5.7.1)\n",
            "Requirement already satisfied: widgetsnbextension~=3.6.0 in /usr/local/lib/python3.8/dist-packages (from ipywidgets<8.0.0->ax-platform) (3.6.2)\n",
            "Requirement already satisfied: ipython-genutils~=0.2.0 in /usr/local/lib/python3.8/dist-packages (from ipywidgets<8.0.0->ax-platform) (0.2.0)\n",
            "Requirement already satisfied: ipython>=4.0.0 in /usr/local/lib/python3.8/dist-packages (from ipywidgets<8.0.0->ax-platform) (7.9.0)\n",
            "Requirement already satisfied: jupyterlab-widgets>=1.0.0 in /usr/local/lib/python3.8/dist-packages (from ipywidgets<8.0.0->ax-platform) (3.0.5)\n",
            "Requirement already satisfied: MarkupSafe>=0.23 in /usr/local/lib/python3.8/dist-packages (from jinja2->ax-platform) (2.0.1)\n",
            "Requirement already satisfied: numpy>=1.17.3 in /usr/local/lib/python3.8/dist-packages (from pandas->ax-platform) (1.21.6)\n",
            "Requirement already satisfied: pytz>=2017.3 in /usr/local/lib/python3.8/dist-packages (from pandas->ax-platform) (2022.7.1)\n",
            "Requirement already satisfied: python-dateutil>=2.7.3 in /usr/local/lib/python3.8/dist-packages (from pandas->ax-platform) (2.8.2)\n",
            "Requirement already satisfied: tenacity>=6.2.0 in /usr/local/lib/python3.8/dist-packages (from plotly->ax-platform) (8.2.1)\n",
            "Requirement already satisfied: six in /usr/local/lib/python3.8/dist-packages (from plotly->ax-platform) (1.15.0)\n",
            "Requirement already satisfied: joblib>=0.11 in /usr/local/lib/python3.8/dist-packages (from scikit-learn->ax-platform) (1.2.0)\n",
            "Requirement already satisfied: threadpoolctl>=2.0.0 in /usr/local/lib/python3.8/dist-packages (from scikit-learn->ax-platform) (3.1.0)\n",
            "Requirement already satisfied: tornado>=4.2 in /usr/local/lib/python3.8/dist-packages (from ipykernel>=4.5.1->ipywidgets<8.0.0->ax-platform) (6.2)\n",
            "Requirement already satisfied: jupyter-client in /usr/local/lib/python3.8/dist-packages (from ipykernel>=4.5.1->ipywidgets<8.0.0->ax-platform) (6.1.12)\n",
            "Requirement already satisfied: setuptools>=18.5 in /usr/local/lib/python3.8/dist-packages (from ipython>=4.0.0->ipywidgets<8.0.0->ax-platform) (57.4.0)\n",
            "Collecting jedi>=0.10\n",
            "  Downloading jedi-0.18.2-py2.py3-none-any.whl (1.6 MB)\n",
            "\u001b[2K     \u001b[90m━━━━━━━━━━━━━━━━━━━━━━━━━━━━━━━━━━━━━━━━\u001b[0m \u001b[32m1.6/1.6 MB\u001b[0m \u001b[31m11.8 MB/s\u001b[0m eta \u001b[36m0:00:00\u001b[0m\n",
            "\u001b[?25hRequirement already satisfied: backcall in /usr/local/lib/python3.8/dist-packages (from ipython>=4.0.0->ipywidgets<8.0.0->ax-platform) (0.2.0)\n",
            "Requirement already satisfied: pickleshare in /usr/local/lib/python3.8/dist-packages (from ipython>=4.0.0->ipywidgets<8.0.0->ax-platform) (0.7.5)\n",
            "Requirement already satisfied: prompt-toolkit<2.1.0,>=2.0.0 in /usr/local/lib/python3.8/dist-packages (from ipython>=4.0.0->ipywidgets<8.0.0->ax-platform) (2.0.10)\n",
            "Requirement already satisfied: pexpect in /usr/local/lib/python3.8/dist-packages (from ipython>=4.0.0->ipywidgets<8.0.0->ax-platform) (4.8.0)\n",
            "Requirement already satisfied: decorator in /usr/local/lib/python3.8/dist-packages (from ipython>=4.0.0->ipywidgets<8.0.0->ax-platform) (4.4.2)\n",
            "Requirement already satisfied: pygments in /usr/local/lib/python3.8/dist-packages (from ipython>=4.0.0->ipywidgets<8.0.0->ax-platform) (2.6.1)\n",
            "Collecting pyro-api>=0.1.1\n",
            "  Downloading pyro_api-0.1.2-py3-none-any.whl (11 kB)\n",
            "Requirement already satisfied: tqdm>=4.36 in /usr/local/lib/python3.8/dist-packages (from pyro-ppl>=1.8.2->botorch==0.8.0->ax-platform) (4.64.1)\n",
            "Requirement already satisfied: opt-einsum>=2.3.2 in /usr/local/lib/python3.8/dist-packages (from pyro-ppl>=1.8.2->botorch==0.8.0->ax-platform) (3.3.0)\n",
            "Requirement already satisfied: typing-extensions in /usr/local/lib/python3.8/dist-packages (from torch>=1.11->botorch==0.8.0->ax-platform) (4.5.0)\n",
            "Requirement already satisfied: notebook>=4.4.1 in /usr/local/lib/python3.8/dist-packages (from widgetsnbextension~=3.6.0->ipywidgets<8.0.0->ax-platform) (6.3.0)\n",
            "Requirement already satisfied: parso<0.9.0,>=0.8.0 in /usr/local/lib/python3.8/dist-packages (from jedi>=0.10->ipython>=4.0.0->ipywidgets<8.0.0->ax-platform) (0.8.3)\n",
            "Requirement already satisfied: Send2Trash>=1.5.0 in /usr/local/lib/python3.8/dist-packages (from notebook>=4.4.1->widgetsnbextension~=3.6.0->ipywidgets<8.0.0->ax-platform) (1.8.0)\n",
            "Requirement already satisfied: prometheus-client in /usr/local/lib/python3.8/dist-packages (from notebook>=4.4.1->widgetsnbextension~=3.6.0->ipywidgets<8.0.0->ax-platform) (0.16.0)\n",
            "Requirement already satisfied: nbconvert in /usr/local/lib/python3.8/dist-packages (from notebook>=4.4.1->widgetsnbextension~=3.6.0->ipywidgets<8.0.0->ax-platform) (5.6.1)\n",
            "Requirement already satisfied: pyzmq>=17 in /usr/local/lib/python3.8/dist-packages (from notebook>=4.4.1->widgetsnbextension~=3.6.0->ipywidgets<8.0.0->ax-platform) (23.2.1)\n",
            "Requirement already satisfied: nbformat in /usr/local/lib/python3.8/dist-packages (from notebook>=4.4.1->widgetsnbextension~=3.6.0->ipywidgets<8.0.0->ax-platform) (5.7.3)\n",
            "Requirement already satisfied: terminado>=0.8.3 in /usr/local/lib/python3.8/dist-packages (from notebook>=4.4.1->widgetsnbextension~=3.6.0->ipywidgets<8.0.0->ax-platform) (0.13.3)\n",
            "Requirement already satisfied: jupyter-core>=4.6.1 in /usr/local/lib/python3.8/dist-packages (from notebook>=4.4.1->widgetsnbextension~=3.6.0->ipywidgets<8.0.0->ax-platform) (5.2.0)\n",
            "Requirement already satisfied: argon2-cffi in /usr/local/lib/python3.8/dist-packages (from notebook>=4.4.1->widgetsnbextension~=3.6.0->ipywidgets<8.0.0->ax-platform) (21.3.0)\n",
            "Requirement already satisfied: wcwidth in /usr/local/lib/python3.8/dist-packages (from prompt-toolkit<2.1.0,>=2.0.0->ipython>=4.0.0->ipywidgets<8.0.0->ax-platform) (0.2.6)\n",
            "Requirement already satisfied: ptyprocess>=0.5 in /usr/local/lib/python3.8/dist-packages (from pexpect->ipython>=4.0.0->ipywidgets<8.0.0->ax-platform) (0.7.0)\n",
            "Requirement already satisfied: platformdirs>=2.5 in /usr/local/lib/python3.8/dist-packages (from jupyter-core>=4.6.1->notebook>=4.4.1->widgetsnbextension~=3.6.0->ipywidgets<8.0.0->ax-platform) (3.0.0)\n",
            "Requirement already satisfied: argon2-cffi-bindings in /usr/local/lib/python3.8/dist-packages (from argon2-cffi->notebook>=4.4.1->widgetsnbextension~=3.6.0->ipywidgets<8.0.0->ax-platform) (21.2.0)\n",
            "Requirement already satisfied: entrypoints>=0.2.2 in /usr/local/lib/python3.8/dist-packages (from nbconvert->notebook>=4.4.1->widgetsnbextension~=3.6.0->ipywidgets<8.0.0->ax-platform) (0.4)\n",
            "Requirement already satisfied: pandocfilters>=1.4.1 in /usr/local/lib/python3.8/dist-packages (from nbconvert->notebook>=4.4.1->widgetsnbextension~=3.6.0->ipywidgets<8.0.0->ax-platform) (1.5.0)\n",
            "Requirement already satisfied: testpath in /usr/local/lib/python3.8/dist-packages (from nbconvert->notebook>=4.4.1->widgetsnbextension~=3.6.0->ipywidgets<8.0.0->ax-platform) (0.6.0)\n",
            "Requirement already satisfied: bleach in /usr/local/lib/python3.8/dist-packages (from nbconvert->notebook>=4.4.1->widgetsnbextension~=3.6.0->ipywidgets<8.0.0->ax-platform) (6.0.0)\n",
            "Requirement already satisfied: defusedxml in /usr/local/lib/python3.8/dist-packages (from nbconvert->notebook>=4.4.1->widgetsnbextension~=3.6.0->ipywidgets<8.0.0->ax-platform) (0.7.1)\n",
            "Requirement already satisfied: mistune<2,>=0.8.1 in /usr/local/lib/python3.8/dist-packages (from nbconvert->notebook>=4.4.1->widgetsnbextension~=3.6.0->ipywidgets<8.0.0->ax-platform) (0.8.4)\n",
            "Requirement already satisfied: jsonschema>=2.6 in /usr/local/lib/python3.8/dist-packages (from nbformat->notebook>=4.4.1->widgetsnbextension~=3.6.0->ipywidgets<8.0.0->ax-platform) (4.3.3)\n",
            "Requirement already satisfied: fastjsonschema in /usr/local/lib/python3.8/dist-packages (from nbformat->notebook>=4.4.1->widgetsnbextension~=3.6.0->ipywidgets<8.0.0->ax-platform) (2.16.2)\n",
            "Requirement already satisfied: pyrsistent!=0.17.0,!=0.17.1,!=0.17.2,>=0.14.0 in /usr/local/lib/python3.8/dist-packages (from jsonschema>=2.6->nbformat->notebook>=4.4.1->widgetsnbextension~=3.6.0->ipywidgets<8.0.0->ax-platform) (0.19.3)\n",
            "Requirement already satisfied: attrs>=17.4.0 in /usr/local/lib/python3.8/dist-packages (from jsonschema>=2.6->nbformat->notebook>=4.4.1->widgetsnbextension~=3.6.0->ipywidgets<8.0.0->ax-platform) (22.2.0)\n",
            "Requirement already satisfied: importlib-resources>=1.4.0 in /usr/local/lib/python3.8/dist-packages (from jsonschema>=2.6->nbformat->notebook>=4.4.1->widgetsnbextension~=3.6.0->ipywidgets<8.0.0->ax-platform) (5.10.2)\n",
            "Requirement already satisfied: cffi>=1.0.1 in /usr/local/lib/python3.8/dist-packages (from argon2-cffi-bindings->argon2-cffi->notebook>=4.4.1->widgetsnbextension~=3.6.0->ipywidgets<8.0.0->ax-platform) (1.15.1)\n",
            "Requirement already satisfied: webencodings in /usr/local/lib/python3.8/dist-packages (from bleach->nbconvert->notebook>=4.4.1->widgetsnbextension~=3.6.0->ipywidgets<8.0.0->ax-platform) (0.5.1)\n",
            "Requirement already satisfied: pycparser in /usr/local/lib/python3.8/dist-packages (from cffi>=1.0.1->argon2-cffi-bindings->argon2-cffi->notebook>=4.4.1->widgetsnbextension~=3.6.0->ipywidgets<8.0.0->ax-platform) (2.21)\n",
            "Requirement already satisfied: zipp>=3.1.0 in /usr/local/lib/python3.8/dist-packages (from importlib-resources>=1.4.0->jsonschema>=2.6->nbformat->notebook>=4.4.1->widgetsnbextension~=3.6.0->ipywidgets<8.0.0->ax-platform) (3.13.0)\n",
            "Installing collected packages: pyro-api, jedi, pyro-ppl, linear-operator, gpytorch, botorch, ax-platform\n",
            "Successfully installed ax-platform-0.2.10 botorch-0.8.0 gpytorch-1.9.0 jedi-0.18.2 linear-operator-0.2.0 pyro-api-0.1.2 pyro-ppl-1.8.4\n"
          ]
        }
      ],
      "source": [
        "%pip install ax-platform"
      ]
    },
    {
      "cell_type": "code",
      "execution_count": 41,
      "metadata": {
        "colab": {
          "base_uri": "https://localhost:8080/",
          "height": 268
        },
        "id": "frb6kTSIpZug",
        "outputId": "c338439a-80e8-425f-8195-8ac0a35e319a"
      },
      "outputs": [
        {
          "output_type": "execute_result",
          "data": {
            "text/plain": [
              "   filler_A  filler_B   resin_A   resin_B   resin_C\n",
              "0  0.263170  0.161356  0.319319  0.177511  0.078643\n",
              "1  0.233281  0.191723  0.165822  0.409174  0.000000\n",
              "2  0.067263  0.225302  0.341151  0.186902  0.179382\n",
              "3  0.242482  0.000000  0.000000  0.363517  0.394001\n",
              "4  0.000000  0.346443  0.318884  0.272197  0.062476\n",
              "5  0.293613  0.293613  0.183609  0.208137  0.021027\n",
              "6  0.268568  0.312212  0.096869  0.000000  0.322350"
            ],
            "text/html": [
              "\n",
              "  <div id=\"df-d3a38ce4-da6d-452c-a8bb-490033d14e1a\">\n",
              "    <div class=\"colab-df-container\">\n",
              "      <div>\n",
              "<style scoped>\n",
              "    .dataframe tbody tr th:only-of-type {\n",
              "        vertical-align: middle;\n",
              "    }\n",
              "\n",
              "    .dataframe tbody tr th {\n",
              "        vertical-align: top;\n",
              "    }\n",
              "\n",
              "    .dataframe thead th {\n",
              "        text-align: right;\n",
              "    }\n",
              "</style>\n",
              "<table border=\"1\" class=\"dataframe\">\n",
              "  <thead>\n",
              "    <tr style=\"text-align: right;\">\n",
              "      <th></th>\n",
              "      <th>filler_A</th>\n",
              "      <th>filler_B</th>\n",
              "      <th>resin_A</th>\n",
              "      <th>resin_B</th>\n",
              "      <th>resin_C</th>\n",
              "    </tr>\n",
              "  </thead>\n",
              "  <tbody>\n",
              "    <tr>\n",
              "      <th>0</th>\n",
              "      <td>0.263170</td>\n",
              "      <td>0.161356</td>\n",
              "      <td>0.319319</td>\n",
              "      <td>0.177511</td>\n",
              "      <td>0.078643</td>\n",
              "    </tr>\n",
              "    <tr>\n",
              "      <th>1</th>\n",
              "      <td>0.233281</td>\n",
              "      <td>0.191723</td>\n",
              "      <td>0.165822</td>\n",
              "      <td>0.409174</td>\n",
              "      <td>0.000000</td>\n",
              "    </tr>\n",
              "    <tr>\n",
              "      <th>2</th>\n",
              "      <td>0.067263</td>\n",
              "      <td>0.225302</td>\n",
              "      <td>0.341151</td>\n",
              "      <td>0.186902</td>\n",
              "      <td>0.179382</td>\n",
              "    </tr>\n",
              "    <tr>\n",
              "      <th>3</th>\n",
              "      <td>0.242482</td>\n",
              "      <td>0.000000</td>\n",
              "      <td>0.000000</td>\n",
              "      <td>0.363517</td>\n",
              "      <td>0.394001</td>\n",
              "    </tr>\n",
              "    <tr>\n",
              "      <th>4</th>\n",
              "      <td>0.000000</td>\n",
              "      <td>0.346443</td>\n",
              "      <td>0.318884</td>\n",
              "      <td>0.272197</td>\n",
              "      <td>0.062476</td>\n",
              "    </tr>\n",
              "    <tr>\n",
              "      <th>5</th>\n",
              "      <td>0.293613</td>\n",
              "      <td>0.293613</td>\n",
              "      <td>0.183609</td>\n",
              "      <td>0.208137</td>\n",
              "      <td>0.021027</td>\n",
              "    </tr>\n",
              "    <tr>\n",
              "      <th>6</th>\n",
              "      <td>0.268568</td>\n",
              "      <td>0.312212</td>\n",
              "      <td>0.096869</td>\n",
              "      <td>0.000000</td>\n",
              "      <td>0.322350</td>\n",
              "    </tr>\n",
              "  </tbody>\n",
              "</table>\n",
              "</div>\n",
              "      <button class=\"colab-df-convert\" onclick=\"convertToInteractive('df-d3a38ce4-da6d-452c-a8bb-490033d14e1a')\"\n",
              "              title=\"Convert this dataframe to an interactive table.\"\n",
              "              style=\"display:none;\">\n",
              "        \n",
              "  <svg xmlns=\"http://www.w3.org/2000/svg\" height=\"24px\"viewBox=\"0 0 24 24\"\n",
              "       width=\"24px\">\n",
              "    <path d=\"M0 0h24v24H0V0z\" fill=\"none\"/>\n",
              "    <path d=\"M18.56 5.44l.94 2.06.94-2.06 2.06-.94-2.06-.94-.94-2.06-.94 2.06-2.06.94zm-11 1L8.5 8.5l.94-2.06 2.06-.94-2.06-.94L8.5 2.5l-.94 2.06-2.06.94zm10 10l.94 2.06.94-2.06 2.06-.94-2.06-.94-.94-2.06-.94 2.06-2.06.94z\"/><path d=\"M17.41 7.96l-1.37-1.37c-.4-.4-.92-.59-1.43-.59-.52 0-1.04.2-1.43.59L10.3 9.45l-7.72 7.72c-.78.78-.78 2.05 0 2.83L4 21.41c.39.39.9.59 1.41.59.51 0 1.02-.2 1.41-.59l7.78-7.78 2.81-2.81c.8-.78.8-2.07 0-2.86zM5.41 20L4 18.59l7.72-7.72 1.47 1.35L5.41 20z\"/>\n",
              "  </svg>\n",
              "      </button>\n",
              "      \n",
              "  <style>\n",
              "    .colab-df-container {\n",
              "      display:flex;\n",
              "      flex-wrap:wrap;\n",
              "      gap: 12px;\n",
              "    }\n",
              "\n",
              "    .colab-df-convert {\n",
              "      background-color: #E8F0FE;\n",
              "      border: none;\n",
              "      border-radius: 50%;\n",
              "      cursor: pointer;\n",
              "      display: none;\n",
              "      fill: #1967D2;\n",
              "      height: 32px;\n",
              "      padding: 0 0 0 0;\n",
              "      width: 32px;\n",
              "    }\n",
              "\n",
              "    .colab-df-convert:hover {\n",
              "      background-color: #E2EBFA;\n",
              "      box-shadow: 0px 1px 2px rgba(60, 64, 67, 0.3), 0px 1px 3px 1px rgba(60, 64, 67, 0.15);\n",
              "      fill: #174EA6;\n",
              "    }\n",
              "\n",
              "    [theme=dark] .colab-df-convert {\n",
              "      background-color: #3B4455;\n",
              "      fill: #D2E3FC;\n",
              "    }\n",
              "\n",
              "    [theme=dark] .colab-df-convert:hover {\n",
              "      background-color: #434B5C;\n",
              "      box-shadow: 0px 1px 3px 1px rgba(0, 0, 0, 0.15);\n",
              "      filter: drop-shadow(0px 1px 2px rgba(0, 0, 0, 0.3));\n",
              "      fill: #FFFFFF;\n",
              "    }\n",
              "  </style>\n",
              "\n",
              "      <script>\n",
              "        const buttonEl =\n",
              "          document.querySelector('#df-d3a38ce4-da6d-452c-a8bb-490033d14e1a button.colab-df-convert');\n",
              "        buttonEl.style.display =\n",
              "          google.colab.kernel.accessAllowed ? 'block' : 'none';\n",
              "\n",
              "        async function convertToInteractive(key) {\n",
              "          const element = document.querySelector('#df-d3a38ce4-da6d-452c-a8bb-490033d14e1a');\n",
              "          const dataTable =\n",
              "            await google.colab.kernel.invokeFunction('convertToInteractive',\n",
              "                                                     [key], {});\n",
              "          if (!dataTable) return;\n",
              "\n",
              "          const docLinkHtml = 'Like what you see? Visit the ' +\n",
              "            '<a target=\"_blank\" href=https://colab.research.google.com/notebooks/data_table.ipynb>data table notebook</a>'\n",
              "            + ' to learn more about interactive tables.';\n",
              "          element.innerHTML = '';\n",
              "          dataTable['output_type'] = 'display_data';\n",
              "          await google.colab.output.renderOutput(dataTable, element);\n",
              "          const docLink = document.createElement('div');\n",
              "          docLink.innerHTML = docLinkHtml;\n",
              "          element.appendChild(docLink);\n",
              "        }\n",
              "      </script>\n",
              "    </div>\n",
              "  </div>\n",
              "  "
            ]
          },
          "metadata": {},
          "execution_count": 41
        }
      ],
      "source": [
        "# %% imports\n",
        "import numpy as np\n",
        "import pandas as pd\n",
        "\n",
        "from sklearn.datasets import make_regression\n",
        "from sklearn.preprocessing import MinMaxScaler, normalize\n",
        "\n",
        "from ax.modelbridge.generation_strategy import GenerationStrategy, GenerationStep\n",
        "from ax.modelbridge.registry import Models\n",
        "\n",
        "from ax.service.ax_client import AxClient\n",
        "from ax.service.utils.instantiation import ObjectiveProperties\n",
        "\n",
        "n_train = 7\n",
        "unique_components = [\"filler_A\", \"filler_B\", \"resin_A\", \"resin_B\", \"resin_C\"]\n",
        "objective_names = [\"yield_strength\", \"elongation\"]\n",
        "\n",
        "X_train, y_train = make_regression(n_samples=n_train, n_features=5, n_informative=5, n_targets=2, noise=0.1, random_state=10)\n",
        "\n",
        "X_train = MinMaxScaler().fit_transform(X_train)\n",
        "X_train = normalize(X_train, norm=\"l1\")\n",
        "\n",
        "y_train[:, 0] = MinMaxScaler(feature_range=(0, 100)).fit_transform(y_train[:, 0].reshape(-1, 1)).ravel()\n",
        "y_train[:, 1] = MinMaxScaler(feature_range=(0, 5)).fit_transform(y_train[:, 1].reshape(-1, 1)).ravel()\n",
        "\n",
        "X_train = pd.DataFrame(X_train, columns=unique_components)\n",
        "print(X_train)\n",
        "\n",
        "y_train = pd.DataFrame(y_train, columns=objective_names)"
      ]
    },
    {
      "cell_type": "code",
      "source": [
        "y_train"
      ],
      "metadata": {
        "id": "jt3oCXh12OIy",
        "outputId": "823f8162-b643-4edc-bb17-a18e86dac845",
        "colab": {
          "base_uri": "https://localhost:8080/"
        }
      },
      "execution_count": 42,
      "outputs": [
        {
          "output_type": "execute_result",
          "data": {
            "text/plain": [
              "array([[ 11.07632106,   1.92667673],\n",
              "       [ 31.77210828,   1.78073878],\n",
              "       [ 75.0228475 ,   2.87278749],\n",
              "       [ 43.80877892,   0.        ],\n",
              "       [ 44.68872303,   2.62865504],\n",
              "       [100.        ,   5.        ],\n",
              "       [  0.        ,   2.04822265]])"
            ]
          },
          "metadata": {},
          "execution_count": 42
        }
      ]
    },
    {
      "cell_type": "code",
      "execution_count": 43,
      "metadata": {
        "colab": {
          "base_uri": "https://localhost:8080/"
        },
        "id": "IM7Dt9tuqoZk",
        "outputId": "b4e95cd0-c5be-41a0-f387-2a7589d970bc"
      },
      "outputs": [
        {
          "output_type": "execute_result",
          "data": {
            "text/plain": [
              "[{'name': 'filler_A', 'type': 'range', 'bounds': [0.0, 1.0]},\n",
              " {'name': 'filler_B', 'type': 'range', 'bounds': [0.0, 1.0]},\n",
              " {'name': 'resin_A', 'type': 'range', 'bounds': [0.0, 1.0]},\n",
              " {'name': 'resin_B', 'type': 'range', 'bounds': [0.0, 1.0]}]"
            ]
          },
          "metadata": {},
          "execution_count": 43
        }
      ],
      "source": [
        "# Ax-specific\n",
        "parameters = [\n",
        "    {\"name\": component, \"type\": \"range\", \"bounds\": [0.0, 1.0]}\n",
        "    for component in unique_components[:-1]\n",
        "]\n",
        "parameters"
      ]
    },
    {
      "cell_type": "code",
      "execution_count": 44,
      "metadata": {
        "colab": {
          "base_uri": "https://localhost:8080/",
          "height": 36
        },
        "id": "xK644Esppia_",
        "outputId": "14dfd551-e594-4001-e56a-34762ee1ceab"
      },
      "outputs": [
        {
          "output_type": "execute_result",
          "data": {
            "text/plain": [
              "'filler_A + filler_B + resin_A + resin_B <= 1.0'"
            ],
            "application/vnd.google.colaboratory.intrinsic+json": {
              "type": "string"
            }
          },
          "metadata": {},
          "execution_count": 44
        }
      ],
      "source": [
        "separator = \" + \"\n",
        "composition_constraint = separator.join(unique_components[:-1]) + \" <= 1.0\"\n",
        "composition_constraint"
      ]
    },
    {
      "cell_type": "code",
      "execution_count": 45,
      "metadata": {
        "colab": {
          "base_uri": "https://localhost:8080/"
        },
        "id": "npCeW3_9pjyG",
        "outputId": "c84eae3e-5eed-4ae3-bf8b-4c540bda3459"
      },
      "outputs": [
        {
          "output_type": "stream",
          "name": "stderr",
          "text": [
            "[INFO 02-18 04:47:21] ax.service.ax_client: Starting optimization with verbose logging. To disable logging, set the `verbose_logging` argument to `False`. Note that float values in the logs are rounded to 6 decimal points.\n",
            "[INFO 02-18 04:47:21] ax.service.utils.instantiation: Due to non-specification, we will use the heuristic for selecting objective thresholds.\n",
            "[INFO 02-18 04:47:21] ax.service.utils.instantiation: Inferred value type of ParameterType.FLOAT for parameter filler_A. If that is not the expected value type, you can explicity specify 'value_type' ('int', 'float', 'bool' or 'str') in parameter dict.\n",
            "[INFO 02-18 04:47:21] ax.service.utils.instantiation: Inferred value type of ParameterType.FLOAT for parameter filler_B. If that is not the expected value type, you can explicity specify 'value_type' ('int', 'float', 'bool' or 'str') in parameter dict.\n",
            "[INFO 02-18 04:47:21] ax.service.utils.instantiation: Inferred value type of ParameterType.FLOAT for parameter resin_A. If that is not the expected value type, you can explicity specify 'value_type' ('int', 'float', 'bool' or 'str') in parameter dict.\n",
            "[INFO 02-18 04:47:21] ax.service.utils.instantiation: Inferred value type of ParameterType.FLOAT for parameter resin_B. If that is not the expected value type, you can explicity specify 'value_type' ('int', 'float', 'bool' or 'str') in parameter dict.\n",
            "[INFO 02-18 04:47:21] ax.service.utils.instantiation: Created search space: SearchSpace(parameters=[RangeParameter(name='filler_A', parameter_type=FLOAT, range=[0.0, 1.0]), RangeParameter(name='filler_B', parameter_type=FLOAT, range=[0.0, 1.0]), RangeParameter(name='resin_A', parameter_type=FLOAT, range=[0.0, 1.0]), RangeParameter(name='resin_B', parameter_type=FLOAT, range=[0.0, 1.0])], parameter_constraints=[ParameterConstraint(1.0*filler_A + 1.0*filler_B + 1.0*resin_A + 1.0*resin_B <= 1.0)]).\n"
          ]
        }
      ],
      "source": [
        "# skip the pseudo-random suggested points by specifying a custom generation strategy\n",
        "gs = GenerationStrategy(\n",
        "    steps=[\n",
        "        # 2. Bayesian optimization step (requires data obtained from previous phase and learns\n",
        "        # from all data available at the time of each new candidate generation call)\n",
        "        GenerationStep(\n",
        "            model=Models.FULLYBAYESIANMOO,\n",
        "            num_trials=-1,  # No limitation on how many trials should be produced from this step\n",
        "            max_parallelism=None,  # Parallelism limit for this step, often lower than for Sobol\n",
        "            # More on parallelism vs. required samples in BayesOpt:\n",
        "            # https://ax.dev/docs/bayesopt.html#tradeoff-between-parallelism-and-total-number-of-trials\n",
        "        ),\n",
        "    ]\n",
        ")\n",
        "\n",
        "objectives = {objective_name: ObjectiveProperties(minimize=False) for objective_name in objective_names}\n",
        "\n",
        "# setup the experiment\n",
        "ax_client = AxClient(generation_strategy=gs)\n",
        "ax_client.create_experiment(\n",
        "    name=\"dummy\",\n",
        "    parameters=parameters,\n",
        "    parameter_constraints=[\n",
        "        composition_constraint,\n",
        "    ],\n",
        "    objectives=objectives,\n",
        ")"
      ]
    },
    {
      "cell_type": "code",
      "execution_count": 46,
      "metadata": {
        "colab": {
          "base_uri": "https://localhost:8080/"
        },
        "id": "EEv0dHgqpyGA",
        "outputId": "2271abd5-789a-4f19-ff20-c31eb4655700"
      },
      "outputs": [
        {
          "output_type": "stream",
          "name": "stderr",
          "text": [
            "[INFO 02-18 04:47:22] ax.service.ax_client: Attached custom parameterization {'filler_A': 0.26317, 'filler_B': 0.161356, 'resin_A': 0.319319, 'resin_B': 0.177511} as trial 0.\n",
            "[INFO 02-18 04:47:22] ax.service.ax_client: Completed trial 0 with data: {'yield_strength': (11.076321, None), 'elongation': (1.926677, None)}.\n",
            "[INFO 02-18 04:47:22] ax.service.ax_client: Attached custom parameterization {'filler_A': 0.233281, 'filler_B': 0.191723, 'resin_A': 0.165822, 'resin_B': 0.409174} as trial 1.\n",
            "[INFO 02-18 04:47:22] ax.service.ax_client: Completed trial 1 with data: {'yield_strength': (31.772108, None), 'elongation': (1.780739, None)}.\n",
            "[INFO 02-18 04:47:22] ax.service.ax_client: Attached custom parameterization {'filler_A': 0.067263, 'filler_B': 0.225302, 'resin_A': 0.341151, 'resin_B': 0.186902} as trial 2.\n",
            "[INFO 02-18 04:47:22] ax.service.ax_client: Completed trial 2 with data: {'yield_strength': (75.022848, None), 'elongation': (2.872787, None)}.\n",
            "[INFO 02-18 04:47:22] ax.service.ax_client: Attached custom parameterization {'filler_A': 0.242482, 'filler_B': 0.0, 'resin_A': 0.0, 'resin_B': 0.363517} as trial 3.\n",
            "[INFO 02-18 04:47:22] ax.service.ax_client: Completed trial 3 with data: {'yield_strength': (43.808779, None), 'elongation': (0.0, None)}.\n",
            "[INFO 02-18 04:47:22] ax.service.ax_client: Attached custom parameterization {'filler_A': 0.0, 'filler_B': 0.346443, 'resin_A': 0.318884, 'resin_B': 0.272197} as trial 4.\n",
            "[INFO 02-18 04:47:22] ax.service.ax_client: Completed trial 4 with data: {'yield_strength': (44.688723, None), 'elongation': (2.628655, None)}.\n",
            "[INFO 02-18 04:47:22] ax.service.ax_client: Attached custom parameterization {'filler_A': 0.293613, 'filler_B': 0.293613, 'resin_A': 0.183609, 'resin_B': 0.208137} as trial 5.\n",
            "[INFO 02-18 04:47:22] ax.service.ax_client: Completed trial 5 with data: {'yield_strength': (100.0, None), 'elongation': (5.0, None)}.\n",
            "[INFO 02-18 04:47:22] ax.service.ax_client: Attached custom parameterization {'filler_A': 0.268568, 'filler_B': 0.312212, 'resin_A': 0.096869, 'resin_B': 0.0} as trial 6.\n",
            "[INFO 02-18 04:47:22] ax.service.ax_client: Completed trial 6 with data: {'yield_strength': (0.0, None), 'elongation': (2.048223, None)}.\n"
          ]
        }
      ],
      "source": [
        "# attach the training data\n",
        "for i in range(n_train):\n",
        "    ax_client.attach_trial(X_train.iloc[i, :-1].to_dict())\n",
        "    ax_client.complete_trial(trial_index=i, raw_data={\"yield_strength\": y_train[i, 0], \"elongation\": y_train[i, 1]})"
      ]
    },
    {
      "cell_type": "code",
      "execution_count": 47,
      "metadata": {
        "colab": {
          "base_uri": "https://localhost:8080/"
        },
        "id": "7dSAOLfmp40m",
        "outputId": "c77d8e36-b1a0-470d-d6bd-38ca1856c032"
      },
      "outputs": [
        {
          "output_type": "stream",
          "name": "stderr",
          "text": [
            "Warmup:  14%|█▍        | 110/768 [08:38,  4.72s/it, step size=7.81e-01, acc. prob=0.782]\n",
            "Sample: 100%|██████████| 768/768 [01:17,  9.88it/s, step size=2.38e-01, acc. prob=0.947]\n",
            "Sample: 100%|██████████| 768/768 [01:40,  7.67it/s, step size=2.36e-01, acc. prob=0.920]\n",
            "Sample:  71%|███████   | 542/768 [23:11,  2.57s/it, step size=4.04e-01, acc. prob=0.869]\n",
            "[INFO 02-18 04:50:30] ax.service.ax_client: Generated new trial 7 with parameters {'filler_A': 0.031971, 'filler_B': 0.968029, 'resin_A': 0.0, 'resin_B': 0.0}.\n",
            "Sample: 100%|██████████| 768/768 [01:28,  8.70it/s, step size=2.94e-01, acc. prob=0.930]\n",
            "Warmup:  60%|██████    | 462/768 [00:51, 15.91it/s, step size=2.26e+00, acc. prob=0.788]/usr/local/lib/python3.8/dist-packages/botorch/models/fully_bayesian.py:124: RuntimeWarning: Received a linear algebra error while sampling with Pyro. Adding a jitter of 1e-08 to the covariance matrix and retrying.\n",
            "  warnings.warn(\n",
            "/usr/local/lib/python3.8/dist-packages/botorch/models/fully_bayesian.py:124: RuntimeWarning: Received a linear algebra error while sampling with Pyro. Adding a jitter of 1e-07 to the covariance matrix and retrying.\n",
            "  warnings.warn(\n",
            "/usr/local/lib/python3.8/dist-packages/botorch/models/fully_bayesian.py:124: RuntimeWarning: Received a linear algebra error while sampling with Pyro. Adding a jitter of 9.999999999999999e-06 to the covariance matrix and retrying.\n",
            "  warnings.warn(\n",
            "/usr/local/lib/python3.8/dist-packages/botorch/models/fully_bayesian.py:124: RuntimeWarning: Received a linear algebra error while sampling with Pyro. Adding a jitter of 0.009999999999999998 to the covariance matrix and retrying.\n",
            "  warnings.warn(\n",
            "Sample: 100%|██████████| 768/768 [01:23,  9.18it/s, step size=2.14e-01, acc. prob=0.931]\n",
            "[INFO 02-18 04:53:30] ax.service.ax_client: Generated new trial 8 with parameters {'filler_A': 0.0, 'filler_B': 0.0, 'resin_A': 1.0, 'resin_B': 0.0}.\n",
            "Sample: 100%|██████████| 768/768 [01:07, 11.30it/s, step size=3.18e-01, acc. prob=0.918]\n",
            "Sample: 100%|██████████| 768/768 [01:21,  9.45it/s, step size=2.74e-01, acc. prob=0.906]\n",
            "[INFO 02-18 04:56:08] ax.service.ax_client: Generated new trial 9 with parameters {'filler_A': 0.077588, 'filler_B': 0.706101, 'resin_A': 0.0, 'resin_B': 0.216311}.\n",
            "Sample: 100%|██████████| 768/768 [01:09, 10.98it/s, step size=3.77e-01, acc. prob=0.814]\n",
            "Warmup:  32%|███▏      | 249/768 [00:31, 11.19it/s, step size=1.26e+00, acc. prob=0.783]/usr/local/lib/python3.8/dist-packages/botorch/models/fully_bayesian.py:124: RuntimeWarning: Received a linear algebra error while sampling with Pyro. Adding a jitter of 1e-08 to the covariance matrix and retrying.\n",
            "  warnings.warn(\n",
            "/usr/local/lib/python3.8/dist-packages/botorch/models/fully_bayesian.py:124: RuntimeWarning: Received a linear algebra error while sampling with Pyro. Adding a jitter of 1e-07 to the covariance matrix and retrying.\n",
            "  warnings.warn(\n",
            "/usr/local/lib/python3.8/dist-packages/botorch/models/fully_bayesian.py:124: RuntimeWarning: Received a linear algebra error while sampling with Pyro. Adding a jitter of 9.999999999999999e-06 to the covariance matrix and retrying.\n",
            "  warnings.warn(\n",
            "/usr/local/lib/python3.8/dist-packages/botorch/models/fully_bayesian.py:124: RuntimeWarning: Received a linear algebra error while sampling with Pyro. Adding a jitter of 0.009999999999999998 to the covariance matrix and retrying.\n",
            "  warnings.warn(\n",
            "Sample: 100%|██████████| 768/768 [01:21,  9.46it/s, step size=2.57e-01, acc. prob=0.900]\n",
            "[INFO 02-18 04:58:50] ax.service.ax_client: Generated new trial 10 with parameters {'filler_A': 0.352129, 'filler_B': 0.471359, 'resin_A': 0.0, 'resin_B': 0.176512}.\n",
            "Sample: 100%|██████████| 768/768 [01:06, 11.58it/s, step size=3.96e-01, acc. prob=0.882]\n",
            "Sample: 100%|██████████| 768/768 [01:34,  8.16it/s, step size=2.70e-01, acc. prob=0.917]\n",
            "[INFO 02-18 05:01:38] ax.service.ax_client: Generated new trial 11 with parameters {'filler_A': 0.0, 'filler_B': 0.0, 'resin_A': 1.0, 'resin_B': 0.0}.\n"
          ]
        },
        {
          "output_type": "stream",
          "name": "stdout",
          "text": [
            "next suggested experiments:  {7: {'filler_A': 0.031970688369562794, 'filler_B': 0.9680293116304256, 'resin_A': 2.440461820259198e-15, 'resin_B': 5.001874288507975e-15}, 8: {'filler_A': 0.0, 'filler_B': 1.0442941754793412e-15, 'resin_A': 1.0, 'resin_B': 1.0401917373590851e-15}, 9: {'filler_A': 0.07758819690028068, 'filler_B': 0.7061009329668826, 'resin_A': 0.0, 'resin_B': 0.21631087013285272}, 10: {'filler_A': 0.35212900002205166, 'filler_B': 0.47135888511571095, 'resin_A': 1.9744388007959498e-14, 'resin_B': 0.17651211486186685}, 11: {'filler_A': 0.0, 'filler_B': 7.584121535482275e-16, 'resin_A': 0.9999999999999973, 'resin_B': 0.0}}\n"
          ]
        }
      ],
      "source": [
        "# produce a *batch* of five next suggested experiments, **be sure to only run this once**\n",
        "next_experiments, optimization_complete = ax_client.get_next_trials(max_trials=5)\n",
        "print(\"next suggested experiments: \", next_experiments)"
      ]
    },
    {
      "cell_type": "code",
      "execution_count": 48,
      "metadata": {
        "colab": {
          "base_uri": "https://localhost:8080/"
        },
        "id": "6Uh9FZFuq-mR",
        "outputId": "4e7ffcd9-73fd-4aff-ad66-2df5327b0e0f"
      },
      "outputs": [
        {
          "output_type": "stream",
          "name": "stderr",
          "text": [
            "Sample: 100%|██████████| 768/768 [01:18,  9.76it/s, step size=2.98e-01, acc. prob=0.922]\n",
            "Sample: 100%|██████████| 768/768 [01:11, 10.67it/s, step size=2.35e-01, acc. prob=0.966]\n",
            "[INFO 02-18 05:04:09] ax.service.utils.best_point: Using inferred objective thresholds: [ObjectiveThreshold(elongation >= 2.2548934888450423), ObjectiveThreshold(yield_strength >= 22.222478943939702)], as objective thresholds were not specified as part of the optimization configuration on the experiment.\n"
          ]
        },
        {
          "output_type": "stream",
          "name": "stdout",
          "text": [
            "{5: ({'filler_A': 0.2936132459321941, 'filler_B': 0.2936132459321941, 'resin_A': 0.1836094713241959, 'resin_B': 0.20813736741130703}, ({'elongation': 3.512290639955121, 'yield_strength': 50.4162103784033}, {'elongation': {'elongation': 1.0309070138381722, 'yield_strength': 0.0}, 'yield_strength': {'elongation': 0.0, 'yield_strength': 410.6005483220568}}))}\n"
          ]
        },
        {
          "output_type": "stream",
          "name": "stderr",
          "text": [
            "/usr/local/lib/python3.8/dist-packages/ax/modelbridge/modelbridge_utils.py:831: UserWarning: FYI: The default behavior of `get_pareto_frontier_and_configs` when `transform_outcomes_and_configs` is not specified has changed. Previously, the default was `transform_outcomes_and_configs=True`; now this argument is deprecated and behavior is as if `transform_outcomes_and_configs=False`. You did not specify `transform_outcomes_and_configs`, so this warning requires no action.\n",
            "  warnings.warn(\n"
          ]
        }
      ],
      "source": [
        "# note that the model fit is poor because of the toy data and randomly generated objective values\n",
        "# (i.e. this is what we would expect: a bad fit, because the \"true\" values are nonsense)\n",
        "pareto_optimal_parameters = ax_client.get_pareto_optimal_parameters()\n",
        "print(pareto_optimal_parameters)"
      ]
    },
    {
      "cell_type": "code",
      "source": [],
      "metadata": {
        "id": "1bilTLUGizQS"
      },
      "execution_count": null,
      "outputs": []
    }
  ],
  "metadata": {
    "colab": {
      "provenance": []
    },
    "kernelspec": {
      "display_name": "Python 3.9.13 ('sdl-demo')",
      "language": "python",
      "name": "python3"
    },
    "language_info": {
      "name": "python",
      "version": "3.9.13"
    },
    "vscode": {
      "interpreter": {
        "hash": "70cb6d4911b67e25d1487ebd620c5d1370239efaaf47f3851af44f5c5a26f988"
      }
    }
  },
  "nbformat": 4,
  "nbformat_minor": 0
}
