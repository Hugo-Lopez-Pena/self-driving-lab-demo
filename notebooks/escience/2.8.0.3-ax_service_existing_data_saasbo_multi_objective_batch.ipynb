{
  "cells": [
    {
      "cell_type": "markdown",
      "metadata": {
        "id": "NKTiUJ3Vt-eU"
      },
      "source": [
        "See https://github.com/facebook/Ax/issues/743"
      ]
    },
    {
      "cell_type": "code",
      "execution_count": 1,
      "metadata": {
        "colab": {
          "base_uri": "https://localhost:8080/"
        },
        "id": "JXBQUr9qpYGZ",
        "outputId": "403b4936-df78-4f3d-8e59-958b328d4087"
      },
      "outputs": [
        {
          "name": "stdout",
          "output_type": "stream",
          "text": [
            "Looking in indexes: https://pypi.org/simple, https://us-python.pkg.dev/colab-wheels/public/simple/\n",
            "Collecting ax-platform\n",
            "  Downloading ax_platform-0.2.10-py3-none-any.whl (1.1 MB)\n",
            "\u001b[2K     \u001b[90m━━━━━━━━━━━━━━━━━━━━━━━━━━━━━━━━━━━━━━━━\u001b[0m \u001b[32m1.1/1.1 MB\u001b[0m \u001b[31m7.9 MB/s\u001b[0m eta \u001b[36m0:00:00\u001b[0m\n",
            "\u001b[?25hRequirement already satisfied: ipywidgets<8.0.0 in /usr/local/lib/python3.8/dist-packages (from ax-platform) (7.7.1)\n",
            "Requirement already satisfied: jinja2 in /usr/local/lib/python3.8/dist-packages (from ax-platform) (2.11.3)\n",
            "Requirement already satisfied: scikit-learn in /usr/local/lib/python3.8/dist-packages (from ax-platform) (1.0.2)\n",
            "Collecting botorch==0.8.0\n",
            "  Downloading botorch-0.8.0-py3-none-any.whl (481 kB)\n",
            "\u001b[2K     \u001b[90m━━━━━━━━━━━━━━━━━━━━━━━━━━━━━━━━━━━━━━\u001b[0m \u001b[32m481.8/481.8 KB\u001b[0m \u001b[31m13.9 MB/s\u001b[0m eta \u001b[36m0:00:00\u001b[0m\n",
            "\u001b[?25hRequirement already satisfied: scipy in /usr/local/lib/python3.8/dist-packages (from ax-platform) (1.7.3)\n",
            "Requirement already satisfied: plotly in /usr/local/lib/python3.8/dist-packages (from ax-platform) (5.5.0)\n",
            "Requirement already satisfied: typeguard in /usr/local/lib/python3.8/dist-packages (from ax-platform) (2.7.1)\n",
            "Requirement already satisfied: pandas in /usr/local/lib/python3.8/dist-packages (from ax-platform) (1.3.5)\n",
            "Requirement already satisfied: torch>=1.11 in /usr/local/lib/python3.8/dist-packages (from botorch==0.8.0->ax-platform) (1.13.1+cu116)\n",
            "Collecting linear-operator==0.2.0\n",
            "  Downloading linear_operator-0.2.0-py3-none-any.whl (152 kB)\n",
            "\u001b[2K     \u001b[90m━━━━━━━━━━━━━━━━━━━━━━━━━━━━━━━━━━━━━━━\u001b[0m \u001b[32m153.0/153.0 KB\u001b[0m \u001b[31m4.9 MB/s\u001b[0m eta \u001b[36m0:00:00\u001b[0m\n",
            "\u001b[?25hRequirement already satisfied: multipledispatch in /usr/local/lib/python3.8/dist-packages (from botorch==0.8.0->ax-platform) (0.6.0)\n",
            "Collecting gpytorch==1.9.0\n",
            "  Downloading gpytorch-1.9.0-py3-none-any.whl (245 kB)\n",
            "\u001b[2K     \u001b[90m━━━━━━━━━━━━━━━━━━━━━━━━━━━━━━━━━━━━━━━\u001b[0m \u001b[32m245.8/245.8 KB\u001b[0m \u001b[31m7.2 MB/s\u001b[0m eta \u001b[36m0:00:00\u001b[0m\n",
            "\u001b[?25hCollecting pyro-ppl>=1.8.2\n",
            "  Downloading pyro_ppl-1.8.4-py3-none-any.whl (730 kB)\n",
            "\u001b[2K     \u001b[90m━━━━━━━━━━━━━━━━━━━━━━━━━━━━━━━━━━━━━━\u001b[0m \u001b[32m730.7/730.7 KB\u001b[0m \u001b[31m20.6 MB/s\u001b[0m eta \u001b[36m0:00:00\u001b[0m\n",
            "\u001b[?25hRequirement already satisfied: ipykernel>=4.5.1 in /usr/local/lib/python3.8/dist-packages (from ipywidgets<8.0.0->ax-platform) (5.3.4)\n",
            "Requirement already satisfied: traitlets>=4.3.1 in /usr/local/lib/python3.8/dist-packages (from ipywidgets<8.0.0->ax-platform) (5.7.1)\n",
            "Requirement already satisfied: widgetsnbextension~=3.6.0 in /usr/local/lib/python3.8/dist-packages (from ipywidgets<8.0.0->ax-platform) (3.6.2)\n",
            "Requirement already satisfied: ipython-genutils~=0.2.0 in /usr/local/lib/python3.8/dist-packages (from ipywidgets<8.0.0->ax-platform) (0.2.0)\n",
            "Requirement already satisfied: ipython>=4.0.0 in /usr/local/lib/python3.8/dist-packages (from ipywidgets<8.0.0->ax-platform) (7.9.0)\n",
            "Requirement already satisfied: jupyterlab-widgets>=1.0.0 in /usr/local/lib/python3.8/dist-packages (from ipywidgets<8.0.0->ax-platform) (3.0.5)\n",
            "Requirement already satisfied: MarkupSafe>=0.23 in /usr/local/lib/python3.8/dist-packages (from jinja2->ax-platform) (2.0.1)\n",
            "Requirement already satisfied: numpy>=1.17.3 in /usr/local/lib/python3.8/dist-packages (from pandas->ax-platform) (1.21.6)\n",
            "Requirement already satisfied: pytz>=2017.3 in /usr/local/lib/python3.8/dist-packages (from pandas->ax-platform) (2022.7.1)\n",
            "Requirement already satisfied: python-dateutil>=2.7.3 in /usr/local/lib/python3.8/dist-packages (from pandas->ax-platform) (2.8.2)\n",
            "Requirement already satisfied: tenacity>=6.2.0 in /usr/local/lib/python3.8/dist-packages (from plotly->ax-platform) (8.2.1)\n",
            "Requirement already satisfied: six in /usr/local/lib/python3.8/dist-packages (from plotly->ax-platform) (1.15.0)\n",
            "Requirement already satisfied: joblib>=0.11 in /usr/local/lib/python3.8/dist-packages (from scikit-learn->ax-platform) (1.2.0)\n",
            "Requirement already satisfied: threadpoolctl>=2.0.0 in /usr/local/lib/python3.8/dist-packages (from scikit-learn->ax-platform) (3.1.0)\n",
            "Requirement already satisfied: tornado>=4.2 in /usr/local/lib/python3.8/dist-packages (from ipykernel>=4.5.1->ipywidgets<8.0.0->ax-platform) (6.2)\n",
            "Requirement already satisfied: jupyter-client in /usr/local/lib/python3.8/dist-packages (from ipykernel>=4.5.1->ipywidgets<8.0.0->ax-platform) (6.1.12)\n",
            "Requirement already satisfied: setuptools>=18.5 in /usr/local/lib/python3.8/dist-packages (from ipython>=4.0.0->ipywidgets<8.0.0->ax-platform) (57.4.0)\n",
            "Collecting jedi>=0.10\n",
            "  Downloading jedi-0.18.2-py2.py3-none-any.whl (1.6 MB)\n",
            "\u001b[2K     \u001b[90m━━━━━━━━━━━━━━━━━━━━━━━━━━━━━━━━━━━━━━━━\u001b[0m \u001b[32m1.6/1.6 MB\u001b[0m \u001b[31m11.8 MB/s\u001b[0m eta \u001b[36m0:00:00\u001b[0m\n",
            "\u001b[?25hRequirement already satisfied: backcall in /usr/local/lib/python3.8/dist-packages (from ipython>=4.0.0->ipywidgets<8.0.0->ax-platform) (0.2.0)\n",
            "Requirement already satisfied: pickleshare in /usr/local/lib/python3.8/dist-packages (from ipython>=4.0.0->ipywidgets<8.0.0->ax-platform) (0.7.5)\n",
            "Requirement already satisfied: prompt-toolkit<2.1.0,>=2.0.0 in /usr/local/lib/python3.8/dist-packages (from ipython>=4.0.0->ipywidgets<8.0.0->ax-platform) (2.0.10)\n",
            "Requirement already satisfied: pexpect in /usr/local/lib/python3.8/dist-packages (from ipython>=4.0.0->ipywidgets<8.0.0->ax-platform) (4.8.0)\n",
            "Requirement already satisfied: decorator in /usr/local/lib/python3.8/dist-packages (from ipython>=4.0.0->ipywidgets<8.0.0->ax-platform) (4.4.2)\n",
            "Requirement already satisfied: pygments in /usr/local/lib/python3.8/dist-packages (from ipython>=4.0.0->ipywidgets<8.0.0->ax-platform) (2.6.1)\n",
            "Collecting pyro-api>=0.1.1\n",
            "  Downloading pyro_api-0.1.2-py3-none-any.whl (11 kB)\n",
            "Requirement already satisfied: tqdm>=4.36 in /usr/local/lib/python3.8/dist-packages (from pyro-ppl>=1.8.2->botorch==0.8.0->ax-platform) (4.64.1)\n",
            "Requirement already satisfied: opt-einsum>=2.3.2 in /usr/local/lib/python3.8/dist-packages (from pyro-ppl>=1.8.2->botorch==0.8.0->ax-platform) (3.3.0)\n",
            "Requirement already satisfied: typing-extensions in /usr/local/lib/python3.8/dist-packages (from torch>=1.11->botorch==0.8.0->ax-platform) (4.5.0)\n",
            "Requirement already satisfied: notebook>=4.4.1 in /usr/local/lib/python3.8/dist-packages (from widgetsnbextension~=3.6.0->ipywidgets<8.0.0->ax-platform) (6.3.0)\n",
            "Requirement already satisfied: parso<0.9.0,>=0.8.0 in /usr/local/lib/python3.8/dist-packages (from jedi>=0.10->ipython>=4.0.0->ipywidgets<8.0.0->ax-platform) (0.8.3)\n",
            "Requirement already satisfied: Send2Trash>=1.5.0 in /usr/local/lib/python3.8/dist-packages (from notebook>=4.4.1->widgetsnbextension~=3.6.0->ipywidgets<8.0.0->ax-platform) (1.8.0)\n",
            "Requirement already satisfied: prometheus-client in /usr/local/lib/python3.8/dist-packages (from notebook>=4.4.1->widgetsnbextension~=3.6.0->ipywidgets<8.0.0->ax-platform) (0.16.0)\n",
            "Requirement already satisfied: nbconvert in /usr/local/lib/python3.8/dist-packages (from notebook>=4.4.1->widgetsnbextension~=3.6.0->ipywidgets<8.0.0->ax-platform) (5.6.1)\n",
            "Requirement already satisfied: pyzmq>=17 in /usr/local/lib/python3.8/dist-packages (from notebook>=4.4.1->widgetsnbextension~=3.6.0->ipywidgets<8.0.0->ax-platform) (23.2.1)\n",
            "Requirement already satisfied: nbformat in /usr/local/lib/python3.8/dist-packages (from notebook>=4.4.1->widgetsnbextension~=3.6.0->ipywidgets<8.0.0->ax-platform) (5.7.3)\n",
            "Requirement already satisfied: terminado>=0.8.3 in /usr/local/lib/python3.8/dist-packages (from notebook>=4.4.1->widgetsnbextension~=3.6.0->ipywidgets<8.0.0->ax-platform) (0.13.3)\n",
            "Requirement already satisfied: jupyter-core>=4.6.1 in /usr/local/lib/python3.8/dist-packages (from notebook>=4.4.1->widgetsnbextension~=3.6.0->ipywidgets<8.0.0->ax-platform) (5.2.0)\n",
            "Requirement already satisfied: argon2-cffi in /usr/local/lib/python3.8/dist-packages (from notebook>=4.4.1->widgetsnbextension~=3.6.0->ipywidgets<8.0.0->ax-platform) (21.3.0)\n",
            "Requirement already satisfied: wcwidth in /usr/local/lib/python3.8/dist-packages (from prompt-toolkit<2.1.0,>=2.0.0->ipython>=4.0.0->ipywidgets<8.0.0->ax-platform) (0.2.6)\n",
            "Requirement already satisfied: ptyprocess>=0.5 in /usr/local/lib/python3.8/dist-packages (from pexpect->ipython>=4.0.0->ipywidgets<8.0.0->ax-platform) (0.7.0)\n",
            "Requirement already satisfied: platformdirs>=2.5 in /usr/local/lib/python3.8/dist-packages (from jupyter-core>=4.6.1->notebook>=4.4.1->widgetsnbextension~=3.6.0->ipywidgets<8.0.0->ax-platform) (3.0.0)\n",
            "Requirement already satisfied: argon2-cffi-bindings in /usr/local/lib/python3.8/dist-packages (from argon2-cffi->notebook>=4.4.1->widgetsnbextension~=3.6.0->ipywidgets<8.0.0->ax-platform) (21.2.0)\n",
            "Requirement already satisfied: entrypoints>=0.2.2 in /usr/local/lib/python3.8/dist-packages (from nbconvert->notebook>=4.4.1->widgetsnbextension~=3.6.0->ipywidgets<8.0.0->ax-platform) (0.4)\n",
            "Requirement already satisfied: pandocfilters>=1.4.1 in /usr/local/lib/python3.8/dist-packages (from nbconvert->notebook>=4.4.1->widgetsnbextension~=3.6.0->ipywidgets<8.0.0->ax-platform) (1.5.0)\n",
            "Requirement already satisfied: testpath in /usr/local/lib/python3.8/dist-packages (from nbconvert->notebook>=4.4.1->widgetsnbextension~=3.6.0->ipywidgets<8.0.0->ax-platform) (0.6.0)\n",
            "Requirement already satisfied: bleach in /usr/local/lib/python3.8/dist-packages (from nbconvert->notebook>=4.4.1->widgetsnbextension~=3.6.0->ipywidgets<8.0.0->ax-platform) (6.0.0)\n",
            "Requirement already satisfied: defusedxml in /usr/local/lib/python3.8/dist-packages (from nbconvert->notebook>=4.4.1->widgetsnbextension~=3.6.0->ipywidgets<8.0.0->ax-platform) (0.7.1)\n",
            "Requirement already satisfied: mistune<2,>=0.8.1 in /usr/local/lib/python3.8/dist-packages (from nbconvert->notebook>=4.4.1->widgetsnbextension~=3.6.0->ipywidgets<8.0.0->ax-platform) (0.8.4)\n",
            "Requirement already satisfied: jsonschema>=2.6 in /usr/local/lib/python3.8/dist-packages (from nbformat->notebook>=4.4.1->widgetsnbextension~=3.6.0->ipywidgets<8.0.0->ax-platform) (4.3.3)\n",
            "Requirement already satisfied: fastjsonschema in /usr/local/lib/python3.8/dist-packages (from nbformat->notebook>=4.4.1->widgetsnbextension~=3.6.0->ipywidgets<8.0.0->ax-platform) (2.16.2)\n",
            "Requirement already satisfied: pyrsistent!=0.17.0,!=0.17.1,!=0.17.2,>=0.14.0 in /usr/local/lib/python3.8/dist-packages (from jsonschema>=2.6->nbformat->notebook>=4.4.1->widgetsnbextension~=3.6.0->ipywidgets<8.0.0->ax-platform) (0.19.3)\n",
            "Requirement already satisfied: attrs>=17.4.0 in /usr/local/lib/python3.8/dist-packages (from jsonschema>=2.6->nbformat->notebook>=4.4.1->widgetsnbextension~=3.6.0->ipywidgets<8.0.0->ax-platform) (22.2.0)\n",
            "Requirement already satisfied: importlib-resources>=1.4.0 in /usr/local/lib/python3.8/dist-packages (from jsonschema>=2.6->nbformat->notebook>=4.4.1->widgetsnbextension~=3.6.0->ipywidgets<8.0.0->ax-platform) (5.10.2)\n",
            "Requirement already satisfied: cffi>=1.0.1 in /usr/local/lib/python3.8/dist-packages (from argon2-cffi-bindings->argon2-cffi->notebook>=4.4.1->widgetsnbextension~=3.6.0->ipywidgets<8.0.0->ax-platform) (1.15.1)\n",
            "Requirement already satisfied: webencodings in /usr/local/lib/python3.8/dist-packages (from bleach->nbconvert->notebook>=4.4.1->widgetsnbextension~=3.6.0->ipywidgets<8.0.0->ax-platform) (0.5.1)\n",
            "Requirement already satisfied: pycparser in /usr/local/lib/python3.8/dist-packages (from cffi>=1.0.1->argon2-cffi-bindings->argon2-cffi->notebook>=4.4.1->widgetsnbextension~=3.6.0->ipywidgets<8.0.0->ax-platform) (2.21)\n",
            "Requirement already satisfied: zipp>=3.1.0 in /usr/local/lib/python3.8/dist-packages (from importlib-resources>=1.4.0->jsonschema>=2.6->nbformat->notebook>=4.4.1->widgetsnbextension~=3.6.0->ipywidgets<8.0.0->ax-platform) (3.13.0)\n",
            "Installing collected packages: pyro-api, jedi, pyro-ppl, linear-operator, gpytorch, botorch, ax-platform\n",
            "Successfully installed ax-platform-0.2.10 botorch-0.8.0 gpytorch-1.9.0 jedi-0.18.2 linear-operator-0.2.0 pyro-api-0.1.2 pyro-ppl-1.8.4\n"
          ]
        }
      ],
      "source": [
        "%pip install ax-platform"
      ]
    },
    {
      "cell_type": "code",
      "execution_count": 2,
      "metadata": {
        "colab": {
          "base_uri": "https://localhost:8080/",
          "height": 268
        },
        "id": "frb6kTSIpZug",
        "outputId": "c338439a-80e8-425f-8195-8ac0a35e319a"
      },
      "outputs": [],
      "source": [
        "# %% imports\n",
        "import numpy as np\n",
        "import pandas as pd\n",
        "\n",
        "from sklearn.datasets import make_regression\n",
        "from sklearn.preprocessing import MinMaxScaler, normalize\n",
        "\n",
        "from ax.modelbridge.generation_strategy import GenerationStrategy, GenerationStep\n",
        "from ax.modelbridge.registry import Models\n",
        "\n",
        "from ax.service.ax_client import AxClient\n",
        "from ax.service.utils.instantiation import ObjectiveProperties"
      ]
    },
    {
      "attachments": {},
      "cell_type": "markdown",
      "metadata": {},
      "source": [
        "Create `X_train` and `y_train` using sklearn's `make_regression` function. We will use\n",
        "this data to train a model. You can load your data in via CSV files instead."
      ]
    },
    {
      "cell_type": "code",
      "execution_count": 62,
      "metadata": {},
      "outputs": [],
      "source": [
        "n_train = 7\n",
        "unique_components = [\"filler_A\", \"filler_B\", \"resin_A\", \"resin_B\", \"resin_C\"]\n",
        "objective_names = [\"yield_strength\", \"elongation\"]\n",
        "\n",
        "X_train, y_train = make_regression(\n",
        "    n_samples=n_train,\n",
        "    n_features=5,\n",
        "    n_informative=5,\n",
        "    n_targets=2,\n",
        "    noise=0.1,\n",
        "    random_state=10,\n",
        ")\n",
        "\n",
        "X_train = MinMaxScaler().fit_transform(X_train)\n",
        "X_train = normalize(X_train, norm=\"l1\")\n",
        "\n",
        "y_train[:, 0] = (\n",
        "    MinMaxScaler(feature_range=(0, 100))\n",
        "    .fit_transform(y_train[:, 0].reshape(-1, 1))\n",
        "    .ravel()\n",
        ")\n",
        "y_train[:, 1] = (\n",
        "    MinMaxScaler(feature_range=(0, 5))\n",
        "    .fit_transform(y_train[:, 1].reshape(-1, 1))\n",
        "    .ravel()\n",
        ")\n",
        "\n",
        "X_train = pd.DataFrame(X_train, columns=unique_components)\n",
        "y_train = pd.DataFrame(y_train, columns=objective_names)"
      ]
    },
    {
      "cell_type": "code",
      "execution_count": 63,
      "metadata": {},
      "outputs": [
        {
          "data": {
            "text/html": [
              "<div>\n",
              "<style scoped>\n",
              "    .dataframe tbody tr th:only-of-type {\n",
              "        vertical-align: middle;\n",
              "    }\n",
              "\n",
              "    .dataframe tbody tr th {\n",
              "        vertical-align: top;\n",
              "    }\n",
              "\n",
              "    .dataframe thead th {\n",
              "        text-align: right;\n",
              "    }\n",
              "</style>\n",
              "<table border=\"1\" class=\"dataframe\">\n",
              "  <thead>\n",
              "    <tr style=\"text-align: right;\">\n",
              "      <th></th>\n",
              "      <th>filler_A</th>\n",
              "      <th>filler_B</th>\n",
              "      <th>resin_A</th>\n",
              "      <th>resin_B</th>\n",
              "      <th>resin_C</th>\n",
              "    </tr>\n",
              "  </thead>\n",
              "  <tbody>\n",
              "    <tr>\n",
              "      <th>0</th>\n",
              "      <td>0.263170</td>\n",
              "      <td>0.161356</td>\n",
              "      <td>0.319319</td>\n",
              "      <td>0.177511</td>\n",
              "      <td>0.078643</td>\n",
              "    </tr>\n",
              "    <tr>\n",
              "      <th>1</th>\n",
              "      <td>0.233281</td>\n",
              "      <td>0.191723</td>\n",
              "      <td>0.165822</td>\n",
              "      <td>0.409174</td>\n",
              "      <td>0.000000</td>\n",
              "    </tr>\n",
              "    <tr>\n",
              "      <th>2</th>\n",
              "      <td>0.067263</td>\n",
              "      <td>0.225302</td>\n",
              "      <td>0.341151</td>\n",
              "      <td>0.186902</td>\n",
              "      <td>0.179382</td>\n",
              "    </tr>\n",
              "    <tr>\n",
              "      <th>3</th>\n",
              "      <td>0.242482</td>\n",
              "      <td>0.000000</td>\n",
              "      <td>0.000000</td>\n",
              "      <td>0.363517</td>\n",
              "      <td>0.394001</td>\n",
              "    </tr>\n",
              "    <tr>\n",
              "      <th>4</th>\n",
              "      <td>0.000000</td>\n",
              "      <td>0.346443</td>\n",
              "      <td>0.318884</td>\n",
              "      <td>0.272197</td>\n",
              "      <td>0.062476</td>\n",
              "    </tr>\n",
              "    <tr>\n",
              "      <th>5</th>\n",
              "      <td>0.293613</td>\n",
              "      <td>0.293613</td>\n",
              "      <td>0.183609</td>\n",
              "      <td>0.208137</td>\n",
              "      <td>0.021027</td>\n",
              "    </tr>\n",
              "    <tr>\n",
              "      <th>6</th>\n",
              "      <td>0.268568</td>\n",
              "      <td>0.312212</td>\n",
              "      <td>0.096869</td>\n",
              "      <td>0.000000</td>\n",
              "      <td>0.322350</td>\n",
              "    </tr>\n",
              "  </tbody>\n",
              "</table>\n",
              "</div>"
            ],
            "text/plain": [
              "   filler_A  filler_B   resin_A   resin_B   resin_C\n",
              "0  0.263170  0.161356  0.319319  0.177511  0.078643\n",
              "1  0.233281  0.191723  0.165822  0.409174  0.000000\n",
              "2  0.067263  0.225302  0.341151  0.186902  0.179382\n",
              "3  0.242482  0.000000  0.000000  0.363517  0.394001\n",
              "4  0.000000  0.346443  0.318884  0.272197  0.062476\n",
              "5  0.293613  0.293613  0.183609  0.208137  0.021027\n",
              "6  0.268568  0.312212  0.096869  0.000000  0.322350"
            ]
          },
          "execution_count": 63,
          "metadata": {},
          "output_type": "execute_result"
        }
      ],
      "source": [
        "X_train"
      ]
    },
    {
      "cell_type": "code",
      "execution_count": 64,
      "metadata": {},
      "outputs": [
        {
          "data": {
            "text/html": [
              "<div>\n",
              "<style scoped>\n",
              "    .dataframe tbody tr th:only-of-type {\n",
              "        vertical-align: middle;\n",
              "    }\n",
              "\n",
              "    .dataframe tbody tr th {\n",
              "        vertical-align: top;\n",
              "    }\n",
              "\n",
              "    .dataframe thead th {\n",
              "        text-align: right;\n",
              "    }\n",
              "</style>\n",
              "<table border=\"1\" class=\"dataframe\">\n",
              "  <thead>\n",
              "    <tr style=\"text-align: right;\">\n",
              "      <th></th>\n",
              "      <th>yield_strength</th>\n",
              "      <th>elongation</th>\n",
              "    </tr>\n",
              "  </thead>\n",
              "  <tbody>\n",
              "    <tr>\n",
              "      <th>0</th>\n",
              "      <td>11.076321</td>\n",
              "      <td>1.926677</td>\n",
              "    </tr>\n",
              "    <tr>\n",
              "      <th>1</th>\n",
              "      <td>31.772108</td>\n",
              "      <td>1.780739</td>\n",
              "    </tr>\n",
              "    <tr>\n",
              "      <th>2</th>\n",
              "      <td>75.022848</td>\n",
              "      <td>2.872787</td>\n",
              "    </tr>\n",
              "    <tr>\n",
              "      <th>3</th>\n",
              "      <td>43.808779</td>\n",
              "      <td>0.000000</td>\n",
              "    </tr>\n",
              "    <tr>\n",
              "      <th>4</th>\n",
              "      <td>44.688723</td>\n",
              "      <td>2.628655</td>\n",
              "    </tr>\n",
              "    <tr>\n",
              "      <th>5</th>\n",
              "      <td>100.000000</td>\n",
              "      <td>5.000000</td>\n",
              "    </tr>\n",
              "    <tr>\n",
              "      <th>6</th>\n",
              "      <td>0.000000</td>\n",
              "      <td>2.048223</td>\n",
              "    </tr>\n",
              "  </tbody>\n",
              "</table>\n",
              "</div>"
            ],
            "text/plain": [
              "   yield_strength  elongation\n",
              "0       11.076321    1.926677\n",
              "1       31.772108    1.780739\n",
              "2       75.022848    2.872787\n",
              "3       43.808779    0.000000\n",
              "4       44.688723    2.628655\n",
              "5      100.000000    5.000000\n",
              "6        0.000000    2.048223"
            ]
          },
          "execution_count": 64,
          "metadata": {},
          "output_type": "execute_result"
        }
      ],
      "source": [
        "y_train"
      ]
    },
    {
      "cell_type": "code",
      "execution_count": 65,
      "metadata": {
        "colab": {
          "base_uri": "https://localhost:8080/"
        },
        "id": "IM7Dt9tuqoZk",
        "outputId": "b4e95cd0-c5be-41a0-f387-2a7589d970bc"
      },
      "outputs": [],
      "source": [
        "# Ax-specific\n",
        "filler_upper_bound = 0.7\n",
        "resin_upper_bound = 0.3\n",
        "loose_parameters = [\n",
        "    {\"name\": component, \"type\": \"range\", \"bounds\": [0.0, 1.0]}\n",
        "    for component in unique_components[:-1]\n",
        "]\n",
        "tight_parameters = [\n",
        "    {\n",
        "        \"name\": component,\n",
        "        \"type\": \"range\",\n",
        "        \"bounds\": [\n",
        "            0.0,\n",
        "            filler_upper_bound if \"filler\" in component else resin_upper_bound,\n",
        "        ],\n",
        "    }\n",
        "    for component in unique_components[:-1]\n",
        "]"
      ]
    },
    {
      "cell_type": "code",
      "execution_count": 66,
      "metadata": {},
      "outputs": [
        {
          "data": {
            "text/plain": [
              "[{'name': 'filler_A', 'type': 'range', 'bounds': [0.0, 1.0]},\n",
              " {'name': 'filler_B', 'type': 'range', 'bounds': [0.0, 1.0]},\n",
              " {'name': 'resin_A', 'type': 'range', 'bounds': [0.0, 1.0]},\n",
              " {'name': 'resin_B', 'type': 'range', 'bounds': [0.0, 1.0]}]"
            ]
          },
          "execution_count": 66,
          "metadata": {},
          "output_type": "execute_result"
        }
      ],
      "source": [
        "loose_parameters"
      ]
    },
    {
      "cell_type": "code",
      "execution_count": 67,
      "metadata": {},
      "outputs": [
        {
          "data": {
            "text/plain": [
              "[{'name': 'filler_A', 'type': 'range', 'bounds': [0.0, 0.7]},\n",
              " {'name': 'filler_B', 'type': 'range', 'bounds': [0.0, 0.7]},\n",
              " {'name': 'resin_A', 'type': 'range', 'bounds': [0.0, 0.3]},\n",
              " {'name': 'resin_B', 'type': 'range', 'bounds': [0.0, 0.3]}]"
            ]
          },
          "execution_count": 67,
          "metadata": {},
          "output_type": "execute_result"
        }
      ],
      "source": [
        "tight_parameters"
      ]
    },
    {
      "cell_type": "code",
      "execution_count": 68,
      "metadata": {
        "colab": {
          "base_uri": "https://localhost:8080/",
          "height": 36
        },
        "id": "xK644Esppia_",
        "outputId": "14dfd551-e594-4001-e56a-34762ee1ceab"
      },
      "outputs": [
        {
          "data": {
            "text/plain": [
              "['filler_A + filler_B + resin_A + resin_B <= 1.0',\n",
              " 'filler_A + filler_B <= 0.7',\n",
              " 'resin_A + resin_B <= 0.3']"
            ]
          },
          "execution_count": 68,
          "metadata": {},
          "output_type": "execute_result"
        }
      ],
      "source": [
        "separator = \" + \"\n",
        "composition_constraint = separator.join(unique_components[:-1]) + \" <= 1.0\"\n",
        "filler_components = [\n",
        "    component for component in unique_components[:-1] if \"filler\" in component\n",
        "]\n",
        "resin_components = [\n",
        "    component for component in unique_components[:-1] if \"resin\" in component\n",
        "]\n",
        "filler_constraint = separator.join(filler_components) + \" <= 0.7\"\n",
        "# technically can be over 0.3 since resin_C is hidden and not incorporated into this constraint\n",
        "resin_constraint = separator.join(resin_components) + \" <= 0.3\"\n",
        "parameter_constraints = [composition_constraint, filler_constraint, resin_constraint]\n",
        "parameter_constraints"
      ]
    },
    {
      "cell_type": "code",
      "execution_count": 69,
      "metadata": {
        "colab": {
          "base_uri": "https://localhost:8080/"
        },
        "id": "npCeW3_9pjyG",
        "outputId": "c84eae3e-5eed-4ae3-bf8b-4c540bda3459"
      },
      "outputs": [
        {
          "name": "stderr",
          "output_type": "stream",
          "text": [
            "[INFO 02-18 11:40:44] ax.service.ax_client: Starting optimization with verbose logging. To disable logging, set the `verbose_logging` argument to `False`. Note that float values in the logs are rounded to 6 decimal points.\n",
            "[INFO 02-18 11:40:44] ax.service.utils.instantiation: Due to non-specification, we will use the heuristic for selecting objective thresholds.\n",
            "[INFO 02-18 11:40:44] ax.service.utils.instantiation: Inferred value type of ParameterType.FLOAT for parameter filler_A. If that is not the expected value type, you can explicity specify 'value_type' ('int', 'float', 'bool' or 'str') in parameter dict.\n",
            "[INFO 02-18 11:40:44] ax.service.utils.instantiation: Inferred value type of ParameterType.FLOAT for parameter filler_B. If that is not the expected value type, you can explicity specify 'value_type' ('int', 'float', 'bool' or 'str') in parameter dict.\n",
            "[INFO 02-18 11:40:44] ax.service.utils.instantiation: Inferred value type of ParameterType.FLOAT for parameter resin_A. If that is not the expected value type, you can explicity specify 'value_type' ('int', 'float', 'bool' or 'str') in parameter dict.\n",
            "[INFO 02-18 11:40:44] ax.service.utils.instantiation: Inferred value type of ParameterType.FLOAT for parameter resin_B. If that is not the expected value type, you can explicity specify 'value_type' ('int', 'float', 'bool' or 'str') in parameter dict.\n",
            "[INFO 02-18 11:40:44] ax.service.utils.instantiation: Created search space: SearchSpace(parameters=[RangeParameter(name='filler_A', parameter_type=FLOAT, range=[0.0, 1.0]), RangeParameter(name='filler_B', parameter_type=FLOAT, range=[0.0, 1.0]), RangeParameter(name='resin_A', parameter_type=FLOAT, range=[0.0, 1.0]), RangeParameter(name='resin_B', parameter_type=FLOAT, range=[0.0, 1.0])], parameter_constraints=[ParameterConstraint(1.0*filler_A + 1.0*filler_B + 1.0*resin_A + 1.0*resin_B <= 1.0)]).\n",
            "[INFO 02-18 11:40:44] ax.service.ax_client: Starting optimization with verbose logging. To disable logging, set the `verbose_logging` argument to `False`. Note that float values in the logs are rounded to 6 decimal points.\n",
            "[INFO 02-18 11:40:44] ax.service.utils.instantiation: Due to non-specification, we will use the heuristic for selecting objective thresholds.\n",
            "[INFO 02-18 11:40:44] ax.service.utils.instantiation: Inferred value type of ParameterType.FLOAT for parameter filler_A. If that is not the expected value type, you can explicity specify 'value_type' ('int', 'float', 'bool' or 'str') in parameter dict.\n",
            "[INFO 02-18 11:40:44] ax.service.utils.instantiation: Inferred value type of ParameterType.FLOAT for parameter filler_B. If that is not the expected value type, you can explicity specify 'value_type' ('int', 'float', 'bool' or 'str') in parameter dict.\n",
            "[INFO 02-18 11:40:44] ax.service.utils.instantiation: Inferred value type of ParameterType.FLOAT for parameter resin_A. If that is not the expected value type, you can explicity specify 'value_type' ('int', 'float', 'bool' or 'str') in parameter dict.\n",
            "[INFO 02-18 11:40:44] ax.service.utils.instantiation: Inferred value type of ParameterType.FLOAT for parameter resin_B. If that is not the expected value type, you can explicity specify 'value_type' ('int', 'float', 'bool' or 'str') in parameter dict.\n",
            "[INFO 02-18 11:40:44] ax.service.utils.instantiation: Created search space: SearchSpace(parameters=[RangeParameter(name='filler_A', parameter_type=FLOAT, range=[0.0, 0.7]), RangeParameter(name='filler_B', parameter_type=FLOAT, range=[0.0, 0.7]), RangeParameter(name='resin_A', parameter_type=FLOAT, range=[0.0, 0.3]), RangeParameter(name='resin_B', parameter_type=FLOAT, range=[0.0, 0.3])], parameter_constraints=[ParameterConstraint(1.0*filler_A + 1.0*filler_B + 1.0*resin_A + 1.0*resin_B <= 1.0), ParameterConstraint(1.0*filler_A + 1.0*filler_B <= 0.7), ParameterConstraint(1.0*resin_A + 1.0*resin_B <= 0.3)]).\n"
          ]
        }
      ],
      "source": [
        "# skip the pseudo-random suggested points by specifying a custom generation strategy\n",
        "import torch\n",
        "\n",
        "gs = GenerationStrategy(\n",
        "    steps=[\n",
        "        # 2. Bayesian optimization step (requires data obtained from previous phase and learns\n",
        "        # from all data available at the time of each new candidate generation call)\n",
        "        GenerationStep(\n",
        "            model=Models.FULLYBAYESIANMOO,\n",
        "            model_kwargs={\"fit_out_of_design\": True},\n",
        "            num_trials=-1,  # No limitation on how many trials should be produced from this step\n",
        "            max_parallelism=None,  # Parallelism limit for this step, often lower than for Sobol\n",
        "            # More on parallelism vs. required samples in BayesOpt:\n",
        "            # https://ax.dev/docs/bayesopt.html#tradeoff-between-parallelism-and-total-number-of-trials\n",
        "        ),\n",
        "    ]\n",
        ")\n",
        "\n",
        "objectives = {\n",
        "    objective_name: ObjectiveProperties(minimize=False)\n",
        "    for objective_name in objective_names\n",
        "}\n",
        "\n",
        "# setup the experiment\n",
        "experiment_name = \"dummy\"\n",
        "ax_client = AxClient(generation_strategy=gs)\n",
        "ax_client.create_experiment(\n",
        "    name=experiment_name,\n",
        "    parameters=loose_parameters,\n",
        "    parameter_constraints=[composition_constraint],\n",
        "    objectives=objectives,\n",
        "    immutable_search_space_and_opt_config=False,\n",
        ")\n",
        "\n",
        "ax_client_tmp = AxClient(generation_strategy=gs)\n",
        "ax_client_tmp.create_experiment(\n",
        "    name=experiment_name,\n",
        "    parameters=tight_parameters,\n",
        "    parameter_constraints=parameter_constraints,\n",
        "    objectives=objectives,\n",
        "    immutable_search_space_and_opt_config=False,\n",
        ")"
      ]
    },
    {
      "cell_type": "code",
      "execution_count": 70,
      "metadata": {
        "colab": {
          "base_uri": "https://localhost:8080/"
        },
        "id": "EEv0dHgqpyGA",
        "outputId": "2271abd5-789a-4f19-ff20-c31eb4655700"
      },
      "outputs": [
        {
          "name": "stderr",
          "output_type": "stream",
          "text": [
            "[INFO 02-18 11:40:45] ax.service.ax_client: Attached custom parameterization {'filler_A': 0.26317, 'filler_B': 0.161356, 'resin_A': 0.319319, 'resin_B': 0.177511} as trial 0.\n",
            "[INFO 02-18 11:40:45] ax.service.ax_client: Completed trial 0 with data: {'yield_strength': (11.076321, None), 'elongation': (1.926677, None)}.\n",
            "[INFO 02-18 11:40:45] ax.service.ax_client: Attached custom parameterization {'filler_A': 0.233281, 'filler_B': 0.191723, 'resin_A': 0.165822, 'resin_B': 0.409174} as trial 1.\n",
            "[INFO 02-18 11:40:45] ax.service.ax_client: Completed trial 1 with data: {'yield_strength': (31.772108, None), 'elongation': (1.780739, None)}.\n",
            "[INFO 02-18 11:40:45] ax.service.ax_client: Attached custom parameterization {'filler_A': 0.067263, 'filler_B': 0.225302, 'resin_A': 0.341151, 'resin_B': 0.186902} as trial 2.\n",
            "[INFO 02-18 11:40:45] ax.service.ax_client: Completed trial 2 with data: {'yield_strength': (75.022848, None), 'elongation': (2.872787, None)}.\n",
            "[INFO 02-18 11:40:45] ax.service.ax_client: Attached custom parameterization {'filler_A': 0.242482, 'filler_B': 0.0, 'resin_A': 0.0, 'resin_B': 0.363517} as trial 3.\n",
            "[INFO 02-18 11:40:45] ax.service.ax_client: Completed trial 3 with data: {'yield_strength': (43.808779, None), 'elongation': (0.0, None)}.\n",
            "[INFO 02-18 11:40:45] ax.service.ax_client: Attached custom parameterization {'filler_A': 0.0, 'filler_B': 0.346443, 'resin_A': 0.318884, 'resin_B': 0.272197} as trial 4.\n",
            "[INFO 02-18 11:40:45] ax.service.ax_client: Completed trial 4 with data: {'yield_strength': (44.688723, None), 'elongation': (2.628655, None)}.\n",
            "[INFO 02-18 11:40:45] ax.service.ax_client: Attached custom parameterization {'filler_A': 0.293613, 'filler_B': 0.293613, 'resin_A': 0.183609, 'resin_B': 0.208137} as trial 5.\n",
            "[INFO 02-18 11:40:45] ax.service.ax_client: Completed trial 5 with data: {'yield_strength': (100.0, None), 'elongation': (5.0, None)}.\n",
            "[INFO 02-18 11:40:45] ax.service.ax_client: Attached custom parameterization {'filler_A': 0.268568, 'filler_B': 0.312212, 'resin_A': 0.096869, 'resin_B': 0.0} as trial 6.\n",
            "[INFO 02-18 11:40:45] ax.service.ax_client: Completed trial 6 with data: {'yield_strength': (0.0, None), 'elongation': (2.048223, None)}.\n"
          ]
        }
      ],
      "source": [
        "# attach the training data\n",
        "for i in range(n_train):\n",
        "    ax_client.attach_trial(X_train.iloc[i, :-1].to_dict())\n",
        "    ax_client.complete_trial(trial_index=i, raw_data=y_train.iloc[i, :].to_dict())"
      ]
    },
    {
      "attachments": {},
      "cell_type": "markdown",
      "metadata": {},
      "source": [
        "Narrow the search space"
      ]
    },
    {
      "cell_type": "code",
      "execution_count": 71,
      "metadata": {},
      "outputs": [],
      "source": [
        "ax_client.experiment.search_space = ax_client_tmp.experiment.search_space"
      ]
    },
    {
      "attachments": {},
      "cell_type": "markdown",
      "metadata": {},
      "source": [
        "Produce a *batch* of five next suggested experiments. **Be sure to only run this once.**"
      ]
    },
    {
      "cell_type": "code",
      "execution_count": 72,
      "metadata": {
        "colab": {
          "base_uri": "https://localhost:8080/"
        },
        "id": "7dSAOLfmp40m",
        "outputId": "c77d8e36-b1a0-470d-d6bd-38ca1856c032"
      },
      "outputs": [
        {
          "name": "stderr",
          "output_type": "stream",
          "text": [
            "Sample: 100%|██████████| 768/768 [00:33, 23.26it/s, step size=3.88e-01, acc. prob=0.899]\n",
            "Sample: 100%|██████████| 768/768 [00:42, 17.98it/s, step size=2.26e-01, acc. prob=0.873]\n",
            "[INFO 02-18 11:42:17] ax.service.ax_client: Generated new trial 7 with parameters {'filler_A': 0.326016, 'filler_B': 0.342771, 'resin_A': 0.16872, 'resin_B': 0.13128}.\n",
            "Sample: 100%|██████████| 768/768 [00:35, 21.86it/s, step size=2.85e-01, acc. prob=0.927]\n",
            "Sample: 100%|██████████| 768/768 [00:38, 19.97it/s, step size=2.56e-01, acc. prob=0.899]\n",
            "[INFO 02-18 11:43:38] ax.service.ax_client: Generated new trial 8 with parameters {'filler_A': 0.332654, 'filler_B': 0.367346, 'resin_A': 0.167627, 'resin_B': 0.132373}.\n",
            "Sample: 100%|██████████| 768/768 [00:39, 19.48it/s, step size=2.62e-01, acc. prob=0.955]\n",
            "Sample: 100%|██████████| 768/768 [00:42, 18.19it/s, step size=2.41e-01, acc. prob=0.889]\n",
            "[INFO 02-18 11:45:08] ax.service.ax_client: Generated new trial 9 with parameters {'filler_A': 0.412904, 'filler_B': 0.287096, 'resin_A': 0.089453, 'resin_B': 0.210547}.\n",
            "Sample: 100%|██████████| 768/768 [00:36, 21.03it/s, step size=2.69e-01, acc. prob=0.925]\n",
            "Sample: 100%|██████████| 768/768 [00:43, 17.85it/s, step size=2.00e-01, acc. prob=0.948]\n",
            "[INFO 02-18 11:46:36] ax.service.ax_client: Generated new trial 10 with parameters {'filler_A': 0.0, 'filler_B': 0.7, 'resin_A': 0.166318, 'resin_B': 0.133682}.\n",
            "Sample: 100%|██████████| 768/768 [00:34, 22.52it/s, step size=4.24e-01, acc. prob=0.798]\n",
            "Sample: 100%|██████████| 768/768 [00:40, 18.79it/s, step size=2.54e-01, acc. prob=0.908]\n",
            "[INFO 02-18 11:48:01] ax.service.ax_client: Generated new trial 11 with parameters {'filler_A': 0.0, 'filler_B': 0.7, 'resin_A': 0.050149, 'resin_B': 0.219689}.\n"
          ]
        }
      ],
      "source": [
        "next_experiments, optimization_complete = ax_client.get_next_trials(max_trials=5)"
      ]
    },
    {
      "cell_type": "code",
      "execution_count": 73,
      "metadata": {},
      "outputs": [
        {
          "name": "stdout",
          "output_type": "stream",
          "text": [
            "next suggested experiments:\n",
            "{7: {'filler_A': 0.3260161948842118,\n",
            "     'filler_B': 0.34277081285749944,\n",
            "     'resin_A': 0.16871984075941424,\n",
            "     'resin_B': 0.13128015924076872},\n",
            " 8: {'filler_A': 0.33265439569579575,\n",
            "     'filler_B': 0.3673456043040991,\n",
            "     'resin_A': 0.16762655987294398,\n",
            "     'resin_B': 0.13237344012693003},\n",
            " 9: {'filler_A': 0.412904324680518,\n",
            "     'filler_B': 0.28709567531948066,\n",
            "     'resin_A': 0.0894530622435886,\n",
            "     'resin_B': 0.21054693775640562},\n",
            " 10: {'filler_A': 1.665008747311923e-13,\n",
            "      'filler_B': 0.7,\n",
            "      'resin_A': 0.16631813258167671,\n",
            "      'resin_B': 0.13368186741806554},\n",
            " 11: {'filler_A': 4.0860711084152173e-16,\n",
            "      'filler_B': 0.6999999999999957,\n",
            "      'resin_A': 0.05014880409698304,\n",
            "      'resin_B': 0.21968920802447037}}\n"
          ]
        }
      ],
      "source": [
        "from pprint import pprint\n",
        "print(\"next suggested experiments:\")\n",
        "pprint(next_experiments)"
      ]
    },
    {
      "cell_type": "code",
      "execution_count": 74,
      "metadata": {
        "colab": {
          "base_uri": "https://localhost:8080/"
        },
        "id": "6Uh9FZFuq-mR",
        "outputId": "4e7ffcd9-73fd-4aff-ad66-2df5327b0e0f"
      },
      "outputs": [
        {
          "name": "stderr",
          "output_type": "stream",
          "text": [
            "Sample: 100%|██████████| 768/768 [00:36, 21.30it/s, step size=3.25e-01, acc. prob=0.878]\n",
            "Sample: 100%|██████████| 768/768 [00:53, 14.33it/s, step size=2.70e-01, acc. prob=0.901]\n",
            "[INFO 02-18 11:49:31] ax.service.utils.best_point: Using inferred objective thresholds: [ObjectiveThreshold(elongation >= 2.032803509426325), ObjectiveThreshold(yield_strength >= -3.770957883207984)], as objective thresholds were not specified as part of the optimization configuration on the experiment.\n"
          ]
        }
      ],
      "source": [
        "pareto_optimal_parameters = ax_client.get_pareto_optimal_parameters()"
      ]
    },
    {
      "cell_type": "code",
      "execution_count": 75,
      "metadata": {
        "id": "1bilTLUGizQS"
      },
      "outputs": [
        {
          "name": "stdout",
          "output_type": "stream",
          "text": [
            "{}\n"
          ]
        }
      ],
      "source": [
        "pprint(pareto_optimal_parameters)"
      ]
    },
    {
      "cell_type": "code",
      "execution_count": null,
      "metadata": {},
      "outputs": [],
      "source": []
    }
  ],
  "metadata": {
    "colab": {
      "provenance": []
    },
    "kernelspec": {
      "display_name": "Python 3.9.13 ('sdl-demo')",
      "language": "python",
      "name": "python3"
    },
    "language_info": {
      "codemirror_mode": {
        "name": "ipython",
        "version": 3
      },
      "file_extension": ".py",
      "mimetype": "text/x-python",
      "name": "python",
      "nbconvert_exporter": "python",
      "pygments_lexer": "ipython3",
      "version": "3.9.13"
    },
    "vscode": {
      "interpreter": {
        "hash": "70cb6d4911b67e25d1487ebd620c5d1370239efaaf47f3851af44f5c5a26f988"
      }
    }
  },
  "nbformat": 4,
  "nbformat_minor": 0
}
