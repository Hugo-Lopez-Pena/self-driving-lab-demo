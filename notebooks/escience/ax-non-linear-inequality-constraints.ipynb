{
 "cells": [
  {
   "cell_type": "markdown",
   "metadata": {
    "code_folding": [],
    "customInput": null,
    "hidden_ranges": [],
    "originalKey": "34d91651-ca5e-42c0-8777-c40309ae9178",
    "showInput": false
   },
   "source": [
    "## Using non-linear inequality constraints in Ax\n",
    "This notebook comes with the following caveats:\n",
    "1. The search space has to be [0, 1]^d\n",
    "2. We need to pass in explicit `batch_initial_conditions` that satisfy the non-linear inequality constraints as starting points for optimizing the acquisition function.\n",
    "3. BATCH_SIZE must be equal to 1."
   ]
  },
  {
   "cell_type": "code",
   "execution_count": 1,
   "metadata": {
    "code_folding": [],
    "executionStartTime": 1643400429671,
    "executionStopTime": 1643400429679,
    "hidden_ranges": [],
    "originalKey": "cd818119-565c-4722-ba64-ebe91b0b3c37",
    "requestMsgId": "bc0c0458-b476-4543-bb12-128df078438a",
    "showInput": true
   },
   "outputs": [],
   "source": [
    "import random\n",
    "\n",
    "import torch\n",
    "from ax import Data, Experiment, ParameterType, RangeParameter, SearchSpace\n",
    "from ax.modelbridge.registry import Models\n",
    "from ax.runners.synthetic import SyntheticRunner\n",
    "from torch.quasirandom import SobolEngine"
   ]
  },
  {
   "cell_type": "code",
   "execution_count": 2,
   "metadata": {
    "code_folding": [],
    "customInput": null,
    "executionStartTime": 1643400429688,
    "executionStopTime": 1643400429771,
    "hidden_ranges": [],
    "originalKey": "8c79f294-bbc2-45a2-99b0-1319abebe6e6",
    "requestMsgId": "cb4e8d23-99ec-48d9-b000-d10136cb0b22",
    "showInput": true
   },
   "outputs": [],
   "source": [
    "from ax.core.objective import Objective\n",
    "from ax.core.optimization_config import OptimizationConfig\n",
    "from ax.metrics.hartmann6 import Hartmann6Metric\n",
    "\n",
    "\n",
    "search_space = SearchSpace(\n",
    "    parameters=[\n",
    "        RangeParameter(name=f\"x{i}\", parameter_type=ParameterType.FLOAT, lower=0.0, upper=1.0) for i in range(6)\n",
    "    ]\n",
    ")\n",
    "\n",
    "optimization_config = OptimizationConfig(\n",
    "    objective=Objective(\n",
    "        metric=Hartmann6Metric(\n",
    "            name=\"objective\",\n",
    "            param_names=[f\"x{i}\" for i in range(6)],\n",
    "            noise_sd=0.0,\n",
    "        ),\n",
    "        minimize=True,\n",
    "    )\n",
    ")"
   ]
  },
  {
   "cell_type": "markdown",
   "metadata": {
    "code_folding": [],
    "customInput": null,
    "hidden_ranges": [],
    "originalKey": "82463719-6f1c-4e76-9785-e6530023c961",
    "showInput": false
   },
   "source": [
    "We want to optimize $f_{\\text{hartmann6}}(x)$ subject to an additional constraint $|| x ||_0 <= 3$. \n",
    "\n",
    "This constraint isn't differentiable, but it can be approximated by a differentiable relaxation using a sum of narrow Gaussian basis functions. \n",
    "Given a univariate Gaussian basis function $g_{\\ell}(x)$ centered at zero with $\\ell > 0$ small, \n",
    "we can approximate the constraint by: $|| x ||_0 \\approx 6 - \\sum_{i=1}^6 g_{\\ell}(x_i) \\leq 3$, which reduces to $\\sum_{i=1}^6 g_{\\ell}(x_i) \\geq 3$."
   ]
  },
  {
   "cell_type": "code",
   "execution_count": 3,
   "metadata": {
    "code_folding": [],
    "customInput": null,
    "executionStartTime": 1643400429785,
    "executionStopTime": 1643400429869,
    "hidden_ranges": [],
    "originalKey": "bd75693c-a798-47c3-b2df-5707c27418a5",
    "requestMsgId": "7f05f873-2fc8-42f3-a737-39559ea62309",
    "showInput": true
   },
   "outputs": [],
   "source": [
    "def narrow_gaussian(x, ell):\n",
    "    return torch.exp(-0.5 * (x / ell) ** 2)\n",
    "\n",
    "\n",
    "def ineq_constraint(x, ell=1e-3):\n",
    "    # Approximation of || x ||_0 <= 3. The constraint is >= 0 to conform with SLSQP\n",
    "    return narrow_gaussian(x, ell).sum(dim=-1) - 3"
   ]
  },
  {
   "cell_type": "markdown",
   "metadata": {
    "code_folding": [],
    "customInput": null,
    "hidden_ranges": [],
    "originalKey": "7698b121-6606-4566-b8d4-d31fc63888f8",
    "showInput": false
   },
   "source": [
    "## BO-loop"
   ]
  },
  {
   "cell_type": "code",
   "execution_count": 4,
   "metadata": {
    "code_folding": [],
    "customInput": null,
    "executionStartTime": 1643400982230,
    "executionStopTime": 1643400982234,
    "hidden_ranges": [],
    "originalKey": "ed065c68-9c45-4baa-9ae8-f0c3c58aa462",
    "requestMsgId": "90f821c2-1c2e-4a4c-8b47-6f86255f12ff",
    "showInput": true
   },
   "outputs": [],
   "source": [
    "from botorch.acquisition import ExpectedImprovement\n",
    "from botorch.fit import fit_gpytorch_model\n",
    "from botorch.models import SingleTaskGP\n",
    "from botorch.models.transforms import Standardize\n",
    "from gpytorch.mlls import ExactMarginalLogLikelihood\n",
    "\n",
    "\n",
    "def get_batch_initial_conditions(n, X, Y, raw_samples):\n",
    "    \"\"\"Generate starting points for the acquisition function optimization.\"\"\"\n",
    "    # 1. Draw `raw_samples` Sobol points and randomly set three parameters to zero to satisfy the constraint\n",
    "    X_cand = SobolEngine(dimension=6, scramble=True).draw(raw_samples).to(torch.double)\n",
    "    inds = torch.argsort(torch.rand(raw_samples, 6), dim=-1)[:, :3]\n",
    "    X_cand[torch.arange(X_cand.shape[0]).unsqueeze(-1), inds] = 0\n",
    "\n",
    "    # 2. Fit a GP to the observed data, the right thing to do is to use the Ax model here\n",
    "    gp = SingleTaskGP(X, Y, outcome_transform=Standardize(m=1))\n",
    "    mll = ExactMarginalLogLikelihood(gp.likelihood, gp)\n",
    "    fit_gpytorch_model(mll)\n",
    "\n",
    "    # 3. Use EI to select the best points. Ideally, we should use the Ax acquisition function here as well\n",
    "    EI = ExpectedImprovement(model=gp, best_f=Y.min(), maximize=False)\n",
    "    X_cand = X_cand.unsqueeze(1)\n",
    "    acq_vals = EI(X_cand)\n",
    "    return X_cand[acq_vals.topk(n).indices]"
   ]
  },
  {
   "cell_type": "code",
   "execution_count": 5,
   "metadata": {
    "code_folding": [],
    "customInput": null,
    "executionStartTime": 1643400982522,
    "executionStopTime": 1643400982626,
    "hidden_ranges": [],
    "originalKey": "c05c1f1a-1612-4108-8bc8-47836d9141dc",
    "requestMsgId": "8e92049a-08e5-4b9f-b585-f17ac53116a1",
    "showInput": true
   },
   "outputs": [
    {
     "name": "stdout",
     "output_type": "stream",
     "text": [
      "Doing 30 evaluations\n"
     ]
    }
   ],
   "source": [
    "N_INIT = 10\n",
    "BATCH_SIZE = 1\n",
    "N_BATCHES = 20\n",
    "print(f\"Doing {N_INIT + N_BATCHES * BATCH_SIZE} evaluations\")"
   ]
  },
  {
   "cell_type": "code",
   "execution_count": 7,
   "metadata": {
    "code_folding": [],
    "customInput": null,
    "executionStartTime": 1643400982833,
    "executionStopTime": 1643401440335,
    "hidden_ranges": [],
    "originalKey": "b1e024c7-c064-49eb-b3ab-045bfdd7dad2",
    "requestMsgId": "6eb6608d-6f1a-445b-9e5f-aaba4704f8d7",
    "showInput": true
   },
   "outputs": [
    {
     "name": "stdout",
     "output_type": "stream",
     "text": [
      "Iteration: 0, Best in iteration -0.003, Best so far: -0.669\n",
      "Iteration: 1, Best in iteration -0.308, Best so far: -0.669\n",
      "Iteration: 2, Best in iteration -0.900, Best so far: -0.900\n",
      "Iteration: 3, Best in iteration -1.054, Best so far: -1.054\n",
      "Iteration: 4, Best in iteration -0.483, Best so far: -1.054\n",
      "Iteration: 5, Best in iteration -0.444, Best so far: -1.054\n",
      "Iteration: 6, Best in iteration -0.167, Best so far: -1.054\n",
      "Iteration: 7, Best in iteration -1.086, Best so far: -1.086\n",
      "Iteration: 8, Best in iteration -1.325, Best so far: -1.325\n",
      "Iteration: 9, Best in iteration -1.428, Best so far: -1.428\n",
      "Iteration: 10, Best in iteration -1.163, Best so far: -1.428\n",
      "Iteration: 11, Best in iteration -1.299, Best so far: -1.428\n",
      "Iteration: 12, Best in iteration -0.156, Best so far: -1.428\n",
      "Iteration: 13, Best in iteration -1.451, Best so far: -1.451\n",
      "Iteration: 14, Best in iteration -1.417, Best so far: -1.451\n",
      "Iteration: 15, Best in iteration -0.000, Best so far: -1.451\n",
      "Iteration: 16, Best in iteration -1.446, Best so far: -1.451\n",
      "Iteration: 17, Best in iteration -0.161, Best so far: -1.451\n",
      "Iteration: 18, Best in iteration -1.453, Best so far: -1.453\n",
      "Iteration: 19, Best in iteration -0.006, Best so far: -1.453\n"
     ]
    }
   ],
   "source": [
    "import warnings\n",
    "\n",
    "\n",
    "# Experiment\n",
    "experiment = Experiment(\n",
    "    name=\"saasbo_experiment\",\n",
    "    search_space=search_space,\n",
    "    optimization_config=optimization_config,\n",
    "    runner=SyntheticRunner(),\n",
    ")\n",
    "\n",
    "# Initial Sobol points (set three random parameters to zero)\n",
    "sobol = Models.SOBOL(search_space=experiment.search_space)\n",
    "for _ in range(N_INIT):\n",
    "    trial = sobol.gen(1)\n",
    "    keys = [f\"x{i}\" for i in range(6)]\n",
    "    random.shuffle(keys)\n",
    "    for k in keys[:3]:\n",
    "        trial.arms[0]._parameters[k] = 0.0\n",
    "    experiment.new_trial(trial).run()\n",
    "\n",
    "# Run SAASBO\n",
    "data = experiment.fetch_data()\n",
    "for i in range(N_BATCHES):\n",
    "    model = Models.FULLYBAYESIAN(\n",
    "        experiment=experiment,\n",
    "        data=data,\n",
    "        num_samples=256,  # Increasing this may result in better model fits\n",
    "        warmup_steps=512,  # Increasing this may result in better model fits\n",
    "        gp_kernel=\"matern\",  # \"rbf\" is the default in the paper, but we also support \"matern\"\n",
    "        torch_dtype=torch.double,\n",
    "        verbose=False,  # Set to True to print stats from MCMC\n",
    "        disable_progbar=True,  # Set to False to print a progress bar from MCMC\n",
    "    )\n",
    "    batch_initial_conditions = get_batch_initial_conditions(\n",
    "        n=20, X=model.model.Xs[0], Y=model.model.Ys[0], raw_samples=1024\n",
    "    )\n",
    "    with warnings.catch_warnings():\n",
    "        warnings.simplefilter(\"ignore\")  # Filter SLSQP warnings\n",
    "        generator_run = model.gen(\n",
    "            BATCH_SIZE,\n",
    "            model_gen_options={\n",
    "                \"optimizer_kwargs\": {\n",
    "                    \"nonlinear_inequality_constraints\": [ineq_constraint],\n",
    "                    \"batch_initial_conditions\": batch_initial_conditions,\n",
    "                }\n",
    "            },\n",
    "        )\n",
    "        \n",
    "    trial = experiment.new_batch_trial(generator_run=generator_run)\n",
    "    for arm in trial.arms:\n",
    "        arm._parameters = {k: 0.0 if v < 1e-3 else v for k, v in arm.parameters.items()}\n",
    "        assert sum([v > 1e-3 for v in arm.parameters.values()]) <= 3\n",
    "    trial.run()\n",
    "    data = Data.from_multiple_data([data, trial.fetch_data()])\n",
    "\n",
    "    new_value = trial.fetch_data().df[\"mean\"].min()\n",
    "    print(\n",
    "        f\"Iteration: {i}, Best in iteration {new_value:.3f}, Best so far: {data.df['mean'].min():.3f}\"\n",
    "    )"
   ]
  },
  {
   "cell_type": "code",
   "execution_count": 18,
   "metadata": {},
   "outputs": [
    {
     "data": {
      "text/plain": [
       "{'0_0': Arm(name='0_0', parameters={'x0': 0.0, 'x1': 0.3947888910770416, 'x2': 0.6823248267173767, 'x3': 0.08029326051473618, 'x4': 0.0, 'x5': 0.0}),\n",
       " '1_0': Arm(name='1_0', parameters={'x0': 0.8783855801448226, 'x1': 0.0, 'x2': 0.2742118639871478, 'x3': 0.7599144130945206, 'x4': 0.0, 'x5': 0.0}),\n",
       " '2_0': Arm(name='2_0', parameters={'x0': 0.6105512101203203, 'x1': 0.2073471462354064, 'x2': 0.0, 'x3': 0.396594375371933, 'x4': 0.0, 'x5': 0.0}),\n",
       " '3_0': Arm(name='3_0', parameters={'x0': 0.0, 'x1': 0.0, 'x2': 0.11806663125753403, 'x3': 0.0, 'x4': 0.18404378183186054, 'x5': 0.7800361262634397}),\n",
       " '4_0': Arm(name='4_0', parameters={'x0': 0.0, 'x1': 0.05700875911861658, 'x2': 0.4024905823171139, 'x3': 0.0, 'x4': 0.0, 'x5': 0.609265673905611}),\n",
       " '5_0': Arm(name='5_0', parameters={'x0': 0.0, 'x1': 0.0, 'x2': 0.5609125029295683, 'x3': 0.3053086008876562, 'x4': 0.0, 'x5': 0.4708842942491174}),\n",
       " '6_0': Arm(name='6_0', parameters={'x0': 0.7808420388028026, 'x1': 0.0, 'x2': 0.0, 'x3': 0.9107399936765432, 'x4': 0.9164532786235213, 'x5': 0.0}),\n",
       " '7_0': Arm(name='7_0', parameters={'x0': 0.1582365594804287, 'x1': 0.5009031118825078, 'x2': 0.0, 'x3': 0.0, 'x4': 0.39495890960097313, 'x5': 0.0}),\n",
       " '8_0': Arm(name='8_0', parameters={'x0': 0.0, 'x1': 0.0, 'x2': 0.14424559473991394, 'x3': 0.0, 'x4': 0.8356222687289119, 'x5': 0.8590403916314244}),\n",
       " '9_0': Arm(name='9_0', parameters={'x0': 0.0, 'x1': 0.0, 'x2': 0.7986325491219759, 'x3': 0.0, 'x4': 0.3532103970646858, 'x5': 0.2210860475897789}),\n",
       " '10_0': Arm(name='10_0', parameters={'x0': 0.0, 'x1': 0.0, 'x2': 0.0, 'x3': 1.0, 'x4': 0.12946286643848753, 'x5': 0.9999999999999999}),\n",
       " '11_0': Arm(name='11_0', parameters={'x0': 0.0, 'x1': 0.0, 'x2': 0.09869122951506482, 'x3': 0.10743952244008761, 'x4': 0.0, 'x5': 0.7372598463107055}),\n",
       " '12_0': Arm(name='12_0', parameters={'x0': 0.0, 'x1': 0.0, 'x2': 0.1983302304293295, 'x3': 0.0, 'x4': 0.298132998181553, 'x5': 0.7953397346809123}),\n",
       " '13_0': Arm(name='13_0', parameters={'x0': 0.0, 'x1': 0.0, 'x2': 0.37719049456407927, 'x3': 0.0, 'x4': 0.354825883534383, 'x5': 0.8048912416219522}),\n",
       " '14_0': Arm(name='14_0', parameters={'x0': 0.0, 'x1': 0.0, 'x2': 0.783962563619599, 'x3': 0.0, 'x4': 0.3411509048446085, 'x5': 1.0}),\n",
       " '15_0': Arm(name='15_0', parameters={'x0': 0.0, 'x1': 0.0, 'x2': 0.9940756122161973, 'x3': 0.0, 'x4': 0.4169257584143162, 'x5': 0.7138487926998744}),\n",
       " '16_0': Arm(name='16_0', parameters={'x0': 0.0, 'x1': 0.0, 'x2': 1.0, 'x3': 0.0, 'x4': 0.0, 'x5': 0.810711152037817}),\n",
       " '17_0': Arm(name='17_0', parameters={'x0': 0.0, 'x1': 0.0, 'x2': 0.3699178012147789, 'x3': 0.0, 'x4': 0.4120407152059034, 'x5': 0.7319168233542558}),\n",
       " '18_0': Arm(name='18_0', parameters={'x0': 0.0, 'x1': 0.0, 'x2': 0.42244173164108345, 'x3': 0.0, 'x4': 0.3587416116927888, 'x5': 0.6918750949435428}),\n",
       " '19_0': Arm(name='19_0', parameters={'x0': 0.0, 'x1': 0.0, 'x2': 0.4721926869962687, 'x3': 0.0, 'x4': 0.32843786015018855, 'x5': 0.6304374267635416}),\n",
       " '20_0': Arm(name='20_0', parameters={'x0': 0.0, 'x1': 0.0, 'x2': 0.4836310664379772, 'x3': 0.0, 'x4': 0.42724652682402975, 'x5': 0.5164979877146136}),\n",
       " '21_0': Arm(name='21_0', parameters={'x0': 0.0, 'x1': 0.0, 'x2': 0.40397035842807916, 'x3': 0.0, 'x4': 0.3154736419778214, 'x5': 0.5818631379191134}),\n",
       " '22_0': Arm(name='22_0', parameters={'x0': 1.0, 'x1': 0.0, 'x2': 0.0, 'x3': 0.0, 'x4': 0.3749837849595983, 'x5': 0.6503814221247469}),\n",
       " '23_0': Arm(name='23_0', parameters={'x0': 0.0, 'x1': 0.0, 'x2': 0.5318713471164146, 'x3': 0.0, 'x4': 0.31962927425009696, 'x5': 0.6503407129913229}),\n",
       " '24_0': Arm(name='24_0', parameters={'x0': 0.0, 'x1': 0.0, 'x2': 0.5131064627660906, 'x3': 0.0, 'x4': 0.28680388354583985, 'x5': 0.6685801449944405}),\n",
       " '25_0': Arm(name='25_0', parameters={'x0': 0.0, 'x1': 1.0, 'x2': 0.0, 'x3': 0.0, 'x4': 1.0, 'x5': 1.0}),\n",
       " '26_0': Arm(name='26_0', parameters={'x0': 0.0, 'x1': 0.0, 'x2': 0.545194457695409, 'x3': 0.0, 'x4': 0.3247046793778178, 'x5': 0.6235984744262318}),\n",
       " '27_0': Arm(name='27_0', parameters={'x0': 1.0, 'x1': 0.0, 'x2': 0.7045312353948372, 'x3': 0.0, 'x4': 0.0, 'x5': 1.0}),\n",
       " '28_0': Arm(name='28_0', parameters={'x0': 0.0, 'x1': 0.0, 'x2': 0.5324419510155405, 'x3': 0.0, 'x4': 0.33388688982709996, 'x5': 0.642434947306302}),\n",
       " '29_0': Arm(name='29_0', parameters={'x0': 0.0, 'x1': 1.0, 'x2': 0.0, 'x3': 0.0, 'x4': 0.0, 'x5': 1.0})}"
      ]
     },
     "execution_count": 18,
     "metadata": {},
     "output_type": "execute_result"
    }
   ],
   "source": [
    "experiment.arms_by_name"
   ]
  },
  {
   "cell_type": "code",
   "execution_count": null,
   "metadata": {},
   "outputs": [],
   "source": []
  }
 ],
 "metadata": {
  "bento_stylesheets": {
   "bento/extensions/flow/main.css": true,
   "bento/extensions/kernel_selector/main.css": true,
   "bento/extensions/kernel_ui/main.css": true,
   "bento/extensions/new_kernel/main.css": true,
   "bento/extensions/system_usage/main.css": true,
   "bento/extensions/theme/main.css": true
  },
  "kernelspec": {
   "display_name": "sdl-demo",
   "language": "python",
   "name": "python3"
  },
  "language_info": {
   "codemirror_mode": {
    "name": "ipython",
    "version": 3
   },
   "file_extension": ".py",
   "mimetype": "text/x-python",
   "name": "python",
   "nbconvert_exporter": "python",
   "pygments_lexer": "ipython3",
   "version": "3.9.13"
  },
  "last_base_url": "https://devbig817.ftw3.facebook.com:8090/",
  "last_kernel_id": "a3a29b9e-3d97-4d56-8f49-eb912e682727",
  "last_msg_id": "ed93aa61-f9b28ec76d2cb9b921389c08_1453",
  "last_server_session_id": "92d45b19-ad5d-4ad8-a222-4427621ba739",
  "outputWidgetContext": {},
  "vscode": {
   "interpreter": {
    "hash": "70cb6d4911b67e25d1487ebd620c5d1370239efaaf47f3851af44f5c5a26f988"
   }
  }
 },
 "nbformat": 4,
 "nbformat_minor": 2
}
