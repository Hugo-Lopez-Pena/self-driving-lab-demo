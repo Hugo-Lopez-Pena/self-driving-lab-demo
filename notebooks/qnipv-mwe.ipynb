{
  "cells": [
    {
      "attachments": {},
      "cell_type": "markdown",
      "metadata": {
        "colab_type": "text",
        "id": "view-in-github"
      },
      "source": [
        "<a href=\"https://colab.research.google.com/github/sparks-baird/self-driving-lab-demo/blob/main/notebooks/qnipv-mwe.ipynb\" target=\"_parent\"><img src=\"https://colab.research.google.com/assets/colab-badge.svg\" alt=\"Open In Colab\"/></a>"
      ]
    },
    {
      "cell_type": "code",
      "execution_count": 1,
      "metadata": {
        "colab": {
          "base_uri": "https://localhost:8080/"
        },
        "id": "QyIuGypdJeBi",
        "outputId": "44a0c835-852a-42d2-e8a2-2391ed72b262"
      },
      "outputs": [],
      "source": [
        "# check if in colab\n",
        "import sys\n",
        "IN_COLAB = 'google.colab' in sys.modules\n",
        "if IN_COLAB:\n",
        "    %pip install ax-platform"
      ]
    },
    {
      "cell_type": "code",
      "execution_count": 2,
      "metadata": {
        "colab": {
          "base_uri": "https://localhost:8080/"
        },
        "id": "5Y9jnbrgJcmJ",
        "outputId": "de640881-811f-4769-9358-138d688ad353"
      },
      "outputs": [],
      "source": [
        "from typing import Any, Dict, Optional\n",
        "\n",
        "import torch\n",
        "\n",
        "# from ax.core.objective import ScalarizedObjective\n",
        "from ax.modelbridge import get_sobol\n",
        "from ax.modelbridge.generation_strategy import GenerationStep, GenerationStrategy\n",
        "from ax.modelbridge.registry import Models\n",
        "from ax.modelbridge.transforms.unit_x import UnitX\n",
        "from ax.models.torch.botorch_modular.surrogate import Surrogate\n",
        "from ax.models.random.sobol import SobolGenerator\n",
        "from ax.service.ax_client import AxClient\n",
        "from ax.core.observation import ObservationFeatures\n",
        "from botorch.acquisition.active_learning import (\n",
        "    MCSampler,\n",
        "    qNegIntegratedPosteriorVariance,\n",
        ")\n",
        "from botorch.acquisition.input_constructors import (\n",
        "    MaybeDict,\n",
        "    acqf_input_constructor,\n",
        "    construct_inputs_mc_base,\n",
        ")\n",
        "from botorch.acquisition.objective import AcquisitionObjective\n",
        "from botorch.models.gp_regression import SingleTaskGP\n",
        "from botorch.models.model import Model\n",
        "from botorch.utils.datasets import SupervisedDataset\n",
        "from torch import Tensor\n"
      ]
    },
    {
      "cell_type": "code",
      "execution_count": 3,
      "metadata": {},
      "outputs": [],
      "source": [
        "@acqf_input_constructor(qNegIntegratedPosteriorVariance)\n",
        "def construct_inputs_qNIPV(\n",
        "    model: Model,\n",
        "    mc_points: Tensor,\n",
        "    training_data: MaybeDict[SupervisedDataset],\n",
        "    objective: Optional[AcquisitionObjective] = None,\n",
        "    X_pending: Optional[Tensor] = None,\n",
        "    sampler: Optional[MCSampler] = None,\n",
        "    **kwargs: Any,\n",
        ") -> Dict[str, Any]:\n",
        "    if model.num_outputs == 1:\n",
        "        objective = None\n",
        "\n",
        "    base_inputs = construct_inputs_mc_base(\n",
        "        model=model,\n",
        "        training_data=training_data,\n",
        "        sampler=sampler,\n",
        "        X_pending=X_pending,\n",
        "        objective=objective,\n",
        "    )\n",
        "\n",
        "    return {**base_inputs, \"mc_points\": mc_points}\n",
        "\n",
        "\n",
        "def objective_function(x):\n",
        "    f = x[\"x1\"] ** 2 + x[\"x2\"] ** 2 + x[\"x3\"] ** 2\n",
        "    return {\"f\": (f, None)}"
      ]
    },
    {
      "cell_type": "code",
      "execution_count": 4,
      "metadata": {},
      "outputs": [
        {
          "name": "stderr",
          "output_type": "stream",
          "text": [
            "[INFO 07-08 05:53:51] ax.service.ax_client: Starting optimization with verbose logging. To disable logging, set the `verbose_logging` argument to `False`. Note that float values in the logs are rounded to 6 decimal points.\n",
            "[INFO 07-08 05:53:51] ax.service.utils.instantiation: Created search space: SearchSpace(parameters=[RangeParameter(name='x1', parameter_type=FLOAT, range=[0.0, 5.0]), RangeParameter(name='x2', parameter_type=FLOAT, range=[0.0, 10.0]), RangeParameter(name='x3', parameter_type=FLOAT, range=[0.0, 15.0])], parameter_constraints=[]).\n",
            "[INFO 07-08 05:53:51] ax.modelbridge.dispatch_utils: Using Models.GPEI since there are more ordered parameters than there are categories for the unordered categorical parameters.\n",
            "[INFO 07-08 05:53:51] ax.modelbridge.dispatch_utils: Calculating the number of remaining initialization trials based on num_initialization_trials=None max_initialization_trials=None num_tunable_parameters=3 num_trials=None use_batch_trials=False\n",
            "[INFO 07-08 05:53:51] ax.modelbridge.dispatch_utils: calculated num_initialization_trials=6\n",
            "[INFO 07-08 05:53:51] ax.modelbridge.dispatch_utils: num_completed_initialization_trials=0 num_remaining_initialization_trials=6\n",
            "[INFO 07-08 05:53:51] ax.modelbridge.dispatch_utils: Using Bayesian Optimization generation strategy: GenerationStrategy(name='Sobol+GPEI', steps=[Sobol for 6 trials, GPEI for subsequent trials]). Iterations after 6 will take longer to generate due to model-fitting.\n"
          ]
        }
      ],
      "source": [
        "parameters = [\n",
        "    {\"name\": \"x1\", \"type\": \"range\", \"bounds\": [0.0, 5.0], \"value_type\": \"float\"},\n",
        "    {\"name\": \"x2\", \"type\": \"range\", \"bounds\": [0.0, 10.0], \"value_type\": \"float\"},\n",
        "    {\"name\": \"x3\", \"type\": \"range\", \"bounds\": [0.0, 15.0], \"value_type\": \"float\"},\n",
        "]\n",
        "ax_client_tmp = AxClient()\n",
        "ax_client_tmp.create_experiment(parameters=parameters)"
      ]
    },
    {
      "cell_type": "code",
      "execution_count": 5,
      "metadata": {},
      "outputs": [
        {
          "data": {
            "text/plain": [
              "tensor([[0.7086, 0.9714, 0.2406],\n",
              "        [0.0970, 0.2586, 0.5601],\n",
              "        [0.3699, 0.5484, 0.4988],\n",
              "        ...,\n",
              "        [0.3710, 0.2608, 0.8667],\n",
              "        [0.0961, 0.5491, 0.1760],\n",
              "        [0.7076, 0.2111, 0.6241]])"
            ]
          },
          "execution_count": 5,
          "metadata": {},
          "output_type": "execute_result"
        }
      ],
      "source": [
        "# MC Points\n",
        "# WARNING: assumes only UnitX transform, https://ax.dev/docs/models.html#transforms\n",
        "sobol = get_sobol(ax_client_tmp.experiment.search_space)\n",
        "# mc_points = sobol.gen(1024).param_df.values\n",
        "obs_features = [\n",
        "    ObservationFeatures(parameters)\n",
        "    for parameters in sobol.gen(1024).param_df.to_dict(\"records\")\n",
        "]\n",
        "ux = UnitX(ax_client_tmp.experiment.search_space)\n",
        "obs_features_ux = ux.transform_observation_features(obs_features)\n",
        "mc_points = [list(obs.parameters.values()) for obs in obs_features_ux]\n",
        "mcp = torch.tensor(mc_points)\n",
        "mcp"
      ]
    },
    {
      "cell_type": "code",
      "execution_count": 6,
      "metadata": {},
      "outputs": [
        {
          "name": "stderr",
          "output_type": "stream",
          "text": [
            "[INFO 07-08 05:54:11] ax.service.ax_client: Starting optimization with verbose logging. To disable logging, set the `verbose_logging` argument to `False`. Note that float values in the logs are rounded to 6 decimal points.\n",
            "[INFO 07-08 05:54:11] ax.service.utils.instantiation: Created search space: SearchSpace(parameters=[RangeParameter(name='x1', parameter_type=FLOAT, range=[0.0, 5.0]), RangeParameter(name='x2', parameter_type=FLOAT, range=[0.0, 10.0]), RangeParameter(name='x3', parameter_type=FLOAT, range=[0.0, 15.0])], parameter_constraints=[]).\n",
            "[INFO 07-08 05:54:11] ax.service.ax_client: Generated new trial 0 with parameters {'x1': 1.011696, 'x2': 8.093446, 'x3': 3.119072}.\n",
            "[INFO 07-08 05:54:11] ax.service.ax_client: Completed trial 0 with data: {'f': (76.256013, None)}.\n",
            "[INFO 07-08 05:54:11] ax.service.ax_client: Generated new trial 1 with parameters {'x1': 1.596788, 'x2': 2.208292, 'x3': 11.162547}.\n",
            "[INFO 07-08 05:54:11] ax.service.ax_client: Completed trial 1 with data: {'f': (132.028733, None)}.\n",
            "[INFO 07-08 05:54:11] ax.service.ax_client: Generated new trial 2 with parameters {'x1': 1.974843, 'x2': 1.488677, 'x3': 4.062638}.\n",
            "[INFO 07-08 05:54:11] ax.service.ax_client: Completed trial 2 with data: {'f': (22.621194, None)}.\n",
            "[INFO 07-08 05:54:11] ax.service.ax_client: Generated new trial 3 with parameters {'x1': 0.301205, 'x2': 0.515931, 'x3': 2.976014}.\n",
            "[INFO 07-08 05:54:11] ax.service.ax_client: Completed trial 3 with data: {'f': (9.213566, None)}.\n",
            "[INFO 07-08 05:54:11] ax.service.ax_client: Generated new trial 4 with parameters {'x1': 2.081783, 'x2': 4.897571, 'x3': 7.68746}.\n",
            "[INFO 07-08 05:54:11] ax.service.ax_client: Completed trial 4 with data: {'f': (87.417052, None)}.\n",
            "[INFO 07-08 05:55:01] ax.service.ax_client: Generated new trial 5 with parameters {'x1': 3.422915, 'x2': 7.288045, 'x3': 11.841244}.\n",
            "[INFO 07-08 05:55:01] ax.service.ax_client: Completed trial 5 with data: {'f': (205.047022, None)}.\n",
            "[INFO 07-08 05:55:50] ax.service.ax_client: Generated new trial 6 with parameters {'x1': 4.062874, 'x2': 6.075397, 'x3': 3.527623}.\n",
            "[INFO 07-08 05:55:51] ax.service.ax_client: Completed trial 6 with data: {'f': (65.861519, None)}.\n",
            "[INFO 07-08 05:56:36] ax.service.ax_client: Generated new trial 7 with parameters {'x1': 4.174643, 'x2': 2.25111, 'x3': 10.176054}.\n",
            "[INFO 07-08 05:56:36] ax.service.ax_client: Completed trial 7 with data: {'f': (126.047227, None)}.\n",
            "[INFO 07-08 05:57:36] ax.service.ax_client: Generated new trial 8 with parameters {'x1': 0.833165, 'x2': 7.676225, 'x3': 12.42113}.\n",
            "[INFO 07-08 05:57:36] ax.service.ax_client: Completed trial 8 with data: {'f': (213.903057, None)}.\n",
            "[INFO 07-08 05:58:32] ax.service.ax_client: Generated new trial 9 with parameters {'x1': 3.10683, 'x2': 8.998517, 'x3': 7.422207}.\n",
            "[INFO 07-08 05:58:32] ax.service.ax_client: Completed trial 9 with data: {'f': (145.714852, None)}.\n",
            "[INFO 07-08 05:59:21] ax.service.ax_client: Generated new trial 10 with parameters {'x1': 3.091253, 'x2': 2.867332, 'x3': 0.732022}.\n",
            "[INFO 07-08 05:59:21] ax.service.ax_client: Completed trial 10 with data: {'f': (18.313297, None)}.\n",
            "[INFO 07-08 06:00:09] ax.service.ax_client: Generated new trial 11 with parameters {'x1': 3.161821, 'x2': 2.785244, 'x3': 14.471032}.\n",
            "[INFO 07-08 06:00:09] ax.service.ax_client: Completed trial 11 with data: {'f': (227.165474, None)}.\n",
            "[INFO 07-08 06:00:55] ax.service.ax_client: Generated new trial 12 with parameters {'x1': 3.519222, 'x2': 8.75751, 'x3': 1.156598}.\n",
            "[INFO 07-08 06:00:55] ax.service.ax_client: Completed trial 12 with data: {'f': (90.416633, None)}.\n",
            "[INFO 07-08 06:01:43] ax.service.ax_client: Generated new trial 13 with parameters {'x1': 4.417648, 'x2': 1.011017, 'x3': 3.654087}.\n",
            "[INFO 07-08 06:01:43] ax.service.ax_client: Completed trial 13 with data: {'f': (33.890125, None)}.\n",
            "[INFO 07-08 06:02:54] ax.service.ax_client: Generated new trial 14 with parameters {'x1': 3.65643, 'x2': 9.185623, 'x3': 14.073139}.\n",
            "[INFO 07-08 06:02:54] ax.service.ax_client: Completed trial 14 with data: {'f': (295.798381, None)}.\n",
            "[INFO 07-08 06:03:45] ax.service.ax_client: Generated new trial 15 with parameters {'x1': 0.281136, 'x2': 7.579749, 'x3': 7.802966}.\n",
            "[INFO 07-08 06:03:45] ax.service.ax_client: Completed trial 15 with data: {'f': (118.417907, None)}.\n",
            "[INFO 07-08 06:04:34] ax.service.ax_client: Generated new trial 16 with parameters {'x1': 0.245932, 'x2': 2.424653, 'x3': 13.849483}.\n",
            "[INFO 07-08 06:04:34] ax.service.ax_client: Completed trial 16 with data: {'f': (197.747602, None)}.\n",
            "[INFO 07-08 06:05:24] ax.service.ax_client: Generated new trial 17 with parameters {'x1': 0.698325, 'x2': 5.197301, 'x3': 1.156563}.\n",
            "[INFO 07-08 06:05:24] ax.service.ax_client: Completed trial 17 with data: {'f': (28.837232, None)}.\n",
            "[INFO 07-08 06:06:09] ax.service.ax_client: Generated new trial 18 with parameters {'x1': 2.90055, 'x2': 0.0, 'x3': 13.116445}.\n",
            "[INFO 07-08 06:06:09] ax.service.ax_client: Completed trial 18 with data: {'f': (180.454321, None)}.\n",
            "[INFO 07-08 06:06:53] ax.service.ax_client: Generated new trial 19 with parameters {'x1': 0.527324, 'x2': 1.356606, 'x3': 7.531553}.\n",
            "[INFO 07-08 06:06:53] ax.service.ax_client: Completed trial 19 with data: {'f': (58.842735, None)}.\n"
          ]
        }
      ],
      "source": [
        "model_kwargs_val = {\n",
        "    \"surrogate\": Surrogate(SingleTaskGP),\n",
        "    \"botorch_acqf_class\": qNegIntegratedPosteriorVariance,\n",
        "    \"acquisition_options\": {\"mc_points\": mcp},\n",
        "}\n",
        "\n",
        "gs = GenerationStrategy(\n",
        "    steps=[\n",
        "        GenerationStep(model=Models.SOBOL, num_trials=5),\n",
        "        GenerationStep(\n",
        "            model=Models.BOTORCH_MODULAR, num_trials=15, model_kwargs=model_kwargs_val\n",
        "        ),\n",
        "    ]\n",
        ")\n",
        "\n",
        "ax_client = AxClient(generation_strategy=gs)\n",
        "ax_client.create_experiment(\n",
        "    name=\"active_learning_experiment\",\n",
        "    parameters=parameters,\n",
        "    objective_name=\"f\",\n",
        "    minimize=True,\n",
        ")\n",
        "\n",
        "for _ in range(20):\n",
        "    trial_params, trial_index = ax_client.get_next_trial()\n",
        "    data = objective_function(trial_params)\n",
        "    ax_client.complete_trial(trial_index=trial_index, raw_data=data[\"f\"])"
      ]
    },
    {
      "cell_type": "markdown",
      "metadata": {},
      "source": [
        "## Code Graveyard"
      ]
    },
    {
      "cell_type": "code",
      "execution_count": null,
      "metadata": {
        "id": "4_OcwwJfJrDN"
      },
      "outputs": [],
      "source": [
        "# @acqf_input_constructor(qNegIntegratedPosteriorVariance)\n",
        "# def construct_inputs_qNIPV(\n",
        "#     model: Model,\n",
        "#     training_data: MaybeDict[SupervisedDataset],\n",
        "#     mc_points: Optional[Tensor] = None,\n",
        "#     objective: Optional[AcquisitionObjective] = None,\n",
        "#     X_pending: Optional[Tensor] = None,\n",
        "#     sampler: Optional[MCSampler] = None,\n",
        "#     **kwargs: Any,\n",
        "# ) -> Dict[str, Any]:\n",
        "#     if model.num_outputs == 1:\n",
        "#         objective = None\n",
        "\n",
        "#     base_inputs = construct_inputs_mc_base(\n",
        "#         model=model,\n",
        "#         training_data=training_data,\n",
        "#         sampler=sampler,\n",
        "#         X_pending=X_pending,\n",
        "#         objective=objective,\n",
        "#     )\n",
        "    \n",
        "#     if mc_points is None:\n",
        "#         # generate sobol points\n",
        "#         bounds = torch.tensor([[0.0, 1.0]] * len(list(model.parameters)))\n",
        "#         mc_points = torch.Tensor(SobolGenerator().gen(1024, bounds))\n",
        "\n",
        "#     return {**base_inputs, \"mc_points\": mc_points}\n",
        "\n",
        "\n",
        "# def objective_function(x):\n",
        "#     f = x[\"x1\"] ** 2 + x[\"x2\"] ** 2 + x[\"x3\"] ** 2\n",
        "#     return {\"f\": (f, None)}"
      ]
    }
  ],
  "metadata": {
    "colab": {
      "authorship_tag": "ABX9TyNZQ+Oy5rDREvfgiedG8cc+",
      "include_colab_link": true,
      "provenance": []
    },
    "kernelspec": {
      "display_name": "Python 3",
      "name": "python3"
    },
    "language_info": {
      "codemirror_mode": {
        "name": "ipython",
        "version": 3
      },
      "file_extension": ".py",
      "mimetype": "text/x-python",
      "name": "python",
      "nbconvert_exporter": "python",
      "pygments_lexer": "ipython3",
      "version": "3.9.13"
    }
  },
  "nbformat": 4,
  "nbformat_minor": 0
}
