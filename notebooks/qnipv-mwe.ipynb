{
  "cells": [
    {
      "attachments": {},
      "cell_type": "markdown",
      "metadata": {
        "colab_type": "text",
        "id": "view-in-github"
      },
      "source": [
        "<a href=\"https://colab.research.google.com/github/sparks-baird/self-driving-lab-demo/blob/main/notebooks/qnipv-mwe.ipynb\" target=\"_parent\"><img src=\"https://colab.research.google.com/assets/colab-badge.svg\" alt=\"Open In Colab\"/></a>"
      ]
    },
    {
      "cell_type": "code",
      "execution_count": 1,
      "metadata": {
        "colab": {
          "base_uri": "https://localhost:8080/"
        },
        "id": "QyIuGypdJeBi",
        "outputId": "44a0c835-852a-42d2-e8a2-2391ed72b262"
      },
      "outputs": [],
      "source": [
        "# check if in colab\n",
        "import sys\n",
        "IN_COLAB = 'google.colab' in sys.modules\n",
        "if IN_COLAB:\n",
        "    %pip install ax-platform"
      ]
    },
    {
      "cell_type": "code",
      "execution_count": 2,
      "metadata": {
        "colab": {
          "base_uri": "https://localhost:8080/"
        },
        "id": "5Y9jnbrgJcmJ",
        "outputId": "de640881-811f-4769-9358-138d688ad353"
      },
      "outputs": [],
      "source": [
        "from typing import Any, Dict, Optional\n",
        "\n",
        "import torch\n",
        "\n",
        "# from ax.core.objective import ScalarizedObjective\n",
        "from ax.modelbridge import get_sobol\n",
        "from ax.modelbridge.generation_strategy import GenerationStep, GenerationStrategy\n",
        "from ax.modelbridge.registry import Models\n",
        "from ax.modelbridge.transforms.unit_x import UnitX\n",
        "from ax.models.torch.botorch_modular.surrogate import Surrogate\n",
        "from ax.models.random.sobol import SobolGenerator\n",
        "from ax.service.ax_client import AxClient\n",
        "from ax.core.observation import ObservationFeatures\n",
        "from botorch.acquisition.active_learning import (\n",
        "    MCSampler,\n",
        "    qNegIntegratedPosteriorVariance,\n",
        ")\n",
        "from botorch.acquisition.input_constructors import (\n",
        "    MaybeDict,\n",
        "    acqf_input_constructor,\n",
        "    construct_inputs_mc_base,\n",
        ")\n",
        "from botorch.acquisition.objective import AcquisitionObjective\n",
        "from botorch.models.gp_regression import SingleTaskGP\n",
        "from botorch.models.model import Model\n",
        "from botorch.utils.datasets import SupervisedDataset\n",
        "from torch import Tensor\n"
      ]
    },
    {
      "cell_type": "code",
      "execution_count": 3,
      "metadata": {},
      "outputs": [],
      "source": [
        "@acqf_input_constructor(qNegIntegratedPosteriorVariance)\n",
        "def construct_inputs_qNIPV(\n",
        "    model: Model,\n",
        "    mc_points: Tensor,\n",
        "    training_data: MaybeDict[SupervisedDataset],\n",
        "    objective: Optional[AcquisitionObjective] = None,\n",
        "    X_pending: Optional[Tensor] = None,\n",
        "    sampler: Optional[MCSampler] = None,\n",
        "    **kwargs: Any,\n",
        ") -> Dict[str, Any]:\n",
        "    if model.num_outputs == 1:\n",
        "        objective = None\n",
        "\n",
        "    base_inputs = construct_inputs_mc_base(\n",
        "        model=model,\n",
        "        training_data=training_data,\n",
        "        sampler=sampler,\n",
        "        X_pending=X_pending,\n",
        "        objective=objective,\n",
        "    )\n",
        "\n",
        "    return {**base_inputs, \"mc_points\": mc_points}\n",
        "\n",
        "\n",
        "def objective_function(x):\n",
        "    f = x[\"x1\"] ** 2 + x[\"x2\"] ** 2 + x[\"x3\"] ** 2\n",
        "    return {\"f\": (f, None)}"
      ]
    },
    {
      "cell_type": "code",
      "execution_count": 4,
      "metadata": {},
      "outputs": [
        {
          "name": "stderr",
          "output_type": "stream",
          "text": [
            "[INFO 07-08 05:53:51] ax.service.ax_client: Starting optimization with verbose logging. To disable logging, set the `verbose_logging` argument to `False`. Note that float values in the logs are rounded to 6 decimal points.\n",
            "[INFO 07-08 05:53:51] ax.service.utils.instantiation: Created search space: SearchSpace(parameters=[RangeParameter(name='x1', parameter_type=FLOAT, range=[0.0, 5.0]), RangeParameter(name='x2', parameter_type=FLOAT, range=[0.0, 10.0]), RangeParameter(name='x3', parameter_type=FLOAT, range=[0.0, 15.0])], parameter_constraints=[]).\n",
            "[INFO 07-08 05:53:51] ax.modelbridge.dispatch_utils: Using Models.GPEI since there are more ordered parameters than there are categories for the unordered categorical parameters.\n",
            "[INFO 07-08 05:53:51] ax.modelbridge.dispatch_utils: Calculating the number of remaining initialization trials based on num_initialization_trials=None max_initialization_trials=None num_tunable_parameters=3 num_trials=None use_batch_trials=False\n",
            "[INFO 07-08 05:53:51] ax.modelbridge.dispatch_utils: calculated num_initialization_trials=6\n",
            "[INFO 07-08 05:53:51] ax.modelbridge.dispatch_utils: num_completed_initialization_trials=0 num_remaining_initialization_trials=6\n",
            "[INFO 07-08 05:53:51] ax.modelbridge.dispatch_utils: Using Bayesian Optimization generation strategy: GenerationStrategy(name='Sobol+GPEI', steps=[Sobol for 6 trials, GPEI for subsequent trials]). Iterations after 6 will take longer to generate due to model-fitting.\n"
          ]
        }
      ],
      "source": [
        "parameters = [\n",
        "    {\"name\": \"x1\", \"type\": \"range\", \"bounds\": [0.0, 5.0], \"value_type\": \"float\"},\n",
        "    {\"name\": \"x2\", \"type\": \"range\", \"bounds\": [0.0, 10.0], \"value_type\": \"float\"},\n",
        "    {\"name\": \"x3\", \"type\": \"range\", \"bounds\": [0.0, 15.0], \"value_type\": \"float\"},\n",
        "]\n",
        "ax_client_tmp = AxClient()\n",
        "ax_client_tmp.create_experiment(parameters=parameters)"
      ]
    },
    {
      "cell_type": "code",
      "execution_count": 8,
      "metadata": {},
      "outputs": [
        {
          "data": {
            "text/plain": [
              "tensor([[0.9892, 0.6544, 0.7226],\n",
              "        [0.1807, 0.2227, 0.4768],\n",
              "        [0.3692, 0.9154, 0.9483],\n",
              "        ...,\n",
              "        [0.3693, 0.4689, 0.1891],\n",
              "        [0.1809, 0.6693, 0.7213],\n",
              "        [0.9891, 0.2103, 0.4779]])"
            ]
          },
          "execution_count": 8,
          "metadata": {},
          "output_type": "execute_result"
        }
      ],
      "source": [
        "# MC Points\n",
        "# WARNING: assumes only UnitX transform, https://ax.dev/docs/models.html#transforms\n",
        "num_mc_sobol = 2**13\n",
        "sobol = get_sobol(ax_client_tmp.experiment.search_space)\n",
        "# mc_points = sobol.gen(1024).param_df.values\n",
        "obs_features = [\n",
        "    ObservationFeatures(parameters)\n",
        "    for parameters in sobol.gen(num_mc_sobol).param_df.to_dict(\"records\")\n",
        "]\n",
        "ux = UnitX(ax_client_tmp.experiment.search_space)\n",
        "obs_features_ux = ux.transform_observation_features(obs_features)\n",
        "mc_points = [list(obs.parameters.values()) for obs in obs_features_ux]\n",
        "mcp = torch.tensor(mc_points)\n",
        "mcp"
      ]
    },
    {
      "cell_type": "code",
      "execution_count": 9,
      "metadata": {},
      "outputs": [
        {
          "name": "stderr",
          "output_type": "stream",
          "text": [
            "[INFO 07-08 06:15:45] ax.service.ax_client: Starting optimization with verbose logging. To disable logging, set the `verbose_logging` argument to `False`. Note that float values in the logs are rounded to 6 decimal points.\n",
            "[INFO 07-08 06:15:45] ax.service.utils.instantiation: Created search space: SearchSpace(parameters=[RangeParameter(name='x1', parameter_type=FLOAT, range=[0.0, 5.0]), RangeParameter(name='x2', parameter_type=FLOAT, range=[0.0, 10.0]), RangeParameter(name='x3', parameter_type=FLOAT, range=[0.0, 15.0])], parameter_constraints=[]).\n",
            "[INFO 07-08 06:15:45] ax.service.ax_client: Generated new trial 0 with parameters {'x1': 2.694745, 'x2': 0.122303, 'x3': 11.500634}.\n",
            "[INFO 07-08 06:15:45] ax.service.ax_client: Completed trial 0 with data: {'f': (139.541185, None)}.\n",
            "[INFO 07-08 06:15:45] ax.service.ax_client: Generated new trial 1 with parameters {'x1': 0.896566, 'x2': 4.253006, 'x3': 0.689612}.\n",
            "[INFO 07-08 06:15:45] ax.service.ax_client: Completed trial 1 with data: {'f': (19.367455, None)}.\n",
            "[INFO 07-08 06:15:45] ax.service.ax_client: Generated new trial 2 with parameters {'x1': 2.654333, 'x2': 6.604693, 'x3': 3.603974}.\n",
            "[INFO 07-08 06:15:45] ax.service.ax_client: Completed trial 2 with data: {'f': (63.656074, None)}.\n",
            "[INFO 07-08 06:15:45] ax.service.ax_client: Generated new trial 3 with parameters {'x1': 0.922724, 'x2': 2.357644, 'x3': 4.221804}.\n",
            "[INFO 07-08 06:15:45] ax.service.ax_client: Completed trial 3 with data: {'f': (24.233534, None)}.\n",
            "[INFO 07-08 06:15:45] ax.service.ax_client: Generated new trial 4 with parameters {'x1': 0.461624, 'x2': 1.859694, 'x3': 10.99868}.\n",
            "[INFO 07-08 06:15:45] ax.service.ax_client: Completed trial 4 with data: {'f': (124.642517, None)}.\n",
            "[INFO 07-08 06:15:51] ax.service.ax_client: Generated new trial 5 with parameters {'x1': 2.934837, 'x2': 6.895646, 'x3': 11.230122}.\n",
            "[INFO 07-08 06:15:51] ax.service.ax_client: Completed trial 5 with data: {'f': (182.278832, None)}.\n",
            "[INFO 07-08 06:15:56] ax.service.ax_client: Generated new trial 6 with parameters {'x1': 4.066284, 'x2': 2.713209, 'x3': 4.732925}.\n",
            "[INFO 07-08 06:15:56] ax.service.ax_client: Completed trial 6 with data: {'f': (46.296747, None)}.\n",
            "[INFO 07-08 06:16:03] ax.service.ax_client: Generated new trial 7 with parameters {'x1': 1.000601, 'x2': 7.804396, 'x3': 7.758138}.\n",
            "[INFO 07-08 06:16:03] ax.service.ax_client: Completed trial 7 with data: {'f': (122.09851, None)}.\n",
            "[INFO 07-08 06:16:14] ax.service.ax_client: Generated new trial 8 with parameters {'x1': 1.266527, 'x2': 6.975857, 'x3': 13.763331}.\n",
            "[INFO 07-08 06:16:14] ax.service.ax_client: Completed trial 8 with data: {'f': (239.695953, None)}.\n",
            "[INFO 07-08 06:16:21] ax.service.ax_client: Generated new trial 9 with parameters {'x1': 4.294986, 'x2': 8.871869, 'x3': 5.876161}.\n",
            "[INFO 07-08 06:16:21] ax.service.ax_client: Completed trial 9 with data: {'f': (131.686241, None)}.\n",
            "[INFO 07-08 06:16:29] ax.service.ax_client: Generated new trial 10 with parameters {'x1': 4.139975, 'x2': 3.513239, 'x3': 12.677231}.\n",
            "[INFO 07-08 06:16:29] ax.service.ax_client: Completed trial 10 with data: {'f': (190.194421, None)}.\n",
            "[INFO 07-08 06:16:38] ax.service.ax_client: Generated new trial 11 with parameters {'x1': 3.727929, 'x2': 2.143428, 'x3': 1.093767}.\n",
            "[INFO 07-08 06:16:38] ax.service.ax_client: Completed trial 11 with data: {'f': (19.688064, None)}.\n",
            "[INFO 07-08 06:16:47] ax.service.ax_client: Generated new trial 12 with parameters {'x1': 1.64936, 'x2': 9.114402, 'x3': 1.661888}.\n",
            "[INFO 07-08 06:16:47] ax.service.ax_client: Completed trial 12 with data: {'f': (88.554591, None)}.\n",
            "[INFO 07-08 06:16:55] ax.service.ax_client: Generated new trial 13 with parameters {'x1': 3.864887, 'x2': 8.96036, 'x3': 13.076095}.\n",
            "[INFO 07-08 06:16:55] ax.service.ax_client: Completed trial 13 with data: {'f': (266.209681, None)}.\n",
            "[INFO 07-08 06:17:05] ax.service.ax_client: Generated new trial 14 with parameters {'x1': 4.347254, 'x2': 7.438043, 'x3': 1.08261}.\n",
            "[INFO 07-08 06:17:05] ax.service.ax_client: Completed trial 14 with data: {'f': (75.395148, None)}.\n",
            "[INFO 07-08 06:17:14] ax.service.ax_client: Generated new trial 15 with parameters {'x1': 1.804219, 'x2': 1.614409, 'x3': 14.570399}.\n",
            "[INFO 07-08 06:17:14] ax.service.ax_client: Completed trial 15 with data: {'f': (218.158047, None)}.\n",
            "[INFO 07-08 06:17:26] ax.service.ax_client: Generated new trial 16 with parameters {'x1': 2.661758, 'x2': 3.615439, 'x3': 8.220602}.\n",
            "[INFO 07-08 06:17:26] ax.service.ax_client: Completed trial 16 with data: {'f': (87.734655, None)}.\n",
            "[INFO 07-08 06:17:36] ax.service.ax_client: Generated new trial 17 with parameters {'x1': 1.618507, 'x2': 0.062627, 'x3': 2.411684}.\n",
            "[INFO 07-08 06:17:36] ax.service.ax_client: Completed trial 17 with data: {'f': (8.439706, None)}.\n",
            "[INFO 07-08 06:17:48] ax.service.ax_client: Generated new trial 18 with parameters {'x1': 1.046417, 'x2': 9.826568, 'x3': 11.525303}.\n",
            "[INFO 07-08 06:17:48] ax.service.ax_client: Completed trial 18 with data: {'f': (230.489035, None)}.\n",
            "[INFO 07-08 06:18:06] ax.service.ax_client: Generated new trial 19 with parameters {'x1': 4.91056, 'x2': 4.80687, 'x3': 8.932707}.\n",
            "[INFO 07-08 06:18:06] ax.service.ax_client: Completed trial 19 with data: {'f': (127.012847, None)}.\n"
          ]
        }
      ],
      "source": [
        "model_kwargs_val = {\n",
        "    \"surrogate\": Surrogate(SingleTaskGP),\n",
        "    \"botorch_acqf_class\": qNegIntegratedPosteriorVariance,\n",
        "    \"acquisition_options\": {\"mc_points\": mcp},\n",
        "}\n",
        "\n",
        "gs = GenerationStrategy(\n",
        "    steps=[\n",
        "        GenerationStep(model=Models.SOBOL, num_trials=5),\n",
        "        GenerationStep(\n",
        "            model=Models.BOTORCH_MODULAR, num_trials=15, model_kwargs=model_kwargs_val\n",
        "        ),\n",
        "    ]\n",
        ")\n",
        "\n",
        "ax_client = AxClient(generation_strategy=gs)\n",
        "ax_client.create_experiment(\n",
        "    name=\"active_learning_experiment\",\n",
        "    parameters=parameters,\n",
        "    objective_name=\"f\",\n",
        "    minimize=True, # doesn't do anything (?)\n",
        ")\n",
        "\n",
        "for _ in range(20):\n",
        "    trial_params, trial_index = ax_client.get_next_trial()\n",
        "    data = objective_function(trial_params)\n",
        "    ax_client.complete_trial(trial_index=trial_index, raw_data=data[\"f\"])"
      ]
    },
    {
      "cell_type": "markdown",
      "metadata": {},
      "source": [
        "## Code Graveyard"
      ]
    },
    {
      "cell_type": "code",
      "execution_count": null,
      "metadata": {
        "id": "4_OcwwJfJrDN"
      },
      "outputs": [],
      "source": [
        "# @acqf_input_constructor(qNegIntegratedPosteriorVariance)\n",
        "# def construct_inputs_qNIPV(\n",
        "#     model: Model,\n",
        "#     training_data: MaybeDict[SupervisedDataset],\n",
        "#     mc_points: Optional[Tensor] = None,\n",
        "#     objective: Optional[AcquisitionObjective] = None,\n",
        "#     X_pending: Optional[Tensor] = None,\n",
        "#     sampler: Optional[MCSampler] = None,\n",
        "#     **kwargs: Any,\n",
        "# ) -> Dict[str, Any]:\n",
        "#     if model.num_outputs == 1:\n",
        "#         objective = None\n",
        "\n",
        "#     base_inputs = construct_inputs_mc_base(\n",
        "#         model=model,\n",
        "#         training_data=training_data,\n",
        "#         sampler=sampler,\n",
        "#         X_pending=X_pending,\n",
        "#         objective=objective,\n",
        "#     )\n",
        "    \n",
        "#     if mc_points is None:\n",
        "#         # generate sobol points\n",
        "#         bounds = torch.tensor([[0.0, 1.0]] * len(list(model.parameters)))\n",
        "#         mc_points = torch.Tensor(SobolGenerator().gen(1024, bounds))\n",
        "\n",
        "#     return {**base_inputs, \"mc_points\": mc_points}\n",
        "\n",
        "\n",
        "# def objective_function(x):\n",
        "#     f = x[\"x1\"] ** 2 + x[\"x2\"] ** 2 + x[\"x3\"] ** 2\n",
        "#     return {\"f\": (f, None)}"
      ]
    }
  ],
  "metadata": {
    "colab": {
      "authorship_tag": "ABX9TyNZQ+Oy5rDREvfgiedG8cc+",
      "include_colab_link": true,
      "provenance": []
    },
    "kernelspec": {
      "display_name": "Python 3",
      "name": "python3"
    },
    "language_info": {
      "codemirror_mode": {
        "name": "ipython",
        "version": 3
      },
      "file_extension": ".py",
      "mimetype": "text/x-python",
      "name": "python",
      "nbconvert_exporter": "python",
      "pygments_lexer": "ipython3",
      "version": "3.9.13"
    }
  },
  "nbformat": 4,
  "nbformat_minor": 0
}
