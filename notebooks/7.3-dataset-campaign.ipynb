{
 "cells": [
  {
   "cell_type": "markdown",
   "metadata": {},
   "source": [
    "- Use [qNIPV](https://github.com/facebook/Ax/issues/930) as acquisition fn to minimize\n",
    "  model error\n",
    "- Finish off with GPEI to more accurately model the maximum (10 iterations)\n",
    "- Run repeat experiments for each requested parameter\n",
    "- Pass the standard deviation to Ax\n",
    "- Run repeat campaigns with different targets"
   ]
  },
  {
   "cell_type": "code",
   "execution_count": null,
   "metadata": {},
   "outputs": [],
   "source": [
    "from self_driving_lab_demo import SelfDrivingLabDemoLight\n",
    "\n",
    "num_initialization = 990 # probably too many - will take a long time\n",
    "num_bayes = 10\n",
    "num_repeats = 10\n",
    "num_campaigns = 10\n",
    "\n",
    "sdl = SelfDrivingLabDemoLight()"
   ]
  }
 ],
 "metadata": {
  "kernelspec": {
   "display_name": "Python 3.9.13 ('sdl-demo')",
   "language": "python",
   "name": "python3"
  },
  "language_info": {
   "name": "python",
   "version": "3.9.13"
  },
  "orig_nbformat": 4,
  "vscode": {
   "interpreter": {
    "hash": "70cb6d4911b67e25d1487ebd620c5d1370239efaaf47f3851af44f5c5a26f988"
   }
  }
 },
 "nbformat": 4,
 "nbformat_minor": 2
}
