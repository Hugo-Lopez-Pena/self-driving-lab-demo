{
 "cells": [
  {
   "cell_type": "markdown",
   "metadata": {},
   "source": [
    "# Bayesian Optimization\n",
    "\n",
    "We implement a Bayesian optimization for LED configurations that most closely match a target\n",
    "light spectrum. We will work with a helper class, `SelfDrivingLabDemo` for setting up the\n",
    "spectrophotometer sensor, measuring data from the sensor,\n",
    "generating random inputs, and measuring the objective function (i.e. mean absolute\n",
    "error). From there, we perform an experiment with 100 iterations, visualize the\n",
    "results, and compare against random search. See\n",
    "[random_search.ipynb](random_search.ipynb) for some links on troubleshooting\n",
    "installation setup and a linear version of running an optimization campaign without the\n",
    "`SelfDrivingLabDemo` class."
   ]
  },
  {
   "cell_type": "markdown",
   "metadata": {},
   "source": [
    "## Setup\n",
    "\n",
    "Package installation and imports\n",
    "\n",
    "### Package Installation"
   ]
  },
  {
   "cell_type": "markdown",
   "metadata": {},
   "source": [
    "Assuming you're running this notebook inside of the GitHub repository, do a local\n",
    "installation (`-e`) in the directory one level about this `notebooks` directory (`../.`)\n",
    "as follows.\n",
    "> Note: This only needs to be run once."
   ]
  },
  {
   "cell_type": "code",
   "execution_count": null,
   "metadata": {},
   "outputs": [],
   "source": [
    "%pip install -e ../."
   ]
  },
  {
   "cell_type": "markdown",
   "metadata": {},
   "source": [
    "### Imports"
   ]
  },
  {
   "cell_type": "code",
   "execution_count": 1,
   "metadata": {},
   "outputs": [],
   "source": [
    "%load_ext autoreload\n",
    "%autoreload 2 # just some IPython magic to recognize changes to installed packages\n",
    "import pandas as pd\n",
    "from self_driving_lab_demo.core import SelfDrivingLabDemo"
   ]
  },
  {
   "cell_type": "markdown",
   "metadata": {},
   "source": [
    "### SelfDrivingLabDemo\n",
    "\n",
    "We'll instantiate the class and verify some of the functionality described in the random\n",
    "search tutorial ([`random_search.ipynb`](random_search.ipynb)).\n",
    "\n",
    "#### Instantiation\n",
    "\n",
    "Now, we instantiate the `SelfDrivingLabDemo` class with `autoload=True` so that records\n",
    "a target to optimize against. This involves selecting a set of target measurements as the \"true\" input values (i.e. the input\n",
    "brightness and RGB values that define the target spectrum) based on a random seed,\n",
    "setting the LED to those values, and then recording the spectrum intensities.\n",
    "\n",
    "> Note: Instantiating with autoload=True will light the LED briefly."
   ]
  },
  {
   "cell_type": "code",
   "execution_count": 2,
   "metadata": {},
   "outputs": [],
   "source": [
    "sdl = SelfDrivingLabDemo(autoload=True)"
   ]
  },
  {
   "cell_type": "markdown",
   "metadata": {},
   "source": [
    "#### Functionality\n",
    "\n",
    "We can do similar things to what was done in `random_search.ipynb`. For example, getting\n",
    "random inputs, observing the sensor data, and evaluating the objective function."
   ]
  },
  {
   "cell_type": "code",
   "execution_count": 3,
   "metadata": {},
   "outputs": [
    {
     "data": {
      "text/plain": [
       "[(0.27088461699458716, 112, 219, 178), (0.032962071760677336, 249, 194, 200)]"
      ]
     },
     "execution_count": 3,
     "metadata": {},
     "output_type": "execute_result"
    }
   ],
   "source": [
    "[sdl.get_random_inputs(), sdl.get_random_inputs()]"
   ]
  },
  {
   "cell_type": "code",
   "execution_count": 4,
   "metadata": {},
   "outputs": [
    {
     "data": {
      "text/plain": [
       "(213, 2029, 2053, 1452, 589, 868, 1372, 695)"
      ]
     },
     "execution_count": 4,
     "metadata": {},
     "output_type": "execute_result"
    }
   ],
   "source": [
    "sdl.observe_sensor_data(*sdl.get_random_inputs())"
   ]
  },
  {
   "cell_type": "code",
   "execution_count": 6,
   "metadata": {},
   "outputs": [
    {
     "data": {
      "text/plain": [
       "{'ch415_violet': 581,\n",
       " 'ch445_indigo': 8492,\n",
       " 'ch480_blue': 8417,\n",
       " 'ch515_cyan': 14000,\n",
       " 'ch560_green': 2823,\n",
       " 'ch615_yellow': 1325,\n",
       " 'ch670_orange': 1875,\n",
       " 'ch720_red': 1232,\n",
       " 'mae': 2415.25,\n",
       " 'rmse': 3774.5856063944293}"
      ]
     },
     "execution_count": 6,
     "metadata": {},
     "output_type": "execute_result"
    }
   ],
   "source": [
    "sdl.evaluate(*sdl.get_random_inputs())"
   ]
  },
  {
   "cell_type": "markdown",
   "metadata": {},
   "source": [
    "## Optimization\n",
    "\n",
    "While there are great numerical tutorials comparing [grid search vs. random search vs.\n",
    "Bayesian optimization](https://towardsdatascience.com/grid-search-vs-random-search-vs-bayesian-optimization-2e68f57c3c46), here, we'll compare these three search methods in a way that perhaps you've never seen before,\n",
    "namely a self-driving laboratory demo!\n",
    "\n",
    "### Setup\n",
    "\n",
    "We define our optimization task parameters and take care of imports."
   ]
  },
  {
   "cell_type": "markdown",
   "metadata": {},
   "source": [
    "### Optimization Task Parameters\n",
    "\n",
    "We'll use 81 iterations repeated 5 times. The use of 81 iterations instead of something\n",
    "\"cleaner\" like 50 or 100 is due to constraints of doing uniform (full-factorial) grid\n",
    "search. $n^d$ number of points are required for uniform grid search, where $n$ and $d$\n",
    "represent number of points per dimension (`n_pts_per_dim`) and number of dimensions\n",
    "(`4`), respectively."
   ]
  },
  {
   "cell_type": "code",
   "execution_count": 49,
   "metadata": {},
   "outputs": [],
   "source": [
    "num_iter = 2 ** 4\n",
    "num_repeats = 5\n",
    "SEEDS = range(10, 10 + num_repeats)"
   ]
  },
  {
   "cell_type": "markdown",
   "metadata": {},
   "source": [
    "We also instantiate multiple `SelfDrivingLabDemo` instances, each with their own\n",
    "unique target spectrum."
   ]
  },
  {
   "cell_type": "code",
   "execution_count": 50,
   "metadata": {},
   "outputs": [],
   "source": [
    "sdls = [SelfDrivingLabDemo(autoload=True, target_seed=seed) for seed in SEEDS]"
   ]
  },
  {
   "cell_type": "markdown",
   "metadata": {},
   "source": [
    "Notice that the target_data is different for each."
   ]
  },
  {
   "cell_type": "code",
   "execution_count": 51,
   "metadata": {},
   "outputs": [
    {
     "data": {
      "text/html": [
       "<div>\n",
       "<style scoped>\n",
       "    .dataframe tbody tr th:only-of-type {\n",
       "        vertical-align: middle;\n",
       "    }\n",
       "\n",
       "    .dataframe tbody tr th {\n",
       "        vertical-align: top;\n",
       "    }\n",
       "\n",
       "    .dataframe thead th {\n",
       "        text-align: right;\n",
       "    }\n",
       "</style>\n",
       "<table border=\"1\" class=\"dataframe\">\n",
       "  <thead>\n",
       "    <tr style=\"text-align: right;\">\n",
       "      <th></th>\n",
       "      <th>ch415_violet</th>\n",
       "      <th>ch445_indigo</th>\n",
       "      <th>ch480_blue</th>\n",
       "      <th>ch515_cyan</th>\n",
       "      <th>ch560_green</th>\n",
       "      <th>ch615_yellow</th>\n",
       "      <th>ch670_orange</th>\n",
       "      <th>ch720_red</th>\n",
       "    </tr>\n",
       "  </thead>\n",
       "  <tbody>\n",
       "    <tr>\n",
       "      <th>0</th>\n",
       "      <td>603</td>\n",
       "      <td>3559</td>\n",
       "      <td>6946</td>\n",
       "      <td>21048</td>\n",
       "      <td>3719</td>\n",
       "      <td>3383</td>\n",
       "      <td>6012</td>\n",
       "      <td>1076</td>\n",
       "    </tr>\n",
       "    <tr>\n",
       "      <th>1</th>\n",
       "      <td>157</td>\n",
       "      <td>185</td>\n",
       "      <td>434</td>\n",
       "      <td>1990</td>\n",
       "      <td>647</td>\n",
       "      <td>803</td>\n",
       "      <td>1327</td>\n",
       "      <td>489</td>\n",
       "    </tr>\n",
       "    <tr>\n",
       "      <th>2</th>\n",
       "      <td>209</td>\n",
       "      <td>891</td>\n",
       "      <td>1005</td>\n",
       "      <td>1383</td>\n",
       "      <td>535</td>\n",
       "      <td>2322</td>\n",
       "      <td>4372</td>\n",
       "      <td>553</td>\n",
       "    </tr>\n",
       "    <tr>\n",
       "      <th>3</th>\n",
       "      <td>829</td>\n",
       "      <td>5537</td>\n",
       "      <td>7800</td>\n",
       "      <td>19215</td>\n",
       "      <td>3738</td>\n",
       "      <td>10067</td>\n",
       "      <td>19809</td>\n",
       "      <td>1319</td>\n",
       "    </tr>\n",
       "    <tr>\n",
       "      <th>4</th>\n",
       "      <td>959</td>\n",
       "      <td>17321</td>\n",
       "      <td>14654</td>\n",
       "      <td>16970</td>\n",
       "      <td>3359</td>\n",
       "      <td>4872</td>\n",
       "      <td>9151</td>\n",
       "      <td>1648</td>\n",
       "    </tr>\n",
       "  </tbody>\n",
       "</table>\n",
       "</div>"
      ],
      "text/plain": [
       "   ch415_violet  ch445_indigo  ch480_blue  ch515_cyan  ch560_green  \\\n",
       "0           603          3559        6946       21048         3719   \n",
       "1           157           185         434        1990          647   \n",
       "2           209           891        1005        1383          535   \n",
       "3           829          5537        7800       19215         3738   \n",
       "4           959         17321       14654       16970         3359   \n",
       "\n",
       "   ch615_yellow  ch670_orange  ch720_red  \n",
       "0          3383          6012       1076  \n",
       "1           803          1327        489  \n",
       "2          2322          4372        553  \n",
       "3         10067         19809       1319  \n",
       "4          4872          9151       1648  "
      ]
     },
     "execution_count": 51,
     "metadata": {},
     "output_type": "execute_result"
    }
   ],
   "source": [
    "pd.DataFrame([sdl.target_data for sdl in sdls], columns=sdl.channel_names)"
   ]
  },
  {
   "cell_type": "markdown",
   "metadata": {},
   "source": [
    "\n",
    "\n",
    "### Imports\n",
    "\n",
    "We'll be using `scikit-learn`'s `ParameterGrid` for grid search, `self_driving_lab_demo`'s built-in\n",
    "`get_random_inputs` for random search, and `ax-platform`'s Gaussian Process Expected\n",
    "Improvement (GPEI) model for Bayesian\n",
    "optimization. To help with defining the grid search space, we will also use the\n",
    "`bounds` and `parameters` class property of `SelfDrivingLabDemo` for convenience."
   ]
  },
  {
   "cell_type": "code",
   "execution_count": 52,
   "metadata": {},
   "outputs": [],
   "source": [
    "import numpy as np\n",
    "from tqdm import trange, tqdm\n",
    "from sklearn.model_selection import ParameterGrid\n",
    "from ax import optimize"
   ]
  },
  {
   "cell_type": "code",
   "execution_count": 53,
   "metadata": {},
   "outputs": [
    {
     "data": {
      "text/plain": [
       "{'brightness': [0.0, 0.35], 'R': [0, 255], 'G': [0, 255], 'B': [0, 255]}"
      ]
     },
     "execution_count": 53,
     "metadata": {},
     "output_type": "execute_result"
    }
   ],
   "source": [
    "sdls[0].bounds"
   ]
  },
  {
   "cell_type": "code",
   "execution_count": 54,
   "metadata": {},
   "outputs": [
    {
     "data": {
      "text/plain": [
       "[{'name': 'brightness', 'type': 'range', 'bounds': [0.0, 0.35]},\n",
       " {'name': 'R', 'type': 'range', 'bounds': [0, 255]},\n",
       " {'name': 'G', 'type': 'range', 'bounds': [0, 255]},\n",
       " {'name': 'B', 'type': 'range', 'bounds': [0, 255]}]"
      ]
     },
     "execution_count": 54,
     "metadata": {},
     "output_type": "execute_result"
    }
   ],
   "source": [
    "sdls[0].parameters"
   ]
  },
  {
   "cell_type": "markdown",
   "metadata": {},
   "source": [
    "### Grid Search\n",
    "\n",
    "First, we need to define our parameter grid. We'll divide up the 4-dimensional parameter\n",
    "space as evenly as possible (see `num_pts_per_dim` below)."
   ]
  },
  {
   "cell_type": "code",
   "execution_count": 55,
   "metadata": {},
   "outputs": [
    {
     "name": "stdout",
     "output_type": "stream",
     "text": [
      "num_pts_per_dim: 2\n"
     ]
    }
   ],
   "source": [
    "param_grid = {}\n",
    "num_pts_per_dim = round(num_iter ** (1 / len(sdl.bounds)))\n",
    "for name, bnd in sdl.bounds.items():\n",
    "    param_grid[name] = np.linspace(bnd[0], bnd[1], num=num_pts_per_dim)\n",
    "    if isinstance(bnd[0], int):\n",
    "        param_grid[name] = np.round(param_grid[name]).astype(int)\n",
    "print(f\"num_pts_per_dim: {num_pts_per_dim}\")"
   ]
  },
  {
   "cell_type": "markdown",
   "metadata": {},
   "source": [
    "Notice that there are only 3 distinct values along each dimension."
   ]
  },
  {
   "cell_type": "code",
   "execution_count": 56,
   "metadata": {},
   "outputs": [
    {
     "data": {
      "text/plain": [
       "{'brightness': array([0.  , 0.35]),\n",
       " 'R': array([  0, 255]),\n",
       " 'G': array([  0, 255]),\n",
       " 'B': array([  0, 255])}"
      ]
     },
     "execution_count": 56,
     "metadata": {},
     "output_type": "execute_result"
    }
   ],
   "source": [
    "param_grid"
   ]
  },
  {
   "cell_type": "markdown",
   "metadata": {},
   "source": [
    "After assembling the full grid, notice that the total number of points is $3^4 = 81$."
   ]
  },
  {
   "cell_type": "code",
   "execution_count": 57,
   "metadata": {},
   "outputs": [
    {
     "name": "stdout",
     "output_type": "stream",
     "text": [
      "grid:\n",
      " [{'B': 0, 'G': 0, 'R': 0, 'brightness': 0.0}, {'B': 0, 'G': 0, 'R': 0, 'brightness': 0.35}, {'B': 0, 'G': 0, 'R': 255, 'brightness': 0.0}, {'B': 0, 'G': 0, 'R': 255, 'brightness': 0.35}] ... [{'B': 255, 'G': 255, 'R': 255, 'brightness': 0.35}]\n",
      "\n",
      "Number of grid points:  16\n"
     ]
    }
   ],
   "source": [
    "grid = list(ParameterGrid(param_grid))\n",
    "print(\"grid:\\n\", grid[0:4], \"...\", grid[-1:])\n",
    "print(\"\\nNumber of grid points: \", len(grid))"
   ]
  },
  {
   "cell_type": "markdown",
   "metadata": {},
   "source": [
    "Now, we can start the actual search. The grid search locations are fixed\n",
    "for each of the repeat optimization campaigns; however the observed sensor data will be\n",
    "stochastic and the target spectrum is different for each repeat run. An alternative approach to setting a\n",
    "fixed budget and varying the target solution would be to see how many iterations it takes to meet a criteria for the\n",
    "objective function similar to [this post](https://towardsdatascience.com/grid-search-vs-random-search-vs-bayesian-optimization-2e68f57c3c46); however, a fixed budget seems more characteristic of a real chemistry\n",
    "or materials optimization campaign due to limits on funding, time, and other resources:\n",
    "(i.e. we'll search until we find what we're looking for, until we run out of\n",
    "resources, or until we decide it's no longer worth the expense, whichever comes first)."
   ]
  },
  {
   "cell_type": "code",
   "execution_count": 58,
   "metadata": {},
   "outputs": [
    {
     "name": "stderr",
     "output_type": "stream",
     "text": [
      "100%|██████████| 5/5 [01:07<00:00, 13.43s/it]\n"
     ]
    }
   ],
   "source": [
    "grid_data = [\n",
    "    [\n",
    "        sdl.evaluate(pt[\"brightness\"], pt[\"R\"], pt[\"G\"], pt[\"B\"])\n",
    "        for pt in grid\n",
    "    ]\n",
    "    for sdl in tqdm(sdls)\n",
    "]"
   ]
  },
  {
   "cell_type": "markdown",
   "metadata": {},
   "source": [
    "### Random Search"
   ]
  },
  {
   "cell_type": "markdown",
   "metadata": {},
   "source": [
    "Now, let's perform random search as we did before in\n",
    "[`random_search.ipynb`](random_search.ipynb), storing the inputs and outputs as we go."
   ]
  },
  {
   "cell_type": "code",
   "execution_count": 59,
   "metadata": {},
   "outputs": [
    {
     "name": "stderr",
     "output_type": "stream",
     "text": [
      "100%|██████████| 5/5 [01:06<00:00, 13.39s/it]"
     ]
    },
    {
     "name": "stdout",
     "output_type": "stream",
     "text": [
      "CPU times: user 8.42 s, sys: 4.98 s, total: 13.4 s\n",
      "Wall time: 1min 6s\n"
     ]
    },
    {
     "name": "stderr",
     "output_type": "stream",
     "text": [
      "\n"
     ]
    }
   ],
   "source": [
    "%%time\n",
    "random_inputs = []\n",
    "random_data = []\n",
    "for _ in tqdm(range(num_repeats)):\n",
    "    ri = []\n",
    "    od = []\n",
    "    for i in range(num_iter):\n",
    "        ri.append(sdl.get_random_inputs())\n",
    "        od.append(sdl.evaluate(*ri[i]))\n",
    "    random_inputs.append(ri)\n",
    "    random_data.append(od)"
   ]
  },
  {
   "cell_type": "markdown",
   "metadata": {},
   "source": [
    "### Bayesian Optimization\n",
    "\n",
    "Ax may run out of memory for low-RAM RPi's such as RPi Zero 2. Even on RPi 4B/RPi\n",
    "400, it will be slow* for more than about 50 iterations due to the lack of MKL\n",
    "optimization (a feature of RPi compute hardware).\n",
    "\n",
    "<p>\n",
    "<sup>\n",
    "*i.e. maybe slower than a demo/tutorial should be\n",
    "</sup>\n",
    "</p>"
   ]
  },
  {
   "cell_type": "code",
   "execution_count": 60,
   "metadata": {},
   "outputs": [
    {
     "name": "stderr",
     "output_type": "stream",
     "text": [
      "  0%|          | 0/5 [00:00<?, ?it/s][INFO 08-20 15:58:57] ax.service.utils.instantiation: Inferred value type of ParameterType.FLOAT for parameter brightness. If that is not the expected value type, you can explicity specify 'value_type' ('int', 'float', 'bool' or 'str') in parameter dict.\n",
      "[INFO 08-20 15:58:57] ax.service.utils.instantiation: Inferred value type of ParameterType.INT for parameter R. If that is not the expected value type, you can explicity specify 'value_type' ('int', 'float', 'bool' or 'str') in parameter dict.\n",
      "[INFO 08-20 15:58:57] ax.service.utils.instantiation: Inferred value type of ParameterType.INT for parameter G. If that is not the expected value type, you can explicity specify 'value_type' ('int', 'float', 'bool' or 'str') in parameter dict.\n",
      "[INFO 08-20 15:58:57] ax.service.utils.instantiation: Inferred value type of ParameterType.INT for parameter B. If that is not the expected value type, you can explicity specify 'value_type' ('int', 'float', 'bool' or 'str') in parameter dict.\n",
      "[INFO 08-20 15:58:57] ax.service.utils.instantiation: Created search space: SearchSpace(parameters=[RangeParameter(name='brightness', parameter_type=FLOAT, range=[0.0, 0.35]), RangeParameter(name='R', parameter_type=INT, range=[0, 255]), RangeParameter(name='G', parameter_type=INT, range=[0, 255]), RangeParameter(name='B', parameter_type=INT, range=[0, 255])], parameter_constraints=[]).\n",
      "[INFO 08-20 15:58:57] ax.modelbridge.dispatch_utils: Using Bayesian optimization since there are more ordered parameters than there are categories for the unordered categorical parameters.\n",
      "[INFO 08-20 15:58:57] ax.modelbridge.dispatch_utils: Using Bayesian Optimization generation strategy: GenerationStrategy(name='Sobol+GPEI', steps=[Sobol for 8 trials, GPEI for subsequent trials]). Iterations after 8 will take longer to generate due to  model-fitting.\n",
      "[INFO 08-20 15:58:57] ax.service.managed_loop: Started full optimization with 16 steps.\n",
      "[INFO 08-20 15:58:57] ax.service.managed_loop: Running optimization trial 1...\n",
      "[INFO 08-20 15:58:58] ax.service.managed_loop: Running optimization trial 2...\n",
      "[INFO 08-20 15:58:59] ax.service.managed_loop: Running optimization trial 3...\n",
      "[INFO 08-20 15:59:00] ax.service.managed_loop: Running optimization trial 4...\n",
      "[INFO 08-20 15:59:01] ax.service.managed_loop: Running optimization trial 5...\n",
      "[INFO 08-20 15:59:02] ax.service.managed_loop: Running optimization trial 6...\n",
      "[INFO 08-20 15:59:03] ax.service.managed_loop: Running optimization trial 7...\n",
      "[INFO 08-20 15:59:04] ax.service.managed_loop: Running optimization trial 8...\n",
      "[INFO 08-20 15:59:05] ax.service.managed_loop: Running optimization trial 9...\n",
      "[INFO 08-20 15:59:07] ax.service.managed_loop: Running optimization trial 10...\n",
      "[INFO 08-20 15:59:10] ax.service.managed_loop: Running optimization trial 11...\n",
      "[INFO 08-20 15:59:13] ax.service.managed_loop: Running optimization trial 12...\n",
      "[INFO 08-20 15:59:17] ax.service.managed_loop: Running optimization trial 13...\n",
      "[INFO 08-20 15:59:24] ax.service.managed_loop: Running optimization trial 14...\n",
      "[INFO 08-20 15:59:30] ax.service.managed_loop: Running optimization trial 15...\n",
      "[INFO 08-20 15:59:35] ax.service.managed_loop: Running optimization trial 16...\n",
      " 20%|██        | 1/5 [00:47<03:11, 47.96s/it][INFO 08-20 15:59:45] ax.service.utils.instantiation: Inferred value type of ParameterType.FLOAT for parameter brightness. If that is not the expected value type, you can explicity specify 'value_type' ('int', 'float', 'bool' or 'str') in parameter dict.\n",
      "[INFO 08-20 15:59:45] ax.service.utils.instantiation: Inferred value type of ParameterType.INT for parameter R. If that is not the expected value type, you can explicity specify 'value_type' ('int', 'float', 'bool' or 'str') in parameter dict.\n",
      "[INFO 08-20 15:59:45] ax.service.utils.instantiation: Inferred value type of ParameterType.INT for parameter G. If that is not the expected value type, you can explicity specify 'value_type' ('int', 'float', 'bool' or 'str') in parameter dict.\n",
      "[INFO 08-20 15:59:45] ax.service.utils.instantiation: Inferred value type of ParameterType.INT for parameter B. If that is not the expected value type, you can explicity specify 'value_type' ('int', 'float', 'bool' or 'str') in parameter dict.\n",
      "[INFO 08-20 15:59:45] ax.service.utils.instantiation: Created search space: SearchSpace(parameters=[RangeParameter(name='brightness', parameter_type=FLOAT, range=[0.0, 0.35]), RangeParameter(name='R', parameter_type=INT, range=[0, 255]), RangeParameter(name='G', parameter_type=INT, range=[0, 255]), RangeParameter(name='B', parameter_type=INT, range=[0, 255])], parameter_constraints=[]).\n",
      "[INFO 08-20 15:59:45] ax.modelbridge.dispatch_utils: Using Bayesian optimization since there are more ordered parameters than there are categories for the unordered categorical parameters.\n",
      "[INFO 08-20 15:59:45] ax.modelbridge.dispatch_utils: Using Bayesian Optimization generation strategy: GenerationStrategy(name='Sobol+GPEI', steps=[Sobol for 8 trials, GPEI for subsequent trials]). Iterations after 8 will take longer to generate due to  model-fitting.\n",
      "[INFO 08-20 15:59:45] ax.service.managed_loop: Started full optimization with 16 steps.\n",
      "[INFO 08-20 15:59:45] ax.service.managed_loop: Running optimization trial 1...\n",
      "[INFO 08-20 15:59:46] ax.service.managed_loop: Running optimization trial 2...\n",
      "[INFO 08-20 15:59:47] ax.service.managed_loop: Running optimization trial 3...\n",
      "[INFO 08-20 15:59:48] ax.service.managed_loop: Running optimization trial 4...\n",
      "[INFO 08-20 15:59:49] ax.service.managed_loop: Running optimization trial 5...\n",
      "[INFO 08-20 15:59:50] ax.service.managed_loop: Running optimization trial 6...\n",
      "[INFO 08-20 15:59:51] ax.service.managed_loop: Running optimization trial 7...\n",
      "[INFO 08-20 15:59:52] ax.service.managed_loop: Running optimization trial 8...\n",
      "[INFO 08-20 15:59:53] ax.service.managed_loop: Running optimization trial 9...\n",
      "[INFO 08-20 15:59:55] ax.service.managed_loop: Running optimization trial 10...\n",
      "[INFO 08-20 15:59:58] ax.service.managed_loop: Running optimization trial 11...\n",
      "[INFO 08-20 16:00:00] ax.service.managed_loop: Running optimization trial 12...\n",
      "[INFO 08-20 16:00:03] ax.service.managed_loop: Running optimization trial 13...\n",
      "[INFO 08-20 16:00:07] ax.service.managed_loop: Running optimization trial 14...\n",
      "[INFO 08-20 16:00:10] ax.service.managed_loop: Running optimization trial 15...\n",
      "[INFO 08-20 16:00:14] ax.service.managed_loop: Running optimization trial 16...\n",
      " 40%|████      | 2/5 [01:21<01:59, 39.72s/it][INFO 08-20 16:00:19] ax.service.utils.instantiation: Inferred value type of ParameterType.FLOAT for parameter brightness. If that is not the expected value type, you can explicity specify 'value_type' ('int', 'float', 'bool' or 'str') in parameter dict.\n",
      "[INFO 08-20 16:00:19] ax.service.utils.instantiation: Inferred value type of ParameterType.INT for parameter R. If that is not the expected value type, you can explicity specify 'value_type' ('int', 'float', 'bool' or 'str') in parameter dict.\n",
      "[INFO 08-20 16:00:19] ax.service.utils.instantiation: Inferred value type of ParameterType.INT for parameter G. If that is not the expected value type, you can explicity specify 'value_type' ('int', 'float', 'bool' or 'str') in parameter dict.\n",
      "[INFO 08-20 16:00:19] ax.service.utils.instantiation: Inferred value type of ParameterType.INT for parameter B. If that is not the expected value type, you can explicity specify 'value_type' ('int', 'float', 'bool' or 'str') in parameter dict.\n",
      "[INFO 08-20 16:00:19] ax.service.utils.instantiation: Created search space: SearchSpace(parameters=[RangeParameter(name='brightness', parameter_type=FLOAT, range=[0.0, 0.35]), RangeParameter(name='R', parameter_type=INT, range=[0, 255]), RangeParameter(name='G', parameter_type=INT, range=[0, 255]), RangeParameter(name='B', parameter_type=INT, range=[0, 255])], parameter_constraints=[]).\n",
      "[INFO 08-20 16:00:19] ax.modelbridge.dispatch_utils: Using Bayesian optimization since there are more ordered parameters than there are categories for the unordered categorical parameters.\n",
      "[INFO 08-20 16:00:19] ax.modelbridge.dispatch_utils: Using Bayesian Optimization generation strategy: GenerationStrategy(name='Sobol+GPEI', steps=[Sobol for 8 trials, GPEI for subsequent trials]). Iterations after 8 will take longer to generate due to  model-fitting.\n",
      "[INFO 08-20 16:00:19] ax.service.managed_loop: Started full optimization with 16 steps.\n",
      "[INFO 08-20 16:00:19] ax.service.managed_loop: Running optimization trial 1...\n",
      "[INFO 08-20 16:00:20] ax.service.managed_loop: Running optimization trial 2...\n",
      "[INFO 08-20 16:00:21] ax.service.managed_loop: Running optimization trial 3...\n",
      "[INFO 08-20 16:00:22] ax.service.managed_loop: Running optimization trial 4...\n",
      "[INFO 08-20 16:00:23] ax.service.managed_loop: Running optimization trial 5...\n",
      "[INFO 08-20 16:00:24] ax.service.managed_loop: Running optimization trial 6...\n",
      "[INFO 08-20 16:00:25] ax.service.managed_loop: Running optimization trial 7...\n",
      "[INFO 08-20 16:00:26] ax.service.managed_loop: Running optimization trial 8...\n",
      "[INFO 08-20 16:00:27] ax.service.managed_loop: Running optimization trial 9...\n",
      "[INFO 08-20 16:00:30] ax.service.managed_loop: Running optimization trial 10...\n",
      "[INFO 08-20 16:00:33] ax.service.managed_loop: Running optimization trial 11...\n",
      "[INFO 08-20 16:00:36] ax.service.managed_loop: Running optimization trial 12...\n",
      "[INFO 08-20 16:00:39] ax.service.managed_loop: Running optimization trial 13...\n",
      "[INFO 08-20 16:00:43] ax.service.managed_loop: Running optimization trial 14...\n",
      "[INFO 08-20 16:00:46] ax.service.managed_loop: Running optimization trial 15...\n",
      "[INFO 08-20 16:00:55] ax.service.managed_loop: Running optimization trial 16...\n",
      " 60%|██████    | 3/5 [02:14<01:30, 45.40s/it][INFO 08-20 16:01:11] ax.service.utils.instantiation: Inferred value type of ParameterType.FLOAT for parameter brightness. If that is not the expected value type, you can explicity specify 'value_type' ('int', 'float', 'bool' or 'str') in parameter dict.\n",
      "[INFO 08-20 16:01:11] ax.service.utils.instantiation: Inferred value type of ParameterType.INT for parameter R. If that is not the expected value type, you can explicity specify 'value_type' ('int', 'float', 'bool' or 'str') in parameter dict.\n",
      "[INFO 08-20 16:01:11] ax.service.utils.instantiation: Inferred value type of ParameterType.INT for parameter G. If that is not the expected value type, you can explicity specify 'value_type' ('int', 'float', 'bool' or 'str') in parameter dict.\n",
      "[INFO 08-20 16:01:11] ax.service.utils.instantiation: Inferred value type of ParameterType.INT for parameter B. If that is not the expected value type, you can explicity specify 'value_type' ('int', 'float', 'bool' or 'str') in parameter dict.\n",
      "[INFO 08-20 16:01:11] ax.service.utils.instantiation: Created search space: SearchSpace(parameters=[RangeParameter(name='brightness', parameter_type=FLOAT, range=[0.0, 0.35]), RangeParameter(name='R', parameter_type=INT, range=[0, 255]), RangeParameter(name='G', parameter_type=INT, range=[0, 255]), RangeParameter(name='B', parameter_type=INT, range=[0, 255])], parameter_constraints=[]).\n",
      "[INFO 08-20 16:01:11] ax.modelbridge.dispatch_utils: Using Bayesian optimization since there are more ordered parameters than there are categories for the unordered categorical parameters.\n",
      "[INFO 08-20 16:01:11] ax.modelbridge.dispatch_utils: Using Bayesian Optimization generation strategy: GenerationStrategy(name='Sobol+GPEI', steps=[Sobol for 8 trials, GPEI for subsequent trials]). Iterations after 8 will take longer to generate due to  model-fitting.\n",
      "[INFO 08-20 16:01:11] ax.service.managed_loop: Started full optimization with 16 steps.\n",
      "[INFO 08-20 16:01:11] ax.service.managed_loop: Running optimization trial 1...\n",
      "[INFO 08-20 16:01:12] ax.service.managed_loop: Running optimization trial 2...\n",
      "[INFO 08-20 16:01:14] ax.service.managed_loop: Running optimization trial 3...\n",
      "[INFO 08-20 16:01:14] ax.service.managed_loop: Running optimization trial 4...\n",
      "[INFO 08-20 16:01:16] ax.service.managed_loop: Running optimization trial 5...\n",
      "[INFO 08-20 16:01:17] ax.service.managed_loop: Running optimization trial 6...\n",
      "[INFO 08-20 16:01:18] ax.service.managed_loop: Running optimization trial 7...\n",
      "[INFO 08-20 16:01:19] ax.service.managed_loop: Running optimization trial 8...\n",
      "[INFO 08-20 16:01:20] ax.service.managed_loop: Running optimization trial 9...\n",
      "[INFO 08-20 16:01:28] ax.service.managed_loop: Running optimization trial 10...\n",
      "[INFO 08-20 16:01:36] ax.service.managed_loop: Running optimization trial 11...\n",
      "[INFO 08-20 16:01:43] ax.service.managed_loop: Running optimization trial 12...\n",
      "[INFO 08-20 16:01:50] ax.service.managed_loop: Running optimization trial 13...\n",
      "[INFO 08-20 16:01:56] ax.service.managed_loop: Running optimization trial 14...\n",
      "[INFO 08-20 16:02:00] ax.service.managed_loop: Running optimization trial 15...\n",
      "[INFO 08-20 16:02:04] ax.service.managed_loop: Running optimization trial 16...\n",
      " 80%|████████  | 4/5 [03:13<00:50, 50.88s/it][INFO 08-20 16:02:11] ax.service.utils.instantiation: Inferred value type of ParameterType.FLOAT for parameter brightness. If that is not the expected value type, you can explicity specify 'value_type' ('int', 'float', 'bool' or 'str') in parameter dict.\n",
      "[INFO 08-20 16:02:11] ax.service.utils.instantiation: Inferred value type of ParameterType.INT for parameter R. If that is not the expected value type, you can explicity specify 'value_type' ('int', 'float', 'bool' or 'str') in parameter dict.\n",
      "[INFO 08-20 16:02:11] ax.service.utils.instantiation: Inferred value type of ParameterType.INT for parameter G. If that is not the expected value type, you can explicity specify 'value_type' ('int', 'float', 'bool' or 'str') in parameter dict.\n",
      "[INFO 08-20 16:02:11] ax.service.utils.instantiation: Inferred value type of ParameterType.INT for parameter B. If that is not the expected value type, you can explicity specify 'value_type' ('int', 'float', 'bool' or 'str') in parameter dict.\n",
      "[INFO 08-20 16:02:11] ax.service.utils.instantiation: Created search space: SearchSpace(parameters=[RangeParameter(name='brightness', parameter_type=FLOAT, range=[0.0, 0.35]), RangeParameter(name='R', parameter_type=INT, range=[0, 255]), RangeParameter(name='G', parameter_type=INT, range=[0, 255]), RangeParameter(name='B', parameter_type=INT, range=[0, 255])], parameter_constraints=[]).\n",
      "[INFO 08-20 16:02:11] ax.modelbridge.dispatch_utils: Using Bayesian optimization since there are more ordered parameters than there are categories for the unordered categorical parameters.\n",
      "[INFO 08-20 16:02:11] ax.modelbridge.dispatch_utils: Using Bayesian Optimization generation strategy: GenerationStrategy(name='Sobol+GPEI', steps=[Sobol for 8 trials, GPEI for subsequent trials]). Iterations after 8 will take longer to generate due to  model-fitting.\n",
      "[INFO 08-20 16:02:11] ax.service.managed_loop: Started full optimization with 16 steps.\n",
      "[INFO 08-20 16:02:11] ax.service.managed_loop: Running optimization trial 1...\n",
      "[INFO 08-20 16:02:12] ax.service.managed_loop: Running optimization trial 2...\n",
      "[INFO 08-20 16:02:13] ax.service.managed_loop: Running optimization trial 3...\n",
      "[INFO 08-20 16:02:13] ax.service.managed_loop: Running optimization trial 4...\n",
      "[INFO 08-20 16:02:14] ax.service.managed_loop: Running optimization trial 5...\n",
      "[INFO 08-20 16:02:15] ax.service.managed_loop: Running optimization trial 6...\n",
      "[INFO 08-20 16:02:16] ax.service.managed_loop: Running optimization trial 7...\n",
      "[INFO 08-20 16:02:17] ax.service.managed_loop: Running optimization trial 8...\n",
      "[INFO 08-20 16:02:18] ax.service.managed_loop: Running optimization trial 9...\n",
      "[INFO 08-20 16:02:21] ax.service.managed_loop: Running optimization trial 10...\n",
      "[INFO 08-20 16:02:25] ax.service.managed_loop: Running optimization trial 11...\n",
      "[INFO 08-20 16:02:29] ax.service.managed_loop: Running optimization trial 12...\n",
      "[INFO 08-20 16:02:34] ax.service.managed_loop: Running optimization trial 13...\n",
      "[INFO 08-20 16:02:40] ax.service.managed_loop: Running optimization trial 14...\n",
      "[INFO 08-20 16:02:47] ax.service.managed_loop: Running optimization trial 15...\n",
      "[INFO 08-20 16:02:55] ax.service.managed_loop: Running optimization trial 16...\n",
      "100%|██████████| 5/5 [04:07<00:00, 49.49s/it]"
     ]
    },
    {
     "name": "stdout",
     "output_type": "stream",
     "text": [
      "CPU times: user 4min 21s, sys: 12.9 s, total: 4min 34s\n",
      "Wall time: 4min 7s\n"
     ]
    },
    {
     "name": "stderr",
     "output_type": "stream",
     "text": [
      "\n"
     ]
    }
   ],
   "source": [
    "%%time\n",
    "bo_results = []\n",
    "\n",
    "for sdl in tqdm(sdls):\n",
    "    def evaluation_function(parameters):\n",
    "        data = sdl.evaluate(\n",
    "            parameters[\"brightness\"],\n",
    "            parameters[\"R\"],\n",
    "            parameters[\"G\"],\n",
    "            parameters[\"B\"],\n",
    "        )\n",
    "        return data[\"mae\"]\n",
    "\n",
    "    bo_results.append(optimize(\n",
    "        parameters=sdl.parameters,\n",
    "        evaluation_function=evaluation_function,\n",
    "        minimize=True,\n",
    "        total_trials = num_iter,\n",
    "    ))\n",
    "\n",
    "best_parameters, values, experiment, model = zip(*bo_results)"
   ]
  },
  {
   "cell_type": "markdown",
   "metadata": {},
   "source": [
    "### Analysis\n",
    "\n",
    "Now that we've run our three optimizations, let's compare the performance in tabular\n",
    "form and visually."
   ]
  },
  {
   "cell_type": "markdown",
   "metadata": {},
   "source": [
    "### Preparing the data"
   ]
  },
  {
   "cell_type": "code",
   "execution_count": 61,
   "metadata": {},
   "outputs": [],
   "source": [
    "grid_mae = [[g[\"mae\"] for g in gd] for gd in grid_data]\n",
    "random_mae = [[r[\"mae\"] for r in rd] for rd in random_data]\n",
    "bayesian_mae = [exp.fetch_data().df[\"mean\"].tolist() for exp in experiment]"
   ]
  },
  {
   "cell_type": "code",
   "execution_count": 62,
   "metadata": {},
   "outputs": [
    {
     "data": {
      "text/plain": [
       "(3, 5, 16)"
      ]
     },
     "execution_count": 62,
     "metadata": {},
     "output_type": "execute_result"
    }
   ],
   "source": [
    "mae = np.array([grid_mae, random_mae, bayesian_mae])\n",
    "mae.shape"
   ]
  },
  {
   "cell_type": "markdown",
   "metadata": {},
   "source": [
    "### Tabular"
   ]
  },
  {
   "cell_type": "code",
   "execution_count": 73,
   "metadata": {},
   "outputs": [
    {
     "data": {
      "text/plain": [
       "(3, 16)"
      ]
     },
     "execution_count": 73,
     "metadata": {},
     "output_type": "execute_result"
    }
   ],
   "source": [
    "avg_mae = np.mean(np.minimum.accumulate(mae, axis=2), axis=1)\n",
    "std_mae = np.std(avg_mae, axis=1)\n",
    "avg_mae.shape"
   ]
  },
  {
   "cell_type": "code",
   "execution_count": 74,
   "metadata": {},
   "outputs": [
    {
     "data": {
      "text/plain": [
       "5320.1109375"
      ]
     },
     "execution_count": 74,
     "metadata": {},
     "output_type": "execute_result"
    }
   ],
   "source": [
    "np.mean(random_mae)"
   ]
  },
  {
   "cell_type": "code",
   "execution_count": 75,
   "metadata": {},
   "outputs": [
    {
     "data": {
      "text/plain": [
       "array([2132.1 , 1912.55,  700.35])"
      ]
     },
     "execution_count": 75,
     "metadata": {},
     "output_type": "execute_result"
    }
   ],
   "source": [
    "best_avg_mae = np.min(avg_mae, axis=1)\n",
    "best_avg_mae"
   ]
  },
  {
   "cell_type": "markdown",
   "metadata": {},
   "source": [
    "### Best Objective vs. Iteration"
   ]
  },
  {
   "cell_type": "code",
   "execution_count": 76,
   "metadata": {},
   "outputs": [],
   "source": [
    "names = [\"grid\", \"random\", \"bayesian\"]\n",
    "df = pd.DataFrame({\n",
    "    **{f\"{n}_mae\": m for n, m in zip(names, avg_mae)},\n",
    "    **{f\"{n}_std\": s for n, s in zip(names, std_mae)},\n",
    "})\n"
   ]
  },
  {
   "cell_type": "code",
   "execution_count": 77,
   "metadata": {},
   "outputs": [],
   "source": [
    "mae_df = pd.melt(df.reset_index(), id_vars=[\"index\"], value_vars = [\"grid_mae\", \"random_mae\", \"bayesian_mae\"], var_name=\"method\", value_name=\"mae\")\n",
    "\n",
    "std_df = pd.melt(df.reset_index(), id_vars=[\"index\"], value_vars = [\"grid_std\", \"random_std\", \"bayesian_std\"], var_name=\"method\", value_name=\"std\")\n",
    "\n",
    "mae_df.loc[:, \"method\"] = mae_df.loc[:, \"method\"].apply(lambda x: x.replace(\"_mae\", \"\"))\n",
    "std_df.loc[:, \"method\"] = std_df.loc[:, \"method\"].apply(lambda x: x.replace(\"_std\", \"\"))"
   ]
  },
  {
   "cell_type": "code",
   "execution_count": 78,
   "metadata": {},
   "outputs": [
    {
     "data": {
      "text/html": [
       "<div>\n",
       "<style scoped>\n",
       "    .dataframe tbody tr th:only-of-type {\n",
       "        vertical-align: middle;\n",
       "    }\n",
       "\n",
       "    .dataframe tbody tr th {\n",
       "        vertical-align: top;\n",
       "    }\n",
       "\n",
       "    .dataframe thead th {\n",
       "        text-align: right;\n",
       "    }\n",
       "</style>\n",
       "<table border=\"1\" class=\"dataframe\">\n",
       "  <thead>\n",
       "    <tr style=\"text-align: right;\">\n",
       "      <th></th>\n",
       "      <th>iteration</th>\n",
       "      <th>method</th>\n",
       "      <th>mae</th>\n",
       "      <th>std</th>\n",
       "    </tr>\n",
       "  </thead>\n",
       "  <tbody>\n",
       "    <tr>\n",
       "      <th>0</th>\n",
       "      <td>0</td>\n",
       "      <td>grid</td>\n",
       "      <td>4803.500</td>\n",
       "      <td>1042.922493</td>\n",
       "    </tr>\n",
       "    <tr>\n",
       "      <th>1</th>\n",
       "      <td>1</td>\n",
       "      <td>grid</td>\n",
       "      <td>4802.750</td>\n",
       "      <td>1042.922493</td>\n",
       "    </tr>\n",
       "    <tr>\n",
       "      <th>2</th>\n",
       "      <td>2</td>\n",
       "      <td>grid</td>\n",
       "      <td>4802.575</td>\n",
       "      <td>1042.922493</td>\n",
       "    </tr>\n",
       "    <tr>\n",
       "      <th>3</th>\n",
       "      <td>3</td>\n",
       "      <td>grid</td>\n",
       "      <td>4212.650</td>\n",
       "      <td>1042.922493</td>\n",
       "    </tr>\n",
       "    <tr>\n",
       "      <th>4</th>\n",
       "      <td>4</td>\n",
       "      <td>grid</td>\n",
       "      <td>4211.250</td>\n",
       "      <td>1042.922493</td>\n",
       "    </tr>\n",
       "    <tr>\n",
       "      <th>5</th>\n",
       "      <td>5</td>\n",
       "      <td>grid</td>\n",
       "      <td>3042.525</td>\n",
       "      <td>1042.922493</td>\n",
       "    </tr>\n",
       "    <tr>\n",
       "      <th>6</th>\n",
       "      <td>6</td>\n",
       "      <td>grid</td>\n",
       "      <td>3042.525</td>\n",
       "      <td>1042.922493</td>\n",
       "    </tr>\n",
       "    <tr>\n",
       "      <th>7</th>\n",
       "      <td>7</td>\n",
       "      <td>grid</td>\n",
       "      <td>2547.800</td>\n",
       "      <td>1042.922493</td>\n",
       "    </tr>\n",
       "    <tr>\n",
       "      <th>8</th>\n",
       "      <td>8</td>\n",
       "      <td>grid</td>\n",
       "      <td>2547.800</td>\n",
       "      <td>1042.922493</td>\n",
       "    </tr>\n",
       "    <tr>\n",
       "      <th>9</th>\n",
       "      <td>9</td>\n",
       "      <td>grid</td>\n",
       "      <td>2263.100</td>\n",
       "      <td>1042.922493</td>\n",
       "    </tr>\n",
       "    <tr>\n",
       "      <th>10</th>\n",
       "      <td>10</td>\n",
       "      <td>grid</td>\n",
       "      <td>2262.550</td>\n",
       "      <td>1042.922493</td>\n",
       "    </tr>\n",
       "    <tr>\n",
       "      <th>11</th>\n",
       "      <td>11</td>\n",
       "      <td>grid</td>\n",
       "      <td>2262.550</td>\n",
       "      <td>1042.922493</td>\n",
       "    </tr>\n",
       "    <tr>\n",
       "      <th>12</th>\n",
       "      <td>12</td>\n",
       "      <td>grid</td>\n",
       "      <td>2262.550</td>\n",
       "      <td>1042.922493</td>\n",
       "    </tr>\n",
       "    <tr>\n",
       "      <th>13</th>\n",
       "      <td>13</td>\n",
       "      <td>grid</td>\n",
       "      <td>2132.100</td>\n",
       "      <td>1042.922493</td>\n",
       "    </tr>\n",
       "    <tr>\n",
       "      <th>14</th>\n",
       "      <td>14</td>\n",
       "      <td>grid</td>\n",
       "      <td>2132.100</td>\n",
       "      <td>1042.922493</td>\n",
       "    </tr>\n",
       "    <tr>\n",
       "      <th>15</th>\n",
       "      <td>15</td>\n",
       "      <td>grid</td>\n",
       "      <td>2132.100</td>\n",
       "      <td>1042.922493</td>\n",
       "    </tr>\n",
       "    <tr>\n",
       "      <th>16</th>\n",
       "      <td>0</td>\n",
       "      <td>random</td>\n",
       "      <td>5028.375</td>\n",
       "      <td>814.355444</td>\n",
       "    </tr>\n",
       "    <tr>\n",
       "      <th>17</th>\n",
       "      <td>1</td>\n",
       "      <td>random</td>\n",
       "      <td>3732.525</td>\n",
       "      <td>814.355444</td>\n",
       "    </tr>\n",
       "    <tr>\n",
       "      <th>18</th>\n",
       "      <td>2</td>\n",
       "      <td>random</td>\n",
       "      <td>3732.525</td>\n",
       "      <td>814.355444</td>\n",
       "    </tr>\n",
       "    <tr>\n",
       "      <th>19</th>\n",
       "      <td>3</td>\n",
       "      <td>random</td>\n",
       "      <td>3210.150</td>\n",
       "      <td>814.355444</td>\n",
       "    </tr>\n",
       "    <tr>\n",
       "      <th>20</th>\n",
       "      <td>4</td>\n",
       "      <td>random</td>\n",
       "      <td>3210.150</td>\n",
       "      <td>814.355444</td>\n",
       "    </tr>\n",
       "    <tr>\n",
       "      <th>21</th>\n",
       "      <td>5</td>\n",
       "      <td>random</td>\n",
       "      <td>2870.550</td>\n",
       "      <td>814.355444</td>\n",
       "    </tr>\n",
       "    <tr>\n",
       "      <th>22</th>\n",
       "      <td>6</td>\n",
       "      <td>random</td>\n",
       "      <td>2546.600</td>\n",
       "      <td>814.355444</td>\n",
       "    </tr>\n",
       "    <tr>\n",
       "      <th>23</th>\n",
       "      <td>7</td>\n",
       "      <td>random</td>\n",
       "      <td>2546.600</td>\n",
       "      <td>814.355444</td>\n",
       "    </tr>\n",
       "    <tr>\n",
       "      <th>24</th>\n",
       "      <td>8</td>\n",
       "      <td>random</td>\n",
       "      <td>2473.900</td>\n",
       "      <td>814.355444</td>\n",
       "    </tr>\n",
       "    <tr>\n",
       "      <th>25</th>\n",
       "      <td>9</td>\n",
       "      <td>random</td>\n",
       "      <td>2257.325</td>\n",
       "      <td>814.355444</td>\n",
       "    </tr>\n",
       "    <tr>\n",
       "      <th>26</th>\n",
       "      <td>10</td>\n",
       "      <td>random</td>\n",
       "      <td>2257.325</td>\n",
       "      <td>814.355444</td>\n",
       "    </tr>\n",
       "    <tr>\n",
       "      <th>27</th>\n",
       "      <td>11</td>\n",
       "      <td>random</td>\n",
       "      <td>2257.325</td>\n",
       "      <td>814.355444</td>\n",
       "    </tr>\n",
       "    <tr>\n",
       "      <th>28</th>\n",
       "      <td>12</td>\n",
       "      <td>random</td>\n",
       "      <td>2131.900</td>\n",
       "      <td>814.355444</td>\n",
       "    </tr>\n",
       "    <tr>\n",
       "      <th>29</th>\n",
       "      <td>13</td>\n",
       "      <td>random</td>\n",
       "      <td>2131.900</td>\n",
       "      <td>814.355444</td>\n",
       "    </tr>\n",
       "    <tr>\n",
       "      <th>30</th>\n",
       "      <td>14</td>\n",
       "      <td>random</td>\n",
       "      <td>1912.550</td>\n",
       "      <td>814.355444</td>\n",
       "    </tr>\n",
       "    <tr>\n",
       "      <th>31</th>\n",
       "      <td>15</td>\n",
       "      <td>random</td>\n",
       "      <td>1912.550</td>\n",
       "      <td>814.355444</td>\n",
       "    </tr>\n",
       "    <tr>\n",
       "      <th>32</th>\n",
       "      <td>0</td>\n",
       "      <td>bayesian</td>\n",
       "      <td>6702.150</td>\n",
       "      <td>1647.174230</td>\n",
       "    </tr>\n",
       "    <tr>\n",
       "      <th>33</th>\n",
       "      <td>1</td>\n",
       "      <td>bayesian</td>\n",
       "      <td>5726.900</td>\n",
       "      <td>1647.174230</td>\n",
       "    </tr>\n",
       "    <tr>\n",
       "      <th>34</th>\n",
       "      <td>2</td>\n",
       "      <td>bayesian</td>\n",
       "      <td>3750.425</td>\n",
       "      <td>1647.174230</td>\n",
       "    </tr>\n",
       "    <tr>\n",
       "      <th>35</th>\n",
       "      <td>3</td>\n",
       "      <td>bayesian</td>\n",
       "      <td>2613.025</td>\n",
       "      <td>1647.174230</td>\n",
       "    </tr>\n",
       "    <tr>\n",
       "      <th>36</th>\n",
       "      <td>4</td>\n",
       "      <td>bayesian</td>\n",
       "      <td>2495.300</td>\n",
       "      <td>1647.174230</td>\n",
       "    </tr>\n",
       "    <tr>\n",
       "      <th>37</th>\n",
       "      <td>5</td>\n",
       "      <td>bayesian</td>\n",
       "      <td>2438.700</td>\n",
       "      <td>1647.174230</td>\n",
       "    </tr>\n",
       "    <tr>\n",
       "      <th>38</th>\n",
       "      <td>6</td>\n",
       "      <td>bayesian</td>\n",
       "      <td>2251.025</td>\n",
       "      <td>1647.174230</td>\n",
       "    </tr>\n",
       "    <tr>\n",
       "      <th>39</th>\n",
       "      <td>7</td>\n",
       "      <td>bayesian</td>\n",
       "      <td>2251.025</td>\n",
       "      <td>1647.174230</td>\n",
       "    </tr>\n",
       "    <tr>\n",
       "      <th>40</th>\n",
       "      <td>8</td>\n",
       "      <td>bayesian</td>\n",
       "      <td>1937.200</td>\n",
       "      <td>1647.174230</td>\n",
       "    </tr>\n",
       "    <tr>\n",
       "      <th>41</th>\n",
       "      <td>9</td>\n",
       "      <td>bayesian</td>\n",
       "      <td>1802.075</td>\n",
       "      <td>1647.174230</td>\n",
       "    </tr>\n",
       "    <tr>\n",
       "      <th>42</th>\n",
       "      <td>10</td>\n",
       "      <td>bayesian</td>\n",
       "      <td>1306.700</td>\n",
       "      <td>1647.174230</td>\n",
       "    </tr>\n",
       "    <tr>\n",
       "      <th>43</th>\n",
       "      <td>11</td>\n",
       "      <td>bayesian</td>\n",
       "      <td>1238.925</td>\n",
       "      <td>1647.174230</td>\n",
       "    </tr>\n",
       "    <tr>\n",
       "      <th>44</th>\n",
       "      <td>12</td>\n",
       "      <td>bayesian</td>\n",
       "      <td>1137.375</td>\n",
       "      <td>1647.174230</td>\n",
       "    </tr>\n",
       "    <tr>\n",
       "      <th>45</th>\n",
       "      <td>13</td>\n",
       "      <td>bayesian</td>\n",
       "      <td>1088.175</td>\n",
       "      <td>1647.174230</td>\n",
       "    </tr>\n",
       "    <tr>\n",
       "      <th>46</th>\n",
       "      <td>14</td>\n",
       "      <td>bayesian</td>\n",
       "      <td>789.725</td>\n",
       "      <td>1647.174230</td>\n",
       "    </tr>\n",
       "    <tr>\n",
       "      <th>47</th>\n",
       "      <td>15</td>\n",
       "      <td>bayesian</td>\n",
       "      <td>700.350</td>\n",
       "      <td>1647.174230</td>\n",
       "    </tr>\n",
       "  </tbody>\n",
       "</table>\n",
       "</div>"
      ],
      "text/plain": [
       "    iteration    method       mae          std\n",
       "0           0      grid  4803.500  1042.922493\n",
       "1           1      grid  4802.750  1042.922493\n",
       "2           2      grid  4802.575  1042.922493\n",
       "3           3      grid  4212.650  1042.922493\n",
       "4           4      grid  4211.250  1042.922493\n",
       "5           5      grid  3042.525  1042.922493\n",
       "6           6      grid  3042.525  1042.922493\n",
       "7           7      grid  2547.800  1042.922493\n",
       "8           8      grid  2547.800  1042.922493\n",
       "9           9      grid  2263.100  1042.922493\n",
       "10         10      grid  2262.550  1042.922493\n",
       "11         11      grid  2262.550  1042.922493\n",
       "12         12      grid  2262.550  1042.922493\n",
       "13         13      grid  2132.100  1042.922493\n",
       "14         14      grid  2132.100  1042.922493\n",
       "15         15      grid  2132.100  1042.922493\n",
       "16          0    random  5028.375   814.355444\n",
       "17          1    random  3732.525   814.355444\n",
       "18          2    random  3732.525   814.355444\n",
       "19          3    random  3210.150   814.355444\n",
       "20          4    random  3210.150   814.355444\n",
       "21          5    random  2870.550   814.355444\n",
       "22          6    random  2546.600   814.355444\n",
       "23          7    random  2546.600   814.355444\n",
       "24          8    random  2473.900   814.355444\n",
       "25          9    random  2257.325   814.355444\n",
       "26         10    random  2257.325   814.355444\n",
       "27         11    random  2257.325   814.355444\n",
       "28         12    random  2131.900   814.355444\n",
       "29         13    random  2131.900   814.355444\n",
       "30         14    random  1912.550   814.355444\n",
       "31         15    random  1912.550   814.355444\n",
       "32          0  bayesian  6702.150  1647.174230\n",
       "33          1  bayesian  5726.900  1647.174230\n",
       "34          2  bayesian  3750.425  1647.174230\n",
       "35          3  bayesian  2613.025  1647.174230\n",
       "36          4  bayesian  2495.300  1647.174230\n",
       "37          5  bayesian  2438.700  1647.174230\n",
       "38          6  bayesian  2251.025  1647.174230\n",
       "39          7  bayesian  2251.025  1647.174230\n",
       "40          8  bayesian  1937.200  1647.174230\n",
       "41          9  bayesian  1802.075  1647.174230\n",
       "42         10  bayesian  1306.700  1647.174230\n",
       "43         11  bayesian  1238.925  1647.174230\n",
       "44         12  bayesian  1137.375  1647.174230\n",
       "45         13  bayesian  1088.175  1647.174230\n",
       "46         14  bayesian   789.725  1647.174230\n",
       "47         15  bayesian   700.350  1647.174230"
      ]
     },
     "execution_count": 78,
     "metadata": {},
     "output_type": "execute_result"
    }
   ],
   "source": [
    "results_df = mae_df.merge(std_df, on=[\"method\", \"index\"]).rename(columns=dict(index=\"iteration\"))\n",
    "results_df"
   ]
  },
  {
   "cell_type": "markdown",
   "metadata": {},
   "source": [
    "### Visualization\n",
    "As we might expect, Bayesian optimization outperforms random search while grid and\n",
    "random search are on par with each other."
   ]
  },
  {
   "cell_type": "code",
   "execution_count": 89,
   "metadata": {},
   "outputs": [
    {
     "data": {
      "application/vnd.plotly.v1+json": {
       "config": {
        "plotlyServerURL": "https://plot.ly"
       },
       "data": [
        {
         "fill": "toself",
         "fillcolor": "rgba(99,110,250,.3)",
         "hoverinfo": "skip",
         "legendgroup": "grid",
         "line": {
          "color": "rgba(255,255,255,0)"
         },
         "showlegend": false,
         "type": "scatter",
         "x": [
          0,
          1,
          2,
          3,
          4,
          5,
          6,
          7,
          8,
          9,
          10,
          11,
          12,
          13,
          14,
          15,
          15,
          14,
          13,
          12,
          11,
          10,
          9,
          8,
          7,
          6,
          5,
          4,
          3,
          2,
          1,
          0
         ],
         "xaxis": "x",
         "y": [
          5846.422493317635,
          5845.672493317635,
          5845.4974933176345,
          5255.572493317634,
          5254.172493317635,
          4085.4474933176343,
          4085.4474933176343,
          3590.722493317635,
          3590.722493317635,
          3306.022493317634,
          3305.472493317635,
          3305.472493317635,
          3305.472493317635,
          3175.022493317634,
          3175.022493317634,
          3175.022493317634,
          1089.1775066823654,
          1089.1775066823654,
          1089.1775066823654,
          1219.6275066823657,
          1219.6275066823657,
          1219.6275066823657,
          1220.1775066823654,
          1504.8775066823657,
          1504.8775066823657,
          1999.6025066823656,
          1999.6025066823656,
          3168.3275066823653,
          3169.727506682365,
          3759.652506682365,
          3759.8275066823653,
          3760.5775066823653
         ],
         "yaxis": "y"
        },
        {
         "hovertemplate": "method=grid<br>iteration=%{x}<br>mae=%{y}<extra></extra>",
         "legendgroup": "grid",
         "line": {
          "color": "#636efa",
          "dash": "solid"
         },
         "marker": {
          "symbol": "circle"
         },
         "mode": "lines",
         "name": "grid",
         "orientation": "v",
         "showlegend": true,
         "type": "scatter",
         "x": [
          0,
          1,
          2,
          3,
          4,
          5,
          6,
          7,
          8,
          9,
          10,
          11,
          12,
          13,
          14,
          15
         ],
         "xaxis": "x",
         "y": [
          4803.5,
          4802.75,
          4802.575,
          4212.65,
          4211.25,
          3042.525,
          3042.525,
          2547.8,
          2547.8,
          2263.1,
          2262.55,
          2262.55,
          2262.55,
          2132.1,
          2132.1,
          2132.1
         ],
         "yaxis": "y"
        },
        {
         "fill": "toself",
         "fillcolor": "rgba(239,85,59,.3)",
         "hoverinfo": "skip",
         "legendgroup": "random",
         "line": {
          "color": "rgba(255,255,255,0)"
         },
         "showlegend": false,
         "type": "scatter",
         "x": [
          0,
          1,
          2,
          3,
          4,
          5,
          6,
          7,
          8,
          9,
          10,
          11,
          12,
          13,
          14,
          15,
          15,
          14,
          13,
          12,
          11,
          10,
          9,
          8,
          7,
          6,
          5,
          4,
          3,
          2,
          1,
          0
         ],
         "xaxis": "x",
         "y": [
          5842.730444214309,
          4546.880444214309,
          4546.880444214309,
          4024.505444214309,
          4024.505444214309,
          3684.9054442143092,
          3360.955444214309,
          3360.955444214309,
          3288.255444214309,
          3071.680444214309,
          3071.680444214309,
          3071.680444214309,
          2946.255444214309,
          2946.255444214309,
          2726.905444214309,
          2726.905444214309,
          1098.194555785691,
          1098.194555785691,
          1317.544555785691,
          1317.544555785691,
          1442.9695557856908,
          1442.9695557856908,
          1442.9695557856908,
          1659.544555785691,
          1732.2445557856909,
          1732.2445557856909,
          2056.194555785691,
          2395.794555785691,
          2395.794555785691,
          2918.169555785691,
          2918.169555785691,
          4214.019555785691
         ],
         "yaxis": "y"
        },
        {
         "hovertemplate": "method=random<br>iteration=%{x}<br>mae=%{y}<extra></extra>",
         "legendgroup": "random",
         "line": {
          "color": "#EF553B",
          "dash": "solid"
         },
         "marker": {
          "symbol": "circle"
         },
         "mode": "lines",
         "name": "random",
         "orientation": "v",
         "showlegend": true,
         "type": "scatter",
         "x": [
          0,
          1,
          2,
          3,
          4,
          5,
          6,
          7,
          8,
          9,
          10,
          11,
          12,
          13,
          14,
          15
         ],
         "xaxis": "x",
         "y": [
          5028.375,
          3732.525,
          3732.525,
          3210.15,
          3210.15,
          2870.55,
          2546.6,
          2546.6,
          2473.9,
          2257.325,
          2257.325,
          2257.325,
          2131.9,
          2131.9,
          1912.55,
          1912.55
         ],
         "yaxis": "y"
        },
        {
         "fill": "toself",
         "fillcolor": "rgba(0,204,150,.3)",
         "hoverinfo": "skip",
         "legendgroup": "bayesian",
         "line": {
          "color": "rgba(255,255,255,0)"
         },
         "showlegend": false,
         "type": "scatter",
         "x": [
          0,
          1,
          2,
          3,
          4,
          5,
          6,
          7,
          8,
          9,
          10,
          11,
          12,
          13,
          14,
          15,
          15,
          14,
          13,
          12,
          11,
          10,
          9,
          8,
          7,
          6,
          5,
          4,
          3,
          2,
          1,
          0
         ],
         "xaxis": "x",
         "y": [
          8349.324229853555,
          7374.074229853555,
          5397.599229853555,
          4260.199229853555,
          4142.474229853555,
          4085.874229853555,
          3898.199229853555,
          3898.199229853555,
          3584.3742298535553,
          3449.2492298535553,
          2953.8742298535553,
          2886.099229853555,
          2784.549229853555,
          2735.349229853555,
          2436.899229853555,
          2347.524229853555,
          -946.824229853555,
          -857.449229853555,
          -558.9992298535551,
          -509.79922985355506,
          -408.2492298535551,
          -340.474229853555,
          154.90077014644498,
          290.025770146445,
          603.850770146445,
          603.850770146445,
          791.5257701464448,
          848.1257701464451,
          965.850770146445,
          2103.250770146445,
          4079.7257701464446,
          5054.975770146444
         ],
         "yaxis": "y"
        },
        {
         "hovertemplate": "method=bayesian<br>iteration=%{x}<br>mae=%{y}<extra></extra>",
         "legendgroup": "bayesian",
         "line": {
          "color": "#00cc96",
          "dash": "solid"
         },
         "marker": {
          "symbol": "circle"
         },
         "mode": "lines",
         "name": "bayesian",
         "orientation": "v",
         "showlegend": true,
         "type": "scatter",
         "x": [
          0,
          1,
          2,
          3,
          4,
          5,
          6,
          7,
          8,
          9,
          10,
          11,
          12,
          13,
          14,
          15
         ],
         "xaxis": "x",
         "y": [
          6702.15,
          5726.9,
          3750.425,
          2613.025,
          2495.3,
          2438.7,
          2251.025,
          2251.025,
          1937.2,
          1802.075,
          1306.7,
          1238.925,
          1137.375,
          1088.175,
          789.725,
          700.35
         ],
         "yaxis": "y"
        }
       ],
       "layout": {
        "legend": {
         "title": {
          "text": "method"
         },
         "tracegroupgap": 0
        },
        "margin": {
         "t": 60
        },
        "template": {
         "data": {
          "bar": [
           {
            "error_x": {
             "color": "#2a3f5f"
            },
            "error_y": {
             "color": "#2a3f5f"
            },
            "marker": {
             "line": {
              "color": "#E5ECF6",
              "width": 0.5
             },
             "pattern": {
              "fillmode": "overlay",
              "size": 10,
              "solidity": 0.2
             }
            },
            "type": "bar"
           }
          ],
          "barpolar": [
           {
            "marker": {
             "line": {
              "color": "#E5ECF6",
              "width": 0.5
             },
             "pattern": {
              "fillmode": "overlay",
              "size": 10,
              "solidity": 0.2
             }
            },
            "type": "barpolar"
           }
          ],
          "carpet": [
           {
            "aaxis": {
             "endlinecolor": "#2a3f5f",
             "gridcolor": "white",
             "linecolor": "white",
             "minorgridcolor": "white",
             "startlinecolor": "#2a3f5f"
            },
            "baxis": {
             "endlinecolor": "#2a3f5f",
             "gridcolor": "white",
             "linecolor": "white",
             "minorgridcolor": "white",
             "startlinecolor": "#2a3f5f"
            },
            "type": "carpet"
           }
          ],
          "choropleth": [
           {
            "colorbar": {
             "outlinewidth": 0,
             "ticks": ""
            },
            "type": "choropleth"
           }
          ],
          "contour": [
           {
            "colorbar": {
             "outlinewidth": 0,
             "ticks": ""
            },
            "colorscale": [
             [
              0,
              "#0d0887"
             ],
             [
              0.1111111111111111,
              "#46039f"
             ],
             [
              0.2222222222222222,
              "#7201a8"
             ],
             [
              0.3333333333333333,
              "#9c179e"
             ],
             [
              0.4444444444444444,
              "#bd3786"
             ],
             [
              0.5555555555555556,
              "#d8576b"
             ],
             [
              0.6666666666666666,
              "#ed7953"
             ],
             [
              0.7777777777777778,
              "#fb9f3a"
             ],
             [
              0.8888888888888888,
              "#fdca26"
             ],
             [
              1,
              "#f0f921"
             ]
            ],
            "type": "contour"
           }
          ],
          "contourcarpet": [
           {
            "colorbar": {
             "outlinewidth": 0,
             "ticks": ""
            },
            "type": "contourcarpet"
           }
          ],
          "heatmap": [
           {
            "colorbar": {
             "outlinewidth": 0,
             "ticks": ""
            },
            "colorscale": [
             [
              0,
              "#0d0887"
             ],
             [
              0.1111111111111111,
              "#46039f"
             ],
             [
              0.2222222222222222,
              "#7201a8"
             ],
             [
              0.3333333333333333,
              "#9c179e"
             ],
             [
              0.4444444444444444,
              "#bd3786"
             ],
             [
              0.5555555555555556,
              "#d8576b"
             ],
             [
              0.6666666666666666,
              "#ed7953"
             ],
             [
              0.7777777777777778,
              "#fb9f3a"
             ],
             [
              0.8888888888888888,
              "#fdca26"
             ],
             [
              1,
              "#f0f921"
             ]
            ],
            "type": "heatmap"
           }
          ],
          "heatmapgl": [
           {
            "colorbar": {
             "outlinewidth": 0,
             "ticks": ""
            },
            "colorscale": [
             [
              0,
              "#0d0887"
             ],
             [
              0.1111111111111111,
              "#46039f"
             ],
             [
              0.2222222222222222,
              "#7201a8"
             ],
             [
              0.3333333333333333,
              "#9c179e"
             ],
             [
              0.4444444444444444,
              "#bd3786"
             ],
             [
              0.5555555555555556,
              "#d8576b"
             ],
             [
              0.6666666666666666,
              "#ed7953"
             ],
             [
              0.7777777777777778,
              "#fb9f3a"
             ],
             [
              0.8888888888888888,
              "#fdca26"
             ],
             [
              1,
              "#f0f921"
             ]
            ],
            "type": "heatmapgl"
           }
          ],
          "histogram": [
           {
            "marker": {
             "pattern": {
              "fillmode": "overlay",
              "size": 10,
              "solidity": 0.2
             }
            },
            "type": "histogram"
           }
          ],
          "histogram2d": [
           {
            "colorbar": {
             "outlinewidth": 0,
             "ticks": ""
            },
            "colorscale": [
             [
              0,
              "#0d0887"
             ],
             [
              0.1111111111111111,
              "#46039f"
             ],
             [
              0.2222222222222222,
              "#7201a8"
             ],
             [
              0.3333333333333333,
              "#9c179e"
             ],
             [
              0.4444444444444444,
              "#bd3786"
             ],
             [
              0.5555555555555556,
              "#d8576b"
             ],
             [
              0.6666666666666666,
              "#ed7953"
             ],
             [
              0.7777777777777778,
              "#fb9f3a"
             ],
             [
              0.8888888888888888,
              "#fdca26"
             ],
             [
              1,
              "#f0f921"
             ]
            ],
            "type": "histogram2d"
           }
          ],
          "histogram2dcontour": [
           {
            "colorbar": {
             "outlinewidth": 0,
             "ticks": ""
            },
            "colorscale": [
             [
              0,
              "#0d0887"
             ],
             [
              0.1111111111111111,
              "#46039f"
             ],
             [
              0.2222222222222222,
              "#7201a8"
             ],
             [
              0.3333333333333333,
              "#9c179e"
             ],
             [
              0.4444444444444444,
              "#bd3786"
             ],
             [
              0.5555555555555556,
              "#d8576b"
             ],
             [
              0.6666666666666666,
              "#ed7953"
             ],
             [
              0.7777777777777778,
              "#fb9f3a"
             ],
             [
              0.8888888888888888,
              "#fdca26"
             ],
             [
              1,
              "#f0f921"
             ]
            ],
            "type": "histogram2dcontour"
           }
          ],
          "mesh3d": [
           {
            "colorbar": {
             "outlinewidth": 0,
             "ticks": ""
            },
            "type": "mesh3d"
           }
          ],
          "parcoords": [
           {
            "line": {
             "colorbar": {
              "outlinewidth": 0,
              "ticks": ""
             }
            },
            "type": "parcoords"
           }
          ],
          "pie": [
           {
            "automargin": true,
            "type": "pie"
           }
          ],
          "scatter": [
           {
            "fillpattern": {
             "fillmode": "overlay",
             "size": 10,
             "solidity": 0.2
            },
            "type": "scatter"
           }
          ],
          "scatter3d": [
           {
            "line": {
             "colorbar": {
              "outlinewidth": 0,
              "ticks": ""
             }
            },
            "marker": {
             "colorbar": {
              "outlinewidth": 0,
              "ticks": ""
             }
            },
            "type": "scatter3d"
           }
          ],
          "scattercarpet": [
           {
            "marker": {
             "colorbar": {
              "outlinewidth": 0,
              "ticks": ""
             }
            },
            "type": "scattercarpet"
           }
          ],
          "scattergeo": [
           {
            "marker": {
             "colorbar": {
              "outlinewidth": 0,
              "ticks": ""
             }
            },
            "type": "scattergeo"
           }
          ],
          "scattergl": [
           {
            "marker": {
             "colorbar": {
              "outlinewidth": 0,
              "ticks": ""
             }
            },
            "type": "scattergl"
           }
          ],
          "scattermapbox": [
           {
            "marker": {
             "colorbar": {
              "outlinewidth": 0,
              "ticks": ""
             }
            },
            "type": "scattermapbox"
           }
          ],
          "scatterpolar": [
           {
            "marker": {
             "colorbar": {
              "outlinewidth": 0,
              "ticks": ""
             }
            },
            "type": "scatterpolar"
           }
          ],
          "scatterpolargl": [
           {
            "marker": {
             "colorbar": {
              "outlinewidth": 0,
              "ticks": ""
             }
            },
            "type": "scatterpolargl"
           }
          ],
          "scatterternary": [
           {
            "marker": {
             "colorbar": {
              "outlinewidth": 0,
              "ticks": ""
             }
            },
            "type": "scatterternary"
           }
          ],
          "surface": [
           {
            "colorbar": {
             "outlinewidth": 0,
             "ticks": ""
            },
            "colorscale": [
             [
              0,
              "#0d0887"
             ],
             [
              0.1111111111111111,
              "#46039f"
             ],
             [
              0.2222222222222222,
              "#7201a8"
             ],
             [
              0.3333333333333333,
              "#9c179e"
             ],
             [
              0.4444444444444444,
              "#bd3786"
             ],
             [
              0.5555555555555556,
              "#d8576b"
             ],
             [
              0.6666666666666666,
              "#ed7953"
             ],
             [
              0.7777777777777778,
              "#fb9f3a"
             ],
             [
              0.8888888888888888,
              "#fdca26"
             ],
             [
              1,
              "#f0f921"
             ]
            ],
            "type": "surface"
           }
          ],
          "table": [
           {
            "cells": {
             "fill": {
              "color": "#EBF0F8"
             },
             "line": {
              "color": "white"
             }
            },
            "header": {
             "fill": {
              "color": "#C8D4E3"
             },
             "line": {
              "color": "white"
             }
            },
            "type": "table"
           }
          ]
         },
         "layout": {
          "annotationdefaults": {
           "arrowcolor": "#2a3f5f",
           "arrowhead": 0,
           "arrowwidth": 1
          },
          "autotypenumbers": "strict",
          "coloraxis": {
           "colorbar": {
            "outlinewidth": 0,
            "ticks": ""
           }
          },
          "colorscale": {
           "diverging": [
            [
             0,
             "#8e0152"
            ],
            [
             0.1,
             "#c51b7d"
            ],
            [
             0.2,
             "#de77ae"
            ],
            [
             0.3,
             "#f1b6da"
            ],
            [
             0.4,
             "#fde0ef"
            ],
            [
             0.5,
             "#f7f7f7"
            ],
            [
             0.6,
             "#e6f5d0"
            ],
            [
             0.7,
             "#b8e186"
            ],
            [
             0.8,
             "#7fbc41"
            ],
            [
             0.9,
             "#4d9221"
            ],
            [
             1,
             "#276419"
            ]
           ],
           "sequential": [
            [
             0,
             "#0d0887"
            ],
            [
             0.1111111111111111,
             "#46039f"
            ],
            [
             0.2222222222222222,
             "#7201a8"
            ],
            [
             0.3333333333333333,
             "#9c179e"
            ],
            [
             0.4444444444444444,
             "#bd3786"
            ],
            [
             0.5555555555555556,
             "#d8576b"
            ],
            [
             0.6666666666666666,
             "#ed7953"
            ],
            [
             0.7777777777777778,
             "#fb9f3a"
            ],
            [
             0.8888888888888888,
             "#fdca26"
            ],
            [
             1,
             "#f0f921"
            ]
           ],
           "sequentialminus": [
            [
             0,
             "#0d0887"
            ],
            [
             0.1111111111111111,
             "#46039f"
            ],
            [
             0.2222222222222222,
             "#7201a8"
            ],
            [
             0.3333333333333333,
             "#9c179e"
            ],
            [
             0.4444444444444444,
             "#bd3786"
            ],
            [
             0.5555555555555556,
             "#d8576b"
            ],
            [
             0.6666666666666666,
             "#ed7953"
            ],
            [
             0.7777777777777778,
             "#fb9f3a"
            ],
            [
             0.8888888888888888,
             "#fdca26"
            ],
            [
             1,
             "#f0f921"
            ]
           ]
          },
          "colorway": [
           "#636efa",
           "#EF553B",
           "#00cc96",
           "#ab63fa",
           "#FFA15A",
           "#19d3f3",
           "#FF6692",
           "#B6E880",
           "#FF97FF",
           "#FECB52"
          ],
          "font": {
           "color": "#2a3f5f"
          },
          "geo": {
           "bgcolor": "white",
           "lakecolor": "white",
           "landcolor": "#E5ECF6",
           "showlakes": true,
           "showland": true,
           "subunitcolor": "white"
          },
          "hoverlabel": {
           "align": "left"
          },
          "hovermode": "closest",
          "mapbox": {
           "style": "light"
          },
          "paper_bgcolor": "white",
          "plot_bgcolor": "#E5ECF6",
          "polar": {
           "angularaxis": {
            "gridcolor": "white",
            "linecolor": "white",
            "ticks": ""
           },
           "bgcolor": "#E5ECF6",
           "radialaxis": {
            "gridcolor": "white",
            "linecolor": "white",
            "ticks": ""
           }
          },
          "scene": {
           "xaxis": {
            "backgroundcolor": "#E5ECF6",
            "gridcolor": "white",
            "gridwidth": 2,
            "linecolor": "white",
            "showbackground": true,
            "ticks": "",
            "zerolinecolor": "white"
           },
           "yaxis": {
            "backgroundcolor": "#E5ECF6",
            "gridcolor": "white",
            "gridwidth": 2,
            "linecolor": "white",
            "showbackground": true,
            "ticks": "",
            "zerolinecolor": "white"
           },
           "zaxis": {
            "backgroundcolor": "#E5ECF6",
            "gridcolor": "white",
            "gridwidth": 2,
            "linecolor": "white",
            "showbackground": true,
            "ticks": "",
            "zerolinecolor": "white"
           }
          },
          "shapedefaults": {
           "line": {
            "color": "#2a3f5f"
           }
          },
          "ternary": {
           "aaxis": {
            "gridcolor": "white",
            "linecolor": "white",
            "ticks": ""
           },
           "baxis": {
            "gridcolor": "white",
            "linecolor": "white",
            "ticks": ""
           },
           "bgcolor": "#E5ECF6",
           "caxis": {
            "gridcolor": "white",
            "linecolor": "white",
            "ticks": ""
           }
          },
          "title": {
           "x": 0.05
          },
          "xaxis": {
           "automargin": true,
           "gridcolor": "white",
           "linecolor": "white",
           "ticks": "",
           "title": {
            "standoff": 15
           },
           "zerolinecolor": "white",
           "zerolinewidth": 2
          },
          "yaxis": {
           "automargin": true,
           "gridcolor": "white",
           "linecolor": "white",
           "ticks": "",
           "title": {
            "standoff": 15
           },
           "zerolinecolor": "white",
           "zerolinewidth": 2
          }
         }
        },
        "xaxis": {
         "anchor": "y",
         "domain": [
          0,
          1
         ],
         "title": {
          "text": "iteration"
         }
        },
        "yaxis": {
         "anchor": "x",
         "domain": [
          0,
          1
         ],
         "title": {
          "text": "mae"
         }
        }
       }
      },
      "text/html": [
       "<div>                            <div id=\"6643daca-52ad-4062-884f-81d411fef453\" class=\"plotly-graph-div\" style=\"height:525px; width:100%;\"></div>            <script type=\"text/javascript\">                require([\"plotly\"], function(Plotly) {                    window.PLOTLYENV=window.PLOTLYENV || {};                                    if (document.getElementById(\"6643daca-52ad-4062-884f-81d411fef453\")) {                    Plotly.newPlot(                        \"6643daca-52ad-4062-884f-81d411fef453\",                        [{\"fill\":\"toself\",\"fillcolor\":\"rgba(99,110,250,.3)\",\"hoverinfo\":\"skip\",\"legendgroup\":\"grid\",\"line\":{\"color\":\"rgba(255,255,255,0)\"},\"showlegend\":false,\"x\":[0,1,2,3,4,5,6,7,8,9,10,11,12,13,14,15,15,14,13,12,11,10,9,8,7,6,5,4,3,2,1,0],\"xaxis\":\"x\",\"y\":[5846.422493317635,5845.672493317635,5845.4974933176345,5255.572493317634,5254.172493317635,4085.4474933176343,4085.4474933176343,3590.722493317635,3590.722493317635,3306.022493317634,3305.472493317635,3305.472493317635,3305.472493317635,3175.022493317634,3175.022493317634,3175.022493317634,1089.1775066823654,1089.1775066823654,1089.1775066823654,1219.6275066823657,1219.6275066823657,1219.6275066823657,1220.1775066823654,1504.8775066823657,1504.8775066823657,1999.6025066823656,1999.6025066823656,3168.3275066823653,3169.727506682365,3759.652506682365,3759.8275066823653,3760.5775066823653],\"yaxis\":\"y\",\"type\":\"scatter\"},{\"hovertemplate\":\"method=grid<br>iteration=%{x}<br>mae=%{y}<extra></extra>\",\"legendgroup\":\"grid\",\"line\":{\"color\":\"#636efa\",\"dash\":\"solid\"},\"marker\":{\"symbol\":\"circle\"},\"mode\":\"lines\",\"name\":\"grid\",\"orientation\":\"v\",\"showlegend\":true,\"x\":[0,1,2,3,4,5,6,7,8,9,10,11,12,13,14,15],\"xaxis\":\"x\",\"y\":[4803.5,4802.75,4802.575,4212.65,4211.25,3042.525,3042.525,2547.8,2547.8,2263.1,2262.55,2262.55,2262.55,2132.1,2132.1,2132.1],\"yaxis\":\"y\",\"type\":\"scatter\"},{\"fill\":\"toself\",\"fillcolor\":\"rgba(239,85,59,.3)\",\"hoverinfo\":\"skip\",\"legendgroup\":\"random\",\"line\":{\"color\":\"rgba(255,255,255,0)\"},\"showlegend\":false,\"x\":[0,1,2,3,4,5,6,7,8,9,10,11,12,13,14,15,15,14,13,12,11,10,9,8,7,6,5,4,3,2,1,0],\"xaxis\":\"x\",\"y\":[5842.730444214309,4546.880444214309,4546.880444214309,4024.505444214309,4024.505444214309,3684.9054442143092,3360.955444214309,3360.955444214309,3288.255444214309,3071.680444214309,3071.680444214309,3071.680444214309,2946.255444214309,2946.255444214309,2726.905444214309,2726.905444214309,1098.194555785691,1098.194555785691,1317.544555785691,1317.544555785691,1442.9695557856908,1442.9695557856908,1442.9695557856908,1659.544555785691,1732.2445557856909,1732.2445557856909,2056.194555785691,2395.794555785691,2395.794555785691,2918.169555785691,2918.169555785691,4214.019555785691],\"yaxis\":\"y\",\"type\":\"scatter\"},{\"hovertemplate\":\"method=random<br>iteration=%{x}<br>mae=%{y}<extra></extra>\",\"legendgroup\":\"random\",\"line\":{\"color\":\"#EF553B\",\"dash\":\"solid\"},\"marker\":{\"symbol\":\"circle\"},\"mode\":\"lines\",\"name\":\"random\",\"orientation\":\"v\",\"showlegend\":true,\"x\":[0,1,2,3,4,5,6,7,8,9,10,11,12,13,14,15],\"xaxis\":\"x\",\"y\":[5028.375,3732.525,3732.525,3210.15,3210.15,2870.55,2546.6,2546.6,2473.9,2257.325,2257.325,2257.325,2131.9,2131.9,1912.55,1912.55],\"yaxis\":\"y\",\"type\":\"scatter\"},{\"fill\":\"toself\",\"fillcolor\":\"rgba(0,204,150,.3)\",\"hoverinfo\":\"skip\",\"legendgroup\":\"bayesian\",\"line\":{\"color\":\"rgba(255,255,255,0)\"},\"showlegend\":false,\"x\":[0,1,2,3,4,5,6,7,8,9,10,11,12,13,14,15,15,14,13,12,11,10,9,8,7,6,5,4,3,2,1,0],\"xaxis\":\"x\",\"y\":[8349.324229853555,7374.074229853555,5397.599229853555,4260.199229853555,4142.474229853555,4085.874229853555,3898.199229853555,3898.199229853555,3584.3742298535553,3449.2492298535553,2953.8742298535553,2886.099229853555,2784.549229853555,2735.349229853555,2436.899229853555,2347.524229853555,-946.824229853555,-857.449229853555,-558.9992298535551,-509.79922985355506,-408.2492298535551,-340.474229853555,154.90077014644498,290.025770146445,603.850770146445,603.850770146445,791.5257701464448,848.1257701464451,965.850770146445,2103.250770146445,4079.7257701464446,5054.975770146444],\"yaxis\":\"y\",\"type\":\"scatter\"},{\"hovertemplate\":\"method=bayesian<br>iteration=%{x}<br>mae=%{y}<extra></extra>\",\"legendgroup\":\"bayesian\",\"line\":{\"color\":\"#00cc96\",\"dash\":\"solid\"},\"marker\":{\"symbol\":\"circle\"},\"mode\":\"lines\",\"name\":\"bayesian\",\"orientation\":\"v\",\"showlegend\":true,\"x\":[0,1,2,3,4,5,6,7,8,9,10,11,12,13,14,15],\"xaxis\":\"x\",\"y\":[6702.15,5726.9,3750.425,2613.025,2495.3,2438.7,2251.025,2251.025,1937.2,1802.075,1306.7,1238.925,1137.375,1088.175,789.725,700.35],\"yaxis\":\"y\",\"type\":\"scatter\"}],                        {\"template\":{\"data\":{\"histogram2dcontour\":[{\"type\":\"histogram2dcontour\",\"colorbar\":{\"outlinewidth\":0,\"ticks\":\"\"},\"colorscale\":[[0.0,\"#0d0887\"],[0.1111111111111111,\"#46039f\"],[0.2222222222222222,\"#7201a8\"],[0.3333333333333333,\"#9c179e\"],[0.4444444444444444,\"#bd3786\"],[0.5555555555555556,\"#d8576b\"],[0.6666666666666666,\"#ed7953\"],[0.7777777777777778,\"#fb9f3a\"],[0.8888888888888888,\"#fdca26\"],[1.0,\"#f0f921\"]]}],\"choropleth\":[{\"type\":\"choropleth\",\"colorbar\":{\"outlinewidth\":0,\"ticks\":\"\"}}],\"histogram2d\":[{\"type\":\"histogram2d\",\"colorbar\":{\"outlinewidth\":0,\"ticks\":\"\"},\"colorscale\":[[0.0,\"#0d0887\"],[0.1111111111111111,\"#46039f\"],[0.2222222222222222,\"#7201a8\"],[0.3333333333333333,\"#9c179e\"],[0.4444444444444444,\"#bd3786\"],[0.5555555555555556,\"#d8576b\"],[0.6666666666666666,\"#ed7953\"],[0.7777777777777778,\"#fb9f3a\"],[0.8888888888888888,\"#fdca26\"],[1.0,\"#f0f921\"]]}],\"heatmap\":[{\"type\":\"heatmap\",\"colorbar\":{\"outlinewidth\":0,\"ticks\":\"\"},\"colorscale\":[[0.0,\"#0d0887\"],[0.1111111111111111,\"#46039f\"],[0.2222222222222222,\"#7201a8\"],[0.3333333333333333,\"#9c179e\"],[0.4444444444444444,\"#bd3786\"],[0.5555555555555556,\"#d8576b\"],[0.6666666666666666,\"#ed7953\"],[0.7777777777777778,\"#fb9f3a\"],[0.8888888888888888,\"#fdca26\"],[1.0,\"#f0f921\"]]}],\"heatmapgl\":[{\"type\":\"heatmapgl\",\"colorbar\":{\"outlinewidth\":0,\"ticks\":\"\"},\"colorscale\":[[0.0,\"#0d0887\"],[0.1111111111111111,\"#46039f\"],[0.2222222222222222,\"#7201a8\"],[0.3333333333333333,\"#9c179e\"],[0.4444444444444444,\"#bd3786\"],[0.5555555555555556,\"#d8576b\"],[0.6666666666666666,\"#ed7953\"],[0.7777777777777778,\"#fb9f3a\"],[0.8888888888888888,\"#fdca26\"],[1.0,\"#f0f921\"]]}],\"contourcarpet\":[{\"type\":\"contourcarpet\",\"colorbar\":{\"outlinewidth\":0,\"ticks\":\"\"}}],\"contour\":[{\"type\":\"contour\",\"colorbar\":{\"outlinewidth\":0,\"ticks\":\"\"},\"colorscale\":[[0.0,\"#0d0887\"],[0.1111111111111111,\"#46039f\"],[0.2222222222222222,\"#7201a8\"],[0.3333333333333333,\"#9c179e\"],[0.4444444444444444,\"#bd3786\"],[0.5555555555555556,\"#d8576b\"],[0.6666666666666666,\"#ed7953\"],[0.7777777777777778,\"#fb9f3a\"],[0.8888888888888888,\"#fdca26\"],[1.0,\"#f0f921\"]]}],\"surface\":[{\"type\":\"surface\",\"colorbar\":{\"outlinewidth\":0,\"ticks\":\"\"},\"colorscale\":[[0.0,\"#0d0887\"],[0.1111111111111111,\"#46039f\"],[0.2222222222222222,\"#7201a8\"],[0.3333333333333333,\"#9c179e\"],[0.4444444444444444,\"#bd3786\"],[0.5555555555555556,\"#d8576b\"],[0.6666666666666666,\"#ed7953\"],[0.7777777777777778,\"#fb9f3a\"],[0.8888888888888888,\"#fdca26\"],[1.0,\"#f0f921\"]]}],\"mesh3d\":[{\"type\":\"mesh3d\",\"colorbar\":{\"outlinewidth\":0,\"ticks\":\"\"}}],\"scatter\":[{\"fillpattern\":{\"fillmode\":\"overlay\",\"size\":10,\"solidity\":0.2},\"type\":\"scatter\"}],\"parcoords\":[{\"type\":\"parcoords\",\"line\":{\"colorbar\":{\"outlinewidth\":0,\"ticks\":\"\"}}}],\"scatterpolargl\":[{\"type\":\"scatterpolargl\",\"marker\":{\"colorbar\":{\"outlinewidth\":0,\"ticks\":\"\"}}}],\"bar\":[{\"error_x\":{\"color\":\"#2a3f5f\"},\"error_y\":{\"color\":\"#2a3f5f\"},\"marker\":{\"line\":{\"color\":\"#E5ECF6\",\"width\":0.5},\"pattern\":{\"fillmode\":\"overlay\",\"size\":10,\"solidity\":0.2}},\"type\":\"bar\"}],\"scattergeo\":[{\"type\":\"scattergeo\",\"marker\":{\"colorbar\":{\"outlinewidth\":0,\"ticks\":\"\"}}}],\"scatterpolar\":[{\"type\":\"scatterpolar\",\"marker\":{\"colorbar\":{\"outlinewidth\":0,\"ticks\":\"\"}}}],\"histogram\":[{\"marker\":{\"pattern\":{\"fillmode\":\"overlay\",\"size\":10,\"solidity\":0.2}},\"type\":\"histogram\"}],\"scattergl\":[{\"type\":\"scattergl\",\"marker\":{\"colorbar\":{\"outlinewidth\":0,\"ticks\":\"\"}}}],\"scatter3d\":[{\"type\":\"scatter3d\",\"line\":{\"colorbar\":{\"outlinewidth\":0,\"ticks\":\"\"}},\"marker\":{\"colorbar\":{\"outlinewidth\":0,\"ticks\":\"\"}}}],\"scattermapbox\":[{\"type\":\"scattermapbox\",\"marker\":{\"colorbar\":{\"outlinewidth\":0,\"ticks\":\"\"}}}],\"scatterternary\":[{\"type\":\"scatterternary\",\"marker\":{\"colorbar\":{\"outlinewidth\":0,\"ticks\":\"\"}}}],\"scattercarpet\":[{\"type\":\"scattercarpet\",\"marker\":{\"colorbar\":{\"outlinewidth\":0,\"ticks\":\"\"}}}],\"carpet\":[{\"aaxis\":{\"endlinecolor\":\"#2a3f5f\",\"gridcolor\":\"white\",\"linecolor\":\"white\",\"minorgridcolor\":\"white\",\"startlinecolor\":\"#2a3f5f\"},\"baxis\":{\"endlinecolor\":\"#2a3f5f\",\"gridcolor\":\"white\",\"linecolor\":\"white\",\"minorgridcolor\":\"white\",\"startlinecolor\":\"#2a3f5f\"},\"type\":\"carpet\"}],\"table\":[{\"cells\":{\"fill\":{\"color\":\"#EBF0F8\"},\"line\":{\"color\":\"white\"}},\"header\":{\"fill\":{\"color\":\"#C8D4E3\"},\"line\":{\"color\":\"white\"}},\"type\":\"table\"}],\"barpolar\":[{\"marker\":{\"line\":{\"color\":\"#E5ECF6\",\"width\":0.5},\"pattern\":{\"fillmode\":\"overlay\",\"size\":10,\"solidity\":0.2}},\"type\":\"barpolar\"}],\"pie\":[{\"automargin\":true,\"type\":\"pie\"}]},\"layout\":{\"autotypenumbers\":\"strict\",\"colorway\":[\"#636efa\",\"#EF553B\",\"#00cc96\",\"#ab63fa\",\"#FFA15A\",\"#19d3f3\",\"#FF6692\",\"#B6E880\",\"#FF97FF\",\"#FECB52\"],\"font\":{\"color\":\"#2a3f5f\"},\"hovermode\":\"closest\",\"hoverlabel\":{\"align\":\"left\"},\"paper_bgcolor\":\"white\",\"plot_bgcolor\":\"#E5ECF6\",\"polar\":{\"bgcolor\":\"#E5ECF6\",\"angularaxis\":{\"gridcolor\":\"white\",\"linecolor\":\"white\",\"ticks\":\"\"},\"radialaxis\":{\"gridcolor\":\"white\",\"linecolor\":\"white\",\"ticks\":\"\"}},\"ternary\":{\"bgcolor\":\"#E5ECF6\",\"aaxis\":{\"gridcolor\":\"white\",\"linecolor\":\"white\",\"ticks\":\"\"},\"baxis\":{\"gridcolor\":\"white\",\"linecolor\":\"white\",\"ticks\":\"\"},\"caxis\":{\"gridcolor\":\"white\",\"linecolor\":\"white\",\"ticks\":\"\"}},\"coloraxis\":{\"colorbar\":{\"outlinewidth\":0,\"ticks\":\"\"}},\"colorscale\":{\"sequential\":[[0.0,\"#0d0887\"],[0.1111111111111111,\"#46039f\"],[0.2222222222222222,\"#7201a8\"],[0.3333333333333333,\"#9c179e\"],[0.4444444444444444,\"#bd3786\"],[0.5555555555555556,\"#d8576b\"],[0.6666666666666666,\"#ed7953\"],[0.7777777777777778,\"#fb9f3a\"],[0.8888888888888888,\"#fdca26\"],[1.0,\"#f0f921\"]],\"sequentialminus\":[[0.0,\"#0d0887\"],[0.1111111111111111,\"#46039f\"],[0.2222222222222222,\"#7201a8\"],[0.3333333333333333,\"#9c179e\"],[0.4444444444444444,\"#bd3786\"],[0.5555555555555556,\"#d8576b\"],[0.6666666666666666,\"#ed7953\"],[0.7777777777777778,\"#fb9f3a\"],[0.8888888888888888,\"#fdca26\"],[1.0,\"#f0f921\"]],\"diverging\":[[0,\"#8e0152\"],[0.1,\"#c51b7d\"],[0.2,\"#de77ae\"],[0.3,\"#f1b6da\"],[0.4,\"#fde0ef\"],[0.5,\"#f7f7f7\"],[0.6,\"#e6f5d0\"],[0.7,\"#b8e186\"],[0.8,\"#7fbc41\"],[0.9,\"#4d9221\"],[1,\"#276419\"]]},\"xaxis\":{\"gridcolor\":\"white\",\"linecolor\":\"white\",\"ticks\":\"\",\"title\":{\"standoff\":15},\"zerolinecolor\":\"white\",\"automargin\":true,\"zerolinewidth\":2},\"yaxis\":{\"gridcolor\":\"white\",\"linecolor\":\"white\",\"ticks\":\"\",\"title\":{\"standoff\":15},\"zerolinecolor\":\"white\",\"automargin\":true,\"zerolinewidth\":2},\"scene\":{\"xaxis\":{\"backgroundcolor\":\"#E5ECF6\",\"gridcolor\":\"white\",\"linecolor\":\"white\",\"showbackground\":true,\"ticks\":\"\",\"zerolinecolor\":\"white\",\"gridwidth\":2},\"yaxis\":{\"backgroundcolor\":\"#E5ECF6\",\"gridcolor\":\"white\",\"linecolor\":\"white\",\"showbackground\":true,\"ticks\":\"\",\"zerolinecolor\":\"white\",\"gridwidth\":2},\"zaxis\":{\"backgroundcolor\":\"#E5ECF6\",\"gridcolor\":\"white\",\"linecolor\":\"white\",\"showbackground\":true,\"ticks\":\"\",\"zerolinecolor\":\"white\",\"gridwidth\":2}},\"shapedefaults\":{\"line\":{\"color\":\"#2a3f5f\"}},\"annotationdefaults\":{\"arrowcolor\":\"#2a3f5f\",\"arrowhead\":0,\"arrowwidth\":1},\"geo\":{\"bgcolor\":\"white\",\"landcolor\":\"#E5ECF6\",\"subunitcolor\":\"white\",\"showland\":true,\"showlakes\":true,\"lakecolor\":\"white\"},\"title\":{\"x\":0.05},\"mapbox\":{\"style\":\"light\"}}},\"xaxis\":{\"anchor\":\"y\",\"domain\":[0.0,1.0],\"title\":{\"text\":\"iteration\"}},\"yaxis\":{\"anchor\":\"x\",\"domain\":[0.0,1.0],\"title\":{\"text\":\"mae\"}},\"legend\":{\"title\":{\"text\":\"method\"},\"tracegroupgap\":0},\"margin\":{\"t\":60}},                        {\"responsive\": true}                    ).then(function(){\n",
       "                            \n",
       "var gd = document.getElementById('6643daca-52ad-4062-884f-81d411fef453');\n",
       "var x = new MutationObserver(function (mutations, observer) {{\n",
       "        var display = window.getComputedStyle(gd).display;\n",
       "        if (!display || display === 'none') {{\n",
       "            console.log([gd, 'removed!']);\n",
       "            Plotly.purge(gd);\n",
       "            observer.disconnect();\n",
       "        }}\n",
       "}});\n",
       "\n",
       "// Listen for the removal of the full notebook cells\n",
       "var notebookContainer = gd.closest('#notebook-container');\n",
       "if (notebookContainer) {{\n",
       "    x.observe(notebookContainer, {childList: true});\n",
       "}}\n",
       "\n",
       "// Listen for the clearing of the current output cell\n",
       "var outputEl = gd.closest('.output');\n",
       "if (outputEl) {{\n",
       "    x.observe(outputEl, {childList: true});\n",
       "}}\n",
       "\n",
       "                        })                };                });            </script>        </div>"
      ]
     },
     "metadata": {},
     "output_type": "display_data"
    }
   ],
   "source": [
    "# import plotly.express as px\n",
    "from self_driving_lab_demo.utils.plotting import line\n",
    "\n",
    "fig = line(\n",
    "    data_frame=results_df,\n",
    "    x=\"iteration\",\n",
    "    y=\"mae\",\n",
    "    error_y=\"std\",\n",
    "    error_y_mode=\"band\",\n",
    "    color=\"method\",\n",
    ")\n",
    "\n",
    "fig"
   ]
  },
  {
   "cell_type": "markdown",
   "metadata": {},
   "source": [
    "## Repeat Measurement Stochasticity"
   ]
  },
  {
   "cell_type": "code",
   "execution_count": 80,
   "metadata": {},
   "outputs": [
    {
     "data": {
      "text/plain": [
       "(0.33460059837014133, 53, 211, 38)"
      ]
     },
     "execution_count": 80,
     "metadata": {},
     "output_type": "execute_result"
    }
   ],
   "source": [
    "sdls[0].get_target_inputs()"
   ]
  },
  {
   "cell_type": "code",
   "execution_count": 81,
   "metadata": {},
   "outputs": [
    {
     "data": {
      "text/plain": [
       "(603, 3559, 6946, 21048, 3719, 3383, 6012, 1076)"
      ]
     },
     "execution_count": 81,
     "metadata": {},
     "output_type": "execute_result"
    }
   ],
   "source": [
    "sdls[0].target_data"
   ]
  },
  {
   "cell_type": "code",
   "execution_count": 83,
   "metadata": {},
   "outputs": [],
   "source": [
    "check_data = []\n",
    "from time import sleep\n",
    "for _ in range(10):\n",
    "    check_data.append(sdls[0].evaluate(*sdls[0].get_target_inputs()))"
   ]
  },
  {
   "cell_type": "code",
   "execution_count": 84,
   "metadata": {},
   "outputs": [
    {
     "data": {
      "text/html": [
       "<div>\n",
       "<style scoped>\n",
       "    .dataframe tbody tr th:only-of-type {\n",
       "        vertical-align: middle;\n",
       "    }\n",
       "\n",
       "    .dataframe tbody tr th {\n",
       "        vertical-align: top;\n",
       "    }\n",
       "\n",
       "    .dataframe thead th {\n",
       "        text-align: right;\n",
       "    }\n",
       "</style>\n",
       "<table border=\"1\" class=\"dataframe\">\n",
       "  <thead>\n",
       "    <tr style=\"text-align: right;\">\n",
       "      <th></th>\n",
       "      <th>mean</th>\n",
       "      <th>std</th>\n",
       "    </tr>\n",
       "  </thead>\n",
       "  <tbody>\n",
       "    <tr>\n",
       "      <th>ch415_violet</th>\n",
       "      <td>619.800000</td>\n",
       "      <td>0.788811</td>\n",
       "    </tr>\n",
       "    <tr>\n",
       "      <th>ch445_indigo</th>\n",
       "      <td>3569.300000</td>\n",
       "      <td>3.400980</td>\n",
       "    </tr>\n",
       "    <tr>\n",
       "      <th>ch480_blue</th>\n",
       "      <td>6962.200000</td>\n",
       "      <td>1.932184</td>\n",
       "    </tr>\n",
       "    <tr>\n",
       "      <th>ch515_cyan</th>\n",
       "      <td>21046.500000</td>\n",
       "      <td>12.843070</td>\n",
       "    </tr>\n",
       "    <tr>\n",
       "      <th>ch560_green</th>\n",
       "      <td>3750.400000</td>\n",
       "      <td>2.590581</td>\n",
       "    </tr>\n",
       "    <tr>\n",
       "      <th>ch615_yellow</th>\n",
       "      <td>3406.700000</td>\n",
       "      <td>6.815831</td>\n",
       "    </tr>\n",
       "    <tr>\n",
       "      <th>ch670_orange</th>\n",
       "      <td>6074.000000</td>\n",
       "      <td>4.189935</td>\n",
       "    </tr>\n",
       "    <tr>\n",
       "      <th>ch720_red</th>\n",
       "      <td>1189.900000</td>\n",
       "      <td>6.590397</td>\n",
       "    </tr>\n",
       "    <tr>\n",
       "      <th>mae</th>\n",
       "      <td>35.550000</td>\n",
       "      <td>2.287648</td>\n",
       "    </tr>\n",
       "    <tr>\n",
       "      <th>rmse</th>\n",
       "      <td>49.028371</td>\n",
       "      <td>2.716991</td>\n",
       "    </tr>\n",
       "  </tbody>\n",
       "</table>\n",
       "</div>"
      ],
      "text/plain": [
       "                      mean        std\n",
       "ch415_violet    619.800000   0.788811\n",
       "ch445_indigo   3569.300000   3.400980\n",
       "ch480_blue     6962.200000   1.932184\n",
       "ch515_cyan    21046.500000  12.843070\n",
       "ch560_green    3750.400000   2.590581\n",
       "ch615_yellow   3406.700000   6.815831\n",
       "ch670_orange   6074.000000   4.189935\n",
       "ch720_red      1189.900000   6.590397\n",
       "mae              35.550000   2.287648\n",
       "rmse             49.028371   2.716991"
      ]
     },
     "execution_count": 84,
     "metadata": {},
     "output_type": "execute_result"
    }
   ],
   "source": [
    "pd.DataFrame(check_data).agg([np.mean, np.std]).T"
   ]
  },
  {
   "cell_type": "markdown",
   "metadata": {},
   "source": [
    "## Code Graveyard"
   ]
  },
  {
   "cell_type": "code",
   "execution_count": null,
   "metadata": {},
   "outputs": [],
   "source": [
    "# for _ in trange(num_repeats):\n",
    "#     for params in tqdm(grid):\n",
    "#         sdl.evaluate(*params)\n",
    "\n",
    "# pd.concat((mae_df, std_df), axis=1, join=\"inner\")\n",
    "\n",
    "# best_parameters = []\n",
    "# values = []\n",
    "# experiment = []\n",
    "# model = []\n",
    "\n",
    "    # best_parameters.append(bp)\n",
    "    # values.append(v)\n",
    "    # experiment.append(exp)\n",
    "    # model.append(m)"
   ]
  }
 ],
 "metadata": {
  "kernelspec": {
   "display_name": "Python 3.9.13 64-bit ('sdl-demo')",
   "language": "python",
   "name": "python3"
  },
  "language_info": {
   "codemirror_mode": {
    "name": "ipython",
    "version": 3
   },
   "file_extension": ".py",
   "mimetype": "text/x-python",
   "name": "python",
   "nbconvert_exporter": "python",
   "pygments_lexer": "ipython3",
   "version": "3.9.13"
  },
  "orig_nbformat": 4,
  "vscode": {
   "interpreter": {
    "hash": "b5c3f3d11f10387e18d251eb902c90d66624c3f38140e2cc8c3a7a1864ed0fae"
   }
  }
 },
 "nbformat": 4,
 "nbformat_minor": 2
}
