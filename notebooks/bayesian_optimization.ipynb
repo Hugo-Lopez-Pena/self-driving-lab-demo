{
 "cells": [
  {
   "cell_type": "markdown",
   "metadata": {},
   "source": [
    "# Bayesian Optimization\n",
    "\n",
    "We implement a Bayesian optimization for LED configurations that most closely match a target\n",
    "light spectrum. We will work with a helper class, `SelfDrivingLabDemo` for setting up the\n",
    "spectrophotometer sensor, measuring data from the sensor,\n",
    "generating random inputs, and measuring the objective function (i.e. mean absolute\n",
    "error). From there, we perform an experiment with 100 iterations, visualize the\n",
    "results, and compare against random search. See\n",
    "[random_search.ipynb](random_search.ipynb) for some links on troubleshooting\n",
    "installation setup and a linear version of running an optimization campaign without the\n",
    "`SelfDrivingLabDemo` class."
   ]
  },
  {
   "cell_type": "markdown",
   "metadata": {},
   "source": [
    "## Setup\n",
    "\n",
    "Package installation and imports\n",
    "\n",
    "### Package Installation"
   ]
  },
  {
   "cell_type": "markdown",
   "metadata": {},
   "source": [
    "Do a local installation (`-e`) in the directory one level about this `notebooks` directory (`../.`)"
   ]
  },
  {
   "cell_type": "code",
   "execution_count": 2,
   "metadata": {},
   "outputs": [
    {
     "name": "stdout",
     "output_type": "stream",
     "text": [
      "Looking in indexes: https://pypi.org/simple, https://www.piwheels.org/simple\n",
      "Obtaining file:///home/pi/Documents/GitHub/self-driving-lab-demo\n",
      "  Installing build dependencies ... \u001b[?25ldone\n",
      "\u001b[?25h  Getting requirements to build wheel ... \u001b[?25ldone\n",
      "\u001b[?25h  Installing backend dependencies ... \u001b[?25ldone\n",
      "\u001b[?25h    Preparing wheel metadata ... \u001b[?25ldone\n",
      "\u001b[?25hRequirement already satisfied: cython>=0.29.24 in /usr/local/lib/python3.9/dist-packages (from self-driving-lab-demo==0.0.post1.dev61+g1d3212b.d20220818) (0.29.32)\n",
      "Requirement already satisfied: adafruit-circuitpython-as7341 in /usr/local/lib/python3.9/dist-packages (from self-driving-lab-demo==0.0.post1.dev61+g1d3212b.d20220818) (1.2.9)\n",
      "Requirement already satisfied: scikit-learn in /usr/local/lib/python3.9/dist-packages (from self-driving-lab-demo==0.0.post1.dev61+g1d3212b.d20220818) (1.1.2)\n",
      "Requirement already satisfied: pandas in /usr/lib/python3/dist-packages (from self-driving-lab-demo==0.0.post1.dev61+g1d3212b.d20220818) (1.1.5)\n",
      "Requirement already satisfied: blinkt in /usr/lib/python3/dist-packages (from self-driving-lab-demo==0.0.post1.dev61+g1d3212b.d20220818) (0.1.2)\n",
      "Requirement already satisfied: numpy in /usr/lib/python3/dist-packages (from self-driving-lab-demo==0.0.post1.dev61+g1d3212b.d20220818) (1.19.5)\n",
      "Requirement already satisfied: plotly in /usr/local/lib/python3.9/dist-packages (from self-driving-lab-demo==0.0.post1.dev61+g1d3212b.d20220818) (5.10.0)\n",
      "Requirement already satisfied: ipykernel in /usr/lib/python3/dist-packages (from self-driving-lab-demo==0.0.post1.dev61+g1d3212b.d20220818) (5.4.3)\n",
      "Requirement already satisfied: adafruit-circuitpython-register in /usr/local/lib/python3.9/dist-packages (from adafruit-circuitpython-as7341->self-driving-lab-demo==0.0.post1.dev61+g1d3212b.d20220818) (1.9.11)\n",
      "Requirement already satisfied: adafruit-circuitpython-busdevice in /usr/local/lib/python3.9/dist-packages (from adafruit-circuitpython-as7341->self-driving-lab-demo==0.0.post1.dev61+g1d3212b.d20220818) (5.2.1)\n",
      "Requirement already satisfied: Adafruit-Blinka>=7.0.0 in /usr/local/lib/python3.9/dist-packages (from adafruit-circuitpython-as7341->self-driving-lab-demo==0.0.post1.dev61+g1d3212b.d20220818) (8.2.0)\n",
      "Requirement already satisfied: pyftdi>=0.40.0 in /usr/local/lib/python3.9/dist-packages (from Adafruit-Blinka>=7.0.0->adafruit-circuitpython-as7341->self-driving-lab-demo==0.0.post1.dev61+g1d3212b.d20220818) (0.54.0)\n",
      "Requirement already satisfied: Adafruit-PureIO>=1.1.7 in /usr/local/lib/python3.9/dist-packages (from Adafruit-Blinka>=7.0.0->adafruit-circuitpython-as7341->self-driving-lab-demo==0.0.post1.dev61+g1d3212b.d20220818) (1.1.9)\n",
      "Requirement already satisfied: sysv-ipc>=1.1.0 in /usr/local/lib/python3.9/dist-packages (from Adafruit-Blinka>=7.0.0->adafruit-circuitpython-as7341->self-driving-lab-demo==0.0.post1.dev61+g1d3212b.d20220818) (1.1.0)\n",
      "Requirement already satisfied: RPi.GPIO in /usr/lib/python3/dist-packages (from Adafruit-Blinka>=7.0.0->adafruit-circuitpython-as7341->self-driving-lab-demo==0.0.post1.dev61+g1d3212b.d20220818) (0.7.0)\n",
      "Requirement already satisfied: rpi-ws281x>=4.0.0 in /usr/local/lib/python3.9/dist-packages (from Adafruit-Blinka>=7.0.0->adafruit-circuitpython-as7341->self-driving-lab-demo==0.0.post1.dev61+g1d3212b.d20220818) (4.3.4)\n",
      "Requirement already satisfied: Adafruit-PlatformDetect>=3.13.0 in /usr/local/lib/python3.9/dist-packages (from Adafruit-Blinka>=7.0.0->adafruit-circuitpython-as7341->self-driving-lab-demo==0.0.post1.dev61+g1d3212b.d20220818) (3.27.1)\n",
      "Requirement already satisfied: adafruit-circuitpython-typing in /usr/local/lib/python3.9/dist-packages (from Adafruit-Blinka>=7.0.0->adafruit-circuitpython-as7341->self-driving-lab-demo==0.0.post1.dev61+g1d3212b.d20220818) (1.8.0)\n",
      "Requirement already satisfied: pyserial>=3.0 in /usr/lib/python3/dist-packages (from pyftdi>=0.40.0->Adafruit-Blinka>=7.0.0->adafruit-circuitpython-as7341->self-driving-lab-demo==0.0.post1.dev61+g1d3212b.d20220818) (3.5b0)\n",
      "Requirement already satisfied: pyusb!=1.2.0,>=1.0.0 in /usr/local/lib/python3.9/dist-packages (from pyftdi>=0.40.0->Adafruit-Blinka>=7.0.0->adafruit-circuitpython-as7341->self-driving-lab-demo==0.0.post1.dev61+g1d3212b.d20220818) (1.2.1)\n",
      "Requirement already satisfied: typing-extensions~=4.0 in /usr/local/lib/python3.9/dist-packages (from adafruit-circuitpython-typing->Adafruit-Blinka>=7.0.0->adafruit-circuitpython-as7341->self-driving-lab-demo==0.0.post1.dev61+g1d3212b.d20220818) (4.3.0)\n",
      "Requirement already satisfied: adafruit-circuitpython-requests in /usr/local/lib/python3.9/dist-packages (from adafruit-circuitpython-typing->Adafruit-Blinka>=7.0.0->adafruit-circuitpython-as7341->self-driving-lab-demo==0.0.post1.dev61+g1d3212b.d20220818) (1.12.6)\n",
      "Requirement already satisfied: tenacity>=6.2.0 in /usr/local/lib/python3.9/dist-packages (from plotly->self-driving-lab-demo==0.0.post1.dev61+g1d3212b.d20220818) (8.0.1)\n",
      "Requirement already satisfied: scipy>=1.3.2 in /usr/lib/python3/dist-packages (from scikit-learn->self-driving-lab-demo==0.0.post1.dev61+g1d3212b.d20220818) (1.6.0)\n",
      "Requirement already satisfied: joblib>=1.0.0 in /usr/local/lib/python3.9/dist-packages (from scikit-learn->self-driving-lab-demo==0.0.post1.dev61+g1d3212b.d20220818) (1.1.0)\n",
      "Requirement already satisfied: threadpoolctl>=2.0.0 in /usr/local/lib/python3.9/dist-packages (from scikit-learn->self-driving-lab-demo==0.0.post1.dev61+g1d3212b.d20220818) (3.1.0)\n",
      "Installing collected packages: self-driving-lab-demo\n",
      "  Running setup.py develop for self-driving-lab-demo\n",
      "Successfully installed self-driving-lab-demo\n"
     ]
    }
   ],
   "source": [
    "!sudo pip3 install -e ../. # might require sudo pip3 install -e ../."
   ]
  },
  {
   "cell_type": "markdown",
   "metadata": {},
   "source": [
    "### Imports"
   ]
  },
  {
   "cell_type": "code",
   "execution_count": 1,
   "metadata": {},
   "outputs": [
    {
     "ename": "ModuleNotFoundError",
     "evalue": "No module named 'self_driving_lab_demo'",
     "output_type": "error",
     "traceback": [
      "\u001b[0;31m---------------------------------------------------------------------------\u001b[0m",
      "\u001b[0;31mModuleNotFoundError\u001b[0m                       Traceback (most recent call last)",
      "\u001b[1;32m/home/pi/Documents/GitHub/self-driving-lab-demo/notebooks/bayesian_optimization.ipynb Cell 6\u001b[0m in \u001b[0;36m<cell line: 1>\u001b[0;34m()\u001b[0m\n\u001b[0;32m----> <a href='vscode-notebook-cell://ssh-remote%2Braspberrypi.local/home/pi/Documents/GitHub/self-driving-lab-demo/notebooks/bayesian_optimization.ipynb#W0sdnNjb2RlLXJlbW90ZQ%3D%3D?line=0'>1</a>\u001b[0m \u001b[39mfrom\u001b[39;00m \u001b[39mself_driving_lab_demo\u001b[39;00m \u001b[39mimport\u001b[39;00m SelfDrivingLabDemo\n",
      "\u001b[0;31mModuleNotFoundError\u001b[0m: No module named 'self_driving_lab_demo'"
     ]
    }
   ],
   "source": [
    "from self_driving_lab_demo import SelfDrivingLabDemo"
   ]
  },
  {
   "cell_type": "code",
   "execution_count": null,
   "metadata": {},
   "outputs": [],
   "source": []
  }
 ],
 "metadata": {
  "kernelspec": {
   "display_name": "Python 3.9.2 ('sdldemo': venv)",
   "language": "python",
   "name": "python3"
  },
  "language_info": {
   "codemirror_mode": {
    "name": "ipython",
    "version": 3
   },
   "file_extension": ".py",
   "mimetype": "text/x-python",
   "name": "python",
   "nbconvert_exporter": "python",
   "pygments_lexer": "ipython3",
   "version": "3.9.2"
  },
  "orig_nbformat": 4,
  "vscode": {
   "interpreter": {
    "hash": "f911b1b47f1d27191a4793d6ced35b1311932cf02f30cfb7ed4f0a9ca060cb9d"
   }
  }
 },
 "nbformat": 4,
 "nbformat_minor": 2
}
