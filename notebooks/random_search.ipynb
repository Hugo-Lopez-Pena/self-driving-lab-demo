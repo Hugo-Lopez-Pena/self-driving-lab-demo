{
 "cells": [
  {
   "cell_type": "markdown",
   "metadata": {},
   "source": [
    "# Random Search\n",
    "\n",
    "We implement a random search for LED configurations that most closely match a target\n",
    "light spectrum. After importing relevant modules and functions and setting up the\n",
    "spectrophotometer sensor, we define helper functions for measuring data from the sensor,\n",
    "generating random inputs, and measuring the objective function (i.e. mean absolute error). From there,\n",
    "we perform an experiment with 100 iterations and visualize the results."
   ]
  },
  {
   "cell_type": "markdown",
   "metadata": {},
   "source": [
    "## Setup\n",
    "\n",
    "https://raspberrypi.stackexchange.com/a/108041/137101\n",
    "https://github.com/numpy/numpy/issues/16012#issuecomment-615927988"
   ]
  },
  {
   "cell_type": "code",
   "execution_count": 27,
   "metadata": {},
   "outputs": [],
   "source": [
    "from time import sleep\n",
    "import numpy as np\n",
    "import pandas as pd\n",
    "from sklearn.metrics import mean_absolute_error\n",
    "from blinkt import set_pixel, set_brightness, show, clear\n",
    "import board\n",
    "from adafruit_as7341 import AS7341\n"
   ]
  },
  {
   "cell_type": "code",
   "execution_count": 30,
   "metadata": {},
   "outputs": [],
   "source": [
    "i2c = board.I2C()  # uses board.SCL and board.SDA\n",
    "sensor = AS7341(i2c)"
   ]
  },
  {
   "cell_type": "markdown",
   "metadata": {},
   "source": [
    "## Helper Functions\n",
    "\n",
    "We define four helper functions:\n",
    "- `observe_sensor_data`\n",
    "- `get_random_inputs`\n",
    "- `get_target_inputs`\n",
    "- `evaluate` (the objective function which measures MAE)"
   ]
  },
  {
   "cell_type": "markdown",
   "metadata": {},
   "source": [
    "### Sensor Data\n",
    "We define a function that takes brightness and values for red, green, and blue as inputs and then returns\n",
    "the measured intensities at 8 distinct wavelengths."
   ]
  },
  {
   "cell_type": "code",
   "execution_count": 29,
   "metadata": {},
   "outputs": [],
   "source": [
    "def observe_sensor_data(I, R, G, B):\n",
    "    set_brightness(I)\n",
    "    clear()\n",
    "    set_pixel(3, R, G, B)\n",
    "    show()\n",
    "    sleep(0.5)\n",
    "    data = sensor.all_channels\n",
    "    clear()\n",
    "    show()\n",
    "    return data"
   ]
  },
  {
   "cell_type": "markdown",
   "metadata": {},
   "source": [
    "Notice that RGB = (255, 0, 0) favors the higher end of the spectrum (red)."
   ]
  },
  {
   "cell_type": "code",
   "execution_count": 32,
   "metadata": {},
   "outputs": [
    {
     "data": {
      "text/plain": [
       "(169, 78, 192, 206, 302, 5605, 10204, 183)"
      ]
     },
     "execution_count": 32,
     "metadata": {},
     "output_type": "execute_result"
    }
   ],
   "source": [
    "observe_sensor_data(0.1, 255, 0, 0)"
   ]
  },
  {
   "cell_type": "markdown",
   "metadata": {},
   "source": [
    "Whereas RGB = (255, 255, 255), or white, has large values across the spectrum."
   ]
  },
  {
   "cell_type": "code",
   "execution_count": 31,
   "metadata": {},
   "outputs": [
    {
     "data": {
      "text/plain": [
       "(666, 10325, 9908, 14797, 3369, 6181, 10820, 1002)"
      ]
     },
     "execution_count": 31,
     "metadata": {},
     "output_type": "execute_result"
    }
   ],
   "source": [
    "observe_sensor_data(0.1, 255, 255, 255)"
   ]
  },
  {
   "cell_type": "markdown",
   "metadata": {},
   "source": [
    "### Random Inputs"
   ]
  },
  {
   "cell_type": "markdown",
   "metadata": {},
   "source": [
    "Next, we define a function that will return random brightness, red, green, and blue values."
   ]
  },
  {
   "cell_type": "code",
   "execution_count": 38,
   "metadata": {},
   "outputs": [],
   "source": [
    "rng = np.random.default_rng(42)\n",
    "\n",
    "def get_random_inputs(rng=rng):\n",
    "    I = 0.5 * rng.random()  # 1.0 is really bright, so no more than 0.5\n",
    "    RGB = 255 * rng.random(3)\n",
    "    R, G, B = RGB.astype(int)\n",
    "    return I, R, G, B"
   ]
  },
  {
   "cell_type": "markdown",
   "metadata": {},
   "source": [
    "Notice how if we call this function twice in a row, we get different values."
   ]
  },
  {
   "cell_type": "code",
   "execution_count": 95,
   "metadata": {},
   "outputs": [
    {
     "name": "stdout",
     "output_type": "stream",
     "text": [
      "(0.028615970076630193, 204, 236, 196)\n",
      "(0.3490603919893186, 213, 10, 51)\n"
     ]
    }
   ],
   "source": [
    "print(get_random_inputs())\n",
    "print(get_random_inputs())"
   ]
  },
  {
   "cell_type": "markdown",
   "metadata": {},
   "source": [
    "### Fixed Target Inputs"
   ]
  },
  {
   "cell_type": "markdown",
   "metadata": {},
   "source": [
    "Next, we define an arbitrary set of target inputs that we'll use to measure a target spectrum."
   ]
  },
  {
   "cell_type": "code",
   "execution_count": 43,
   "metadata": {},
   "outputs": [],
   "source": [
    "def get_target_inputs(seed=604523):\n",
    "    targ_rng = np.random.default_rng(seed)\n",
    "    return get_random_inputs(rng=targ_rng)"
   ]
  },
  {
   "cell_type": "markdown",
   "metadata": {},
   "source": [
    "Notice how the outputs are identical, since we're using a fixed seed to define these values."
   ]
  },
  {
   "cell_type": "code",
   "execution_count": 96,
   "metadata": {},
   "outputs": [
    {
     "name": "stdout",
     "output_type": "stream",
     "text": [
      "(0.22770586934673454, 7, 89, 169)\n",
      "(0.22770586934673454, 7, 89, 169)\n"
     ]
    }
   ],
   "source": [
    "print(get_target_inputs())\n",
    "print(get_target_inputs())"
   ]
  },
  {
   "cell_type": "markdown",
   "metadata": {},
   "source": [
    "However, if we change the seed, we get a new set of target inputs. Again, the outputs\n",
    "are identical."
   ]
  },
  {
   "cell_type": "code",
   "execution_count": 98,
   "metadata": {},
   "outputs": [
    {
     "name": "stdout",
     "output_type": "stream",
     "text": [
      "(0.35740321158073246, 160, 86, 92)\n",
      "(0.35740321158073246, 160, 86, 92)\n"
     ]
    }
   ],
   "source": [
    "print(get_target_inputs(seed=10001))\n",
    "print(get_target_inputs(seed=10001))"
   ]
  },
  {
   "cell_type": "markdown",
   "metadata": {},
   "source": [
    "### Target Parameters and Spectrum"
   ]
  },
  {
   "cell_type": "markdown",
   "metadata": {},
   "source": [
    "Using our helper functions, we retrieve the target inputs and then measure a spectrum\n",
    "with the LED set to the target input parameters. Finally, we define an objective\n",
    "function which is the mean absolute error (MAE) between the target spectrum and some yet to be\n",
    "measured spectrum."
   ]
  },
  {
   "cell_type": "markdown",
   "metadata": {},
   "source": [
    "#### Input Parameters"
   ]
  },
  {
   "cell_type": "markdown",
   "metadata": {},
   "source": [
    "These are the fixed target inputs for the default seed, 604523."
   ]
  },
  {
   "cell_type": "code",
   "execution_count": 47,
   "metadata": {},
   "outputs": [
    {
     "name": "stdout",
     "output_type": "stream",
     "text": [
      "0.22770586934673454 7 89 169\n"
     ]
    }
   ],
   "source": [
    "I_true, R_true, G_true, B_true = get_target_inputs()\n",
    "print(I_true, R_true, G_true, B_true)"
   ]
  },
  {
   "cell_type": "markdown",
   "metadata": {},
   "source": [
    "#### Target Spectrum (Stochastic)"
   ]
  },
  {
   "cell_type": "markdown",
   "metadata": {},
   "source": [
    "Note that running the spectrum measurement repeatedly will produce slightly different results."
   ]
  },
  {
   "cell_type": "code",
   "execution_count": 49,
   "metadata": {},
   "outputs": [
    {
     "name": "stdout",
     "output_type": "stream",
     "text": [
      "(627, 16176, 12060, 11001, 2241, 1069, 1566, 1030)\n"
     ]
    }
   ],
   "source": [
    "target_data = observe_sensor_data(I_true, R_true, G_true, B_true)\n",
    "print(target_data)"
   ]
  },
  {
   "cell_type": "markdown",
   "metadata": {},
   "source": [
    "### Objective Function (evaluate)"
   ]
  },
  {
   "cell_type": "markdown",
   "metadata": {},
   "source": [
    "In addition to return the MAE between the target and yet to be measured\n",
    "data, we also track the data for the individual channels to make analysis and\n",
    "visualization easier later on. The evaluate function is defined based on the fixed,\n",
    "observed target data from the cell above."
   ]
  },
  {
   "cell_type": "code",
   "execution_count": 55,
   "metadata": {},
   "outputs": [],
   "source": [
    "from sklearn.metrics import mean_absolute_error\n",
    "\n",
    "def evaluate(I, R, G, B):\n",
    "    data = observe_sensor_data(I, R, G, B)\n",
    "    return {\n",
    "        \"ch415_violet\": data[0],\n",
    "        \"ch445_indigo\": data[1],\n",
    "        \"ch480_blue\": data[2],\n",
    "        \"ch515_cyan\": data[3],\n",
    "        \"ch555_green\": data[4],\n",
    "        \"ch590_yellow\": data[5],\n",
    "        \"ch630_orange\": data[6],\n",
    "        \"ch680_red\": data[7],\n",
    "        \"mae\": mean_absolute_error(target_data, data),\n",
    "    }\n"
   ]
  },
  {
   "cell_type": "markdown",
   "metadata": {},
   "source": [
    "Note how calling evaluate on a set of new random input parameters produces different results\n",
    "each time."
   ]
  },
  {
   "cell_type": "code",
   "execution_count": 99,
   "metadata": {},
   "outputs": [
    {
     "data": {
      "text/html": [
       "<div>\n",
       "<style scoped>\n",
       "    .dataframe tbody tr th:only-of-type {\n",
       "        vertical-align: middle;\n",
       "    }\n",
       "\n",
       "    .dataframe tbody tr th {\n",
       "        vertical-align: top;\n",
       "    }\n",
       "\n",
       "    .dataframe thead th {\n",
       "        text-align: right;\n",
       "    }\n",
       "</style>\n",
       "<table border=\"1\" class=\"dataframe\">\n",
       "  <thead>\n",
       "    <tr style=\"text-align: right;\">\n",
       "      <th></th>\n",
       "      <th>ch415_violet</th>\n",
       "      <th>ch445_indigo</th>\n",
       "      <th>ch480_blue</th>\n",
       "      <th>ch515_cyan</th>\n",
       "      <th>ch555_green</th>\n",
       "      <th>ch590_yellow</th>\n",
       "      <th>ch630_orange</th>\n",
       "      <th>ch680_red</th>\n",
       "      <th>mae</th>\n",
       "    </tr>\n",
       "  </thead>\n",
       "  <tbody>\n",
       "    <tr>\n",
       "      <th>0</th>\n",
       "      <td>144</td>\n",
       "      <td>2073</td>\n",
       "      <td>2241</td>\n",
       "      <td>3820</td>\n",
       "      <td>1016</td>\n",
       "      <td>1053</td>\n",
       "      <td>1700</td>\n",
       "      <td>250</td>\n",
       "      <td>4217.625</td>\n",
       "    </tr>\n",
       "    <tr>\n",
       "      <th>1</th>\n",
       "      <td>634</td>\n",
       "      <td>16383</td>\n",
       "      <td>12197</td>\n",
       "      <td>11155</td>\n",
       "      <td>2257</td>\n",
       "      <td>1082</td>\n",
       "      <td>1588</td>\n",
       "      <td>1042</td>\n",
       "      <td>71.000</td>\n",
       "    </tr>\n",
       "  </tbody>\n",
       "</table>\n",
       "</div>"
      ],
      "text/plain": [
       "   ch415_violet  ch445_indigo  ch480_blue  ch515_cyan  ch555_green  \\\n",
       "0           144          2073        2241        3820         1016   \n",
       "1           634         16383       12197       11155         2257   \n",
       "\n",
       "   ch590_yellow  ch630_orange  ch680_red       mae  \n",
       "0          1053          1700        250  4217.625  \n",
       "1          1082          1588       1042    71.000  "
      ]
     },
     "execution_count": 99,
     "metadata": {},
     "output_type": "execute_result"
    }
   ],
   "source": [
    "pd.DataFrame([evaluate(*get_random_inputs()), evaluate(*get_target_inputs())])"
   ]
  },
  {
   "cell_type": "markdown",
   "metadata": {},
   "source": [
    "## Experiment"
   ]
  },
  {
   "cell_type": "markdown",
   "metadata": {},
   "source": [
    "We set a budget of 100 iterations and track the input parameters and observations at\n",
    "each iteration. Since this is random search, no optimization is performed. In other\n",
    "words, subsequent trials don't explicitly depend on previous ones."
   ]
  },
  {
   "cell_type": "code",
   "execution_count": 58,
   "metadata": {},
   "outputs": [
    {
     "name": "stderr",
     "output_type": "stream",
     "text": [
      "100%|██████████| 100/100 [02:01<00:00,  1.21s/it]\n"
     ]
    }
   ],
   "source": [
    "from tqdm import trange\n",
    "\n",
    "num_iter = 100\n",
    "\n",
    "inputs = []\n",
    "observed_data = []\n",
    "for i in trange(num_iter):\n",
    "    input = get_random_inputs()\n",
    "    observed_datum = evaluate(*input)\n",
    "    \n",
    "    inputs.append(input)\n",
    "    observed_data.append(observed_datum)"
   ]
  },
  {
   "cell_type": "markdown",
   "metadata": {},
   "source": [
    "### Exploratory Data Analysis"
   ]
  },
  {
   "cell_type": "code",
   "execution_count": 61,
   "metadata": {},
   "outputs": [
    {
     "data": {
      "text/html": [
       "<div>\n",
       "<style scoped>\n",
       "    .dataframe tbody tr th:only-of-type {\n",
       "        vertical-align: middle;\n",
       "    }\n",
       "\n",
       "    .dataframe tbody tr th {\n",
       "        vertical-align: top;\n",
       "    }\n",
       "\n",
       "    .dataframe thead th {\n",
       "        text-align: right;\n",
       "    }\n",
       "</style>\n",
       "<table border=\"1\" class=\"dataframe\">\n",
       "  <thead>\n",
       "    <tr style=\"text-align: right;\">\n",
       "      <th></th>\n",
       "      <th>I</th>\n",
       "      <th>R</th>\n",
       "      <th>G</th>\n",
       "      <th>B</th>\n",
       "    </tr>\n",
       "  </thead>\n",
       "  <tbody>\n",
       "    <tr>\n",
       "      <th>0</th>\n",
       "      <td>0.077145</td>\n",
       "      <td>174.0</td>\n",
       "      <td>189.0</td>\n",
       "      <td>246.0</td>\n",
       "    </tr>\n",
       "    <tr>\n",
       "      <th>1</th>\n",
       "      <td>0.162913</td>\n",
       "      <td>94.0</td>\n",
       "      <td>119.0</td>\n",
       "      <td>48.0</td>\n",
       "    </tr>\n",
       "    <tr>\n",
       "      <th>2</th>\n",
       "      <td>0.064961</td>\n",
       "      <td>121.0</td>\n",
       "      <td>57.0</td>\n",
       "      <td>170.0</td>\n",
       "    </tr>\n",
       "    <tr>\n",
       "      <th>3</th>\n",
       "      <td>0.218576</td>\n",
       "      <td>212.0</td>\n",
       "      <td>178.0</td>\n",
       "      <td>79.0</td>\n",
       "    </tr>\n",
       "    <tr>\n",
       "      <th>4</th>\n",
       "      <td>0.416130</td>\n",
       "      <td>205.0</td>\n",
       "      <td>98.0</td>\n",
       "      <td>73.0</td>\n",
       "    </tr>\n",
       "    <tr>\n",
       "      <th>...</th>\n",
       "      <td>...</td>\n",
       "      <td>...</td>\n",
       "      <td>...</td>\n",
       "      <td>...</td>\n",
       "    </tr>\n",
       "    <tr>\n",
       "      <th>95</th>\n",
       "      <td>0.053210</td>\n",
       "      <td>254.0</td>\n",
       "      <td>169.0</td>\n",
       "      <td>165.0</td>\n",
       "    </tr>\n",
       "    <tr>\n",
       "      <th>96</th>\n",
       "      <td>0.045220</td>\n",
       "      <td>228.0</td>\n",
       "      <td>7.0</td>\n",
       "      <td>61.0</td>\n",
       "    </tr>\n",
       "    <tr>\n",
       "      <th>97</th>\n",
       "      <td>0.071511</td>\n",
       "      <td>198.0</td>\n",
       "      <td>50.0</td>\n",
       "      <td>232.0</td>\n",
       "    </tr>\n",
       "    <tr>\n",
       "      <th>98</th>\n",
       "      <td>0.328135</td>\n",
       "      <td>9.0</td>\n",
       "      <td>1.0</td>\n",
       "      <td>13.0</td>\n",
       "    </tr>\n",
       "    <tr>\n",
       "      <th>99</th>\n",
       "      <td>0.302963</td>\n",
       "      <td>204.0</td>\n",
       "      <td>60.0</td>\n",
       "      <td>216.0</td>\n",
       "    </tr>\n",
       "  </tbody>\n",
       "</table>\n",
       "<p>100 rows × 4 columns</p>\n",
       "</div>"
      ],
      "text/plain": [
       "           I      R      G      B\n",
       "0   0.077145  174.0  189.0  246.0\n",
       "1   0.162913   94.0  119.0   48.0\n",
       "2   0.064961  121.0   57.0  170.0\n",
       "3   0.218576  212.0  178.0   79.0\n",
       "4   0.416130  205.0   98.0   73.0\n",
       "..       ...    ...    ...    ...\n",
       "95  0.053210  254.0  169.0  165.0\n",
       "96  0.045220  228.0    7.0   61.0\n",
       "97  0.071511  198.0   50.0  232.0\n",
       "98  0.328135    9.0    1.0   13.0\n",
       "99  0.302963  204.0   60.0  216.0\n",
       "\n",
       "[100 rows x 4 columns]"
      ]
     },
     "execution_count": 61,
     "metadata": {},
     "output_type": "execute_result"
    }
   ],
   "source": [
    "input_df = pd.DataFrame(np.array(inputs), columns=[\"I\", \"R\", \"G\", \"B\"])\n",
    "input_df"
   ]
  },
  {
   "cell_type": "code",
   "execution_count": 62,
   "metadata": {},
   "outputs": [
    {
     "data": {
      "text/html": [
       "<div>\n",
       "<style scoped>\n",
       "    .dataframe tbody tr th:only-of-type {\n",
       "        vertical-align: middle;\n",
       "    }\n",
       "\n",
       "    .dataframe tbody tr th {\n",
       "        vertical-align: top;\n",
       "    }\n",
       "\n",
       "    .dataframe thead th {\n",
       "        text-align: right;\n",
       "    }\n",
       "</style>\n",
       "<table border=\"1\" class=\"dataframe\">\n",
       "  <thead>\n",
       "    <tr style=\"text-align: right;\">\n",
       "      <th></th>\n",
       "      <th>ch415_violet</th>\n",
       "      <th>ch445_indigo</th>\n",
       "      <th>ch480_blue</th>\n",
       "      <th>ch515_cyan</th>\n",
       "      <th>ch555_green</th>\n",
       "      <th>ch590_yellow</th>\n",
       "      <th>ch630_orange</th>\n",
       "      <th>ch680_red</th>\n",
       "      <th>mae</th>\n",
       "    </tr>\n",
       "  </thead>\n",
       "  <tbody>\n",
       "    <tr>\n",
       "      <th>0</th>\n",
       "      <td>357</td>\n",
       "      <td>6377</td>\n",
       "      <td>6039</td>\n",
       "      <td>7447</td>\n",
       "      <td>1833</td>\n",
       "      <td>2763</td>\n",
       "      <td>4729</td>\n",
       "      <td>583</td>\n",
       "      <td>3169.500</td>\n",
       "    </tr>\n",
       "    <tr>\n",
       "      <th>1</th>\n",
       "      <td>357</td>\n",
       "      <td>3310</td>\n",
       "      <td>4186</td>\n",
       "      <td>10574</td>\n",
       "      <td>2174</td>\n",
       "      <td>3893</td>\n",
       "      <td>6846</td>\n",
       "      <td>504</td>\n",
       "      <td>3766.750</td>\n",
       "    </tr>\n",
       "    <tr>\n",
       "      <th>2</th>\n",
       "      <td>204</td>\n",
       "      <td>4397</td>\n",
       "      <td>3774</td>\n",
       "      <td>2429</td>\n",
       "      <td>710</td>\n",
       "      <td>1860</td>\n",
       "      <td>3250</td>\n",
       "      <td>358</td>\n",
       "      <td>4217.250</td>\n",
       "    </tr>\n",
       "    <tr>\n",
       "      <th>3</th>\n",
       "      <td>741</td>\n",
       "      <td>6538</td>\n",
       "      <td>7922</td>\n",
       "      <td>18513</td>\n",
       "      <td>3796</td>\n",
       "      <td>10107</td>\n",
       "      <td>18362</td>\n",
       "      <td>974</td>\n",
       "      <td>6105.875</td>\n",
       "    </tr>\n",
       "    <tr>\n",
       "      <th>4</th>\n",
       "      <td>1189</td>\n",
       "      <td>12047</td>\n",
       "      <td>11373</td>\n",
       "      <td>18372</td>\n",
       "      <td>3844</td>\n",
       "      <td>19462</td>\n",
       "      <td>36989</td>\n",
       "      <td>1466</td>\n",
       "      <td>8575.500</td>\n",
       "    </tr>\n",
       "    <tr>\n",
       "      <th>...</th>\n",
       "      <td>...</td>\n",
       "      <td>...</td>\n",
       "      <td>...</td>\n",
       "      <td>...</td>\n",
       "      <td>...</td>\n",
       "      <td>...</td>\n",
       "      <td>...</td>\n",
       "      <td>...</td>\n",
       "      <td>...</td>\n",
       "    </tr>\n",
       "    <tr>\n",
       "      <th>95</th>\n",
       "      <td>159</td>\n",
       "      <td>2098</td>\n",
       "      <td>2258</td>\n",
       "      <td>3382</td>\n",
       "      <td>949</td>\n",
       "      <td>1732</td>\n",
       "      <td>3041</td>\n",
       "      <td>262</td>\n",
       "      <td>4520.625</td>\n",
       "    </tr>\n",
       "    <tr>\n",
       "      <th>96</th>\n",
       "      <td>69</td>\n",
       "      <td>794</td>\n",
       "      <td>736</td>\n",
       "      <td>265</td>\n",
       "      <td>186</td>\n",
       "      <td>1461</td>\n",
       "      <td>2637</td>\n",
       "      <td>121</td>\n",
       "      <td>5303.375</td>\n",
       "    </tr>\n",
       "    <tr>\n",
       "      <th>97</th>\n",
       "      <td>274</td>\n",
       "      <td>5983</td>\n",
       "      <td>5041</td>\n",
       "      <td>2265</td>\n",
       "      <td>735</td>\n",
       "      <td>2867</td>\n",
       "      <td>5205</td>\n",
       "      <td>465</td>\n",
       "      <td>4226.125</td>\n",
       "    </tr>\n",
       "    <tr>\n",
       "      <th>98</th>\n",
       "      <td>80</td>\n",
       "      <td>1796</td>\n",
       "      <td>1090</td>\n",
       "      <td>300</td>\n",
       "      <td>173</td>\n",
       "      <td>808</td>\n",
       "      <td>1461</td>\n",
       "      <td>143</td>\n",
       "      <td>4989.875</td>\n",
       "    </tr>\n",
       "    <tr>\n",
       "      <th>99</th>\n",
       "      <td>1309</td>\n",
       "      <td>26442</td>\n",
       "      <td>17796</td>\n",
       "      <td>9929</td>\n",
       "      <td>2639</td>\n",
       "      <td>14506</td>\n",
       "      <td>27679</td>\n",
       "      <td>1818</td>\n",
       "      <td>7311.500</td>\n",
       "    </tr>\n",
       "  </tbody>\n",
       "</table>\n",
       "<p>100 rows × 9 columns</p>\n",
       "</div>"
      ],
      "text/plain": [
       "    ch415_violet  ch445_indigo  ch480_blue  ch515_cyan  ch555_green  \\\n",
       "0            357          6377        6039        7447         1833   \n",
       "1            357          3310        4186       10574         2174   \n",
       "2            204          4397        3774        2429          710   \n",
       "3            741          6538        7922       18513         3796   \n",
       "4           1189         12047       11373       18372         3844   \n",
       "..           ...           ...         ...         ...          ...   \n",
       "95           159          2098        2258        3382          949   \n",
       "96            69           794         736         265          186   \n",
       "97           274          5983        5041        2265          735   \n",
       "98            80          1796        1090         300          173   \n",
       "99          1309         26442       17796        9929         2639   \n",
       "\n",
       "    ch590_yellow  ch630_orange  ch680_red       mae  \n",
       "0           2763          4729        583  3169.500  \n",
       "1           3893          6846        504  3766.750  \n",
       "2           1860          3250        358  4217.250  \n",
       "3          10107         18362        974  6105.875  \n",
       "4          19462         36989       1466  8575.500  \n",
       "..           ...           ...        ...       ...  \n",
       "95          1732          3041        262  4520.625  \n",
       "96          1461          2637        121  5303.375  \n",
       "97          2867          5205        465  4226.125  \n",
       "98           808          1461        143  4989.875  \n",
       "99         14506         27679       1818  7311.500  \n",
       "\n",
       "[100 rows x 9 columns]"
      ]
     },
     "execution_count": 62,
     "metadata": {},
     "output_type": "execute_result"
    }
   ],
   "source": [
    "observe_df = pd.DataFrame(observed_data)\n",
    "observe_df"
   ]
  },
  {
   "cell_type": "markdown",
   "metadata": {},
   "source": [
    "Next, let's track the worst, average, and best performance, including the worst and best\n",
    "parameters associated with those. Notice that the best parameters match more closely to\n",
    "the target parameters, while the worst parameters have a much bigger mistmatch to the\n",
    "target parameters. This behavior is also reflected in the MAE."
   ]
  },
  {
   "cell_type": "code",
   "execution_count": 77,
   "metadata": {},
   "outputs": [
    {
     "name": "stdout",
     "output_type": "stream",
     "text": [
      "worst_mae: 18171.625, avg_mae: 6166.1525, best_mae: 1359.5\n",
      "best_parameters:\n",
      "{'I': 0.1809063052766952, 'R': 22.0, 'G': 30.0, 'B': 245.0}\n",
      "target_parameters:\n",
      "{'I': 0.22770586934673454, 'R': 7, 'G': 89, 'B': 169}\n",
      "worst_parameters:\n",
      "{'I': 0.48978534029329635, 'R': 204.0, 'G': 198.0, 'B': 163.0}\n"
     ]
    }
   ],
   "source": [
    "input_names = [\"I\", \"R\", \"G\", \"B\"]\n",
    "worst_mae = observe_df[\"mae\"].max()\n",
    "avg_mae = observe_df[\"mae\"].mean()\n",
    "best_mae = observe_df[\"mae\"].min()\n",
    "worst_observed_iter = observe_df[\"mae\"].idxmax()\n",
    "best_observed_iter = observe_df[\"mae\"].idxmin()\n",
    "# could track median as well, see e.g. https://stackoverflow.com/questions/46411507/get-corresponding-index-of-median\n",
    "worst_parameters = input_df.loc[worst_observed_iter, input_names].to_dict() \n",
    "best_parameters = input_df.loc[best_observed_iter, input_names].to_dict()\n",
    "print(f\"worst_mae: {worst_mae}, avg_mae: {avg_mae}, best_mae: {best_mae}\")\n",
    "print(f\"best_parameters:\\n{best_parameters}\")\n",
    "target_parameters = dict(I=I_true, R=R_true, G=G_true, B=B_true)\n",
    "print(f\"target_parameters:\\n{target_parameters}\")\n",
    "print(f\"worst_parameters:\\n{worst_parameters}\")"
   ]
  },
  {
   "cell_type": "markdown",
   "metadata": {},
   "source": [
    "## Visualization"
   ]
  },
  {
   "cell_type": "markdown",
   "metadata": {},
   "source": [
    "To get an idea of the efficiency of random search in this context, we can take a look at\n",
    "the \"best objective so far\" as a function of the iteration number. In addition to\n",
    "plotting the best so far, we also plot the raw, observed MAE values at each iteration."
   ]
  },
  {
   "cell_type": "code",
   "execution_count": 92,
   "metadata": {},
   "outputs": [
    {
     "data": {
      "application/vnd.plotly.v1+json": {
       "config": {
        "plotlyServerURL": "https://plot.ly"
       },
       "data": [
        {
         "hovertemplate": "variable=best_mae<br>iteration=%{x}<br>value=%{y}<extra></extra>",
         "legendgroup": "best_mae",
         "line": {
          "color": "#636efa",
          "dash": "solid"
         },
         "marker": {
          "symbol": "circle"
         },
         "mode": "lines",
         "name": "best_mae",
         "orientation": "v",
         "showlegend": true,
         "type": "scatter",
         "x": [
          1,
          2,
          3,
          4,
          5,
          6,
          7,
          8,
          9,
          10,
          11,
          12,
          13,
          14,
          15,
          16,
          17,
          18,
          19,
          20,
          21,
          22,
          23,
          24,
          25,
          26,
          27,
          28,
          29,
          30,
          31,
          32,
          33,
          34,
          35,
          36,
          37,
          38,
          39,
          40,
          41,
          42,
          43,
          44,
          45,
          46,
          47,
          48,
          49,
          50,
          51,
          52,
          53,
          54,
          55,
          56,
          57,
          58,
          59,
          60,
          61,
          62,
          63,
          64,
          65,
          66,
          67,
          68,
          69,
          70,
          71,
          72,
          73,
          74,
          75,
          76,
          77,
          78,
          79,
          80,
          81,
          82,
          83,
          84,
          85,
          86,
          87,
          88,
          89,
          90,
          91,
          92,
          93,
          94,
          95,
          96,
          97,
          98,
          99,
          100
         ],
         "xaxis": "x",
         "y": [
          3169.5,
          3169.5,
          3169.5,
          3169.5,
          3169.5,
          3169.5,
          3169.5,
          3169.5,
          3169.5,
          3169.5,
          3169.5,
          3169.5,
          2700,
          2700,
          2700,
          2700,
          2428.25,
          1359.5,
          1359.5,
          1359.5,
          1359.5,
          1359.5,
          1359.5,
          1359.5,
          1359.5,
          1359.5,
          1359.5,
          1359.5,
          1359.5,
          1359.5,
          1359.5,
          1359.5,
          1359.5,
          1359.5,
          1359.5,
          1359.5,
          1359.5,
          1359.5,
          1359.5,
          1359.5,
          1359.5,
          1359.5,
          1359.5,
          1359.5,
          1359.5,
          1359.5,
          1359.5,
          1359.5,
          1359.5,
          1359.5,
          1359.5,
          1359.5,
          1359.5,
          1359.5,
          1359.5,
          1359.5,
          1359.5,
          1359.5,
          1359.5,
          1359.5,
          1359.5,
          1359.5,
          1359.5,
          1359.5,
          1359.5,
          1359.5,
          1359.5,
          1359.5,
          1359.5,
          1359.5,
          1359.5,
          1359.5,
          1359.5,
          1359.5,
          1359.5,
          1359.5,
          1359.5,
          1359.5,
          1359.5,
          1359.5,
          1359.5,
          1359.5,
          1359.5,
          1359.5,
          1359.5,
          1359.5,
          1359.5,
          1359.5,
          1359.5,
          1359.5,
          1359.5,
          1359.5,
          1359.5,
          1359.5,
          1359.5,
          1359.5,
          1359.5,
          1359.5,
          1359.5,
          1359.5
         ],
         "yaxis": "y"
        },
        {
         "hovertemplate": "variable=observed_mae<br>iteration=%{x}<br>value=%{y}<extra></extra>",
         "legendgroup": "observed_mae",
         "marker": {
          "color": "#636efa",
          "symbol": "circle"
         },
         "mode": "markers",
         "name": "observed_mae",
         "orientation": "v",
         "showlegend": true,
         "type": "scatter",
         "x": [
          1,
          2,
          3,
          4,
          5,
          6,
          7,
          8,
          9,
          10,
          11,
          12,
          13,
          14,
          15,
          16,
          17,
          18,
          19,
          20,
          21,
          22,
          23,
          24,
          25,
          26,
          27,
          28,
          29,
          30,
          31,
          32,
          33,
          34,
          35,
          36,
          37,
          38,
          39,
          40,
          41,
          42,
          43,
          44,
          45,
          46,
          47,
          48,
          49,
          50,
          51,
          52,
          53,
          54,
          55,
          56,
          57,
          58,
          59,
          60,
          61,
          62,
          63,
          64,
          65,
          66,
          67,
          68,
          69,
          70,
          71,
          72,
          73,
          74,
          75,
          76,
          77,
          78,
          79,
          80,
          81,
          82,
          83,
          84,
          85,
          86,
          87,
          88,
          89,
          90,
          91,
          92,
          93,
          94,
          95,
          96,
          97,
          98,
          99,
          100
         ],
         "xaxis": "x",
         "y": [
          3169.5,
          3766.75,
          4217.25,
          6105.875,
          8575.5,
          4595.25,
          13039.5,
          6379.125,
          7687.5,
          5876,
          5672.25,
          4096.125,
          2700,
          7336.625,
          5672.625,
          4318.25,
          2428.25,
          1359.5,
          14125.625,
          8208.25,
          4986.625,
          3380.625,
          8807.25,
          5729.25,
          5672.125,
          4500.375,
          6335.375,
          10745.625,
          5570.75,
          1938.375,
          2497.75,
          4484.25,
          2999.25,
          5308.375,
          6379.625,
          4955.75,
          6277.875,
          6423,
          11212.25,
          8080.875,
          7558.5,
          5214.375,
          7095.5,
          11641,
          5672.125,
          4312.25,
          3162.125,
          3268.75,
          1917.375,
          5579.375,
          2125.125,
          17631.125,
          8023,
          8121.25,
          7707.375,
          2200.5,
          1851.875,
          3136.125,
          5274.875,
          3648.25,
          5468.875,
          5672.125,
          2727.5,
          5672.125,
          4808.125,
          5298.125,
          12718.125,
          18171.625,
          4602.875,
          8426.25,
          2722.25,
          4094.75,
          2654.75,
          7958.375,
          12971.25,
          5515.375,
          7469.75,
          4632.75,
          3952,
          12994.375,
          3981.5,
          4040.5,
          9680.375,
          4308,
          8088.375,
          5915.125,
          4916.75,
          10040.25,
          8039,
          4388.25,
          4874.5,
          6153.375,
          4698.625,
          5585.5,
          16266.25,
          4520.625,
          5303.375,
          4226.125,
          4989.875,
          7311.5
         ],
         "yaxis": "y"
        }
       ],
       "layout": {
        "legend": {
         "title": {
          "text": "variable"
         },
         "tracegroupgap": 0
        },
        "margin": {
         "t": 60
        },
        "template": {
         "data": {
          "bar": [
           {
            "error_x": {
             "color": "#2a3f5f"
            },
            "error_y": {
             "color": "#2a3f5f"
            },
            "marker": {
             "line": {
              "color": "#E5ECF6",
              "width": 0.5
             },
             "pattern": {
              "fillmode": "overlay",
              "size": 10,
              "solidity": 0.2
             }
            },
            "type": "bar"
           }
          ],
          "barpolar": [
           {
            "marker": {
             "line": {
              "color": "#E5ECF6",
              "width": 0.5
             },
             "pattern": {
              "fillmode": "overlay",
              "size": 10,
              "solidity": 0.2
             }
            },
            "type": "barpolar"
           }
          ],
          "carpet": [
           {
            "aaxis": {
             "endlinecolor": "#2a3f5f",
             "gridcolor": "white",
             "linecolor": "white",
             "minorgridcolor": "white",
             "startlinecolor": "#2a3f5f"
            },
            "baxis": {
             "endlinecolor": "#2a3f5f",
             "gridcolor": "white",
             "linecolor": "white",
             "minorgridcolor": "white",
             "startlinecolor": "#2a3f5f"
            },
            "type": "carpet"
           }
          ],
          "choropleth": [
           {
            "colorbar": {
             "outlinewidth": 0,
             "ticks": ""
            },
            "type": "choropleth"
           }
          ],
          "contour": [
           {
            "colorbar": {
             "outlinewidth": 0,
             "ticks": ""
            },
            "colorscale": [
             [
              0,
              "#0d0887"
             ],
             [
              0.1111111111111111,
              "#46039f"
             ],
             [
              0.2222222222222222,
              "#7201a8"
             ],
             [
              0.3333333333333333,
              "#9c179e"
             ],
             [
              0.4444444444444444,
              "#bd3786"
             ],
             [
              0.5555555555555556,
              "#d8576b"
             ],
             [
              0.6666666666666666,
              "#ed7953"
             ],
             [
              0.7777777777777778,
              "#fb9f3a"
             ],
             [
              0.8888888888888888,
              "#fdca26"
             ],
             [
              1,
              "#f0f921"
             ]
            ],
            "type": "contour"
           }
          ],
          "contourcarpet": [
           {
            "colorbar": {
             "outlinewidth": 0,
             "ticks": ""
            },
            "type": "contourcarpet"
           }
          ],
          "heatmap": [
           {
            "colorbar": {
             "outlinewidth": 0,
             "ticks": ""
            },
            "colorscale": [
             [
              0,
              "#0d0887"
             ],
             [
              0.1111111111111111,
              "#46039f"
             ],
             [
              0.2222222222222222,
              "#7201a8"
             ],
             [
              0.3333333333333333,
              "#9c179e"
             ],
             [
              0.4444444444444444,
              "#bd3786"
             ],
             [
              0.5555555555555556,
              "#d8576b"
             ],
             [
              0.6666666666666666,
              "#ed7953"
             ],
             [
              0.7777777777777778,
              "#fb9f3a"
             ],
             [
              0.8888888888888888,
              "#fdca26"
             ],
             [
              1,
              "#f0f921"
             ]
            ],
            "type": "heatmap"
           }
          ],
          "heatmapgl": [
           {
            "colorbar": {
             "outlinewidth": 0,
             "ticks": ""
            },
            "colorscale": [
             [
              0,
              "#0d0887"
             ],
             [
              0.1111111111111111,
              "#46039f"
             ],
             [
              0.2222222222222222,
              "#7201a8"
             ],
             [
              0.3333333333333333,
              "#9c179e"
             ],
             [
              0.4444444444444444,
              "#bd3786"
             ],
             [
              0.5555555555555556,
              "#d8576b"
             ],
             [
              0.6666666666666666,
              "#ed7953"
             ],
             [
              0.7777777777777778,
              "#fb9f3a"
             ],
             [
              0.8888888888888888,
              "#fdca26"
             ],
             [
              1,
              "#f0f921"
             ]
            ],
            "type": "heatmapgl"
           }
          ],
          "histogram": [
           {
            "marker": {
             "pattern": {
              "fillmode": "overlay",
              "size": 10,
              "solidity": 0.2
             }
            },
            "type": "histogram"
           }
          ],
          "histogram2d": [
           {
            "colorbar": {
             "outlinewidth": 0,
             "ticks": ""
            },
            "colorscale": [
             [
              0,
              "#0d0887"
             ],
             [
              0.1111111111111111,
              "#46039f"
             ],
             [
              0.2222222222222222,
              "#7201a8"
             ],
             [
              0.3333333333333333,
              "#9c179e"
             ],
             [
              0.4444444444444444,
              "#bd3786"
             ],
             [
              0.5555555555555556,
              "#d8576b"
             ],
             [
              0.6666666666666666,
              "#ed7953"
             ],
             [
              0.7777777777777778,
              "#fb9f3a"
             ],
             [
              0.8888888888888888,
              "#fdca26"
             ],
             [
              1,
              "#f0f921"
             ]
            ],
            "type": "histogram2d"
           }
          ],
          "histogram2dcontour": [
           {
            "colorbar": {
             "outlinewidth": 0,
             "ticks": ""
            },
            "colorscale": [
             [
              0,
              "#0d0887"
             ],
             [
              0.1111111111111111,
              "#46039f"
             ],
             [
              0.2222222222222222,
              "#7201a8"
             ],
             [
              0.3333333333333333,
              "#9c179e"
             ],
             [
              0.4444444444444444,
              "#bd3786"
             ],
             [
              0.5555555555555556,
              "#d8576b"
             ],
             [
              0.6666666666666666,
              "#ed7953"
             ],
             [
              0.7777777777777778,
              "#fb9f3a"
             ],
             [
              0.8888888888888888,
              "#fdca26"
             ],
             [
              1,
              "#f0f921"
             ]
            ],
            "type": "histogram2dcontour"
           }
          ],
          "mesh3d": [
           {
            "colorbar": {
             "outlinewidth": 0,
             "ticks": ""
            },
            "type": "mesh3d"
           }
          ],
          "parcoords": [
           {
            "line": {
             "colorbar": {
              "outlinewidth": 0,
              "ticks": ""
             }
            },
            "type": "parcoords"
           }
          ],
          "pie": [
           {
            "automargin": true,
            "type": "pie"
           }
          ],
          "scatter": [
           {
            "fillpattern": {
             "fillmode": "overlay",
             "size": 10,
             "solidity": 0.2
            },
            "type": "scatter"
           }
          ],
          "scatter3d": [
           {
            "line": {
             "colorbar": {
              "outlinewidth": 0,
              "ticks": ""
             }
            },
            "marker": {
             "colorbar": {
              "outlinewidth": 0,
              "ticks": ""
             }
            },
            "type": "scatter3d"
           }
          ],
          "scattercarpet": [
           {
            "marker": {
             "colorbar": {
              "outlinewidth": 0,
              "ticks": ""
             }
            },
            "type": "scattercarpet"
           }
          ],
          "scattergeo": [
           {
            "marker": {
             "colorbar": {
              "outlinewidth": 0,
              "ticks": ""
             }
            },
            "type": "scattergeo"
           }
          ],
          "scattergl": [
           {
            "marker": {
             "colorbar": {
              "outlinewidth": 0,
              "ticks": ""
             }
            },
            "type": "scattergl"
           }
          ],
          "scattermapbox": [
           {
            "marker": {
             "colorbar": {
              "outlinewidth": 0,
              "ticks": ""
             }
            },
            "type": "scattermapbox"
           }
          ],
          "scatterpolar": [
           {
            "marker": {
             "colorbar": {
              "outlinewidth": 0,
              "ticks": ""
             }
            },
            "type": "scatterpolar"
           }
          ],
          "scatterpolargl": [
           {
            "marker": {
             "colorbar": {
              "outlinewidth": 0,
              "ticks": ""
             }
            },
            "type": "scatterpolargl"
           }
          ],
          "scatterternary": [
           {
            "marker": {
             "colorbar": {
              "outlinewidth": 0,
              "ticks": ""
             }
            },
            "type": "scatterternary"
           }
          ],
          "surface": [
           {
            "colorbar": {
             "outlinewidth": 0,
             "ticks": ""
            },
            "colorscale": [
             [
              0,
              "#0d0887"
             ],
             [
              0.1111111111111111,
              "#46039f"
             ],
             [
              0.2222222222222222,
              "#7201a8"
             ],
             [
              0.3333333333333333,
              "#9c179e"
             ],
             [
              0.4444444444444444,
              "#bd3786"
             ],
             [
              0.5555555555555556,
              "#d8576b"
             ],
             [
              0.6666666666666666,
              "#ed7953"
             ],
             [
              0.7777777777777778,
              "#fb9f3a"
             ],
             [
              0.8888888888888888,
              "#fdca26"
             ],
             [
              1,
              "#f0f921"
             ]
            ],
            "type": "surface"
           }
          ],
          "table": [
           {
            "cells": {
             "fill": {
              "color": "#EBF0F8"
             },
             "line": {
              "color": "white"
             }
            },
            "header": {
             "fill": {
              "color": "#C8D4E3"
             },
             "line": {
              "color": "white"
             }
            },
            "type": "table"
           }
          ]
         },
         "layout": {
          "annotationdefaults": {
           "arrowcolor": "#2a3f5f",
           "arrowhead": 0,
           "arrowwidth": 1
          },
          "autotypenumbers": "strict",
          "coloraxis": {
           "colorbar": {
            "outlinewidth": 0,
            "ticks": ""
           }
          },
          "colorscale": {
           "diverging": [
            [
             0,
             "#8e0152"
            ],
            [
             0.1,
             "#c51b7d"
            ],
            [
             0.2,
             "#de77ae"
            ],
            [
             0.3,
             "#f1b6da"
            ],
            [
             0.4,
             "#fde0ef"
            ],
            [
             0.5,
             "#f7f7f7"
            ],
            [
             0.6,
             "#e6f5d0"
            ],
            [
             0.7,
             "#b8e186"
            ],
            [
             0.8,
             "#7fbc41"
            ],
            [
             0.9,
             "#4d9221"
            ],
            [
             1,
             "#276419"
            ]
           ],
           "sequential": [
            [
             0,
             "#0d0887"
            ],
            [
             0.1111111111111111,
             "#46039f"
            ],
            [
             0.2222222222222222,
             "#7201a8"
            ],
            [
             0.3333333333333333,
             "#9c179e"
            ],
            [
             0.4444444444444444,
             "#bd3786"
            ],
            [
             0.5555555555555556,
             "#d8576b"
            ],
            [
             0.6666666666666666,
             "#ed7953"
            ],
            [
             0.7777777777777778,
             "#fb9f3a"
            ],
            [
             0.8888888888888888,
             "#fdca26"
            ],
            [
             1,
             "#f0f921"
            ]
           ],
           "sequentialminus": [
            [
             0,
             "#0d0887"
            ],
            [
             0.1111111111111111,
             "#46039f"
            ],
            [
             0.2222222222222222,
             "#7201a8"
            ],
            [
             0.3333333333333333,
             "#9c179e"
            ],
            [
             0.4444444444444444,
             "#bd3786"
            ],
            [
             0.5555555555555556,
             "#d8576b"
            ],
            [
             0.6666666666666666,
             "#ed7953"
            ],
            [
             0.7777777777777778,
             "#fb9f3a"
            ],
            [
             0.8888888888888888,
             "#fdca26"
            ],
            [
             1,
             "#f0f921"
            ]
           ]
          },
          "colorway": [
           "#636efa",
           "#EF553B",
           "#00cc96",
           "#ab63fa",
           "#FFA15A",
           "#19d3f3",
           "#FF6692",
           "#B6E880",
           "#FF97FF",
           "#FECB52"
          ],
          "font": {
           "color": "#2a3f5f"
          },
          "geo": {
           "bgcolor": "white",
           "lakecolor": "white",
           "landcolor": "#E5ECF6",
           "showlakes": true,
           "showland": true,
           "subunitcolor": "white"
          },
          "hoverlabel": {
           "align": "left"
          },
          "hovermode": "closest",
          "mapbox": {
           "style": "light"
          },
          "paper_bgcolor": "white",
          "plot_bgcolor": "#E5ECF6",
          "polar": {
           "angularaxis": {
            "gridcolor": "white",
            "linecolor": "white",
            "ticks": ""
           },
           "bgcolor": "#E5ECF6",
           "radialaxis": {
            "gridcolor": "white",
            "linecolor": "white",
            "ticks": ""
           }
          },
          "scene": {
           "xaxis": {
            "backgroundcolor": "#E5ECF6",
            "gridcolor": "white",
            "gridwidth": 2,
            "linecolor": "white",
            "showbackground": true,
            "ticks": "",
            "zerolinecolor": "white"
           },
           "yaxis": {
            "backgroundcolor": "#E5ECF6",
            "gridcolor": "white",
            "gridwidth": 2,
            "linecolor": "white",
            "showbackground": true,
            "ticks": "",
            "zerolinecolor": "white"
           },
           "zaxis": {
            "backgroundcolor": "#E5ECF6",
            "gridcolor": "white",
            "gridwidth": 2,
            "linecolor": "white",
            "showbackground": true,
            "ticks": "",
            "zerolinecolor": "white"
           }
          },
          "shapedefaults": {
           "line": {
            "color": "#2a3f5f"
           }
          },
          "ternary": {
           "aaxis": {
            "gridcolor": "white",
            "linecolor": "white",
            "ticks": ""
           },
           "baxis": {
            "gridcolor": "white",
            "linecolor": "white",
            "ticks": ""
           },
           "bgcolor": "#E5ECF6",
           "caxis": {
            "gridcolor": "white",
            "linecolor": "white",
            "ticks": ""
           }
          },
          "title": {
           "x": 0.05
          },
          "xaxis": {
           "automargin": true,
           "gridcolor": "white",
           "linecolor": "white",
           "ticks": "",
           "title": {
            "standoff": 15
           },
           "zerolinecolor": "white",
           "zerolinewidth": 2
          },
          "yaxis": {
           "automargin": true,
           "gridcolor": "white",
           "linecolor": "white",
           "ticks": "",
           "title": {
            "standoff": 15
           },
           "zerolinecolor": "white",
           "zerolinewidth": 2
          }
         }
        },
        "xaxis": {
         "anchor": "y",
         "domain": [
          0,
          1
         ],
         "title": {
          "text": "iteration"
         }
        },
        "yaxis": {
         "anchor": "x",
         "domain": [
          0,
          1
         ],
         "title": {
          "text": "value"
         }
        }
       }
      },
      "text/html": [
       "<div>                            <div id=\"d45d758c-b995-4bd9-b077-6325cbc7fa3f\" class=\"plotly-graph-div\" style=\"height:525px; width:100%;\"></div>            <script type=\"text/javascript\">                require([\"plotly\"], function(Plotly) {                    window.PLOTLYENV=window.PLOTLYENV || {};                                    if (document.getElementById(\"d45d758c-b995-4bd9-b077-6325cbc7fa3f\")) {                    Plotly.newPlot(                        \"d45d758c-b995-4bd9-b077-6325cbc7fa3f\",                        [{\"hovertemplate\":\"variable=best_mae<br>iteration=%{x}<br>value=%{y}<extra></extra>\",\"legendgroup\":\"best_mae\",\"line\":{\"color\":\"#636efa\",\"dash\":\"solid\"},\"marker\":{\"symbol\":\"circle\"},\"mode\":\"lines\",\"name\":\"best_mae\",\"orientation\":\"v\",\"showlegend\":true,\"x\":[1,2,3,4,5,6,7,8,9,10,11,12,13,14,15,16,17,18,19,20,21,22,23,24,25,26,27,28,29,30,31,32,33,34,35,36,37,38,39,40,41,42,43,44,45,46,47,48,49,50,51,52,53,54,55,56,57,58,59,60,61,62,63,64,65,66,67,68,69,70,71,72,73,74,75,76,77,78,79,80,81,82,83,84,85,86,87,88,89,90,91,92,93,94,95,96,97,98,99,100],\"xaxis\":\"x\",\"y\":[3169.5,3169.5,3169.5,3169.5,3169.5,3169.5,3169.5,3169.5,3169.5,3169.5,3169.5,3169.5,2700.0,2700.0,2700.0,2700.0,2428.25,1359.5,1359.5,1359.5,1359.5,1359.5,1359.5,1359.5,1359.5,1359.5,1359.5,1359.5,1359.5,1359.5,1359.5,1359.5,1359.5,1359.5,1359.5,1359.5,1359.5,1359.5,1359.5,1359.5,1359.5,1359.5,1359.5,1359.5,1359.5,1359.5,1359.5,1359.5,1359.5,1359.5,1359.5,1359.5,1359.5,1359.5,1359.5,1359.5,1359.5,1359.5,1359.5,1359.5,1359.5,1359.5,1359.5,1359.5,1359.5,1359.5,1359.5,1359.5,1359.5,1359.5,1359.5,1359.5,1359.5,1359.5,1359.5,1359.5,1359.5,1359.5,1359.5,1359.5,1359.5,1359.5,1359.5,1359.5,1359.5,1359.5,1359.5,1359.5,1359.5,1359.5,1359.5,1359.5,1359.5,1359.5,1359.5,1359.5,1359.5,1359.5,1359.5,1359.5],\"yaxis\":\"y\",\"type\":\"scatter\"},{\"hovertemplate\":\"variable=observed_mae<br>iteration=%{x}<br>value=%{y}<extra></extra>\",\"legendgroup\":\"observed_mae\",\"marker\":{\"color\":\"#636efa\",\"symbol\":\"circle\"},\"mode\":\"markers\",\"name\":\"observed_mae\",\"orientation\":\"v\",\"showlegend\":true,\"x\":[1,2,3,4,5,6,7,8,9,10,11,12,13,14,15,16,17,18,19,20,21,22,23,24,25,26,27,28,29,30,31,32,33,34,35,36,37,38,39,40,41,42,43,44,45,46,47,48,49,50,51,52,53,54,55,56,57,58,59,60,61,62,63,64,65,66,67,68,69,70,71,72,73,74,75,76,77,78,79,80,81,82,83,84,85,86,87,88,89,90,91,92,93,94,95,96,97,98,99,100],\"xaxis\":\"x\",\"y\":[3169.5,3766.75,4217.25,6105.875,8575.5,4595.25,13039.5,6379.125,7687.5,5876.0,5672.25,4096.125,2700.0,7336.625,5672.625,4318.25,2428.25,1359.5,14125.625,8208.25,4986.625,3380.625,8807.25,5729.25,5672.125,4500.375,6335.375,10745.625,5570.75,1938.375,2497.75,4484.25,2999.25,5308.375,6379.625,4955.75,6277.875,6423.0,11212.25,8080.875,7558.5,5214.375,7095.5,11641.0,5672.125,4312.25,3162.125,3268.75,1917.375,5579.375,2125.125,17631.125,8023.0,8121.25,7707.375,2200.5,1851.875,3136.125,5274.875,3648.25,5468.875,5672.125,2727.5,5672.125,4808.125,5298.125,12718.125,18171.625,4602.875,8426.25,2722.25,4094.75,2654.75,7958.375,12971.25,5515.375,7469.75,4632.75,3952.0,12994.375,3981.5,4040.5,9680.375,4308.0,8088.375,5915.125,4916.75,10040.25,8039.0,4388.25,4874.5,6153.375,4698.625,5585.5,16266.25,4520.625,5303.375,4226.125,4989.875,7311.5],\"yaxis\":\"y\",\"type\":\"scatter\"}],                        {\"legend\":{\"title\":{\"text\":\"variable\"},\"tracegroupgap\":0},\"margin\":{\"t\":60},\"template\":{\"data\":{\"barpolar\":[{\"marker\":{\"line\":{\"color\":\"#E5ECF6\",\"width\":0.5},\"pattern\":{\"fillmode\":\"overlay\",\"size\":10,\"solidity\":0.2}},\"type\":\"barpolar\"}],\"bar\":[{\"error_x\":{\"color\":\"#2a3f5f\"},\"error_y\":{\"color\":\"#2a3f5f\"},\"marker\":{\"line\":{\"color\":\"#E5ECF6\",\"width\":0.5},\"pattern\":{\"fillmode\":\"overlay\",\"size\":10,\"solidity\":0.2}},\"type\":\"bar\"}],\"carpet\":[{\"aaxis\":{\"endlinecolor\":\"#2a3f5f\",\"gridcolor\":\"white\",\"linecolor\":\"white\",\"minorgridcolor\":\"white\",\"startlinecolor\":\"#2a3f5f\"},\"baxis\":{\"endlinecolor\":\"#2a3f5f\",\"gridcolor\":\"white\",\"linecolor\":\"white\",\"minorgridcolor\":\"white\",\"startlinecolor\":\"#2a3f5f\"},\"type\":\"carpet\"}],\"choropleth\":[{\"colorbar\":{\"outlinewidth\":0,\"ticks\":\"\"},\"type\":\"choropleth\"}],\"contourcarpet\":[{\"colorbar\":{\"outlinewidth\":0,\"ticks\":\"\"},\"type\":\"contourcarpet\"}],\"contour\":[{\"colorbar\":{\"outlinewidth\":0,\"ticks\":\"\"},\"colorscale\":[[0.0,\"#0d0887\"],[0.1111111111111111,\"#46039f\"],[0.2222222222222222,\"#7201a8\"],[0.3333333333333333,\"#9c179e\"],[0.4444444444444444,\"#bd3786\"],[0.5555555555555556,\"#d8576b\"],[0.6666666666666666,\"#ed7953\"],[0.7777777777777778,\"#fb9f3a\"],[0.8888888888888888,\"#fdca26\"],[1.0,\"#f0f921\"]],\"type\":\"contour\"}],\"heatmapgl\":[{\"colorbar\":{\"outlinewidth\":0,\"ticks\":\"\"},\"colorscale\":[[0.0,\"#0d0887\"],[0.1111111111111111,\"#46039f\"],[0.2222222222222222,\"#7201a8\"],[0.3333333333333333,\"#9c179e\"],[0.4444444444444444,\"#bd3786\"],[0.5555555555555556,\"#d8576b\"],[0.6666666666666666,\"#ed7953\"],[0.7777777777777778,\"#fb9f3a\"],[0.8888888888888888,\"#fdca26\"],[1.0,\"#f0f921\"]],\"type\":\"heatmapgl\"}],\"heatmap\":[{\"colorbar\":{\"outlinewidth\":0,\"ticks\":\"\"},\"colorscale\":[[0.0,\"#0d0887\"],[0.1111111111111111,\"#46039f\"],[0.2222222222222222,\"#7201a8\"],[0.3333333333333333,\"#9c179e\"],[0.4444444444444444,\"#bd3786\"],[0.5555555555555556,\"#d8576b\"],[0.6666666666666666,\"#ed7953\"],[0.7777777777777778,\"#fb9f3a\"],[0.8888888888888888,\"#fdca26\"],[1.0,\"#f0f921\"]],\"type\":\"heatmap\"}],\"histogram2dcontour\":[{\"colorbar\":{\"outlinewidth\":0,\"ticks\":\"\"},\"colorscale\":[[0.0,\"#0d0887\"],[0.1111111111111111,\"#46039f\"],[0.2222222222222222,\"#7201a8\"],[0.3333333333333333,\"#9c179e\"],[0.4444444444444444,\"#bd3786\"],[0.5555555555555556,\"#d8576b\"],[0.6666666666666666,\"#ed7953\"],[0.7777777777777778,\"#fb9f3a\"],[0.8888888888888888,\"#fdca26\"],[1.0,\"#f0f921\"]],\"type\":\"histogram2dcontour\"}],\"histogram2d\":[{\"colorbar\":{\"outlinewidth\":0,\"ticks\":\"\"},\"colorscale\":[[0.0,\"#0d0887\"],[0.1111111111111111,\"#46039f\"],[0.2222222222222222,\"#7201a8\"],[0.3333333333333333,\"#9c179e\"],[0.4444444444444444,\"#bd3786\"],[0.5555555555555556,\"#d8576b\"],[0.6666666666666666,\"#ed7953\"],[0.7777777777777778,\"#fb9f3a\"],[0.8888888888888888,\"#fdca26\"],[1.0,\"#f0f921\"]],\"type\":\"histogram2d\"}],\"histogram\":[{\"marker\":{\"pattern\":{\"fillmode\":\"overlay\",\"size\":10,\"solidity\":0.2}},\"type\":\"histogram\"}],\"mesh3d\":[{\"colorbar\":{\"outlinewidth\":0,\"ticks\":\"\"},\"type\":\"mesh3d\"}],\"parcoords\":[{\"line\":{\"colorbar\":{\"outlinewidth\":0,\"ticks\":\"\"}},\"type\":\"parcoords\"}],\"pie\":[{\"automargin\":true,\"type\":\"pie\"}],\"scatter3d\":[{\"line\":{\"colorbar\":{\"outlinewidth\":0,\"ticks\":\"\"}},\"marker\":{\"colorbar\":{\"outlinewidth\":0,\"ticks\":\"\"}},\"type\":\"scatter3d\"}],\"scattercarpet\":[{\"marker\":{\"colorbar\":{\"outlinewidth\":0,\"ticks\":\"\"}},\"type\":\"scattercarpet\"}],\"scattergeo\":[{\"marker\":{\"colorbar\":{\"outlinewidth\":0,\"ticks\":\"\"}},\"type\":\"scattergeo\"}],\"scattergl\":[{\"marker\":{\"colorbar\":{\"outlinewidth\":0,\"ticks\":\"\"}},\"type\":\"scattergl\"}],\"scattermapbox\":[{\"marker\":{\"colorbar\":{\"outlinewidth\":0,\"ticks\":\"\"}},\"type\":\"scattermapbox\"}],\"scatterpolargl\":[{\"marker\":{\"colorbar\":{\"outlinewidth\":0,\"ticks\":\"\"}},\"type\":\"scatterpolargl\"}],\"scatterpolar\":[{\"marker\":{\"colorbar\":{\"outlinewidth\":0,\"ticks\":\"\"}},\"type\":\"scatterpolar\"}],\"scatter\":[{\"fillpattern\":{\"fillmode\":\"overlay\",\"size\":10,\"solidity\":0.2},\"type\":\"scatter\"}],\"scatterternary\":[{\"marker\":{\"colorbar\":{\"outlinewidth\":0,\"ticks\":\"\"}},\"type\":\"scatterternary\"}],\"surface\":[{\"colorbar\":{\"outlinewidth\":0,\"ticks\":\"\"},\"colorscale\":[[0.0,\"#0d0887\"],[0.1111111111111111,\"#46039f\"],[0.2222222222222222,\"#7201a8\"],[0.3333333333333333,\"#9c179e\"],[0.4444444444444444,\"#bd3786\"],[0.5555555555555556,\"#d8576b\"],[0.6666666666666666,\"#ed7953\"],[0.7777777777777778,\"#fb9f3a\"],[0.8888888888888888,\"#fdca26\"],[1.0,\"#f0f921\"]],\"type\":\"surface\"}],\"table\":[{\"cells\":{\"fill\":{\"color\":\"#EBF0F8\"},\"line\":{\"color\":\"white\"}},\"header\":{\"fill\":{\"color\":\"#C8D4E3\"},\"line\":{\"color\":\"white\"}},\"type\":\"table\"}]},\"layout\":{\"annotationdefaults\":{\"arrowcolor\":\"#2a3f5f\",\"arrowhead\":0,\"arrowwidth\":1},\"autotypenumbers\":\"strict\",\"coloraxis\":{\"colorbar\":{\"outlinewidth\":0,\"ticks\":\"\"}},\"colorscale\":{\"diverging\":[[0,\"#8e0152\"],[0.1,\"#c51b7d\"],[0.2,\"#de77ae\"],[0.3,\"#f1b6da\"],[0.4,\"#fde0ef\"],[0.5,\"#f7f7f7\"],[0.6,\"#e6f5d0\"],[0.7,\"#b8e186\"],[0.8,\"#7fbc41\"],[0.9,\"#4d9221\"],[1,\"#276419\"]],\"sequential\":[[0.0,\"#0d0887\"],[0.1111111111111111,\"#46039f\"],[0.2222222222222222,\"#7201a8\"],[0.3333333333333333,\"#9c179e\"],[0.4444444444444444,\"#bd3786\"],[0.5555555555555556,\"#d8576b\"],[0.6666666666666666,\"#ed7953\"],[0.7777777777777778,\"#fb9f3a\"],[0.8888888888888888,\"#fdca26\"],[1.0,\"#f0f921\"]],\"sequentialminus\":[[0.0,\"#0d0887\"],[0.1111111111111111,\"#46039f\"],[0.2222222222222222,\"#7201a8\"],[0.3333333333333333,\"#9c179e\"],[0.4444444444444444,\"#bd3786\"],[0.5555555555555556,\"#d8576b\"],[0.6666666666666666,\"#ed7953\"],[0.7777777777777778,\"#fb9f3a\"],[0.8888888888888888,\"#fdca26\"],[1.0,\"#f0f921\"]]},\"colorway\":[\"#636efa\",\"#EF553B\",\"#00cc96\",\"#ab63fa\",\"#FFA15A\",\"#19d3f3\",\"#FF6692\",\"#B6E880\",\"#FF97FF\",\"#FECB52\"],\"font\":{\"color\":\"#2a3f5f\"},\"geo\":{\"bgcolor\":\"white\",\"lakecolor\":\"white\",\"landcolor\":\"#E5ECF6\",\"showlakes\":true,\"showland\":true,\"subunitcolor\":\"white\"},\"hoverlabel\":{\"align\":\"left\"},\"hovermode\":\"closest\",\"mapbox\":{\"style\":\"light\"},\"paper_bgcolor\":\"white\",\"plot_bgcolor\":\"#E5ECF6\",\"polar\":{\"angularaxis\":{\"gridcolor\":\"white\",\"linecolor\":\"white\",\"ticks\":\"\"},\"bgcolor\":\"#E5ECF6\",\"radialaxis\":{\"gridcolor\":\"white\",\"linecolor\":\"white\",\"ticks\":\"\"}},\"scene\":{\"xaxis\":{\"backgroundcolor\":\"#E5ECF6\",\"gridcolor\":\"white\",\"gridwidth\":2,\"linecolor\":\"white\",\"showbackground\":true,\"ticks\":\"\",\"zerolinecolor\":\"white\"},\"yaxis\":{\"backgroundcolor\":\"#E5ECF6\",\"gridcolor\":\"white\",\"gridwidth\":2,\"linecolor\":\"white\",\"showbackground\":true,\"ticks\":\"\",\"zerolinecolor\":\"white\"},\"zaxis\":{\"backgroundcolor\":\"#E5ECF6\",\"gridcolor\":\"white\",\"gridwidth\":2,\"linecolor\":\"white\",\"showbackground\":true,\"ticks\":\"\",\"zerolinecolor\":\"white\"}},\"shapedefaults\":{\"line\":{\"color\":\"#2a3f5f\"}},\"ternary\":{\"aaxis\":{\"gridcolor\":\"white\",\"linecolor\":\"white\",\"ticks\":\"\"},\"baxis\":{\"gridcolor\":\"white\",\"linecolor\":\"white\",\"ticks\":\"\"},\"bgcolor\":\"#E5ECF6\",\"caxis\":{\"gridcolor\":\"white\",\"linecolor\":\"white\",\"ticks\":\"\"}},\"title\":{\"x\":0.05},\"xaxis\":{\"automargin\":true,\"gridcolor\":\"white\",\"linecolor\":\"white\",\"ticks\":\"\",\"title\":{\"standoff\":15},\"zerolinecolor\":\"white\",\"zerolinewidth\":2},\"yaxis\":{\"automargin\":true,\"gridcolor\":\"white\",\"linecolor\":\"white\",\"ticks\":\"\",\"title\":{\"standoff\":15},\"zerolinecolor\":\"white\",\"zerolinewidth\":2}}},\"xaxis\":{\"anchor\":\"y\",\"domain\":[0.0,1.0],\"title\":{\"text\":\"iteration\"}},\"yaxis\":{\"anchor\":\"x\",\"domain\":[0.0,1.0],\"title\":{\"text\":\"value\"}}},                        {\"responsive\": true}                    ).then(function(){\n",
       "                            \n",
       "var gd = document.getElementById('d45d758c-b995-4bd9-b077-6325cbc7fa3f');\n",
       "var x = new MutationObserver(function (mutations, observer) {{\n",
       "        var display = window.getComputedStyle(gd).display;\n",
       "        if (!display || display === 'none') {{\n",
       "            console.log([gd, 'removed!']);\n",
       "            Plotly.purge(gd);\n",
       "            observer.disconnect();\n",
       "        }}\n",
       "}});\n",
       "\n",
       "// Listen for the removal of the full notebook cells\n",
       "var notebookContainer = gd.closest('#notebook-container');\n",
       "if (notebookContainer) {{\n",
       "    x.observe(notebookContainer, {childList: true});\n",
       "}}\n",
       "\n",
       "// Listen for the clearing of the current output cell\n",
       "var outputEl = gd.closest('.output');\n",
       "if (outputEl) {{\n",
       "    x.observe(outputEl, {childList: true});\n",
       "}}\n",
       "\n",
       "                        })                };                });            </script>        </div>"
      ]
     },
     "metadata": {},
     "output_type": "display_data"
    }
   ],
   "source": [
    "import plotly.express as px\n",
    "import plotly.graph_objects as go\n",
    "\n",
    "df = pd.concat((input_df, observe_df), axis=1)\n",
    "\n",
    "df[\"iteration\"] = np.arange(1, len(df) + 1)\n",
    "df[\"best_mae\"] = df[\"mae\"].cummin()\n",
    "best_objective_plot = px.line(df, x=\"iteration\", y=[\"best_mae\"])\n",
    "objective_plot = px.scatter(df.rename(columns=dict(mae=\"observed_mae\")), x=\"iteration\", y=[\"observed_mae\"])\n",
    "fig = go.Figure(data=best_objective_plot.data + objective_plot.data, layout=best_objective_plot.layout)\n",
    "fig"
   ]
  },
  {
   "cell_type": "markdown",
   "metadata": {},
   "source": [
    "### Example Visualization"
   ]
  },
  {
   "cell_type": "markdown",
   "metadata": {},
   "source": [
    "![random search](random_search.png)"
   ]
  },
  {
   "cell_type": "markdown",
   "metadata": {},
   "source": [
    "## Code Graveyard"
   ]
  },
  {
   "cell_type": "code",
   "execution_count": null,
   "metadata": {},
   "outputs": [],
   "source": [
    "# def initialize_target_data(seed = 42):\n",
    "#     # while the inputs are fixed, the measurement is stochastic\n",
    "#     return observe_sensor_data(*initialize_target_inputs(seed=seed))"
   ]
  }
 ],
 "metadata": {
  "kernelspec": {
   "display_name": "Python 3.9.2 32-bit",
   "language": "python",
   "name": "python3"
  },
  "language_info": {
   "codemirror_mode": {
    "name": "ipython",
    "version": 3
   },
   "file_extension": ".py",
   "mimetype": "text/x-python",
   "name": "python",
   "nbconvert_exporter": "python",
   "pygments_lexer": "ipython3",
   "version": "3.9.2"
  },
  "orig_nbformat": 4,
  "vscode": {
   "interpreter": {
    "hash": "e7370f93d1d0cde622a1f8e1c04877d8463912d04d973331ad4851f04de6915a"
   }
  }
 },
 "nbformat": 4,
 "nbformat_minor": 2
}
