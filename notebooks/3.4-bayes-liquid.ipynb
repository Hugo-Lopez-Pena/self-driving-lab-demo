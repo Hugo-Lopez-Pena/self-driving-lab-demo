{
 "cells": [
  {
   "cell_type": "code",
   "execution_count": 31,
   "metadata": {},
   "outputs": [],
   "source": [
    "import json\n",
    "from uuid import uuid4\n",
    "import pandas as pd\n",
    "from self_driving_lab_demo import SelfDrivingLabDemoLiquid\n",
    "from self_driving_lab_demo.demos.liquid import liquid_observe_sensor_data\n",
    "from self_driving_lab_demo.utils.observe import get_paho_client\n",
    "\n",
    "dummy = False\n",
    "\n",
    "\n",
    "# def liquid_observe_sensor_data_2(R, Y, B, **kwargs):\n",
    "#     # gain = 32 instead of 128 to avoid saturation of the sensor data\n",
    "#     return liquid_observe_sensor_data(\n",
    "#         R, Y, B, prerinse_power=1.0, prerinse_time=10.0, runtime=10.0, gain=32, **kwargs\n",
    "#     )\n",
    "\n",
    "\n",
    "def liquid_dummy_observe_sensor_data(R, Y, B, **kwargs):\n",
    "    # return a fixed set of values (no interaction with real hardware)\n",
    "    return {\n",
    "        \"utc_timestamp\": 1671675884,\n",
    "        \"ch470\": 21288,\n",
    "        \"ch410\": 5835,\n",
    "        \"ch440\": 65535,\n",
    "        \"sd_card_ready\": False,\n",
    "        \"ch510\": 21632,\n",
    "        \"ch550\": 6760,\n",
    "        \"ch670\": 8970,\n",
    "        \"utc_time_str\": \"2022-12-22 02:24:44\",\n",
    "        \"onboard_temperature_K\": 297.8537,\n",
    "        \"ch620\": 2901,\n",
    "        \"ch583\": 2057,\n",
    "    }\n",
    "\n",
    "\n",
    "observe_sensor_data_fn = (\n",
    "    liquid_observe_sensor_data if not dummy else liquid_dummy_observe_sensor_data\n",
    ")\n",
    "\n",
    "\n",
    "with open(\"secrets.json\", \"r\") as f:\n",
    "    secrets = json.load(f)\n",
    "\n",
    "pico_id = secrets[\"PICO_ID_3\"]\n",
    "sensor_topic = f\"sdl-demo/picow/{pico_id}/as7341/\"\n",
    "paho_client = get_paho_client(sensor_topic) if not dummy else None\n",
    "\n",
    "session_id = f\"grid-random-bayes-liquid-{str(uuid4())[:4]}\"\n"
   ]
  },
  {
   "cell_type": "code",
   "execution_count": 34,
   "metadata": {},
   "outputs": [],
   "source": [
    "sdl = SelfDrivingLabDemoLiquid(\n",
    "    autoload=True,\n",
    "    max_power=0.5,\n",
    "    observe_sensor_data_fn=observe_sensor_data_fn,\n",
    "    observe_sensor_data_kwargs=dict(\n",
    "        pico_id=secrets[\"PICO_ID_3\"],\n",
    "        session_id=session_id,\n",
    "        client=paho_client,\n",
    "        prerinse_power=1.0,\n",
    "        prerinse_time=10.0,\n",
    "        runtime=10.0,\n",
    "        gain=32,\n",
    "    ),\n",
    ")"
   ]
  },
  {
   "cell_type": "code",
   "execution_count": 35,
   "metadata": {},
   "outputs": [
    {
     "data": {
      "text/plain": [
       "{'R': 0.22770586934673454, 'Y': 0.015203423474249633, 'B': 0.17580269278419525}"
      ]
     },
     "execution_count": 35,
     "metadata": {},
     "output_type": "execute_result"
    }
   ],
   "source": [
    "sdl.get_target_inputs()"
   ]
  },
  {
   "cell_type": "code",
   "execution_count": 23,
   "metadata": {},
   "outputs": [
    {
     "data": {
      "text/plain": [
       "{'utc_timestamp': 1671773259,\n",
       " 'ch470': 5405,\n",
       " 'ch410': 2967,\n",
       " 'ch440': 21587,\n",
       " 'sd_card_ready': False,\n",
       " 'ch510': 11071,\n",
       " 'ch550': 21534,\n",
       " 'ch670': 6640,\n",
       " 'utc_time_str': '2022-12-23 05:27:39',\n",
       " 'onboard_temperature_K': 297.3855,\n",
       " 'ch620': 16387,\n",
       " 'ch583': 21938}"
      ]
     },
     "execution_count": 23,
     "metadata": {},
     "output_type": "execute_result"
    }
   ],
   "source": [
    "sdl.target_results"
   ]
  },
  {
   "cell_type": "code",
   "execution_count": 24,
   "metadata": {},
   "outputs": [],
   "source": [
    "parameters = sdl.parameters[0:3]"
   ]
  },
  {
   "cell_type": "code",
   "execution_count": 25,
   "metadata": {},
   "outputs": [
    {
     "name": "stderr",
     "output_type": "stream",
     "text": [
      "[INFO 12-22 22:28:35] ax.service.utils.instantiation: Inferred value type of ParameterType.FLOAT for parameter R. If that is not the expected value type, you can explicity specify 'value_type' ('int', 'float', 'bool' or 'str') in parameter dict.\n",
      "[INFO 12-22 22:28:35] ax.service.utils.instantiation: Inferred value type of ParameterType.FLOAT for parameter Y. If that is not the expected value type, you can explicity specify 'value_type' ('int', 'float', 'bool' or 'str') in parameter dict.\n",
      "[INFO 12-22 22:28:35] ax.service.utils.instantiation: Inferred value type of ParameterType.FLOAT for parameter B. If that is not the expected value type, you can explicity specify 'value_type' ('int', 'float', 'bool' or 'str') in parameter dict.\n",
      "[INFO 12-22 22:28:35] ax.service.utils.instantiation: Created search space: SearchSpace(parameters=[RangeParameter(name='R', parameter_type=FLOAT, range=[0.0, 0.5]), RangeParameter(name='Y', parameter_type=FLOAT, range=[0.0, 0.5]), RangeParameter(name='B', parameter_type=FLOAT, range=[0.0, 0.5])], parameter_constraints=[]).\n",
      "[INFO 12-22 22:28:35] ax.modelbridge.dispatch_utils: Using Bayesian optimization since there are more ordered parameters than there are categories for the unordered categorical parameters.\n",
      "[INFO 12-22 22:28:35] ax.modelbridge.dispatch_utils: Using Bayesian Optimization generation strategy: GenerationStrategy(name='Sobol+GPEI', steps=[Sobol for 6 trials, GPEI for subsequent trials]). Iterations after 6 will take longer to generate due to  model-fitting.\n",
      "[INFO 12-22 22:28:35] ax.service.managed_loop: Started full optimization with 27 steps.\n",
      "[INFO 12-22 22:28:35] ax.service.managed_loop: Running optimization trial 1...\n",
      "[INFO 12-22 22:28:59] ax.service.managed_loop: Running optimization trial 2...\n",
      "[INFO 12-22 22:29:23] ax.service.managed_loop: Running optimization trial 3...\n",
      "[INFO 12-22 22:29:49] ax.service.managed_loop: Running optimization trial 4...\n",
      "[INFO 12-22 22:30:14] ax.service.managed_loop: Running optimization trial 5...\n",
      "[INFO 12-22 22:30:38] ax.service.managed_loop: Running optimization trial 6...\n",
      "[INFO 12-22 22:31:03] ax.service.managed_loop: Running optimization trial 7...\n",
      "[INFO 12-22 22:31:28] ax.service.managed_loop: Running optimization trial 8...\n",
      "[INFO 12-22 22:31:53] ax.service.managed_loop: Running optimization trial 9...\n",
      "[INFO 12-22 22:32:18] ax.service.managed_loop: Running optimization trial 10...\n",
      "[INFO 12-22 22:32:47] ax.service.managed_loop: Running optimization trial 11...\n",
      "[INFO 12-22 22:33:25] ax.service.managed_loop: Running optimization trial 12...\n",
      "[INFO 12-22 22:33:56] ax.service.managed_loop: Running optimization trial 13...\n",
      "[INFO 12-22 22:34:19] ax.service.managed_loop: Running optimization trial 14...\n",
      "[INFO 12-22 22:34:45] ax.service.managed_loop: Running optimization trial 15...\n",
      "[INFO 12-22 22:35:11] ax.service.managed_loop: Running optimization trial 16...\n",
      "[INFO 12-22 22:35:42] ax.service.managed_loop: Running optimization trial 17...\n",
      "[INFO 12-22 22:36:07] ax.service.managed_loop: Running optimization trial 18...\n",
      "[INFO 12-22 22:36:35] ax.service.managed_loop: Running optimization trial 19...\n",
      "[INFO 12-22 22:37:00] ax.service.managed_loop: Running optimization trial 20...\n",
      "[INFO 12-22 22:37:25] ax.service.managed_loop: Running optimization trial 21...\n",
      "[INFO 12-22 22:37:50] ax.service.managed_loop: Running optimization trial 22...\n",
      "[INFO 12-22 22:38:18] ax.service.managed_loop: Running optimization trial 23...\n",
      "[INFO 12-22 22:38:45] ax.service.managed_loop: Running optimization trial 24...\n",
      "[INFO 12-22 22:39:10] ax.service.managed_loop: Running optimization trial 25...\n",
      "[INFO 12-22 22:39:34] ax.service.managed_loop: Running optimization trial 26...\n",
      "[ERROR 12-22 22:40:35] ax.service.managed_loop: Encountered exception during optimization: \n",
      "Traceback (most recent call last):\n",
      "  File \"C:\\Users\\sterg\\Documents\\GitHub\\sparks-baird\\self-driving-lab-demo\\src\\self_driving_lab_demo\\utils\\observe.py\", line 255, in liquid_observe_sensor_data\n",
      "    sensor_data = sensor_data_queue.get(True, queue_timeout)\n",
      "  File \"c:\\Users\\sterg\\Miniconda3\\envs\\sdl-demo\\lib\\queue.py\", line 179, in get\n",
      "    raise Empty\n",
      "_queue.Empty\n",
      "\n",
      "The above exception was the direct cause of the following exception:\n",
      "\n",
      "Traceback (most recent call last):\n",
      "  File \"c:\\Users\\sterg\\Miniconda3\\envs\\sdl-demo\\lib\\site-packages\\ax\\service\\managed_loop.py\", line 227, in full_run\n",
      "    self.run_trial()\n",
      "  File \"c:\\Users\\sterg\\Miniconda3\\envs\\sdl-demo\\lib\\site-packages\\ax\\utils\\common\\executils.py\", line 161, in actual_wrapper\n",
      "    return func(*args, **kwargs)\n",
      "  File \"c:\\Users\\sterg\\Miniconda3\\envs\\sdl-demo\\lib\\site-packages\\ax\\service\\managed_loop.py\", line 205, in run_trial\n",
      "    raw_data={\n",
      "  File \"c:\\Users\\sterg\\Miniconda3\\envs\\sdl-demo\\lib\\site-packages\\ax\\service\\managed_loop.py\", line 206, in <dictcomp>\n",
      "    arm.name: self._call_evaluation_function(arm.parameters, weight)\n",
      "  File \"c:\\Users\\sterg\\Miniconda3\\envs\\sdl-demo\\lib\\site-packages\\ax\\service\\managed_loop.py\", line 145, in _call_evaluation_function\n",
      "    evaluation = self.evaluation_function(parameterization)\n",
      "  File \"C:\\Users\\sterg\\AppData\\Local\\Temp\\ipykernel_28200\\4041458644.py\", line 5, in evaluation_function\n",
      "    data = sdl.evaluate(parameters)\n",
      "  File \"C:\\Users\\sterg\\Documents\\GitHub\\sparks-baird\\self-driving-lab-demo\\src\\self_driving_lab_demo\\demos\\liquid.py\", line 189, in evaluate\n",
      "    results = self.observe_sensor_data(parameters)\n",
      "  File \"C:\\Users\\sterg\\Documents\\GitHub\\sparks-baird\\self-driving-lab-demo\\src\\self_driving_lab_demo\\core.py\", line 80, in observe_sensor_data\n",
      "    return self.observe_sensor_data_fn(\n",
      "  File \"C:\\Users\\sterg\\Documents\\GitHub\\sparks-baird\\self-driving-lab-demo\\src\\self_driving_lab_demo\\utils\\observe.py\", line 257, in liquid_observe_sensor_data\n",
      "    raise Empty(\n",
      "_queue.Empty: Sensor data retrieval timed out (60 seconds)\n"
     ]
    }
   ],
   "source": [
    "from ax import optimize\n",
    "from ax.utils.measurement.synthetic_functions import branin\n",
    "\n",
    "def evaluation_function(parameters):\n",
    "    data = sdl.evaluate(parameters)\n",
    "    return data[\"frechet\"]\n",
    "\n",
    "best_parameters, values, experiment, model = optimize(\n",
    "    parameters=parameters,\n",
    "    evaluation_function=evaluation_function,\n",
    "    total_trials = 27,\n",
    "    minimize=True,\n",
    ")"
   ]
  },
  {
   "cell_type": "code",
   "execution_count": null,
   "metadata": {},
   "outputs": [],
   "source": []
  }
 ],
 "metadata": {
  "kernelspec": {
   "display_name": "sdl-demo",
   "language": "python",
   "name": "python3"
  },
  "language_info": {
   "codemirror_mode": {
    "name": "ipython",
    "version": 3
   },
   "file_extension": ".py",
   "mimetype": "text/x-python",
   "name": "python",
   "nbconvert_exporter": "python",
   "pygments_lexer": "ipython3",
   "version": "3.9.13"
  },
  "orig_nbformat": 4,
  "vscode": {
   "interpreter": {
    "hash": "70cb6d4911b67e25d1487ebd620c5d1370239efaaf47f3851af44f5c5a26f988"
   }
  }
 },
 "nbformat": 4,
 "nbformat_minor": 2
}
